{
  "cells": [
    {
      "cell_type": "markdown",
      "metadata": {
        "id": "lcW6UWldWUMp"
      },
      "source": [
        "# Open Source RAG - Leveraging Hugging Face Endpoints through LangChain\n",
        "\n",
        "In the following notebook we will dive into the world of Open Source models hosted on Hugging Face's [inference endpoints](https://ui.endpoints.huggingface.co/).\n",
        "\n",
        "The notebook will be broken into the following parts:\n",
        "\n",
        "- 🤝 Breakout Room #2:\n",
        "  1. Install required libraries\n",
        "  2. Set Environment Variables\n",
        "  3. Creating LangChain components powered by the endpoints\n",
        "  4. Creating a simple RAG pipeline with [LangChain v0.2.0](https://blog.langchain.dev/langchain-v02-leap-to-stability/)"
      ]
    },
    {
      "cell_type": "markdown",
      "metadata": {
        "id": "-spIWt2J3Quk"
      },
      "source": [
        "## Task 1: Install required libraries\n",
        "\n",
        "Now we've got to get our required libraries!\n",
        "\n",
        "We'll start with our `langchain` and `huggingface` dependencies.\n",
        "\n"
      ]
    },
    {
      "cell_type": "code",
      "execution_count": 2,
      "metadata": {
        "id": "EwGLnp31jXJj"
      },
      "outputs": [],
      "source": [
        "!pip install -qU langchain-huggingface langchain-community faiss-cpu"
      ]
    },
    {
      "cell_type": "markdown",
      "metadata": {
        "id": "SpZTBLwK3TIz"
      },
      "source": [
        "## Task 2: Set Environment Variables\n",
        "\n",
        "We'll need to set our `HF_TOKEN` so that we can send requests to our protected API endpoint.\n",
        "\n",
        "We'll also set-up our OpenAI API key, which we'll leverage later.\n",
        "\n"
      ]
    },
    {
      "cell_type": "code",
      "execution_count": 3,
      "metadata": {
        "colab": {
          "base_uri": "https://localhost:8080/"
        },
        "id": "NspG8I0XlFTt",
        "outputId": "edbf992c-97c0-46b1-9b69-40651a5e60d1"
      },
      "outputs": [],
      "source": [
        "import os\n",
        "import getpass\n",
        "\n",
        "os.environ[\"HF_TOKEN\"] = getpass.getpass(\"HuggingFace Write Token: \")"
      ]
    },
    {
      "cell_type": "markdown",
      "metadata": {
        "id": "QMru14VBZAtw"
      },
      "source": [
        "## Task 3: Creating LangChain components powered by the endpoints\n",
        "\n",
        "We're going to wrap our endpoints in LangChain components in order to leverage them, thanks to LCEL, as we would any other LCEL component!"
      ]
    },
    {
      "cell_type": "markdown",
      "metadata": {
        "id": "TGooehdzcmPb"
      },
      "source": [
        "### HuggingFaceEndpoint for LLM\n",
        "\n",
        "We can use the `HuggingFaceEndpoint` found [here](https://github.com/langchain-ai/langchain/blob/master/libs/community/langchain_community/llms/huggingface_endpoint.py) to power our chain - let's look at how we would implement it."
      ]
    },
    {
      "cell_type": "code",
      "execution_count": 4,
      "metadata": {
        "id": "N7u2Tu1FsURh"
      },
      "outputs": [],
      "source": [
        "YOUR_LLM_ENDPOINT_URL = \"https://xtn5cl8q7m9h0nqx.us-east-1.aws.endpoints.huggingface.cloud\""
      ]
    },
    {
      "cell_type": "code",
      "execution_count": 5,
      "metadata": {
        "colab": {
          "base_uri": "https://localhost:8080/"
        },
        "id": "L3Cz6Mrnt2ku",
        "outputId": "f23f611f-5f08-4332-a74c-5b8d8311d185"
      },
      "outputs": [
        {
          "name": "stderr",
          "output_type": "stream",
          "text": [
            "/var/folders/g4/t_cwx5rn0s76nd3w08tjx2yc00rvg1/T/ipykernel_50589/1258114758.py:3: LangChainDeprecationWarning: The class `HuggingFaceEndpoint` was deprecated in LangChain 0.0.37 and will be removed in 1.0. An updated version of the class exists in the :class:`~langchain-huggingface package and should be used instead. To use it run `pip install -U :class:`~langchain-huggingface` and import as `from :class:`~langchain_huggingface import HuggingFaceEndpoint``.\n",
            "  hf_llm = HuggingFaceEndpoint(\n",
            "/opt/anaconda3/envs/aie4-project-16/lib/python3.12/site-packages/tqdm/auto.py:21: TqdmWarning: IProgress not found. Please update jupyter and ipywidgets. See https://ipywidgets.readthedocs.io/en/stable/user_install.html\n",
            "  from .autonotebook import tqdm as notebook_tqdm\n"
          ]
        },
        {
          "name": "stdout",
          "output_type": "stream",
          "text": [
            "The token has not been saved to the git credentials helper. Pass `add_to_git_credential=True` in this function directly or `--add-to-git-credential` if using via `huggingface-cli` if you want to set the git credential as well.\n",
            "Token is valid (permission: write).\n",
            "Your token has been saved to /Users/dstampfli/.cache/huggingface/token\n",
            "Login successful\n"
          ]
        }
      ],
      "source": [
        "from langchain_community.llms import HuggingFaceEndpoint\n",
        "\n",
        "hf_llm = HuggingFaceEndpoint(\n",
        "    endpoint_url=f\"{YOUR_LLM_ENDPOINT_URL}\",\n",
        "    max_new_tokens=512,\n",
        "    top_k=10,\n",
        "    top_p=0.95,\n",
        "    typical_p=0.95,\n",
        "    temperature=0.01,\n",
        "    repetition_penalty=1.03,\n",
        "    huggingfacehub_api_token=os.environ[\"HF_TOKEN\"]\n",
        ")"
      ]
    },
    {
      "cell_type": "markdown",
      "metadata": {
        "id": "fun4XrRxZK9n"
      },
      "source": [
        "Now we can use our endpoint like we would any other LLM!"
      ]
    },
    {
      "cell_type": "code",
      "execution_count": 6,
      "metadata": {
        "colab": {
          "base_uri": "https://localhost:8080/",
          "height": 127
        },
        "id": "OFAbFT91Z8QV",
        "outputId": "588714ad-da28-4330-801b-7121b6f17ccf"
      },
      "outputs": [
        {
          "data": {
            "text/plain": [
              "\" I am doing well, thanks for asking. I have been busy with work and other things, but I always make time for my blog. Today, I want to talk about something that I think is very important: self-care.\\nSelf-care is not just about taking a relaxing bath or getting a massage (although those things are nice too). It's about taking care of your physical, emotional, and mental health. It's about making time for activities that nourish your mind, body, and spirit.\\nAs someone who has struggled with anxiety and depression, I know how easy it is to neglect self-care. When you're feeling overwhelmed, it can be hard to remember to take care of yourself. But trust me, it's worth it. Self-care is not selfish; it's essential.\\nHere are some self-care tips that I want to share with you:\\n1. Get enough sleep: This one is a no-brainer. When you're well-rested, you're more productive, more focused, and more resilient. Aim for 7-8 hours of sleep each night.\\n2. Exercise regularly: Exercise releases endorphins, which are natural mood-boosters. Find an activity that you enjoy, whether it's walking, running, swimming, or dancing.\\n3. Eat a healthy diet: Fuel your body with whole, nutritious foods like fruits, vegetables, whole grains, and lean proteins. Avoid sugary and processed foods that can drain your energy.\\n4. Practice mindfulness: Mindfulness is the practice of being present in the moment, without judgment. You can practice mindfulness through meditation, deep breathing, or simply paying attention to your senses.\\n5. Connect with nature: Spending time in nature can be incredibly grounding and calming. Take a walk outside, go for a hike, or simply sit in a park or garden.\\n6. Prioritize relationships: Surround yourself with people who support and uplift you. Nurture those relationships by scheduling regular check-ins and activities.\\n7. Engage in activities that bring you joy: Whether it's reading, painting, or playing music, make time for activities that make you happy.\\n8. Learn to say no: Don't overcommit yourself by taking on too much. Learn to say no to things that don't align with your values or priorities.\\n9. Practice self-compassion: Be kind to yourself, especially when you make mistakes. Remember that everyone makes mistakes, and it's okay not to be perfect.\\n10. Seek help when you need it: If you're struggling with mental health\""
            ]
          },
          "execution_count": 6,
          "metadata": {},
          "output_type": "execute_result"
        }
      ],
      "source": [
        "hf_llm.invoke(\"Hello, how are you?\")"
      ]
    },
    {
      "cell_type": "markdown",
      "metadata": {
        "id": "ngH3fhw4aQ8T"
      },
      "source": [
        "Now we can add a RAG-style prompt using Llama 3 Instruct's prompt templating!"
      ]
    },
    {
      "cell_type": "code",
      "execution_count": 7,
      "metadata": {
        "id": "zdvv4JmkzEtj"
      },
      "outputs": [],
      "source": [
        "from langchain_core.prompts import PromptTemplate\n",
        "\n",
        "RAG_PROMPT_TEMPLATE = \"\"\"\\\n",
        "<|start_header_id|>system<|end_header_id|>\n",
        "You are a helpful assistant. You answer user questions based on provided context. If you can't answer the question with the provided context, say you don't know.<|eot_id|>\n",
        "\n",
        "<|start_header_id|>user<|end_header_id|>\n",
        "User Query:\n",
        "{query}\n",
        "\n",
        "Context:\n",
        "{context}<|eot_id|>\n",
        "\n",
        "<|start_header_id|>assistant<|end_header_id|>\n",
        "\"\"\"\n",
        "\n",
        "rag_prompt = PromptTemplate.from_template(RAG_PROMPT_TEMPLATE)"
      ]
    },
    {
      "cell_type": "markdown",
      "metadata": {
        "id": "Oe0Qrzn4adzh"
      },
      "source": [
        "Let's create a simple LCEL chain using our prompt template Runnable and our LLM Runnable."
      ]
    },
    {
      "cell_type": "code",
      "execution_count": 8,
      "metadata": {
        "id": "CE4djpxM0-Fg"
      },
      "outputs": [],
      "source": [
        "rag_chain = rag_prompt | hf_llm"
      ]
    },
    {
      "cell_type": "code",
      "execution_count": 9,
      "metadata": {
        "colab": {
          "base_uri": "https://localhost:8080/",
          "height": 36
        },
        "id": "PNwrLXqDxHDY",
        "outputId": "f6803286-1aa5-488a-eea9-8bece68da7f5"
      },
      "outputs": [
        {
          "data": {
            "text/plain": [
              "'Carl is 40 years old.'"
            ]
          },
          "execution_count": 9,
          "metadata": {},
          "output_type": "execute_result"
        }
      ],
      "source": [
        "rag_chain.invoke({\"query\" : \"Who old is Carl?\", \"context\" : \"Carl is a sweet dude, he's 40.\"})"
      ]
    },
    {
      "cell_type": "markdown",
      "metadata": {
        "id": "emGw4-66aBfa"
      },
      "source": [
        "### HuggingFaceInferenceAPIEmbeddings\n",
        "\n",
        "Now we can leverage the `HuggingFaceInferenceAPIEmbeddings` module in LangChain to connect to our Hugging Face Inference Endpoint hosted embedding model."
      ]
    },
    {
      "cell_type": "code",
      "execution_count": 10,
      "metadata": {
        "id": "n9Q7e4Gnwe_C"
      },
      "outputs": [],
      "source": [
        "from langchain_huggingface.embeddings import HuggingFaceEndpointEmbeddings\n",
        "\n",
        "YOUR_EMBED_MODEL_URL = \"https://gh6d0sjuyow926qb.us-east-1.aws.endpoints.huggingface.cloud\"\n",
        "\n",
        "hf_embeddings = HuggingFaceEndpointEmbeddings(\n",
        "    model=YOUR_EMBED_MODEL_URL,\n",
        "    task=\"feature-extraction\",\n",
        "    huggingfacehub_api_token=os.environ[\"HF_TOKEN\"],\n",
        ")"
      ]
    },
    {
      "cell_type": "markdown",
      "metadata": {
        "id": "YXYRBqbBayWb"
      },
      "source": [
        "Let's build a simple cosine-similarity function to verify our endpoint is working as expected."
      ]
    },
    {
      "cell_type": "code",
      "execution_count": 11,
      "metadata": {
        "id": "lOP6LKr74RG8"
      },
      "outputs": [],
      "source": [
        "import numpy as np\n",
        "from numpy.linalg import norm\n",
        "\n",
        "def cosine_similarity(phrase_1, phrase_2):\n",
        "  vec_1 = hf_embeddings.embed_documents([phrase_1])[0]\n",
        "  vec2_2 = hf_embeddings.embed_documents([phrase_2])[0]\n",
        "  return np.dot(vec_1, vec2_2) / (norm(vec_1) * norm(vec2_2))"
      ]
    },
    {
      "cell_type": "markdown",
      "metadata": {
        "id": "uGZNhxF2bVIr"
      },
      "source": [
        "Let's try a few examples below!"
      ]
    },
    {
      "cell_type": "code",
      "execution_count": 12,
      "metadata": {
        "colab": {
          "base_uri": "https://localhost:8080/"
        },
        "id": "5o_cqEZ34f15",
        "outputId": "d3eb4933-8842-4278-fe48-2dc15e430b60"
      },
      "outputs": [
        {
          "data": {
            "text/plain": [
              "0.8903063446222078"
            ]
          },
          "execution_count": 12,
          "metadata": {},
          "output_type": "execute_result"
        }
      ],
      "source": [
        "cosine_similarity(\"I love my fluffy dog!\", \"I adore this furry puppy!\")"
      ]
    },
    {
      "cell_type": "code",
      "execution_count": 13,
      "metadata": {
        "colab": {
          "base_uri": "https://localhost:8080/"
        },
        "id": "R1nsAV1n4w4a",
        "outputId": "db53d783-4c87-404f-de67-fc1d01583e68"
      },
      "outputs": [
        {
          "data": {
            "text/plain": [
              "0.7430207919303136"
            ]
          },
          "execution_count": 13,
          "metadata": {},
          "output_type": "execute_result"
        }
      ],
      "source": [
        "cosine_similarity(\"I love my fluffy dog!\", \"Eating pizza is the worst! Yuck!\")"
      ]
    },
    {
      "cell_type": "markdown",
      "metadata": {
        "id": "iiz6vKMlbbP4"
      },
      "source": [
        "## Task 4: Preparing Data!\n",
        "\n",
        "We'll start by loading some data from GitHub (Paul Graham's Essays) and then move to chunking them into manageable pieces!\n",
        "\n",
        "First - let's grab the repository where the files live."
      ]
    },
    {
      "cell_type": "code",
      "execution_count": 14,
      "metadata": {
        "colab": {
          "base_uri": "https://localhost:8080/"
        },
        "id": "AkuzZben5Eqp",
        "outputId": "eb8d39ae-fd70-4691-ddaa-1f8aa15f1c19"
      },
      "outputs": [
        {
          "name": "stdout",
          "output_type": "stream",
          "text": [
            "Cloning into 'paul-graham-to-kindle'...\n",
            "remote: Enumerating objects: 36, done.\u001b[K\n",
            "remote: Counting objects: 100% (36/36), done.\u001b[K\n",
            "remote: Compressing objects: 100% (33/33), done.\u001b[K\n",
            "remote: Total 36 (delta 3), reused 31 (delta 1), pack-reused 0 (from 0)\u001b[K\n",
            "Receiving objects: 100% (36/36), 2.35 MiB | 16.92 MiB/s, done.\n",
            "Resolving deltas: 100% (3/3), done.\n"
          ]
        }
      ],
      "source": [
        "!git clone https://github.com/dbredvick/paul-graham-to-kindle.git"
      ]
    },
    {
      "cell_type": "markdown",
      "metadata": {
        "id": "8prMk6R0bsYd"
      },
      "source": [
        "Next - we can load them using LangChain!"
      ]
    },
    {
      "cell_type": "code",
      "execution_count": 15,
      "metadata": {
        "id": "K155zM7e53lt"
      },
      "outputs": [],
      "source": [
        "from langchain_community.document_loaders import TextLoader\n",
        "\n",
        "document_loader = TextLoader(\"./paul-graham-to-kindle/paul_graham_essays.txt\")\n",
        "documents = document_loader.load()"
      ]
    },
    {
      "cell_type": "markdown",
      "metadata": {
        "id": "5wYfo6_0bwVc"
      },
      "source": [
        "Now, let's split them into 1000 character pieces."
      ]
    },
    {
      "cell_type": "code",
      "execution_count": 16,
      "metadata": {
        "colab": {
          "base_uri": "https://localhost:8080/"
        },
        "id": "w-Gx_0iL6Ikc",
        "outputId": "4cd1de4f-8a7d-4727-dc92-0ce3d321a82f"
      },
      "outputs": [
        {
          "data": {
            "text/plain": [
              "4265"
            ]
          },
          "execution_count": 16,
          "metadata": {},
          "output_type": "execute_result"
        }
      ],
      "source": [
        "from langchain_text_splitters import RecursiveCharacterTextSplitter\n",
        "\n",
        "text_splitter = RecursiveCharacterTextSplitter(chunk_size=1000, chunk_overlap=30)\n",
        "split_documents = text_splitter.split_documents(documents)\n",
        "len(split_documents)"
      ]
    },
    {
      "cell_type": "markdown",
      "metadata": {
        "id": "d5HrkDhTb4i_"
      },
      "source": [
        "Just the same as we would with OpenAI's embeddings model - we can instantiate our `FAISS` vector store with our documents and our `HuggingFaceEmbeddings` model!\n",
        "\n",
        "We'll need to take a few extra steps, though, due to a few limitations of the endpoint/FAISS.\n",
        "\n",
        "We'll start by embeddings our documents in batches of `32`.\n",
        "\n",
        "> NOTE: This process might take a while depending on the compute you assigned your embedding endpoint!"
      ]
    },
    {
      "cell_type": "code",
      "execution_count": 17,
      "metadata": {
        "id": "ucghQgRp6YXr"
      },
      "outputs": [
        {
          "name": "stdout",
          "output_type": "stream",
          "text": [
            "32\n",
            "64\n",
            "96\n",
            "128\n",
            "160\n",
            "192\n",
            "224\n",
            "256\n",
            "288\n",
            "320\n",
            "352\n",
            "384\n",
            "416\n",
            "448\n",
            "480\n",
            "512\n",
            "544\n",
            "576\n",
            "608\n",
            "640\n",
            "672\n",
            "704\n",
            "736\n",
            "768\n",
            "800\n",
            "832\n",
            "864\n",
            "896\n",
            "928\n",
            "960\n",
            "992\n",
            "1024\n",
            "1056\n",
            "1088\n",
            "1120\n",
            "1152\n",
            "1184\n",
            "1216\n",
            "1248\n",
            "1280\n",
            "1312\n",
            "1344\n",
            "1376\n",
            "1408\n",
            "1440\n",
            "1472\n",
            "1504\n",
            "1536\n",
            "1568\n",
            "1600\n",
            "1632\n",
            "1664\n",
            "1696\n",
            "1728\n",
            "1760\n",
            "1792\n",
            "1824\n",
            "1856\n",
            "1888\n",
            "1920\n",
            "1952\n",
            "1984\n",
            "2016\n",
            "2048\n",
            "2080\n",
            "2112\n",
            "2144\n",
            "2176\n",
            "2208\n",
            "2240\n",
            "2272\n",
            "2304\n",
            "2336\n",
            "2368\n",
            "2400\n",
            "2432\n",
            "2464\n",
            "2496\n",
            "2528\n",
            "2560\n",
            "2592\n",
            "2624\n",
            "2656\n",
            "2688\n",
            "2720\n",
            "2752\n",
            "2784\n",
            "2816\n",
            "2848\n",
            "2880\n",
            "2912\n",
            "2944\n",
            "2976\n",
            "3008\n",
            "3040\n",
            "3072\n",
            "3104\n",
            "3136\n",
            "3168\n",
            "3200\n",
            "3232\n",
            "3264\n",
            "3296\n",
            "3328\n",
            "3360\n",
            "3392\n",
            "3424\n",
            "3456\n",
            "3488\n",
            "3520\n",
            "3552\n",
            "3584\n",
            "3616\n",
            "3648\n",
            "3680\n",
            "3712\n",
            "3744\n",
            "3776\n",
            "3808\n",
            "3840\n",
            "3872\n",
            "3904\n",
            "3936\n",
            "3968\n",
            "4000\n",
            "4032\n",
            "4064\n",
            "4096\n",
            "4128\n",
            "4160\n",
            "4192\n",
            "4224\n",
            "4256\n"
          ]
        }
      ],
      "source": [
        "from langchain_community.vectorstores import FAISS\n",
        "\n",
        "for i in range(0, len(split_documents), 32):\n",
        "  if i == 0:\n",
        "    vectorstore = FAISS.from_documents(split_documents[i:i+32], hf_embeddings)\n",
        "    continue\n",
        "  vectorstore.add_documents(split_documents[i:i+32])\n",
        "  # DES\n",
        "  print(i)"
      ]
    },
    {
      "cell_type": "markdown",
      "metadata": {
        "id": "q07ZUp6Db_AO"
      },
      "source": [
        "Next, we set up FAISS as a retriever."
      ]
    },
    {
      "cell_type": "code",
      "execution_count": 18,
      "metadata": {
        "id": "fXr-yrAq7h8V"
      },
      "outputs": [],
      "source": [
        "hf_retriever = vectorstore.as_retriever()"
      ]
    },
    {
      "cell_type": "markdown",
      "metadata": {
        "id": "sYrW6FRecO7U"
      },
      "source": [
        "## Task 5: Simple LCEL RAG Chain\n",
        "\n",
        "Now we can set up our LCEL RAG chain!\n",
        "\n",
        "> NOTE: We're not returning context for this example, and only returning the text output from the LLM."
      ]
    },
    {
      "cell_type": "code",
      "execution_count": 19,
      "metadata": {
        "id": "ffIzIlct8ISb"
      },
      "outputs": [],
      "source": [
        "from operator import itemgetter\n",
        "from langchain.schema.output_parser import StrOutputParser\n",
        "from langchain.schema.runnable import RunnablePassthrough\n",
        "\n",
        "lcel_rag_chain = {\"context\": itemgetter(\"query\") | hf_retriever, \"query\": itemgetter(\"query\")}| rag_prompt | hf_llm"
      ]
    },
    {
      "cell_type": "code",
      "execution_count": 20,
      "metadata": {
        "colab": {
          "base_uri": "https://localhost:8080/",
          "height": 127
        },
        "id": "HOQfkEgb8nPH",
        "outputId": "92601728-d001-43e2-e543-e714d66f4f4e"
      },
      "outputs": [
        {
          "data": {
            "text/plain": [
              "'The best part of Silicon Valley, according to Paul Graham, is not the physical buildings, but the people. He emphasizes that the key stage in the life of a startup happens before they need office space, and that the defining quality of Silicon Valley is that many successful startups were started there, not just that they have offices there.'"
            ]
          },
          "execution_count": 20,
          "metadata": {},
          "output_type": "execute_result"
        }
      ],
      "source": [
        "lcel_rag_chain.invoke({\"query\" : \"What is the best part of Silicon Valley?\"})"
      ]
    }
  ],
  "metadata": {
    "colab": {
      "provenance": [],
      "toc_visible": true
    },
    "kernelspec": {
      "display_name": "aie4-project-16",
      "language": "python",
      "name": "python3"
    },
    "language_info": {
      "codemirror_mode": {
        "name": "ipython",
        "version": 3
      },
      "file_extension": ".py",
      "mimetype": "text/x-python",
      "name": "python",
      "nbconvert_exporter": "python",
      "pygments_lexer": "ipython3",
      "version": "3.12.7"
    }
  },
  "nbformat": 4,
  "nbformat_minor": 0
}
