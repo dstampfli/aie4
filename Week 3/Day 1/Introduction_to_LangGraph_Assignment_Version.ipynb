{
  "cells": [
    {
      "cell_type": "markdown",
      "metadata": {
        "id": "gJXW_DgiSebM"
      },
      "source": [
        "# LangGraph and LangSmith - Agentic RAG Powered by LangChain\n",
        "\n",
        "In the following notebook we'll complete the following tasks:\n",
        "\n",
        "- 🤝 Breakout Room #1:\n",
        "  1. Install required libraries\n",
        "  2. Set Environment Variables\n",
        "  3. Creating our Tool Belt\n",
        "  4. Creating Our State\n",
        "  5. Creating and Compiling A Graph!\n",
        "\n",
        "  - 🤝 Breakout Room #2:\n",
        "  1. Evaluating the LangGraph Application with LangSmith\n",
        "  2. Adding Helpfulness Check and \"Loop\" Limits\n",
        "  3. LangGraph for the \"Patterns\" of GenAI"
      ]
    },
    {
      "cell_type": "markdown",
      "metadata": {
        "id": "djQ3nRAgoF67"
      },
      "source": [
        "# 🤝 Breakout Room #1"
      ]
    },
    {
      "cell_type": "markdown",
      "metadata": {
        "id": "e7pQDUhUnIo8"
      },
      "source": [
        "## Part 1: LangGraph - Building Cyclic Applications with LangChain\n",
        "\n",
        "LangGraph is a tool that leverages LangChain Expression Language to build coordinated multi-actor and stateful applications that includes cyclic behaviour.\n",
        "\n",
        "### Why Cycles?\n",
        "\n",
        "In essence, we can think of a cycle in our graph as a more robust and customizable loop. It allows us to keep our application agent-forward while still giving the powerful functionality of traditional loops.\n",
        "\n",
        "Due to the inclusion of cycles over loops, we can also compose rather complex flows through our graph in a much more readable and natural fashion. Effectively allowing us to recreate application flowcharts in code in an almost 1-to-1 fashion.\n",
        "\n",
        "### Why LangGraph?\n",
        "\n",
        "Beyond the agent-forward approach - we can easily compose and combine traditional \"DAG\" (directed acyclic graph) chains with powerful cyclic behaviour due to the tight integration with LCEL. This means it's a natural extension to LangChain's core offerings!"
      ]
    },
    {
      "cell_type": "markdown",
      "metadata": {
        "id": "3_fLDElOVoop"
      },
      "source": [
        "## Task 1:  Dependencies\n",
        "\n",
        "We'll first install all our required libraries."
      ]
    },
    {
      "cell_type": "code",
      "execution_count": 1,
      "metadata": {
        "id": "KaVwN269EttM"
      },
      "outputs": [],
      "source": [
        "!pip install -qU langchain langchain_openai langchain-community langgraph arxiv duckduckgo_search==5.3.1b1"
      ]
    },
    {
      "cell_type": "markdown",
      "metadata": {
        "id": "wujPjGJuoPwg"
      },
      "source": [
        "## Task 2: Environment Variables\n",
        "\n",
        "We'll want to set both our OpenAI API key and our LangSmith environment variables."
      ]
    },
    {
      "cell_type": "code",
      "execution_count": 2,
      "metadata": {
        "colab": {
          "base_uri": "https://localhost:8080/"
        },
        "id": "Jdh8CoVWHRvs",
        "outputId": "42b2ba5e-11ae-4f4d-e68e-77607bb794ad"
      },
      "outputs": [],
      "source": [
        "import os\n",
        "import getpass\n",
        "\n",
        "os.environ[\"OPENAI_API_KEY\"] = getpass.getpass(\"OpenAI API Key:\")"
      ]
    },
    {
      "cell_type": "code",
      "execution_count": 3,
      "metadata": {
        "colab": {
          "base_uri": "https://localhost:8080/"
        },
        "id": "Nv0glIDyHmRt",
        "outputId": "30aa2260-50f1-4abf-b305-eed0ee1b9008"
      },
      "outputs": [],
      "source": [
        "from uuid import uuid4\n",
        "\n",
        "os.environ[\"LANGCHAIN_TRACING_V2\"] = \"true\"\n",
        "os.environ[\"LANGCHAIN_PROJECT\"] = f\"AIE4 - LangGraph - {uuid4().hex[0:8]}\"\n",
        "os.environ[\"LANGCHAIN_API_KEY\"] = getpass.getpass(\"LangSmith API Key: \")"
      ]
    },
    {
      "cell_type": "markdown",
      "metadata": {
        "id": "sBRyQmEAVzua"
      },
      "source": [
        "## Task 3: Creating our Tool Belt\n",
        "\n",
        "As is usually the case, we'll want to equip our agent with a toolbelt to help answer questions and add external knowledge.\n",
        "\n",
        "There's a tonne of tools in the [LangChain Community Repo](https://github.com/langchain-ai/langchain/tree/master/libs/community/langchain_community/tools) but we'll stick to a couple just so we can observe the cyclic nature of LangGraph in action!\n",
        "\n",
        "We'll leverage:\n",
        "\n",
        "- [Duck Duck Go Web Search](https://github.com/langchain-ai/langchain/tree/master/libs/community/langchain_community/tools/ddg_search)\n",
        "- [Arxiv](https://github.com/langchain-ai/langchain/tree/master/libs/community/langchain_community/tools/arxiv)"
      ]
    },
    {
      "cell_type": "markdown",
      "metadata": {
        "id": "2k6n_Dob2F46"
      },
      "source": [
        "####🏗️ Activity #1:\n",
        "\n",
        "Please add the tools to use into our toolbelt.\n",
        "\n",
        "> NOTE: Each tool in our toolbelt should be a method."
      ]
    },
    {
      "cell_type": "code",
      "execution_count": 4,
      "metadata": {
        "id": "lAxaSvlfIeOg"
      },
      "outputs": [],
      "source": [
        "from langchain_community.tools.ddg_search import DuckDuckGoSearchRun\n",
        "from langchain_community.tools.arxiv.tool import ArxivQueryRun\n",
        "\n",
        "tool_belt = [\n",
        "    # **ANSWER**\n",
        "    DuckDuckGoSearchRun(),\n",
        "    ArxivQueryRun()\n",
        "]"
      ]
    },
    {
      "cell_type": "code",
      "execution_count": 5,
      "metadata": {},
      "outputs": [
        {
          "data": {
            "text/plain": [
              "[DuckDuckGoSearchRun(), ArxivQueryRun()]"
            ]
          },
          "execution_count": 5,
          "metadata": {},
          "output_type": "execute_result"
        }
      ],
      "source": [
        "tool_belt"
      ]
    },
    {
      "cell_type": "markdown",
      "metadata": {
        "id": "VI-C669ZYVI5"
      },
      "source": [
        "### Model\n",
        "\n",
        "Now we can set-up our model! We'll leverage the familiar OpenAI model suite for this example - but it's not *necessary* to use with LangGraph. LangGraph supports all models - though you might not find success with smaller models - as such, they recommend you stick with:\n",
        "\n",
        "- OpenAI's GPT-3.5 and GPT-4\n",
        "- Anthropic's Claude\n",
        "- Google's Gemini\n",
        "\n",
        "> NOTE: Because we're leveraging the OpenAI function calling API - we'll need to use OpenAI *for this specific example* (or any other service that exposes an OpenAI-style function calling API."
      ]
    },
    {
      "cell_type": "code",
      "execution_count": 6,
      "metadata": {
        "id": "QkNS8rNZJs4z"
      },
      "outputs": [],
      "source": [
        "from langchain_openai import ChatOpenAI\n",
        "\n",
        "model = ChatOpenAI(model=\"gpt-4o\", temperature=0)"
      ]
    },
    {
      "cell_type": "markdown",
      "metadata": {
        "id": "Ugkj3GzuZpQv"
      },
      "source": [
        "Now that we have our model set-up, let's \"put on the tool belt\", which is to say: We'll bind our LangChain formatted tools to the model in an OpenAI function calling format."
      ]
    },
    {
      "cell_type": "code",
      "execution_count": 7,
      "metadata": {
        "id": "4OdMqFafZ_0V"
      },
      "outputs": [],
      "source": [
        "model = model.bind_tools(tool_belt)"
      ]
    },
    {
      "cell_type": "markdown",
      "metadata": {
        "id": "ERzuGo6W18Lr"
      },
      "source": [
        "#### ❓ Question #1:\n",
        "\n",
        "How does the model determine which tool to use?\n",
        "\n",
        "**ANSWER**\n",
        "\n",
        "1. Automatic Tool Selection Based on Input Parsing\n",
        "\n",
        "- The system (often a language model or an agent framework) parses the user’s input and determines which tool is most relevant based on the context, keywords, or the specific nature of the query.\n",
        "- For example, if the user’s input involves searching for general information on the web, the system might recognize that and select DuckDuckGoSearchRun.\n",
        "- If the input is related to searching academic papers or scientific literature, it might select ArxivQueryRun.\n",
        "\n",
        "\n",
        "2. Explicit Tool Invocation\n",
        "\n",
        "- In some implementations, the developer might explicitly define when to use a particular tool based on conditions or user inputs. This might be done through conditional logic in the code.\n",
        "- For instance, if the input contains the term “arXiv” or something indicative of academic research, the code might route the query to ArxivQueryRun. Otherwise, it might default to DuckDuckGoSearchRun.\n",
        "\n",
        "3. Decision-Making Logic\n",
        "\n",
        "- There might be decision-making logic that ranks tools based on their relevance to the query or scores them according to how well they match the user’s needs. The tool with the highest score is then selected.\n",
        "\n",
        "Here's some example selection logic:\n",
        "\n",
        "    def select_tool(user_input, tool_belt):\n",
        "        if \"arxiv\" in user_input.lower():\n",
        "            return tool_belt[1]  # ArxivQueryRun\n",
        "        else:\n",
        "            return tool_belt[0]  # DuckDuckGoSearchRun\n",
        "\n",
        "    selected_tool = select_tool(user_query, tool_belt)\n",
        "    selected_tool.run(user_query)\n",
        "\n",
        "In this example, if the input is relevant to academic research (e.g., contains “arxiv”), ArxivQueryRun is selected.  Oherwise, DuckDuckGoSearchRun is used by default."
      ]
    },
    {
      "cell_type": "markdown",
      "metadata": {
        "id": "_296Ub96Z_H8"
      },
      "source": [
        "## Task 4: Putting the State in Stateful\n",
        "\n",
        "Earlier we used this phrasing:\n",
        "\n",
        "`coordinated multi-actor and stateful applications`\n",
        "\n",
        "So what does that \"stateful\" mean?\n",
        "\n",
        "To put it simply - we want to have some kind of object which we can pass around our application that holds information about what the current situation (state) is. Since our system will be constructed of many parts moving in a coordinated fashion - we want to be able to ensure we have some commonly understood idea of that state.\n",
        "\n",
        "LangGraph leverages a `StatefulGraph` which uses an `AgentState` object to pass information between the various nodes of the graph.\n",
        "\n",
        "There are more options than what we'll see below - but this `AgentState` object is one that is stored in a `TypedDict` with the key `messages` and the value is a `Sequence` of `BaseMessages` that will be appended to whenever the state changes.\n",
        "\n",
        "Let's think about a simple example to help understand exactly what this means (we'll simplify a great deal to try and clearly communicate what state is doing):\n",
        "\n",
        "1. We initialize our state object:\n",
        "  - `{\"messages\" : []}`\n",
        "2. Our user submits a query to our application.\n",
        "  - New State: `HumanMessage(#1)`\n",
        "  - `{\"messages\" : [HumanMessage(#1)}`\n",
        "3. We pass our state object to an Agent node which is able to read the current state. It will use the last `HumanMessage` as input. It gets some kind of output which it will add to the state.\n",
        "  - New State: `AgentMessage(#1, additional_kwargs {\"function_call\" : \"WebSearchTool\"})`\n",
        "  - `{\"messages\" : [HumanMessage(#1), AgentMessage(#1, ...)]}`\n",
        "4. We pass our state object to a \"conditional node\" (more on this later) which reads the last state to determine if we need to use a tool - which it can determine properly because of our provided object!"
      ]
    },
    {
      "cell_type": "code",
      "execution_count": 8,
      "metadata": {
        "id": "mxL9b_NZKUdL"
      },
      "outputs": [],
      "source": [
        "from typing import TypedDict, Annotated\n",
        "from langgraph.graph.message import add_messages\n",
        "import operator\n",
        "from langchain_core.messages import BaseMessage\n",
        "\n",
        "class AgentState(TypedDict):\n",
        "  messages: Annotated[list, add_messages]"
      ]
    },
    {
      "cell_type": "markdown",
      "metadata": {
        "id": "vWsMhfO9grLu"
      },
      "source": [
        "## Task 5: It's Graphing Time!\n",
        "\n",
        "Now that we have state, and we have tools, and we have an LLM - we can finally start making our graph!\n",
        "\n",
        "Let's take a second to refresh ourselves about what a graph is in this context.\n",
        "\n",
        "Graphs, also called networks in some circles, are a collection of connected objects.\n",
        "\n",
        "The objects in question are typically called nodes, or vertices, and the connections are called edges.\n",
        "\n",
        "Let's look at a simple graph.\n",
        "\n",
        "![image](https://i.imgur.com/2NFLnIc.png)\n",
        "\n",
        "Here, we're using the coloured circles to represent the nodes and the yellow lines to represent the edges. In this case, we're looking at a fully connected graph - where each node is connected by an edge to each other node.\n",
        "\n",
        "If we were to think about nodes in the context of LangGraph - we would think of a function, or an LCEL runnable.\n",
        "\n",
        "If we were to think about edges in the context of LangGraph - we might think of them as \"paths to take\" or \"where to pass our state object next\".\n",
        "\n",
        "Let's create some nodes and expand on our diagram.\n",
        "\n",
        "> NOTE: Due to the tight integration with LCEL - we can comfortably create our nodes in an async fashion!"
      ]
    },
    {
      "cell_type": "code",
      "execution_count": 9,
      "metadata": {
        "id": "91flJWtZLUrl"
      },
      "outputs": [],
      "source": [
        "from langgraph.prebuilt import ToolNode\n",
        "\n",
        "def call_model(state):\n",
        "  messages = state[\"messages\"]\n",
        "  response = model.invoke(messages)\n",
        "  return {\"messages\" : [response]}\n",
        "\n",
        "tool_node = ToolNode(tool_belt)"
      ]
    },
    {
      "cell_type": "markdown",
      "metadata": {
        "id": "2bwR7MgWj3Wg"
      },
      "source": [
        "Now we have two total nodes. We have:\n",
        "\n",
        "- `call_model` is a node that will...well...call the model\n",
        "- `tool_node` is a node which can call a tool\n",
        "\n",
        "Let's start adding nodes! We'll update our diagram along the way to keep track of what this looks like!\n"
      ]
    },
    {
      "cell_type": "code",
      "execution_count": 10,
      "metadata": {
        "id": "_vF4_lgtmQNo"
      },
      "outputs": [],
      "source": [
        "from langgraph.graph import StateGraph, END\n",
        "\n",
        "uncompiled_graph = StateGraph(AgentState)\n",
        "\n",
        "uncompiled_graph.add_node(\"agent\", call_model)\n",
        "uncompiled_graph.add_node(\"action\", tool_node)"
      ]
    },
    {
      "cell_type": "markdown",
      "metadata": {
        "id": "b8CjRlbVmRpW"
      },
      "source": [
        "Let's look at what we have so far:\n",
        "\n",
        "![image](https://i.imgur.com/md7inqG.png)"
      ]
    },
    {
      "cell_type": "markdown",
      "metadata": {
        "id": "uaXHpPeSnOWC"
      },
      "source": [
        "Next, we'll add our entrypoint. All our entrypoint does is indicate which node is called first."
      ]
    },
    {
      "cell_type": "code",
      "execution_count": 11,
      "metadata": {
        "id": "YGCbaYqRnmiw"
      },
      "outputs": [],
      "source": [
        "uncompiled_graph.set_entry_point(\"agent\")"
      ]
    },
    {
      "cell_type": "markdown",
      "metadata": {
        "id": "BUsfGoSpoF9U"
      },
      "source": [
        "![image](https://i.imgur.com/wNixpJe.png)"
      ]
    },
    {
      "cell_type": "markdown",
      "metadata": {
        "id": "0Q_pQgHmoW0M"
      },
      "source": [
        "Now we want to build a \"conditional edge\" which will use the output state of a node to determine which path to follow.\n",
        "\n",
        "We can help conceptualize this by thinking of our conditional edge as a conditional in a flowchart!\n",
        "\n",
        "Notice how our function simply checks if there is a \"function_call\" kwarg present.\n",
        "\n",
        "Then we create an edge where the origin node is our agent node and our destination node is *either* the action node or the END (finish the graph).\n",
        "\n",
        "It's important to highlight that the dictionary passed in as the third parameter (the mapping) should be created with the possible outputs of our conditional function in mind. In this case `should_continue` outputs either `\"end\"` or `\"continue\"` which are subsequently mapped to the action node or the END node."
      ]
    },
    {
      "cell_type": "code",
      "execution_count": 12,
      "metadata": {
        "id": "1BZgb81VQf9o"
      },
      "outputs": [],
      "source": [
        "def should_continue(state):\n",
        "  last_message = state[\"messages\"][-1]\n",
        "\n",
        "  if last_message.tool_calls:\n",
        "    return \"action\"\n",
        "\n",
        "  return END\n",
        "\n",
        "uncompiled_graph.add_conditional_edges(\n",
        "    \"agent\",\n",
        "    should_continue\n",
        ")"
      ]
    },
    {
      "cell_type": "markdown",
      "metadata": {
        "id": "-Cvhcf4jp0Ce"
      },
      "source": [
        "Let's visualize what this looks like.\n",
        "\n",
        "![image](https://i.imgur.com/8ZNwKI5.png)"
      ]
    },
    {
      "cell_type": "markdown",
      "metadata": {
        "id": "yKCjWJCkrJb9"
      },
      "source": [
        "Finally, we can add our last edge which will connect our action node to our agent node. This is because we *always* want our action node (which is used to call our tools) to return its output to our agent!"
      ]
    },
    {
      "cell_type": "code",
      "execution_count": 13,
      "metadata": {
        "id": "UvcgbHf1rIXZ"
      },
      "outputs": [],
      "source": [
        "uncompiled_graph.add_edge(\"action\", \"agent\")"
      ]
    },
    {
      "cell_type": "markdown",
      "metadata": {
        "id": "EiWDwBQtrw7Z"
      },
      "source": [
        "Let's look at the final visualization.\n",
        "\n",
        "![image](https://i.imgur.com/NWO7usO.png)"
      ]
    },
    {
      "cell_type": "markdown",
      "metadata": {
        "id": "KYqDpErlsCsu"
      },
      "source": [
        "All that's left to do now is to compile our workflow - and we're off!"
      ]
    },
    {
      "cell_type": "code",
      "execution_count": 14,
      "metadata": {
        "id": "zt9-KS8DpzNx"
      },
      "outputs": [],
      "source": [
        "compiled_graph = uncompiled_graph.compile()"
      ]
    },
    {
      "cell_type": "markdown",
      "metadata": {
        "id": "xhNWIwBL1W4Q"
      },
      "source": [
        "#### ❓ Question #2:\n",
        "\n",
        "Is there any specific limit to how many times we can cycle?\n",
        "\n",
        "**ANSWER** \n",
        "No, there isn't a specific limit to how many times we can cycle. \n",
        "\n",
        "If not, how could we impose a limit to the number of cycles?\n",
        "\n",
        "**ANSWER**\n",
        "You could modify the \"should_continue\" function defined above to add, for example, a counter.  When the counter value is reached, the function will return \"END\".  The counter state would need to be held in the graph, perhaps in AgentState. "
      ]
    },
    {
      "cell_type": "markdown",
      "metadata": {
        "id": "VEYcTShCsPaa"
      },
      "source": [
        "## Using Our Graph\n",
        "\n",
        "Now that we've created and compiled our graph - we can call it *just as we'd call any other* `Runnable`!\n",
        "\n",
        "Let's try out a few examples to see how it fairs:"
      ]
    },
    {
      "cell_type": "code",
      "execution_count": 15,
      "metadata": {
        "colab": {
          "base_uri": "https://localhost:8080/"
        },
        "id": "Qn4n37PQRPII",
        "outputId": "a5d7ef7a-13f2-4066-df52-b0df89eae2ae"
      },
      "outputs": [
        {
          "name": "stdout",
          "output_type": "stream",
          "text": [
            "Receiving update from node: 'agent'\n",
            "[AIMessage(content='', additional_kwargs={'tool_calls': [{'id': 'call_Zax1N7jhXQyRQ4pH884lDDvW', 'function': {'arguments': '{\"query\":\"current captain of the Winnipeg Jets 2023\"}', 'name': 'duckduckgo_search'}, 'type': 'function'}], 'refusal': None}, response_metadata={'token_usage': {'completion_tokens': 25, 'prompt_tokens': 156, 'total_tokens': 181}, 'model_name': 'gpt-4o-2024-05-13', 'system_fingerprint': 'fp_157b3831f5', 'finish_reason': 'tool_calls', 'logprobs': None}, id='run-cc69bf54-a9fd-476a-9f35-2578df67fee4-0', tool_calls=[{'name': 'duckduckgo_search', 'args': {'query': 'current captain of the Winnipeg Jets 2023'}, 'id': 'call_Zax1N7jhXQyRQ4pH884lDDvW', 'type': 'tool_call'}], usage_metadata={'input_tokens': 156, 'output_tokens': 25, 'total_tokens': 181})]\n",
            "\n",
            "\n",
            "\n",
            "Receiving update from node: 'action'\n",
            "[ToolMessage(content=\"Posted September 12, 2023 9:29 am. Centre Adam Lowry was named the Winnipeg Jets new captain on Tuesday. Lowry is the third Jets captain since the team moved from Atlanta to Winnipeg in 2011. He follows Andrew Ladd and Blake Wheeler, who served as captain for five and six years respectively. Adam Lowry was named captain of the Winnipeg Jets on Tuesday. ... Sep 20, 2023. Latest News. Inside look at Vegas Golden Knights Aug 30, 2024. Vegas Golden Knights fantasy projections for 2024-25 When the Jets drafted Lowry in 2011's second round, the team's scouts raved about him as captain material. ... — Winnipeg Jets (@NHLJets) September 12, 2023. Cheveldayoff made his case. Lowry will follow Andrew Ladd and Blake Wheeler to serve as the third captain of the new Winnipeg Jets franchise. - Sep 12, 2023. After a season without a captain, the Winnipeg Jets have named ... September 12, 2023. There are not many honours in team sports bigger than being named captain. That honour was given to Winnipeg Jet forward Adam Lowry officially Tuesday morning as he becomes the ...\", name='duckduckgo_search', tool_call_id='call_Zax1N7jhXQyRQ4pH884lDDvW')]\n",
            "\n",
            "\n",
            "\n",
            "Receiving update from node: 'agent'\n",
            "[AIMessage(content='As of September 12, 2023, Adam Lowry is the current captain of the Winnipeg Jets.', additional_kwargs={'refusal': None}, response_metadata={'token_usage': {'completion_tokens': 23, 'prompt_tokens': 445, 'total_tokens': 468}, 'model_name': 'gpt-4o-2024-05-13', 'system_fingerprint': 'fp_157b3831f5', 'finish_reason': 'stop', 'logprobs': None}, id='run-cca535ca-accb-4ce1-b1c5-91937d7c3f2a-0', usage_metadata={'input_tokens': 445, 'output_tokens': 23, 'total_tokens': 468})]\n",
            "\n",
            "\n",
            "\n"
          ]
        }
      ],
      "source": [
        "from langchain_core.messages import HumanMessage\n",
        "\n",
        "inputs = {\"messages\" : [HumanMessage(content=\"Who is the current captain of the Winnipeg Jets?\")]}\n",
        "\n",
        "async for chunk in compiled_graph.astream(inputs, stream_mode=\"updates\"):\n",
        "    for node, values in chunk.items():\n",
        "        print(f\"Receiving update from node: '{node}'\")\n",
        "        print(values[\"messages\"])\n",
        "        print(\"\\n\\n\")"
      ]
    },
    {
      "cell_type": "markdown",
      "metadata": {
        "id": "DBHnUtLSscRr"
      },
      "source": [
        "Let's look at what happened:\n",
        "\n",
        "1. Our state object was populated with our request\n",
        "2. The state object was passed into our entry point (agent node) and the agent node added an `AIMessage` to the state object and passed it along the conditional edge\n",
        "3. The conditional edge received the state object, found the \"tool_calls\" `additional_kwarg`, and sent the state object to the action node\n",
        "4. The action node added the response from the OpenAI function calling endpoint to the state object and passed it along the edge to the agent node\n",
        "5. The agent node added a response to the state object and passed it along the conditional edge\n",
        "6. The conditional edge received the state object, could not find the \"tool_calls\" `additional_kwarg` and passed the state object to END where we see it output in the cell above!\n",
        "\n",
        "Now let's look at an example that shows a multiple tool usage - all with the same flow!"
      ]
    },
    {
      "cell_type": "code",
      "execution_count": 16,
      "metadata": {
        "colab": {
          "base_uri": "https://localhost:8080/"
        },
        "id": "afv2BuEsV5JG",
        "outputId": "026a3aa3-1c3e-4016-b0a3-fe98b1d25399"
      },
      "outputs": [
        {
          "name": "stdout",
          "output_type": "stream",
          "text": [
            "Receiving update from node: 'agent'\n",
            "[AIMessage(content='', additional_kwargs={'tool_calls': [{'id': 'call_0ih8d3QwfztR5bRKJfuhGaB3', 'function': {'arguments': '{\"query\": \"QLoRA\"}', 'name': 'arxiv'}, 'type': 'function'}, {'id': 'call_KMGRJ9mUM1lS6TVIgSWLVo35', 'function': {'arguments': '{\"query\": \"latest tweet Tim Dettmers\"}', 'name': 'duckduckgo_search'}, 'type': 'function'}, {'id': 'call_h7vwN3bVsfBtQDezgGz4c86A', 'function': {'arguments': '{\"query\": \"latest tweet Mike Lewis\"}', 'name': 'duckduckgo_search'}, 'type': 'function'}, {'id': 'call_0OngtYNzyp3Q6LvAFDbt0kiY', 'function': {'arguments': '{\"query\": \"latest tweet Sam Shleifer\"}', 'name': 'duckduckgo_search'}, 'type': 'function'}, {'id': 'call_9z392ANKJUl318Asr9eKbawX', 'function': {'arguments': '{\"query\": \"latest tweet Luke Zettlemoyer\"}', 'name': 'duckduckgo_search'}, 'type': 'function'}], 'refusal': None}, response_metadata={'token_usage': {'completion_tokens': 119, 'prompt_tokens': 173, 'total_tokens': 292}, 'model_name': 'gpt-4o-2024-05-13', 'system_fingerprint': 'fp_157b3831f5', 'finish_reason': 'tool_calls', 'logprobs': None}, id='run-a0f558a6-ecc1-49b3-96d9-fe27f7524078-0', tool_calls=[{'name': 'arxiv', 'args': {'query': 'QLoRA'}, 'id': 'call_0ih8d3QwfztR5bRKJfuhGaB3', 'type': 'tool_call'}, {'name': 'duckduckgo_search', 'args': {'query': 'latest tweet Tim Dettmers'}, 'id': 'call_KMGRJ9mUM1lS6TVIgSWLVo35', 'type': 'tool_call'}, {'name': 'duckduckgo_search', 'args': {'query': 'latest tweet Mike Lewis'}, 'id': 'call_h7vwN3bVsfBtQDezgGz4c86A', 'type': 'tool_call'}, {'name': 'duckduckgo_search', 'args': {'query': 'latest tweet Sam Shleifer'}, 'id': 'call_0OngtYNzyp3Q6LvAFDbt0kiY', 'type': 'tool_call'}, {'name': 'duckduckgo_search', 'args': {'query': 'latest tweet Luke Zettlemoyer'}, 'id': 'call_9z392ANKJUl318Asr9eKbawX', 'type': 'tool_call'}], usage_metadata={'input_tokens': 173, 'output_tokens': 119, 'total_tokens': 292})]\n",
            "\n",
            "\n",
            "\n",
            "Receiving update from node: 'action'\n",
            "Tool Used: arxiv\n",
            "[ToolMessage(content='Published: 2023-05-23\\nTitle: QLoRA: Efficient Finetuning of Quantized LLMs\\nAuthors: Tim Dettmers, Artidoro Pagnoni, Ari Holtzman, Luke Zettlemoyer\\nSummary: We present QLoRA, an efficient finetuning approach that reduces memory usage\\nenough to finetune a 65B parameter model on a single 48GB GPU while preserving\\nfull 16-bit finetuning task performance. QLoRA backpropagates gradients through\\na frozen, 4-bit quantized pretrained language model into Low Rank\\nAdapters~(LoRA). Our best model family, which we name Guanaco, outperforms all\\nprevious openly released models on the Vicuna benchmark, reaching 99.3% of the\\nperformance level of ChatGPT while only requiring 24 hours of finetuning on a\\nsingle GPU. QLoRA introduces a number of innovations to save memory without\\nsacrificing performance: (a) 4-bit NormalFloat (NF4), a new data type that is\\ninformation theoretically optimal for normally distributed weights (b) double\\nquantization to reduce the average memory footprint by quantizing the\\nquantization constants, and (c) paged optimziers to manage memory spikes. We\\nuse QLoRA to finetune more than 1,000 models, providing a detailed analysis of\\ninstruction following and chatbot performance across 8 instruction datasets,\\nmultiple model types (LLaMA, T5), and model scales that would be infeasible to\\nrun with regular finetuning (e.g. 33B and 65B parameter models). Our results\\nshow that QLoRA finetuning on a small high-quality dataset leads to\\nstate-of-the-art results, even when using smaller models than the previous\\nSoTA. We provide a detailed analysis of chatbot performance based on both human\\nand GPT-4 evaluations showing that GPT-4 evaluations are a cheap and reasonable\\nalternative to human evaluation. Furthermore, we find that current chatbot\\nbenchmarks are not trustworthy to accurately evaluate the performance levels of\\nchatbots. A lemon-picked analysis demonstrates where Guanaco fails compared to\\nChatGPT. We release all of our models and code, including CUDA kernels for\\n4-bit training.\\n\\nPublished: 2024-05-27\\nTitle: Accurate LoRA-Finetuning Quantization of LLMs via Information Retention\\nAuthors: Haotong Qin, Xudong Ma, Xingyu Zheng, Xiaoyang Li, Yang Zhang, Shouda Liu, Jie Luo, Xianglong Liu, Michele Magno\\nSummary: The LoRA-finetuning quantization of LLMs has been extensively studied to\\nobtain accurate yet compact LLMs for deployment on resource-constrained\\nhardware. However, existing methods cause the quantized LLM to severely degrade\\nand even fail to benefit from the finetuning of LoRA. This paper proposes a\\nnovel IR-QLoRA for pushing quantized LLMs with LoRA to be highly accurate\\nthrough information retention. The proposed IR-QLoRA mainly relies on two\\ntechnologies derived from the perspective of unified information: (1)\\nstatistics-based Information Calibration Quantization allows the quantized\\nparameters of LLM to retain original information accurately; (2)\\nfinetuning-based Information Elastic Connection makes LoRA utilizes elastic\\nrepresentation transformation with diverse information. Comprehensive\\nexperiments show that IR-QLoRA can significantly improve accuracy across LLaMA\\nand LLaMA2 families under 2-4 bit-widths, e.g., 4- bit LLaMA-7B achieves 1.4%\\nimprovement on MMLU compared with the state-of-the-art methods. The significant\\nperformance gain requires only a tiny 0.31% additional time consumption,\\nrevealing the satisfactory efficiency of our IR-QLoRA. We highlight that\\nIR-QLoRA enjoys excellent versatility, compatible with various frameworks\\n(e.g., NormalFloat and Integer quantization) and brings general accuracy gains.\\nThe code is available at https://github.com/htqin/ir-qlora.\\n\\nPublished: 2024-06-12\\nTitle: Exploring Fact Memorization and Style Imitation in LLMs Using QLoRA: An Experimental Study and Quality Assessment Methods\\nAuthors: Eugene Vyborov, Oleksiy Osypenko, Serge Sotnyk\\nSummary: There are various methods for adapting LLMs to different domains. The most\\ncommon methods are prompting, finetuning, and RAG. In this w', name='arxiv', tool_call_id='call_0ih8d3QwfztR5bRKJfuhGaB3'), ToolMessage(content='Tech Moves: AI researcher Yejin Choi leaves Univ. of Washington and Allen Institute for AI. by Todd Bishop & Taylor Soper on August 2, 2024. Yejin Choi, who was named a 2022 MacArthur Fellow and ... Magistrate Judge Thomas S. Hixson\\'s protective order said the group of authors suing Meta for copyright infringement over its AI model cannot use the chat logs \"and must return them to Meta or destroy them.\". The authors, who include comedian Sarah Silverman and Pulitzer Prize-winner Andrew Sean Greer, argued that Meta waived its ... — Tim Dettmers is joining Ai2 as an AI researcher. Dettmers specializes in efficient deep learning at the intersection of machine learning, NLP, and computer systems with a focus on quantization ... Allen School Ph.D. student Tim Dettmers accepted the grand prize for QLoRA, a novel approach to finetuning pretrained models that significantly reduces the amount of GPU memory required — from over 780GB to less than 48GB — to finetune a 65B parameter model. With QLoRA, the largest publicly available models can be finetuned on a single ... Tim Dettmers, Ruslan A. Svirschevski, Vage Egiazarian, Denis Kuznedelev, ... (SpQR), a new compressed format and quantization technique that enables for the first time \\\\emph{near-lossless} compression of LLMs across model scales while reaching similar compression levels to previous methods. SpQR works by identifying and isolating \\\\emph{outlier ...', name='duckduckgo_search', tool_call_id='call_KMGRJ9mUM1lS6TVIgSWLVo35'), ToolMessage(content='By Christopher Beam. Oct. 6, 2023. A hike is Michael Lewis\\'s interview format of choice. When he first met the FTX founder Sam Bankman-Fried in late 2021, he took the cargo-shorted chief ... Author Michael Lewis spent countless hours with FTX founder and alleged fraudster Sam Bankman-Fried. He details the cryptocurrency wunderkind\\'s rise and fall in his new book, \"Going Infinite.&quot; MCKINNEY — A \"selfless servant\" is how friends and family are remembering Michael Lewis, the North Texas pilot who died in a plane crash earlier this week in McKinney. Family members say Lewis ... Author Michael Lewis met with FTX founder Sam Bankman-Fried more than 100 times. Lewis breaks down the crypto superstar\\'s rise and fall in his new book, \"Going Infinite.\" By Andrew R. Chow. October 9, 2023 9:20 AM EDT. W hen the journalist Michael Lewis announced in May that he was writing a book on Sam Bankman-Fried after spending months with the FTX crypto mogul ...', name='duckduckgo_search', tool_call_id='call_h7vwN3bVsfBtQDezgGz4c86A'), ToolMessage(content='November 21, 2023 at 7:11 PM EST. Save. Tiger Global Management\\'s Scott Shleifer, the partner overseeing a majority of the firm\\'s assets and who helped launch its venture arm, is stepping down ... Scott Shleifer, the head of Tiger Global\\'s $30bn-plus private equity business, will step down from his role at the hedge fund at the end of the year. The move will be a significant change for ... Tiger was founded by Coleman, a protégé of hedge fund pioneer Julian Robertson, in 2000. Shleifer joined two years later. This is not the firm\\'s first major leadership change. Nov 29, 2023, 8:26 AM PST. Shleifer cofounded Tiger Global\\'s private equity business nearly two decades ago Ben Gabbe/Getty Images. Billionaire Scott Shleifer stepped down from his role leading ... Scott Shleifer is stepping down as head of private equity at Tiger Global, one of the driving forces behind the tech \"unicorn\" boom, Axios has learned. Details: Shleifer will remain a senior advisor to Tiger, which was founded to manage hedge funds, while firm founder Chase Coleman will assume the chairman role on a new private equity ...', name='duckduckgo_search', tool_call_id='call_0OngtYNzyp3Q6LvAFDbt0kiY'), ToolMessage(content=\"Luke Zettlemoyer is a research manager and site lead for FAIR Seattle. He is also a Professor in the Allen School of Computer Science & Engineering at the University of Washington. His research is in empirical computational semantics, where the goal is to build models that recover representations of the meaning of natural language text. AUTHORS Written by Scott Yih Luke Zettlemoyer Mike Lewis Hannaneh Hajishirzi Kalpesh Krishna Mohit Iyyer Pang Wei Koh Sewon Min Xinxi Lyu Publisher EMNLP Research Topics Natural Language Processing (NLP) Yichao LuSrihari JayakumarDebojeet ChatterjeeMohsen MoslehpourPierce ChuangAbhay HarpaleVikas BhardwajDi Xu (SWE)Shicong ZhaoAnkit ... Today we're joined by Luke Zettlemoyer, professor at University of Washington and a research manager at Meta. In our conversation with Luke, we cover multimodal generative AI, the effect of data on models, and the significance of open source and open science. We explore the grounding problem, the need for visual grounding and embodiment in FILE - Washington Commanders wide receiver Luke McCaffrey, left, poses with his brother, Miami Dolphins offensive assistant Max McCaffrey on the field after an NFL pre-season football game, on Aug. 17, 2024, in Miami Gardens, Fla. Luke McCaffrey this weekend will become the latest member of his family to play in the NFL. Hibs sporting director Malky Mackay admits the club could delve into the free agent market after missing out to Luke McCowan to Celtic in a dramatic deadline day at Easter Road.. The Easter Road ...\", name='duckduckgo_search', tool_call_id='call_9z392ANKJUl318Asr9eKbawX')]\n",
            "\n",
            "\n",
            "\n",
            "Receiving update from node: 'agent'\n",
            "[AIMessage(content='### QLoRA Paper on Arxiv\\n**Title:** QLoRA: Efficient Finetuning of Quantized LLMs  \\n**Authors:** Tim Dettmers, Artidoro Pagnoni, Ari Holtzman, Luke Zettlemoyer  \\n**Summary:** QLoRA is an efficient finetuning approach that reduces memory usage enough to finetune a 65B parameter model on a single 48GB GPU while preserving full 16-bit finetuning task performance. The paper introduces several innovations to save memory without sacrificing performance, such as 4-bit NormalFloat (NF4), double quantization, and paged optimizers. The best model family, Guanaco, outperforms previous models on the Vicuna benchmark, reaching 99.3% of ChatGPT\\'s performance level with only 24 hours of finetuning on a single GPU. The paper also provides a detailed analysis of instruction following and chatbot performance across various datasets and model scales.\\n\\n### Latest Tweets of Authors\\n\\n#### Tim Dettmers\\n- **Latest Tweet:** Tim Dettmers is joining Ai2 as an AI researcher. Dettmers specializes in efficient deep learning at the intersection of machine learning, NLP, and computer systems with a focus on quantization.\\n\\n#### Mike Lewis\\n- **Latest Tweet:** Author Michael Lewis met with FTX founder Sam Bankman-Fried more than 100 times. Lewis breaks down the crypto superstar\\'s rise and fall in his new book, \"Going Infinite.\"\\n\\n#### Sam Shleifer\\n- **Latest Tweet:** Scott Shleifer, the head of Tiger Global\\'s $30bn-plus private equity business, will step down from his role at the hedge fund at the end of the year. The move will be a significant change for the firm.\\n\\n#### Luke Zettlemoyer\\n- **Latest Tweet:** Today we\\'re joined by Luke Zettlemoyer, professor at University of Washington and a research manager at Meta. In our conversation with Luke, we cover multimodal generative AI, the effect of data on models, and the significance of open source and open science.', additional_kwargs={'refusal': None}, response_metadata={'token_usage': {'completion_tokens': 426, 'prompt_tokens': 2452, 'total_tokens': 2878}, 'model_name': 'gpt-4o-2024-05-13', 'system_fingerprint': 'fp_157b3831f5', 'finish_reason': 'stop', 'logprobs': None}, id='run-75cca5fe-3661-48b6-a719-9ba043009707-0', usage_metadata={'input_tokens': 2452, 'output_tokens': 426, 'total_tokens': 2878})]\n",
            "\n",
            "\n",
            "\n"
          ]
        }
      ],
      "source": [
        "inputs = {\"messages\" : [HumanMessage(content=\"Search Arxiv for the QLoRA paper, then search each of the authors to find out their latest Tweet using DuckDuckGo.\")]}\n",
        "\n",
        "async for chunk in compiled_graph.astream(inputs, stream_mode=\"updates\"):\n",
        "    for node, values in chunk.items():\n",
        "        print(f\"Receiving update from node: '{node}'\")\n",
        "        if node == \"action\":\n",
        "          print(f\"Tool Used: {values['messages'][0].name}\")\n",
        "        print(values[\"messages\"])\n",
        "\n",
        "        print(\"\\n\\n\")"
      ]
    },
    {
      "cell_type": "markdown",
      "metadata": {
        "id": "CXzDlZVz1Hnf"
      },
      "source": [
        "####🏗️ Activity #2:\n",
        "\n",
        "Please write out the steps the agent took to arrive at the correct answer.\n",
        "\n",
        "**ANSWER**\n",
        "It's the same flow as described above EXCEPT that the Arxiv tool is used based on the nature of the request.  Here's the flow copied from above:\n",
        "\n",
        "*1. Our state object was populated with our request.\n",
        "\n",
        "2. The state object was passed into our entry point (agent node) and the agent node added an `AIMessage` to the state object and passed it along the conditional edge.\n",
        "\n",
        "3. The conditional edge received the state object, found the \"tool_calls\" `additional_kwarg`, and sent the state object to the action node.\n",
        "\n",
        "4. The action node added the response from the OpenAI function calling endpoint to the state object and passed it along the edge to the agent node.\n",
        "\n",
        "5. The agent node added a response to the state object and passed it along the conditional edge.\n",
        "\n",
        "6. The conditional edge received the state object, could not find the \"tool_calls\" `additional_kwarg` and passed the state object to END where we see it output in the cell above!*\n"
      ]
    },
    {
      "cell_type": "markdown",
      "metadata": {
        "id": "v7c8-Uyarh1v"
      },
      "source": [
        "## Part 1: LangSmith Evaluator"
      ]
    },
    {
      "cell_type": "markdown",
      "metadata": {
        "id": "pV3XeFOT1Sar"
      },
      "source": [
        "### Pre-processing for LangSmith"
      ]
    },
    {
      "cell_type": "markdown",
      "metadata": {
        "id": "wruQCuzewUuO"
      },
      "source": [
        "To do a little bit more preprocessing, let's wrap our LangGraph agent in a simple chain."
      ]
    },
    {
      "cell_type": "code",
      "execution_count": 17,
      "metadata": {
        "id": "oeXdQgbxwhTv"
      },
      "outputs": [],
      "source": [
        "def convert_inputs(input_object):\n",
        "  return {\"messages\" : [HumanMessage(content=input_object[\"question\"])]}\n",
        "\n",
        "def parse_output(input_state):\n",
        "  return input_state[\"messages\"][-1].content\n",
        "\n",
        "agent_chain = convert_inputs | compiled_graph | parse_output"
      ]
    },
    {
      "cell_type": "code",
      "execution_count": 18,
      "metadata": {
        "colab": {
          "base_uri": "https://localhost:8080/",
          "height": 139
        },
        "id": "orYxBZXSxJjZ",
        "outputId": "b160f3e4-89d1-4411-ed96-fe17b3cad200"
      },
      "outputs": [
        {
          "data": {
            "text/plain": [
              "\"RAG stands for Retrieval-Augmented Generation. It is a technique used in natural language processing (NLP) and machine learning to improve the performance of language models by combining retrieval-based methods with generative models. Here's a brief overview of how it works:\\n\\n1. **Retrieval**: In the first step, the system retrieves relevant documents or pieces of information from a large corpus or database. This is typically done using a retrieval model, such as BM25 or a dense retrieval model like DPR (Dense Passage Retrieval).\\n\\n2. **Augmentation**: The retrieved documents are then used to augment the input to the generative model. This means that the generative model has access to additional context or information that can help it produce more accurate and relevant responses.\\n\\n3. **Generation**: Finally, the generative model, such as GPT-3 or BERT, uses the augmented input to generate a response. The additional context provided by the retrieved documents helps the model generate more informed and contextually appropriate responses.\\n\\nRAG is particularly useful in scenarios where the generative model alone might not have enough information to produce a high-quality response, such as in open-domain question answering, conversational agents, and other applications requiring access to a large knowledge base.\""
            ]
          },
          "execution_count": 18,
          "metadata": {},
          "output_type": "execute_result"
        }
      ],
      "source": [
        "agent_chain.invoke({\"question\" : \"What is RAG?\"})"
      ]
    },
    {
      "cell_type": "markdown",
      "metadata": {
        "id": "f9UkCIqkpyZu"
      },
      "source": [
        "### Task 1: Creating An Evaluation Dataset\n",
        "\n",
        "Just as we saw last week, we'll want to create a dataset to test our Agent's ability to answer questions.\n",
        "\n",
        "In order to do this - we'll want to provide some questions and some answers. Let's look at how we can create such a dataset below.\n",
        "\n",
        "```python\n",
        "questions = [\n",
        "    \"What optimizer is used in QLoRA?\",\n",
        "    \"What data type was created in the QLoRA paper?\",\n",
        "    \"What is a Retrieval Augmented Generation system?\",\n",
        "    \"Who authored the QLoRA paper?\",\n",
        "    \"What is the most popular deep learning framework?\",\n",
        "    \"What significant improvements does the LoRA system make?\"\n",
        "]\n",
        "\n",
        "answers = [\n",
        "    {\"must_mention\" : [\"paged\", \"optimizer\"]},\n",
        "    {\"must_mention\" : [\"NF4\", \"NormalFloat\"]},\n",
        "    {\"must_mention\" : [\"ground\", \"context\"]},\n",
        "    {\"must_mention\" : [\"Tim\", \"Dettmers\"]},\n",
        "    {\"must_mention\" : [\"PyTorch\", \"TensorFlow\"]},\n",
        "    {\"must_mention\" : [\"reduce\", \"parameters\"]},\n",
        "]\n",
        "```"
      ]
    },
    {
      "cell_type": "markdown",
      "metadata": {
        "id": "VfMXF2KAsQxs"
      },
      "source": [
        "####🏗️ Activity #3:\n",
        "\n",
        "Please create a dataset in the above format with at least 5 questions."
      ]
    },
    {
      "cell_type": "code",
      "execution_count": 19,
      "metadata": {
        "id": "CbagRuJop83E"
      },
      "outputs": [],
      "source": [
        "questions = [\n",
        "    # **ANSWER**\n",
        "    \"What is Retrieval Augmented Generation (RAG)?\",\n",
        "    \"How does RAG differ from traditional language models?\",\n",
        "    \"What are the main components of a RAG system?\",\n",
        "    \"What are the benefits of using RAG?\",\n",
        "    \"What are some challenges associated with RAG?\",\n",
        "    \"In what applications is RAG commonly used?\",\n",
        "]\n",
        "\n",
        "answers = [\n",
        "    # ** ANSWER**\n",
        "    {\"must_mention\" : [\"retrieval\", \"generation\"]},\n",
        "    {\"must_mention\" : [\"retrieves\", \"external\", \"information\"]},\n",
        "    {\"must_mention\" : [\"retrieval system\", \"language model\"]},\n",
        "    {\"must_mention\" : [\"accurate\", \"contextually relevant\"]},\n",
        "    {\"must_mention\" : [\"retrieval effectivness\", \"response generation\", \"efficiency\"]},\n",
        "    {\"must_mention\" : [\"question answering\", \"chatbot\", \"summarization\"]},\n",
        "]"
      ]
    },
    {
      "cell_type": "markdown",
      "metadata": {
        "id": "z7QVFuAmsh7L"
      },
      "source": [
        "Now we can add our dataset to our LangSmith project using the following code which we saw last Thursday!"
      ]
    },
    {
      "cell_type": "code",
      "execution_count": 20,
      "metadata": {
        "id": "RLfrZrgSsn85"
      },
      "outputs": [],
      "source": [
        "from langsmith import Client\n",
        "\n",
        "client = Client()\n",
        "dataset_name = f\"Retrieval Augmented Generation - Evaluation Dataset - {uuid4().hex[0:8]}\"\n",
        "\n",
        "dataset = client.create_dataset(\n",
        "    dataset_name=dataset_name,\n",
        "    description=\"Questions about the QLoRA Paper to Evaluate RAG over the same paper.\"\n",
        ")\n",
        "\n",
        "client.create_examples(\n",
        "    inputs=[{\"question\" : q} for q in questions],\n",
        "    outputs=answers,\n",
        "    dataset_id=dataset.id,\n",
        ")"
      ]
    },
    {
      "cell_type": "markdown",
      "metadata": {
        "id": "ciV73F9Q04w0"
      },
      "source": [
        "#### ❓ Question #3:\n",
        "\n",
        "How are the correct answers associated with the questions?\n",
        "\n",
        "> NOTE: Feel free to indicate if this is problematic or not\n",
        "\n",
        "**ANSWER**\n",
        "\n",
        "The create_examples function, which is part of the langsmith module, is doing this.  This function is matching list indices which can always be problematic.  The documentation here - https://docs.smith.langchain.com/old/evaluation/faq/manage-datasets - shows other approaches that might be less problematic. "
      ]
    },
    {
      "cell_type": "markdown",
      "metadata": {
        "id": "-lRTXUrTtP9Y"
      },
      "source": [
        "### Task 2: Adding Evaluators\n",
        "\n",
        "Now we can add a custom evaluator to see if our responses contain the expected information.\n",
        "\n",
        "We'll be using a fairly naive exact-match process to determine if our response contains specific strings."
      ]
    },
    {
      "cell_type": "code",
      "execution_count": 21,
      "metadata": {
        "id": "QrAUXMFftlAY"
      },
      "outputs": [],
      "source": [
        "from langsmith.evaluation import EvaluationResult, run_evaluator\n",
        "\n",
        "@run_evaluator\n",
        "def must_mention(run, example) -> EvaluationResult:\n",
        "    prediction = run.outputs.get(\"output\") or \"\"\n",
        "    required = example.outputs.get(\"must_mention\") or []\n",
        "    score = all(phrase in prediction for phrase in required)\n",
        "    return EvaluationResult(key=\"must_mention\", score=score)"
      ]
    },
    {
      "cell_type": "markdown",
      "metadata": {
        "id": "PNtHORUh0jZY"
      },
      "source": [
        "#### ❓ Question #4:\n",
        "\n",
        "What are some ways you could improve this metric as-is?\n",
        "\n",
        "> NOTE: Alternatively you can suggest where gaps exist in this method.\n",
        "\n",
        "**ANSWER**\n",
        "\n",
        "Using exact match will likely result in a much failure rate than is reality. A better way to do this would be to make an LLM call here to check if the response had the required information. "
      ]
    },
    {
      "cell_type": "markdown",
      "metadata": {
        "id": "mZ4DVSXl0BX5"
      },
      "source": [
        "Now that we have created our custom evaluator - let's initialize our `RunEvalConfig` with it!"
      ]
    },
    {
      "cell_type": "code",
      "execution_count": 22,
      "metadata": {
        "id": "sL4-XcjytWsu"
      },
      "outputs": [],
      "source": [
        "from langchain.smith import RunEvalConfig, run_on_dataset\n",
        "\n",
        "eval_config = RunEvalConfig(\n",
        "    custom_evaluators=[must_mention],\n",
        ")"
      ]
    },
    {
      "cell_type": "markdown",
      "metadata": {
        "id": "r1RJr349zhv7"
      },
      "source": [
        "Task 3: Evaluating\n",
        "\n",
        "All that is left to do is evaluate our agent's response!"
      ]
    },
    {
      "cell_type": "code",
      "execution_count": 23,
      "metadata": {
        "colab": {
          "base_uri": "https://localhost:8080/"
        },
        "id": "p5TeCUUkuGld",
        "outputId": "8b98fff1-bd75-4dbe-cadc-a76d8a82577c"
      },
      "outputs": [
        {
          "name": "stdout",
          "output_type": "stream",
          "text": [
            "View the evaluation results for project 'RAG Pipeline - Evaluation - 529f2d66' at:\n",
            "https://smith.langchain.com/o/be600afd-3795-5505-ad50-068c806b5628/datasets/647e0c09-17f1-4396-9496-11bef801de66/compare?selectedSessions=fca7eafc-7cdc-4f29-8b68-8982b3a03b45\n",
            "\n",
            "View all tests for Dataset Retrieval Augmented Generation - Evaluation Dataset - 54557797 at:\n",
            "https://smith.langchain.com/o/be600afd-3795-5505-ad50-068c806b5628/datasets/647e0c09-17f1-4396-9496-11bef801de66\n",
            "[------------------------------------------------->] 6/6"
          ]
        },
        {
          "data": {
            "text/html": [
              "<h3>Experiment Results:</h3>"
            ],
            "text/plain": [
              "<IPython.core.display.HTML object>"
            ]
          },
          "metadata": {},
          "output_type": "display_data"
        },
        {
          "data": {
            "text/html": [
              "<div>\n",
              "<style scoped>\n",
              "    .dataframe tbody tr th:only-of-type {\n",
              "        vertical-align: middle;\n",
              "    }\n",
              "\n",
              "    .dataframe tbody tr th {\n",
              "        vertical-align: top;\n",
              "    }\n",
              "\n",
              "    .dataframe thead th {\n",
              "        text-align: right;\n",
              "    }\n",
              "</style>\n",
              "<table border=\"1\" class=\"dataframe\">\n",
              "  <thead>\n",
              "    <tr style=\"text-align: right;\">\n",
              "      <th></th>\n",
              "      <th>feedback.must_mention</th>\n",
              "      <th>error</th>\n",
              "      <th>execution_time</th>\n",
              "      <th>run_id</th>\n",
              "    </tr>\n",
              "  </thead>\n",
              "  <tbody>\n",
              "    <tr>\n",
              "      <th>count</th>\n",
              "      <td>6</td>\n",
              "      <td>0</td>\n",
              "      <td>6.000000</td>\n",
              "      <td>6</td>\n",
              "    </tr>\n",
              "    <tr>\n",
              "      <th>unique</th>\n",
              "      <td>2</td>\n",
              "      <td>0</td>\n",
              "      <td>NaN</td>\n",
              "      <td>6</td>\n",
              "    </tr>\n",
              "    <tr>\n",
              "      <th>top</th>\n",
              "      <td>True</td>\n",
              "      <td>NaN</td>\n",
              "      <td>NaN</td>\n",
              "      <td>b73a8408-ccf0-4fce-8f33-038fb31af340</td>\n",
              "    </tr>\n",
              "    <tr>\n",
              "      <th>freq</th>\n",
              "      <td>3</td>\n",
              "      <td>NaN</td>\n",
              "      <td>NaN</td>\n",
              "      <td>1</td>\n",
              "    </tr>\n",
              "    <tr>\n",
              "      <th>mean</th>\n",
              "      <td>NaN</td>\n",
              "      <td>NaN</td>\n",
              "      <td>5.405717</td>\n",
              "      <td>NaN</td>\n",
              "    </tr>\n",
              "    <tr>\n",
              "      <th>std</th>\n",
              "      <td>NaN</td>\n",
              "      <td>NaN</td>\n",
              "      <td>0.884489</td>\n",
              "      <td>NaN</td>\n",
              "    </tr>\n",
              "    <tr>\n",
              "      <th>min</th>\n",
              "      <td>NaN</td>\n",
              "      <td>NaN</td>\n",
              "      <td>4.312219</td>\n",
              "      <td>NaN</td>\n",
              "    </tr>\n",
              "    <tr>\n",
              "      <th>25%</th>\n",
              "      <td>NaN</td>\n",
              "      <td>NaN</td>\n",
              "      <td>5.015214</td>\n",
              "      <td>NaN</td>\n",
              "    </tr>\n",
              "    <tr>\n",
              "      <th>50%</th>\n",
              "      <td>NaN</td>\n",
              "      <td>NaN</td>\n",
              "      <td>5.350587</td>\n",
              "      <td>NaN</td>\n",
              "    </tr>\n",
              "    <tr>\n",
              "      <th>75%</th>\n",
              "      <td>NaN</td>\n",
              "      <td>NaN</td>\n",
              "      <td>5.495624</td>\n",
              "      <td>NaN</td>\n",
              "    </tr>\n",
              "    <tr>\n",
              "      <th>max</th>\n",
              "      <td>NaN</td>\n",
              "      <td>NaN</td>\n",
              "      <td>6.973515</td>\n",
              "      <td>NaN</td>\n",
              "    </tr>\n",
              "  </tbody>\n",
              "</table>\n",
              "</div>"
            ],
            "text/plain": [
              "       feedback.must_mention error  execution_time  \\\n",
              "count                      6     0        6.000000   \n",
              "unique                     2     0             NaN   \n",
              "top                     True   NaN             NaN   \n",
              "freq                       3   NaN             NaN   \n",
              "mean                     NaN   NaN        5.405717   \n",
              "std                      NaN   NaN        0.884489   \n",
              "min                      NaN   NaN        4.312219   \n",
              "25%                      NaN   NaN        5.015214   \n",
              "50%                      NaN   NaN        5.350587   \n",
              "75%                      NaN   NaN        5.495624   \n",
              "max                      NaN   NaN        6.973515   \n",
              "\n",
              "                                      run_id  \n",
              "count                                      6  \n",
              "unique                                     6  \n",
              "top     b73a8408-ccf0-4fce-8f33-038fb31af340  \n",
              "freq                                       1  \n",
              "mean                                     NaN  \n",
              "std                                      NaN  \n",
              "min                                      NaN  \n",
              "25%                                      NaN  \n",
              "50%                                      NaN  \n",
              "75%                                      NaN  \n",
              "max                                      NaN  "
            ]
          },
          "metadata": {},
          "output_type": "display_data"
        },
        {
          "data": {
            "text/plain": [
              "{'project_name': 'RAG Pipeline - Evaluation - 529f2d66',\n",
              " 'results': {'fea029a1-273b-4bcf-a264-afcadbf66de3': {'input': {'question': 'How does RAG differ from traditional language models?'},\n",
              "   'feedback': [EvaluationResult(key='must_mention', score=True, value=None, comment=None, correction=None, evaluator_info={}, feedback_config=None, source_run_id=UUID('54326ab1-25f8-4437-bc5f-010121397e25'), target_run_id=None)],\n",
              "   'execution_time': 4.942161,\n",
              "   'run_id': 'b73a8408-ccf0-4fce-8f33-038fb31af340',\n",
              "   'output': 'Retrieval-Augmented Generation (RAG) and traditional language models differ in several key ways:\\n\\n1. **Architecture**:\\n   - **Traditional Language Models**: These models, such as GPT-3, BERT, and others, rely solely on their internal parameters and training data to generate responses. They do not have access to external information sources at inference time.\\n   - **RAG**: Combines a retrieval mechanism with a generative model. It retrieves relevant documents or pieces of information from an external knowledge base and uses this retrieved information to generate more accurate and contextually relevant responses.\\n\\n2. **Knowledge Base**:\\n   - **Traditional Language Models**: The knowledge is static and limited to what was included in the training data. They cannot access or update their knowledge base dynamically.\\n   - **RAG**: Can dynamically access a large and potentially up-to-date external knowledge base, allowing it to provide more current and accurate information.\\n\\n3. **Response Generation**:\\n   - **Traditional Language Models**: Generate responses based on patterns learned during training. They may struggle with specific or detailed queries that require up-to-date or niche information.\\n   - **RAG**: Retrieves relevant documents or information snippets first and then generates responses based on this retrieved information, leading to more accurate and contextually appropriate answers.\\n\\n4. **Performance on Specific Queries**:\\n   - **Traditional Language Models**: May perform well on general queries but can falter on specific, detailed, or niche queries due to the limitations of their training data.\\n   - **RAG**: Excels at specific queries by leveraging the retrieval mechanism to access detailed and relevant information from an external source.\\n\\n5. **Flexibility and Adaptability**:\\n   - **Traditional Language Models**: Less flexible in terms of updating knowledge. They require retraining or fine-tuning to incorporate new information.\\n   - **RAG**: More adaptable as it can update its responses based on the latest information available in the external knowledge base without needing to retrain the model.\\n\\nIn summary, RAG enhances traditional language models by integrating a retrieval component that allows the model to access and utilize external information dynamically, leading to more accurate, current, and contextually relevant responses.',\n",
              "   'reference': {'must_mention': ['retrieves', 'external', 'information']}},\n",
              "  'fdd42b06-225f-40e6-93bc-5007c50703ec': {'input': {'question': 'What are the main components of a RAG system?'},\n",
              "   'feedback': [EvaluationResult(key='must_mention', score=False, value=None, comment=None, correction=None, evaluator_info={}, feedback_config=None, source_run_id=UUID('aac4c29d-c6d1-48af-bb0f-16052ce25fb3'), target_run_id=None)],\n",
              "   'execution_time': 6.973515,\n",
              "   'run_id': 'b4bd5109-9aa4-45d6-88c0-4852c448be18',\n",
              "   'output': 'A Retrieval-Augmented Generation (RAG) system is a type of architecture used in natural language processing (NLP) that combines retrieval-based and generation-based approaches to improve the quality and relevance of generated text. The main components of a RAG system are:\\n\\n1. **Retriever**:\\n   - **Purpose**: The retriever component is responsible for fetching relevant documents or pieces of information from a large corpus based on the input query.\\n   - **Types**: It can use various retrieval methods such as BM25, TF-IDF, or dense retrieval models like DPR (Dense Passage Retrieval).\\n\\n2. **Generator**:\\n   - **Purpose**: The generator component takes the retrieved documents and the original query to generate a coherent and contextually relevant response.\\n   - **Types**: Typically, this is a sequence-to-sequence model like GPT, BERT, T5, or other transformer-based models.\\n\\n3. **Retriever-Generator Interaction**:\\n   - **Purpose**: This component defines how the retriever and generator interact. It can involve concatenating the retrieved documents with the query before feeding it to the generator or using more sophisticated methods to integrate the retrieved information into the generation process.\\n\\n4. **Corpus**:\\n   - **Purpose**: The corpus is the large collection of documents or data from which the retriever fetches relevant information.\\n   - **Types**: It can be a static dataset or dynamically updated with new information.\\n\\n5. **Query Encoder**:\\n   - **Purpose**: The query encoder transforms the input query into a format that can be used by the retriever to find relevant documents.\\n   - **Types**: It can be a simple embedding model or a more complex neural network.\\n\\n6. **Document Encoder**:\\n   - **Purpose**: The document encoder transforms documents in the corpus into a format that can be efficiently searched by the retriever.\\n   - **Types**: Similar to the query encoder, it can be a simple embedding model or a more complex neural network.\\n\\n7. **Scoring Mechanism**:\\n   - **Purpose**: This component scores the relevance of each document retrieved by the retriever with respect to the input query.\\n   - **Types**: It can use cosine similarity, dot product, or other scoring functions.\\n\\n8. **Post-Processing**:\\n   - **Purpose**: This component refines the generated response to ensure it is coherent, contextually appropriate, and free of errors.\\n   - **Types**: It can involve additional NLP techniques like grammar checking, fact verification, and more.\\n\\nBy combining these components, a RAG system can effectively leverage large-scale information retrieval and sophisticated text generation to produce high-quality, relevant responses to user queries.',\n",
              "   'reference': {'must_mention': ['retrieval system', 'language model']}},\n",
              "  'e859e221-cf56-4073-a6d0-41a10c5b1f42': {'input': {'question': 'What are the benefits of using RAG?'},\n",
              "   'feedback': [EvaluationResult(key='must_mention', score=True, value=None, comment=None, correction=None, evaluator_info={}, feedback_config=None, source_run_id=UUID('014abc5a-c17e-4944-b25f-af44f0945adf'), target_run_id=None)],\n",
              "   'execution_time': 4.312219,\n",
              "   'run_id': '7406a20a-1356-45cd-825f-eda7c80a417e',\n",
              "   'output': \"Retrieval-Augmented Generation (RAG) is a technique that combines retrieval-based methods with generative models to improve the performance of natural language processing tasks. Here are some of the key benefits of using RAG:\\n\\n1. **Enhanced Knowledge Access**:\\n   - RAG allows models to access a vast amount of external knowledge, which can be particularly useful for tasks requiring up-to-date or domain-specific information.\\n\\n2. **Improved Accuracy**:\\n   - By retrieving relevant documents or pieces of information, RAG can provide more accurate and contextually appropriate responses compared to purely generative models.\\n\\n3. **Reduced Hallucination**:\\n   - Generative models sometimes produce plausible-sounding but incorrect information (hallucinations). RAG mitigates this by grounding the generation process in retrieved, factual data.\\n\\n4. **Scalability**:\\n   - RAG can scale to large datasets and knowledge bases, making it suitable for applications that require extensive information retrieval.\\n\\n5. **Flexibility**:\\n   - The retrieval component can be tailored to specific domains or tasks, allowing for customization and fine-tuning to meet particular needs.\\n\\n6. **Efficiency**:\\n   - By leveraging retrieval, RAG can reduce the computational burden on the generative model, as it doesn't need to generate information from scratch but can build on retrieved content.\\n\\n7. **Contextual Relevance**:\\n   - RAG can provide more contextually relevant responses by incorporating information from retrieved documents, leading to more coherent and context-aware outputs.\\n\\n8. **Versatility**:\\n   - RAG can be applied to a wide range of tasks, including question answering, summarization, dialogue systems, and more.\\n\\n9. **Continuous Learning**:\\n   - The retrieval component can be updated independently of the generative model, allowing the system to continuously learn and incorporate new information without retraining the entire model.\\n\\n10. **User Trust**:\\n    - By grounding responses in retrievable documents, RAG can increase user trust in the system's outputs, as users can verify the sources of information.\\n\\nOverall, RAG combines the strengths of both retrieval-based and generative approaches, leading to more robust and reliable natural language processing systems.\",\n",
              "   'reference': {'must_mention': ['accurate', 'contextually relevant']}},\n",
              "  '73ac0397-88a0-45f3-98dd-fd223f69a880': {'input': {'question': 'What are some challenges associated with RAG?'},\n",
              "   'feedback': [EvaluationResult(key='must_mention', score=False, value=None, comment=None, correction=None, evaluator_info={}, feedback_config=None, source_run_id=UUID('40e48ff8-03ee-4fc4-b18f-44280127b775'), target_run_id=None)],\n",
              "   'execution_time': 5.466801,\n",
              "   'run_id': '06acf098-1f54-4008-b3a8-239b627fdbfe',\n",
              "   'output': 'Retrieval-Augmented Generation (RAG) is a technique that combines retrieval-based methods with generative models to improve the quality and relevance of generated text. While RAG has shown promise in various applications, it also comes with several challenges:\\n\\n1. **Retrieval Quality**:\\n   - **Relevance**: Ensuring that the retrieved documents are highly relevant to the query is crucial. Poor retrieval can lead to irrelevant or incorrect information being included in the generated text.\\n   - **Diversity**: Balancing the relevance and diversity of retrieved documents can be challenging. Too much focus on relevance might lead to redundancy, while too much diversity might dilute the quality of information.\\n\\n2. **Integration of Retrieved Information**:\\n   - **Coherence**: Integrating information from multiple sources in a coherent manner is difficult. The generative model needs to ensure that the final output is logically consistent and flows well.\\n   - **Conflict Resolution**: Retrieved documents might contain conflicting information. The model needs to resolve these conflicts effectively to provide accurate and reliable output.\\n\\n3. **Scalability**:\\n   - **Efficiency**: The retrieval process can be computationally expensive, especially when dealing with large-scale datasets. Efficient retrieval mechanisms are necessary to ensure scalability.\\n   - **Latency**: The time taken to retrieve and generate responses can impact the user experience. Minimizing latency is important for real-time applications.\\n\\n4. **Training and Fine-Tuning**:\\n   - **Data Requirements**: Training RAG models requires large amounts of high-quality data. Fine-tuning the model to specific domains or tasks can be data-intensive.\\n   - **Alignment**: Ensuring that the generative model is well-aligned with the retrieval mechanism is crucial. Misalignment can lead to suboptimal performance.\\n\\n5. **Evaluation**:\\n   - **Metrics**: Evaluating the performance of RAG models is complex. Traditional metrics for generative models might not fully capture the quality of retrieval-augmented outputs.\\n   - **Human Evaluation**: Often, human evaluation is necessary to assess the relevance, coherence, and overall quality of the generated text, which can be time-consuming and subjective.\\n\\n6. **Bias and Fairness**:\\n   - **Bias in Retrieval**: The retrieval mechanism might introduce biases based on the underlying dataset. This can propagate into the generated text.\\n   - **Fairness**: Ensuring that the model generates fair and unbiased content is a significant challenge, especially when dealing with diverse and sensitive topics.\\n\\n7. **Security and Privacy**:\\n   - **Data Privacy**: Using external data sources for retrieval raises concerns about data privacy and security. Ensuring that sensitive information is not inadvertently retrieved or generated is important.\\n   - **Adversarial Attacks**: RAG models can be susceptible to adversarial attacks where malicious inputs are designed to manipulate the retrieval or generation process.\\n\\nAddressing these challenges requires ongoing research and development to improve the robustness, efficiency, and reliability of RAG models.',\n",
              "   'reference': {'must_mention': ['retrieval effectivness',\n",
              "     'response generation',\n",
              "     'efficiency']}},\n",
              "  '07d2ecc9-bafc-4484-af22-831cfd4405cc': {'input': {'question': 'In what applications is RAG commonly used?'},\n",
              "   'feedback': [EvaluationResult(key='must_mention', score=False, value=None, comment=None, correction=None, evaluator_info={}, feedback_config=None, source_run_id=UUID('8250be3a-3846-41bc-90ed-fd959b8ce98a'), target_run_id=None)],\n",
              "   'execution_time': 5.234373,\n",
              "   'run_id': '0486d8b8-eeb8-416b-8e15-061f09f93146',\n",
              "   'output': \"Retrieval-Augmented Generation (RAG) is a technique that combines retrieval-based methods with generative models to improve the quality and relevance of generated text. It is commonly used in a variety of applications, including:\\n\\n1. **Question Answering (QA):**\\n   - RAG can be used to answer questions by retrieving relevant documents or passages from a large corpus and then generating a concise and accurate answer based on the retrieved information.\\n\\n2. **Chatbots and Conversational Agents:**\\n   - RAG enhances the capabilities of chatbots by allowing them to retrieve relevant information from a knowledge base and generate more contextually appropriate and informative responses.\\n\\n3. **Document Summarization:**\\n   - In summarization tasks, RAG can retrieve key sentences or passages from a document and then generate a coherent summary that captures the main points.\\n\\n4. **Information Retrieval:**\\n   - RAG can improve traditional information retrieval systems by generating more relevant and context-aware search results based on the retrieved documents.\\n\\n5. **Content Generation:**\\n   - For applications like content creation, RAG can help generate articles, reports, or other types of content by retrieving relevant information and generating text that is coherent and contextually appropriate.\\n\\n6. **Personal Assistants:**\\n   - Virtual personal assistants can use RAG to provide more accurate and contextually relevant information by retrieving and generating responses based on a user's query.\\n\\n7. **Knowledge Base Augmentation:**\\n   - RAG can be used to augment knowledge bases by retrieving relevant information from external sources and generating new entries or updates.\\n\\n8. **Educational Tools:**\\n   - In educational applications, RAG can assist in generating explanations, summaries, and answers to student queries by retrieving relevant educational content and generating informative responses.\\n\\n9. **Customer Support:**\\n   - RAG can enhance customer support systems by retrieving relevant information from a knowledge base and generating helpful responses to customer inquiries.\\n\\n10. **Medical and Legal Applications:**\\n    - In specialized fields like medicine and law, RAG can retrieve relevant case studies, legal precedents, or medical literature and generate contextually appropriate responses or summaries.\\n\\nThese applications benefit from the combination of retrieval and generation, which allows for more accurate, relevant, and contextually appropriate outputs.\",\n",
              "   'reference': {'must_mention': ['question answering',\n",
              "     'chatbot',\n",
              "     'summarization']}},\n",
              "  '61b67b8b-f40e-42f0-a1e8-02eade866637': {'input': {'question': 'What is Retrieval Augmented Generation (RAG)?'},\n",
              "   'feedback': [EvaluationResult(key='must_mention', score=True, value=None, comment=None, correction=None, evaluator_info={}, feedback_config=None, source_run_id=UUID('25d95608-8537-4525-8c49-6c2bdb76f7de'), target_run_id=None)],\n",
              "   'execution_time': 5.505231,\n",
              "   'run_id': '0302a437-5328-4a51-8240-e64f51afcb7c',\n",
              "   'output': 'Retrieval Augmented Generation (RAG) is a technique in natural language processing (NLP) that combines retrieval-based and generation-based methods to improve the quality and relevance of generated text. Here’s a breakdown of the concept:\\n\\n1. **Retrieval-Based Methods**: These methods involve retrieving relevant documents or pieces of information from a large corpus based on a given query. The retrieval process typically uses techniques like TF-IDF, BM25, or more advanced neural retrieval models to find the most relevant documents.\\n\\n2. **Generation-Based Methods**: These methods involve generating text based on a given input, often using models like GPT-3, BERT, or other transformer-based architectures. The generation process can produce coherent and contextually relevant text but may sometimes lack specific factual accuracy.\\n\\n3. **Combining Both Approaches**: RAG combines these two approaches by first retrieving relevant documents or information from a corpus and then using this retrieved information to guide the text generation process. This helps in grounding the generated text in factual data, improving both the relevance and accuracy of the output.\\n\\n### How RAG Works:\\n1. **Query Input**: A query or prompt is provided as input.\\n2. **Retrieval Step**: The system retrieves relevant documents or passages from a pre-indexed corpus based on the input query.\\n3. **Generation Step**: The retrieved documents are then used as context to generate a response. The generation model uses this context to produce text that is both relevant and factually accurate.\\n\\n### Benefits of RAG:\\n- **Improved Accuracy**: By grounding the generation process in retrieved documents, RAG can produce more accurate and factually correct responses.\\n- **Contextual Relevance**: The retrieval step ensures that the generated text is relevant to the input query.\\n- **Scalability**: RAG can leverage large corpora of documents, making it scalable for various applications.\\n\\n### Applications of RAG:\\n- **Question Answering**: Providing accurate answers to user queries by retrieving relevant information and generating coherent responses.\\n- **Chatbots**: Enhancing chatbot responses by grounding them in factual data.\\n- **Content Creation**: Assisting in generating content that is both creative and factually accurate.\\n\\nOverall, RAG represents a powerful approach in NLP that leverages the strengths of both retrieval and generation methods to produce high-quality text.',\n",
              "   'reference': {'must_mention': ['retrieval', 'generation']}}},\n",
              " 'aggregate_metrics': None}"
            ]
          },
          "execution_count": 23,
          "metadata": {},
          "output_type": "execute_result"
        }
      ],
      "source": [
        "client.run_on_dataset(\n",
        "    dataset_name=dataset_name,\n",
        "    llm_or_chain_factory=agent_chain,\n",
        "    evaluation=eval_config,\n",
        "    verbose=True,\n",
        "    project_name=f\"RAG Pipeline - Evaluation - {uuid4().hex[0:8]}\",\n",
        "    project_metadata={\"version\": \"1.0.0\"},\n",
        ")"
      ]
    },
    {
      "cell_type": "markdown",
      "metadata": {
        "id": "jhTNe4kWrplB"
      },
      "source": [
        "## Part 2: LangGraph with Helpfulness:"
      ]
    },
    {
      "cell_type": "markdown",
      "metadata": {
        "id": "w1wKRddbIY_S"
      },
      "source": [
        "### Task 3: Adding Helpfulness Check and \"Loop\" Limits\n",
        "\n",
        "Now that we've done evaluation - let's see if we can add an extra step where we review the content we've generated to confirm if it fully answers the user's query!\n",
        "\n",
        "We're going to make a few key adjustments to account for this:\n",
        "\n",
        "1. We're going to add an artificial limit on how many \"loops\" the agent can go through - this will help us to avoid the potential situation where we never exit the loop.\n",
        "2. We'll add to our existing conditional edge to obtain the behaviour we desire."
      ]
    },
    {
      "cell_type": "markdown",
      "metadata": {
        "id": "npTYJ8ayR5B3"
      },
      "source": [
        "First, let's define our state again - we can check the length of the state object, so we don't need additional state for this."
      ]
    },
    {
      "cell_type": "code",
      "execution_count": 24,
      "metadata": {
        "id": "-LQ84YhyJG0w"
      },
      "outputs": [],
      "source": [
        "class AgentState(TypedDict):\n",
        "  messages: Annotated[list, add_messages]"
      ]
    },
    {
      "cell_type": "markdown",
      "metadata": {
        "id": "sD7EV0HqSQcb"
      },
      "source": [
        "Now we can set our graph up! This process will be almost entirely the same - with the inclusion of one additional node/conditional edge!"
      ]
    },
    {
      "cell_type": "markdown",
      "metadata": {
        "id": "oajBwLkFVi1N"
      },
      "source": [
        "####🏗️ Activity #5:\n",
        "\n",
        "Please write markdown for the following cells to explain what each is doing."
      ]
    },
    {
      "cell_type": "markdown",
      "metadata": {
        "id": "M6rN7feNVn9f"
      },
      "source": [
        "##### YOUR MARKDOWN HERE\n",
        "\n",
        "**ANSWER** \n",
        "\n",
        "This code creates the graph will be using.  It contains one agent and one tool. "
      ]
    },
    {
      "cell_type": "code",
      "execution_count": 25,
      "metadata": {
        "id": "6r6XXA5FJbVf"
      },
      "outputs": [],
      "source": [
        "graph_with_helpfulness_check = StateGraph(AgentState)\n",
        "\n",
        "graph_with_helpfulness_check.add_node(\"agent\", call_model)\n",
        "graph_with_helpfulness_check.add_node(\"action\", tool_node)"
      ]
    },
    {
      "cell_type": "markdown",
      "metadata": {
        "id": "XZ22o2mWVrfp"
      },
      "source": [
        "##### YOUR MARKDOWN HERE\n",
        "\n",
        "**ANSWER**\n",
        "\n",
        "This code defines the entry point of the graph. "
      ]
    },
    {
      "cell_type": "code",
      "execution_count": 26,
      "metadata": {
        "id": "HNWHwWxuRiLY"
      },
      "outputs": [],
      "source": [
        "graph_with_helpfulness_check.set_entry_point(\"agent\")"
      ]
    },
    {
      "cell_type": "markdown",
      "metadata": {
        "id": "rsXeF6xlaXOZ"
      },
      "source": [
        "##### YOUR MARKDOWN HERE\n",
        "\n",
        "**ANSWER**\n",
        "\n",
        "This code snippet implements the helpfulness evaluation mechanism to judge whether the final response adequately addresses the user's initial query. This information is used to guide the flow of the conversation, potentially ending it if the user is satisfied or continuing it if further assistance is needed.  A more detailed analysis is provided below the code cell. "
      ]
    },
    {
      "cell_type": "code",
      "execution_count": 27,
      "metadata": {
        "id": "z_Sq3A9SaV1O"
      },
      "outputs": [],
      "source": [
        "from langchain_core.prompts import PromptTemplate\n",
        "from langchain_core.output_parsers import StrOutputParser\n",
        "\n",
        "def tool_call_or_helpful(state):\n",
        "  last_message = state[\"messages\"][-1]\n",
        "\n",
        "  if last_message.tool_calls:\n",
        "    return \"action\"\n",
        "\n",
        "  initial_query = state[\"messages\"][0]\n",
        "  final_response = state[\"messages\"][-1]\n",
        "\n",
        "  if len(state[\"messages\"]) > 10:\n",
        "    return \"END\"\n",
        "\n",
        "  prompt_template = \"\"\"\\\n",
        "  Given an initial query and a final response, determine if the final response is extremely helpful or not. Please indicate helpfulness with a 'Y' and unhelpfulness as an 'N'.\n",
        "\n",
        "  Initial Query:\n",
        "  {initial_query}\n",
        "\n",
        "  Final Response:\n",
        "  {final_response}\"\"\"\n",
        "\n",
        "  prompt_template = PromptTemplate.from_template(prompt_template)\n",
        "\n",
        "  helpfulness_check_model = ChatOpenAI(model=\"gpt-4\")\n",
        "\n",
        "  helpfulness_chain = prompt_template | helpfulness_check_model | StrOutputParser()\n",
        "\n",
        "  helpfulness_response = helpfulness_chain.invoke({\"initial_query\" : initial_query.content, \"final_response\" : final_response.content})\n",
        "\n",
        "  if \"Y\" in helpfulness_response:\n",
        "    return \"end\"\n",
        "  else:\n",
        "    return \"continue\""
      ]
    },
    {
      "cell_type": "markdown",
      "metadata": {
        "id": "Fz1u9Vf4SHxJ"
      },
      "source": [
        "####🏗️ Activity #4:\n",
        "\n",
        "Please write what is happening in our `tool_call_or_helpful` function!\n",
        "\n",
        "**ANSwER**\n",
        "\n",
        "1. Check for tool calls \n",
        "\n",
        "First, it checks if the last message in the conversation involved any tool_calls. If so, it immediately returns \"action\", possibly indicating that some action needs to be taken based on the tool's output.\n",
        "\n",
        "2. Get initial query and final response\n",
        "\n",
        "It retrieves the first message (initial query) and the last message (final response) from the conversation history.\n",
        "\n",
        "3.  Check conversation length\n",
        "\n",
        "If there are more than 10 messages in the conversation, it returns \"END\", potentially suggesting the conversation should be concluded.\n",
        "\n",
        "4. Prompt template\n",
        "A prompt template is defined to ask a LLM to evaluate the helpfulness of the final response. The template includes placeholders for the initial query and final response.\n",
        "\n",
        "5. Model and chain setup\n",
        "\n",
        "- ChatOpenAI(model=\"gpt-4\") initializes a chat-based language model using GPT-4.\n",
        "- A helpfulness_chain is created:\n",
        "    The prompt template feeds into the LLM model.\n",
        "    The model's output is parsed using StrOutputParser to extract a string response.\n",
        "\n",
        "6. Helpfulness check\n",
        "\n",
        "- The helpfulness_chain is invoked with the initial query and final response as input.\n",
        "- The model's response is stored in helpfulness_response.\n",
        "\n",
        "7. Decision\n",
        "\n",
        "If the model's response contains \"Y\" (indicating helpfulness), the function returns \"end\", suggesting the conversation can be concluded.\n",
        "Otherwise, it returns \"continue\", implying the conversation should proceed.\n"
      ]
    },
    {
      "cell_type": "markdown",
      "metadata": {
        "id": "6BhnBW2YVsJO"
      },
      "source": [
        "##### YOUR MARKDOWN HERE\n",
        "\n",
        "**ANSWER**\n",
        "\n",
        "This code adds the routing for that will be used in the graph.  Specifically, the \"agent\" node will use the \"tool_call_or_helpful\" function to determine the next state.   "
      ]
    },
    {
      "cell_type": "code",
      "execution_count": 28,
      "metadata": {
        "id": "aVTKnWMbP_8T"
      },
      "outputs": [],
      "source": [
        "graph_with_helpfulness_check.add_conditional_edges(\n",
        "    \"agent\",\n",
        "    tool_call_or_helpful,\n",
        "    {\n",
        "        \"continue\" : \"agent\",\n",
        "        \"action\" : \"action\",\n",
        "        \"end\" : END\n",
        "    }\n",
        ")"
      ]
    },
    {
      "cell_type": "markdown",
      "metadata": {
        "id": "ZGDLEWOIVtK0"
      },
      "source": [
        "##### YOUR MARKDOWN HERE\n",
        "\n",
        "**ACTION**\n",
        "\n",
        "This code is adding a direction connection between the \"action\" and \"agent\"."
      ]
    },
    {
      "cell_type": "code",
      "execution_count": 29,
      "metadata": {
        "id": "cbDK2MbuREgU"
      },
      "outputs": [],
      "source": [
        "graph_with_helpfulness_check.add_edge(\"action\", \"agent\")"
      ]
    },
    {
      "cell_type": "markdown",
      "metadata": {
        "id": "rSI8AOaEVvT-"
      },
      "source": [
        "##### YOUR MARKDOWN HERE\n",
        "\n",
        "**ANSWER**\n",
        "\n",
        "This code compiles the graph so we can run it."
      ]
    },
    {
      "cell_type": "code",
      "execution_count": 30,
      "metadata": {
        "id": "oQldl8ERQ8lf"
      },
      "outputs": [],
      "source": [
        "agent_with_helpfulness_check = graph_with_helpfulness_check.compile()"
      ]
    },
    {
      "cell_type": "markdown",
      "metadata": {
        "id": "F67FGCMRVwGz"
      },
      "source": [
        "##### YOUR MARKDOWN HERE\n",
        "\n",
        "**ANSWER**\n",
        "\n",
        "This code is storing a list of messsages in \"inputs\" and passing that our agent - \"agent_with_helpfulness_check\".  The agent is invoked asynchronously and the output streamed. "
      ]
    },
    {
      "cell_type": "code",
      "execution_count": 31,
      "metadata": {
        "colab": {
          "base_uri": "https://localhost:8080/"
        },
        "id": "B3oo8E-PRK1T",
        "outputId": "22470df4-9aa7-4751-95b6-d30ce71b17db"
      },
      "outputs": [
        {
          "name": "stdout",
          "output_type": "stream",
          "text": [
            "Receiving update from node: 'agent'\n",
            "[AIMessage(content='', additional_kwargs={'tool_calls': [{'id': 'call_tf6TLOS9R40BujOtLPrYzZeG', 'function': {'arguments': '{\"query\": \"LoRA machine learning\"}', 'name': 'duckduckgo_search'}, 'type': 'function'}, {'id': 'call_Ii3pL5ENnhrbF27Abftmvsbf', 'function': {'arguments': '{\"query\": \"Tim Dettmers\"}', 'name': 'duckduckgo_search'}, 'type': 'function'}, {'id': 'call_xO5QUDRUKseIPf66VHooleAx', 'function': {'arguments': '{\"query\": \"Attention in machine learning\"}', 'name': 'duckduckgo_search'}, 'type': 'function'}], 'refusal': None}, response_metadata={'token_usage': {'completion_tokens': 76, 'prompt_tokens': 171, 'total_tokens': 247}, 'model_name': 'gpt-4o-2024-05-13', 'system_fingerprint': 'fp_157b3831f5', 'finish_reason': 'tool_calls', 'logprobs': None}, id='run-d789bc49-90ad-47d4-81ac-8c0b6ff16e4e-0', tool_calls=[{'name': 'duckduckgo_search', 'args': {'query': 'LoRA machine learning'}, 'id': 'call_tf6TLOS9R40BujOtLPrYzZeG', 'type': 'tool_call'}, {'name': 'duckduckgo_search', 'args': {'query': 'Tim Dettmers'}, 'id': 'call_Ii3pL5ENnhrbF27Abftmvsbf', 'type': 'tool_call'}, {'name': 'duckduckgo_search', 'args': {'query': 'Attention in machine learning'}, 'id': 'call_xO5QUDRUKseIPf66VHooleAx', 'type': 'tool_call'}], usage_metadata={'input_tokens': 171, 'output_tokens': 76, 'total_tokens': 247})]\n",
            "\n",
            "\n",
            "\n",
            "Receiving update from node: 'action'\n",
            "[ToolMessage(content='Let\\'s jump on LoRA. Low-Rank Adaptation of LLMs (LoRA) So, in usual fine-tuning, we. Take a pretrained model. Do Transfer Learning over new training data to slightly adjust these pre-trained weights LoRA\\'s approach to decomposing ( Δ W ) into a product of lower rank matrices effectively balances the need to adapt large pre-trained models to new tasks while maintaining computational efficiency. The intrinsic rank concept is key to this balance, ensuring that the essence of the model\\'s learning capability is preserved with significantly ... Low-Rank Adaptation (LoRA) is a widely-used parameter-efficient finetuning method for large language models. LoRA saves memory by training only low rank perturbations to selected weight matrices. In this work, we compare the performance of LoRA and full finetuning on two target domains, programming and mathematics. We consider both the instruction finetuning ($\\\\\\\\approx$100K prompt-response ... This is where Low-Rank Adaptation (LoRA) technique appeared to be a game-changer enabling fine-tuning very big LLMs to specific task on limited resources and datasets. LoRA introduces a seemingly-simple yet powerful and cost-effective way to fine-tune LLMs and adapt them to a specific task by integrating low-rank matrices into the model\\'s ... \"Lora The Tuner\" By Daniel Warfield using MidJourney. All images by the author unless otherwise specified. Fine tuning is the process of tailoring a machine learning model to a specific application, which can be vital in achieving consistent and high quality performance.', name='duckduckgo_search', tool_call_id='call_tf6TLOS9R40BujOtLPrYzZeG'), ToolMessage(content=\"— Tim Dettmers is joining Ai2 as an AI researcher. Dettmers specializes in efficient deep learning at the intersection of machine learning, NLP, and computer systems with a focus on quantization ... Tim Dettmers. Video. Tech Moves: AI researcher Yejin Choi leaves Univ. of Washington and Allen Institute for AI. by Todd Bishop & Taylor Soper on August 2, 2024 August 2, 2024 at 11:59 am. Allen School Ph.D. student Tim Dettmers accepted the grand prize for QLoRA, a novel approach to finetuning pretrained models that significantly reduces the amount of GPU memory required — from over 780GB to less than 48GB — to finetune a 65B parameter model. With QLoRA, the largest publicly available models can be finetuned on a single ... Its purpose is to make cutting-edge research by Tim Dettmers, a leading academic expert on quantization and the use of deep learning hardware accelerators, accessible to the general public. QLoRA: One of the core contributions of bitsandbytes towards the democratization of AI. Tim Dettmers' research focuses on making foundation models, such as ChatGPT, accessible to researchers and practitioners by reducing their resource requirements. This involves developing novel compression and networking algorithms and building systems that allow for memory-efficient, fast, and cheap deep learning. ... Dettmers is a PhD ...\", name='duckduckgo_search', tool_call_id='call_Ii3pL5ENnhrbF27Abftmvsbf'), ToolMessage(content='Learn how attention mechanisms in deep learning enable models to focus on relevant information and improve performance in tasks such as machine translation, image captioning, and speech recognition. Understand the steps and components of attention mechanism architecture and see examples of its applications. Attention mechanism is a fundamental invention in artificial intelligence and machine learning, redefining the capabilities of deep learning models. This mechanism, inspired by the human mental process of selective focus, has emerged as a pillar in a variety of applications, accelerating developments in natural language processing, computer vision, and beyond. The Transformer, since then, has become a popular architecture choice for a variety of tasks. It is capable of capturing long-range dependencies in data making it a powerful tool not only for NLP but also for computer vision, audio, and protein folding. Transformer: the all-powerful in the land of machine learning. An Attention Mechanism in deep learning simulates the human cognitive process of selective focus. It enables neural networks to assign varying degrees of importance to different parts of input ... The introduction of the Transformer model was a significant leap forward for the concept of attention in deep learning. Vaswani et al. described this model in the seminal paper titled \"Attention is All You Need\" in 2017. ... Attention mechanisms represent advancements in machine learning and computer vision, enabling models to prioritize ...', name='duckduckgo_search', tool_call_id='call_xO5QUDRUKseIPf66VHooleAx')]\n",
            "\n",
            "\n",
            "\n",
            "Receiving update from node: 'agent'\n",
            "[AIMessage(content='### LoRA in Machine Learning\\nLoRA, or Low-Rank Adaptation, is a parameter-efficient fine-tuning method for large language models (LLMs). Traditional fine-tuning involves adjusting the pre-trained weights of a model using new training data, which can be computationally expensive and memory-intensive. LoRA addresses this by decomposing the weight updates into a product of lower-rank matrices. This approach allows for efficient adaptation of large pre-trained models to new tasks while maintaining computational efficiency. The key concept here is the \"intrinsic rank,\" which ensures that the model\\'s learning capability is preserved with significantly reduced computational resources.\\n\\n### Tim Dettmers\\nTim Dettmers is an AI researcher specializing in efficient deep learning, particularly at the intersection of machine learning, natural language processing (NLP), and computer systems. His work focuses on quantization and the use of deep learning hardware accelerators to make cutting-edge AI research accessible and resource-efficient. One of his notable contributions is QLoRA, a novel approach to fine-tuning pre-trained models that significantly reduces the GPU memory required. This innovation allows for the fine-tuning of large models on more modest hardware, democratizing access to advanced AI technologies.\\n\\n### Attention in Machine Learning\\nAttention mechanisms are a fundamental invention in artificial intelligence and machine learning, inspired by the human cognitive process of selective focus. These mechanisms enable models to assign varying degrees of importance to different parts of the input data, improving performance in tasks such as machine translation, image captioning, and speech recognition. The introduction of the Transformer model, described in the seminal paper \"Attention is All You Need\" by Vaswani et al. in 2017, was a significant leap forward. Transformers can capture long-range dependencies in data, making them powerful tools for a variety of applications, including NLP, computer vision, and beyond. Attention mechanisms have thus become a cornerstone in modern deep learning architectures.', additional_kwargs={'refusal': None}, response_metadata={'token_usage': {'completion_tokens': 385, 'prompt_tokens': 1151, 'total_tokens': 1536}, 'model_name': 'gpt-4o-2024-05-13', 'system_fingerprint': 'fp_157b3831f5', 'finish_reason': 'stop', 'logprobs': None}, id='run-33d41488-26e2-4edd-8249-355666d6fc6f-0', usage_metadata={'input_tokens': 1151, 'output_tokens': 385, 'total_tokens': 1536})]\n",
            "\n",
            "\n",
            "\n"
          ]
        }
      ],
      "source": [
        "inputs = {\"messages\" : [HumanMessage(content=\"Related to machine learning, what is LoRA? Also, who is Tim Dettmers? Also, what is Attention?\")]}\n",
        "\n",
        "async for chunk in agent_with_helpfulness_check.astream(inputs, stream_mode=\"updates\"):\n",
        "    for node, values in chunk.items():\n",
        "        print(f\"Receiving update from node: '{node}'\")\n",
        "        print(values[\"messages\"])\n",
        "        print(\"\\n\\n\")"
      ]
    },
    {
      "cell_type": "markdown",
      "metadata": {
        "id": "yVmZPs6lnpsM"
      },
      "source": [
        "### Task 4: LangGraph for the \"Patterns\" of GenAI\n",
        "\n",
        "Let's ask our system about the 4 patterns of Generative AI:\n",
        "\n",
        "1. Prompt Engineering\n",
        "2. RAG\n",
        "3. Fine-tuning\n",
        "4. Agents"
      ]
    },
    {
      "cell_type": "code",
      "execution_count": 32,
      "metadata": {
        "id": "ZoLl7GlXoae-"
      },
      "outputs": [],
      "source": [
        "patterns = [\"prompt engineering\", \"RAG\", \"fine-tuning\", \"LLM-based agents\"]"
      ]
    },
    {
      "cell_type": "code",
      "execution_count": 33,
      "metadata": {
        "colab": {
          "base_uri": "https://localhost:8080/"
        },
        "id": "Zkh0YJuCp3Zl",
        "outputId": "0593c6f5-0a1d-41f6-960b-f32d101b3ade"
      },
      "outputs": [
        {
          "name": "stdout",
          "output_type": "stream",
          "text": [
            "Prompt engineering is a concept primarily associated with the field of artificial intelligence, particularly in the context of natural language processing (NLP) and large language models like GPT-3. It involves the design and crafting of prompts (input text) to elicit desired responses from AI models. The goal is to optimize the input to get the most accurate, relevant, or useful output from the model.\n",
            "\n",
            "### Key Aspects of Prompt Engineering:\n",
            "1. **Crafting Effective Prompts**: Designing questions or statements that guide the AI to produce the desired output.\n",
            "2. **Iterative Testing**: Continuously refining prompts based on the responses received to improve accuracy and relevance.\n",
            "3. **Understanding Model Behavior**: Gaining insights into how the model interprets different types of input to better predict its responses.\n",
            "\n",
            "### When Did It Break Onto the Scene?\n",
            "Prompt engineering became more prominent with the advent of large-scale language models like OpenAI's GPT-3, which was released in June 2020. The ability of these models to generate human-like text based on prompts led to a growing interest in how to effectively communicate with them to achieve specific goals. The term \"prompt engineering\" itself started gaining traction around this time as researchers and practitioners began to explore and document best practices for interacting with these advanced AI systems.\n",
            "\n",
            "Would you like more detailed information or recent developments in prompt engineering?\n",
            "\n",
            "\n",
            "\n",
            "Retrieval-Augmented Generation (RAG) was introduced by Facebook AI Research (FAIR) in 2020. This technique has since gained significant attention in the field of natural language processing (NLP) for its ability to combine retrieval-based methods with generative models, thereby enhancing the accuracy and relevance of generated text.\n",
            "\n",
            "\n",
            "\n",
            "Fine-tuning is a process in machine learning where a pre-trained model is further trained on a new dataset to adapt it to a specific task. This approach leverages the knowledge the model has already acquired during its initial training on a large dataset, making it more efficient and effective for specialized tasks. Fine-tuning is particularly popular in natural language processing (NLP) and computer vision.\n",
            "\n",
            "### Key Steps in Fine-Tuning:\n",
            "1. **Pre-training**: A model is initially trained on a large, general dataset.\n",
            "2. **Fine-tuning**: The pre-trained model is then trained on a smaller, task-specific dataset.\n",
            "\n",
            "### Benefits of Fine-Tuning:\n",
            "- **Efficiency**: Requires less data and computational resources compared to training a model from scratch.\n",
            "- **Performance**: Often results in better performance on the specific task due to the model's prior knowledge.\n",
            "\n",
            "### Historical Context:\n",
            "Fine-tuning became particularly prominent with the advent of large pre-trained models like BERT (Bidirectional Encoder Representations from Transformers) and GPT (Generative Pre-trained Transformer). These models demonstrated that fine-tuning could achieve state-of-the-art results on a variety of NLP tasks.\n",
            "\n",
            "To pinpoint the exact timeline and key papers that popularized fine-tuning, I can look up relevant scientific articles and historical milestones. Would you like me to do that?\n",
            "\n",
            "\n",
            "\n",
            "LLM-based agents, or Large Language Model-based agents, are a novel technology that leverages large language models as the core for decision-making and action-taking. These agents address some of the inherent limitations of traditional LLMs, such as lack of autonomy and self-improvement, by incorporating mechanisms for self-evolution and complex interactions with their environment.\n",
            "\n",
            "The concept of LLM-based agents has gained significant attention in both research and industry communities recently. They are seen as a step towards achieving Artificial General Intelligence (AGI) due to their ability to handle long-term and complex interactions.\n",
            "\n",
            "The exact timeline of when LLM-based agents broke onto the scene is not explicitly mentioned, but the surge in interest and research appears to be a recent phenomenon, likely within the last few years.\n",
            "\n",
            "\n",
            "\n"
          ]
        }
      ],
      "source": [
        "for pattern in patterns:\n",
        "  what_is_string = f\"What is {pattern} and when did it break onto the scene??\"\n",
        "  inputs = {\"messages\" : [HumanMessage(content=what_is_string)]}\n",
        "  messages = agent_with_helpfulness_check.invoke(inputs)\n",
        "  print(messages[\"messages\"][-1].content)\n",
        "  print(\"\\n\\n\")"
      ]
    }
  ],
  "metadata": {
    "colab": {
      "provenance": []
    },
    "kernelspec": {
      "display_name": "Python 3",
      "name": "python3"
    },
    "language_info": {
      "codemirror_mode": {
        "name": "ipython",
        "version": 3
      },
      "file_extension": ".py",
      "mimetype": "text/x-python",
      "name": "python",
      "nbconvert_exporter": "python",
      "pygments_lexer": "ipython3",
      "version": "3.11.9"
    }
  },
  "nbformat": 4,
  "nbformat_minor": 0
}
