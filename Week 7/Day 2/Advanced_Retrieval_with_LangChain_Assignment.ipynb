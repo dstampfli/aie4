{
  "cells": [
    {
      "cell_type": "markdown",
      "metadata": {
        "id": "e-IqJAMkwnCF"
      },
      "source": [
        "# Advanced Retrieval with LangChain\n",
        "\n",
        "In the following notebook, we'll explore various methods of advanced retrieval using LangChain!\n",
        "\n",
        "We'll touch on:\n",
        "\n",
        "- Naive Retrieval\n",
        "- Best-Matching 25 (BM25)\n",
        "- Multi-Query Retrieval\n",
        "- Parent-Document Retrieval\n",
        "- Contextual Compression (a.k.a. Rerank)\n",
        "- Ensemble Retrieval\n",
        "- Semantic chunking\n",
        "\n",
        "We'll also discuss how these methods impact performance on our set of documents with a simple RAG chain.\n",
        "\n",
        "There will be two breakout rooms:\n",
        "\n",
        "- 🤝 Breakout Room Part #1\n",
        "  - Task 1: Getting Dependencies!\n",
        "  - Task 2: Data Collection and Preparation\n",
        "  - Task 3: Setting Up QDrant!\n",
        "  - Task 4-10: Retrieval Strategies\n",
        "- 🤝 Breakout Room Part #2\n",
        "  - Activity: Evaluate with Ragas"
      ]
    },
    {
      "cell_type": "markdown",
      "metadata": {
        "id": "4rKP3hgHivpe"
      },
      "source": [
        "# 🤝 Breakout Room Part #1"
      ]
    },
    {
      "cell_type": "markdown",
      "metadata": {
        "id": "3xes8oT-xHN7"
      },
      "source": [
        "## Task 1: Getting Dependencies!\n",
        "\n",
        "We're going to need a few specific LangChain community packages, like OpenAI (for our [LLM](https://platform.openai.com/docs/models) and [Embedding Model](https://platform.openai.com/docs/guides/embeddings)) and Cohere (for our [Reranker](https://cohere.com/rerank))."
      ]
    },
    {
      "cell_type": "code",
      "execution_count": 3,
      "metadata": {
        "colab": {
          "base_uri": "https://localhost:8080/"
        },
        "id": "MkgFAXWVW3wm",
        "outputId": "636db35c-f05a-4038-ec7a-02360bef2dae"
      },
      "outputs": [],
      "source": [
        "!pip install -qU langchain langchain-openai langchain-cohere rank_bm25"
      ]
    },
    {
      "cell_type": "markdown",
      "metadata": {
        "id": "dKqYM4Eoxcov"
      },
      "source": [
        "We're also going to be leveraging [Qdrant's](https://qdrant.tech/documentation/frameworks/langchain/) (pronounced \"Quadrant\") VectorDB in \"memory\" mode (so we can leverage it locally in our colab environment)."
      ]
    },
    {
      "cell_type": "code",
      "execution_count": 4,
      "metadata": {
        "id": "s6xav5CxYnML"
      },
      "outputs": [],
      "source": [
        "!pip install -qU qdrant-client"
      ]
    },
    {
      "cell_type": "markdown",
      "metadata": {
        "id": "Z7OHJXzfyJyA"
      },
      "source": [
        "We'll also provide our OpenAI key, as well as our Cohere API key."
      ]
    },
    {
      "cell_type": "code",
      "execution_count": 5,
      "metadata": {
        "colab": {
          "base_uri": "https://localhost:8080/"
        },
        "id": "7LttlDQUYgSI",
        "outputId": "9dca95ab-4d02-4adf-ec3f-cb831326dc54"
      },
      "outputs": [],
      "source": [
        "import os\n",
        "import getpass\n",
        "\n",
        "os.environ[\"OPENAI_API_KEY\"] = getpass.getpass(\"Enter your OpenAI API Key:\")"
      ]
    },
    {
      "cell_type": "code",
      "execution_count": 6,
      "metadata": {
        "colab": {
          "base_uri": "https://localhost:8080/"
        },
        "id": "3iUahNiJyQbv",
        "outputId": "78bf06ef-2ee8-46c3-f73d-27958b4dd79b"
      },
      "outputs": [],
      "source": [
        "os.environ[\"COHERE_API_KEY\"] = getpass.getpass(\"Cohere API Key:\")"
      ]
    },
    {
      "cell_type": "markdown",
      "metadata": {
        "id": "B0pDRFEWSXvh"
      },
      "source": []
    },
    {
      "cell_type": "markdown",
      "metadata": {
        "id": "mw304iAFyRtl"
      },
      "source": [
        "## Task 2: Data Collection and Preparation\n",
        "\n",
        "We'll be using some reviews from the 4 movies in the John Wick franchise today to explore the different retrieval strategies.\n",
        "\n",
        "These were obtained from IMDB, and are available in the [AIM Data Repository](https://github.com/AI-Maker-Space/DataRepository)."
      ]
    },
    {
      "cell_type": "markdown",
      "metadata": {
        "id": "xXKHcZmKzDwT"
      },
      "source": [
        "### Data Collection\n",
        "\n",
        "We can simply `wget` these from GitHub.\n",
        "\n",
        "You could use any review data you wanted in this step - just be careful to make sure your metadata is aligned with your choice."
      ]
    },
    {
      "cell_type": "code",
      "execution_count": 7,
      "metadata": {
        "colab": {
          "base_uri": "https://localhost:8080/"
        },
        "id": "vbbSIGtzX3dS",
        "outputId": "0ce6514e-2479-4001-af24-824f987ce599"
      },
      "outputs": [
        {
          "name": "stdout",
          "output_type": "stream",
          "text": [
            "--2024-10-01 09:20:19--  https://raw.githubusercontent.com/AI-Maker-Space/DataRepository/main/jw1.csv\n",
            "Resolving raw.githubusercontent.com (raw.githubusercontent.com)... 185.199.110.133, 185.199.111.133, 185.199.108.133, ...\n",
            "Connecting to raw.githubusercontent.com (raw.githubusercontent.com)|185.199.110.133|:443... connected.\n",
            "HTTP request sent, awaiting response... 200 OK\n",
            "Length: 19628 (19K) [text/plain]\n",
            "Saving to: ‘john_wick_1.csv’\n",
            "\n",
            "john_wick_1.csv     100%[===================>]  19.17K  --.-KB/s    in 0s      \n",
            "\n",
            "2024-10-01 09:20:19 (137 MB/s) - ‘john_wick_1.csv’ saved [19628/19628]\n",
            "\n",
            "--2024-10-01 09:20:19--  https://raw.githubusercontent.com/AI-Maker-Space/DataRepository/main/jw2.csv\n",
            "Resolving raw.githubusercontent.com (raw.githubusercontent.com)... 185.199.110.133, 185.199.111.133, 185.199.108.133, ...\n",
            "Connecting to raw.githubusercontent.com (raw.githubusercontent.com)|185.199.110.133|:443... connected.\n",
            "HTTP request sent, awaiting response... 200 OK\n",
            "Length: 14747 (14K) [text/plain]\n",
            "Saving to: ‘john_wick_2.csv’\n",
            "\n",
            "john_wick_2.csv     100%[===================>]  14.40K  --.-KB/s    in 0s      \n",
            "\n",
            "2024-10-01 09:20:19 (30.8 MB/s) - ‘john_wick_2.csv’ saved [14747/14747]\n",
            "\n",
            "--2024-10-01 09:20:19--  https://raw.githubusercontent.com/AI-Maker-Space/DataRepository/main/jw3.csv\n",
            "Resolving raw.githubusercontent.com (raw.githubusercontent.com)... 185.199.110.133, 185.199.111.133, 185.199.108.133, ...\n",
            "Connecting to raw.githubusercontent.com (raw.githubusercontent.com)|185.199.110.133|:443... connected.\n",
            "HTTP request sent, awaiting response... 200 OK\n",
            "Length: 13888 (14K) [text/plain]\n",
            "Saving to: ‘john_wick_3.csv’\n",
            "\n",
            "john_wick_3.csv     100%[===================>]  13.56K  --.-KB/s    in 0s      \n",
            "\n",
            "2024-10-01 09:20:20 (103 MB/s) - ‘john_wick_3.csv’ saved [13888/13888]\n",
            "\n",
            "--2024-10-01 09:20:20--  https://raw.githubusercontent.com/AI-Maker-Space/DataRepository/main/jw4.csv\n",
            "Resolving raw.githubusercontent.com (raw.githubusercontent.com)... 185.199.110.133, 185.199.111.133, 185.199.108.133, ...\n",
            "Connecting to raw.githubusercontent.com (raw.githubusercontent.com)|185.199.110.133|:443... connected.\n",
            "HTTP request sent, awaiting response... 200 OK\n",
            "Length: 15109 (15K) [text/plain]\n",
            "Saving to: ‘john_wick_4.csv’\n",
            "\n",
            "john_wick_4.csv     100%[===================>]  14.75K  --.-KB/s    in 0s      \n",
            "\n",
            "2024-10-01 09:20:20 (118 MB/s) - ‘john_wick_4.csv’ saved [15109/15109]\n",
            "\n"
          ]
        }
      ],
      "source": [
        "!wget https://raw.githubusercontent.com/AI-Maker-Space/DataRepository/main/jw1.csv -O john_wick_1.csv\n",
        "!wget https://raw.githubusercontent.com/AI-Maker-Space/DataRepository/main/jw2.csv -O john_wick_2.csv\n",
        "!wget https://raw.githubusercontent.com/AI-Maker-Space/DataRepository/main/jw3.csv -O john_wick_3.csv\n",
        "!wget https://raw.githubusercontent.com/AI-Maker-Space/DataRepository/main/jw4.csv -O john_wick_4.csv"
      ]
    },
    {
      "cell_type": "markdown",
      "metadata": {
        "id": "A92NC2QZzCsi"
      },
      "source": [
        "### Data Preparation\n",
        "\n",
        "We want to make sure all our documents have the relevant metadata for the various retrieval strategies we're going to be applying today.\n",
        "\n",
        "- Self-Query: Wants as much metadata as we can provide\n",
        "- Time-weighted: Wants temporal data\n",
        "\n",
        "> NOTE: While we're creating a temporal relationship based on when these movies came out for illustrative purposes, it needs to be clear that the \"time-weighting\" in the Time-weighted Retriever is based on when the document was *accessed* last - not when it was created."
      ]
    },
    {
      "cell_type": "code",
      "execution_count": 8,
      "metadata": {
        "id": "GshBjVRJZ6p8"
      },
      "outputs": [],
      "source": [
        "from langchain_community.document_loaders.csv_loader import CSVLoader\n",
        "from datetime import datetime, timedelta\n",
        "\n",
        "documents = []\n",
        "\n",
        "for i in range(1, 5):\n",
        "  loader = CSVLoader(\n",
        "      file_path=f\"john_wick_{i}.csv\",\n",
        "      metadata_columns=[\"Review_Date\", \"Review_Title\", \"Review_Url\", \"Author\", \"Rating\"]\n",
        "  )\n",
        "\n",
        "  movie_docs = loader.load()\n",
        "  for doc in movie_docs:\n",
        "\n",
        "    # Add the \"Movie Title\" (John Wick 1, 2, ...)\n",
        "    doc.metadata[\"Movie_Title\"] = f\"John Wick {i}\"\n",
        "\n",
        "    # convert \"Rating\" to an `int`, if no rating is provided - assume 0 rating\n",
        "    doc.metadata[\"Rating\"] = int(doc.metadata[\"Rating\"]) if doc.metadata[\"Rating\"] else 0\n",
        "\n",
        "    # newer movies have a more recent \"last_accessed_at\"\n",
        "    doc.metadata[\"last_accessed_at\"] = datetime.now() - timedelta(days=4-i)\n",
        "\n",
        "  documents.extend(movie_docs)"
      ]
    },
    {
      "cell_type": "markdown",
      "metadata": {
        "id": "9gQphb6y0C0S"
      },
      "source": [
        "Let's look at an example document to see if everything worked as expected!"
      ]
    },
    {
      "cell_type": "code",
      "execution_count": 9,
      "metadata": {
        "colab": {
          "base_uri": "https://localhost:8080/"
        },
        "id": "PkUkCf7DaMiq",
        "outputId": "e90bd5da-1d87-423b-838a-cb6efc16b199"
      },
      "outputs": [
        {
          "data": {
            "text/plain": [
              "Document(metadata={'source': 'john_wick_1.csv', 'row': 0, 'Review_Date': '6 May 2015', 'Review_Title': ' Kinetic, concise, and stylish; John Wick kicks ass.\\n', 'Review_Url': '/review/rw3233896/?ref_=tt_urv', 'Author': 'lnvicta', 'Rating': 8, 'Movie_Title': 'John Wick 1', 'last_accessed_at': datetime.datetime(2024, 9, 28, 9, 20, 20, 837118)}, page_content=\": 0\\nReview: The best way I can describe John Wick is to picture Taken but instead of Liam Neeson it's Keanu Reeves and instead of his daughter it's his dog. That's essentially the plot of the movie. John Wick (Reeves) is out to seek revenge on the people who took something he loved from him. It's a beautifully simple premise for an action movie - when action movies get convoluted, they get bad i.e. A Good Day to Die Hard. John Wick gives the viewers what they want: Awesome action, stylish stunts, kinetic chaos, and a relatable hero to tie it all together. John Wick succeeds in its simplicity.\")"
            ]
          },
          "execution_count": 9,
          "metadata": {},
          "output_type": "execute_result"
        }
      ],
      "source": [
        "documents[0]"
      ]
    },
    {
      "cell_type": "markdown",
      "metadata": {
        "id": "lWaQpdHl0Gzc"
      },
      "source": [
        "## Task 3: Setting up QDrant!\n",
        "\n",
        "Now that we have our documents, let's create a QDrant VectorStore with the collection name \"JohnWick\".\n",
        "\n",
        "We'll leverage OpenAI's [`text-embedding-3-small`](https://openai.com/blog/new-embedding-models-and-api-updates) because it's a very powerful (and low-cost) embedding model.\n",
        "\n",
        "> NOTE: We'll be creating additional vectorstores where necessary, but this pattern is still extremely useful."
      ]
    },
    {
      "cell_type": "code",
      "execution_count": 10,
      "metadata": {
        "id": "NT8ihRJbYmMT"
      },
      "outputs": [],
      "source": [
        "from langchain_community.vectorstores import Qdrant\n",
        "from langchain_openai import OpenAIEmbeddings\n",
        "\n",
        "embeddings = OpenAIEmbeddings(model=\"text-embedding-3-small\")\n",
        "\n",
        "vectorstore = Qdrant.from_documents(\n",
        "    documents,\n",
        "    embeddings,\n",
        "    location=\":memory:\",\n",
        "    collection_name=\"JohnWick\"\n",
        ")"
      ]
    },
    {
      "cell_type": "markdown",
      "metadata": {
        "id": "-x2SS4Rh0hiN"
      },
      "source": [
        "## Task 4: Naive RAG Chain\n",
        "\n",
        "Since we're focusing on the \"R\" in RAG today - we'll create our Retriever first."
      ]
    },
    {
      "cell_type": "markdown",
      "metadata": {
        "id": "NEH7X5Ai08FH"
      },
      "source": [
        "### R - Retrieval\n",
        "\n",
        "This naive retriever will simply look at each review as a document, and use cosine-similarity to fetch the 10 most relevant documents.\n",
        "\n",
        "> NOTE: We're choosing `10` as our `k` here to provide enough documents for our reranking process later"
      ]
    },
    {
      "cell_type": "code",
      "execution_count": 11,
      "metadata": {
        "id": "GFDPrNBtb72o"
      },
      "outputs": [],
      "source": [
        "naive_retriever = vectorstore.as_retriever(search_kwargs={\"k\" : 10})"
      ]
    },
    {
      "cell_type": "markdown",
      "metadata": {
        "id": "MbBhyQjz06dx"
      },
      "source": [
        "### A - Augmented\n",
        "\n",
        "We're going to go with a standard prompt for our simple RAG chain today! Nothing fancy here, we want this to mostly be about the Retrieval process."
      ]
    },
    {
      "cell_type": "code",
      "execution_count": 12,
      "metadata": {
        "id": "7uSz-Dbqcoki"
      },
      "outputs": [],
      "source": [
        "from langchain_core.prompts import ChatPromptTemplate\n",
        "\n",
        "RAG_TEMPLATE = \"\"\"\\\n",
        "You are a helpful and kind assistant. Use the context provided below to answer the question.\n",
        "\n",
        "If you do not know the answer, or are unsure, say you don't know.\n",
        "\n",
        "Query:\n",
        "{question}\n",
        "\n",
        "Context:\n",
        "{context}\n",
        "\"\"\"\n",
        "\n",
        "rag_prompt = ChatPromptTemplate.from_template(RAG_TEMPLATE)"
      ]
    },
    {
      "cell_type": "markdown",
      "metadata": {
        "id": "BlRzpb231GGJ"
      },
      "source": [
        "### G - Generation\n",
        "\n",
        "We're going to leverage `gpt-3.5-turbo` as our LLM today, as - again - we want this to largely be about the Retrieval process."
      ]
    },
    {
      "cell_type": "code",
      "execution_count": 13,
      "metadata": {
        "id": "c-1t9H60dJLg"
      },
      "outputs": [],
      "source": [
        "from langchain_openai import ChatOpenAI\n",
        "\n",
        "chat_model = ChatOpenAI()"
      ]
    },
    {
      "cell_type": "markdown",
      "metadata": {
        "id": "mg3QRGzA1M2x"
      },
      "source": [
        "### LCEL RAG Chain\n",
        "\n",
        "We're going to use LCEL to construct our chain.\n",
        "\n",
        "> NOTE: This chain will be exactly the same across the various examples with the exception of our Retriever!"
      ]
    },
    {
      "cell_type": "code",
      "execution_count": 14,
      "metadata": {
        "id": "0bvstS7mdOW3"
      },
      "outputs": [],
      "source": [
        "from langchain_core.runnables import RunnablePassthrough\n",
        "from operator import itemgetter\n",
        "from langchain_core.output_parsers import StrOutputParser\n",
        "\n",
        "naive_retrieval_chain = (\n",
        "    # INVOKE CHAIN WITH: {\"question\" : \"<<SOME USER QUESTION>>\"}\n",
        "    # \"question\" : populated by getting the value of the \"question\" key\n",
        "    # \"context\"  : populated by getting the value of the \"question\" key and chaining it into the base_retriever\n",
        "    {\"context\": itemgetter(\"question\") | naive_retriever, \"question\": itemgetter(\"question\")}\n",
        "    # \"context\"  : is assigned to a RunnablePassthrough object (will not be called or considered in the next step)\n",
        "    #              by getting the value of the \"context\" key from the previous step\n",
        "    | RunnablePassthrough.assign(context=itemgetter(\"context\"))\n",
        "    # \"response\" : the \"context\" and \"question\" values are used to format our prompt object and then piped\n",
        "    #              into the LLM and stored in a key called \"response\"\n",
        "    # \"context\"  : populated by getting the value of the \"context\" key from the previous step\n",
        "    | {\"response\": rag_prompt | chat_model, \"context\": itemgetter(\"context\")}\n",
        ")"
      ]
    },
    {
      "cell_type": "markdown",
      "metadata": {
        "id": "izKujhNb1ZG8"
      },
      "source": [
        "Let's see how this simple chain does on a few different prompts.\n",
        "\n",
        "> NOTE: You might think that we've cherry picked prompts that showcase the individual skill of each of the retrieval strategies - you'd be correct!"
      ]
    },
    {
      "cell_type": "code",
      "execution_count": 15,
      "metadata": {
        "colab": {
          "base_uri": "https://localhost:8080/",
          "height": 36
        },
        "id": "LI-5ueEddku9",
        "outputId": "7f3cec18-5f4e-41bb-cf71-51ba0be5388e"
      },
      "outputs": [
        {
          "name": "stderr",
          "output_type": "stream",
          "text": [
            "/opt/anaconda3/envs/aie4/lib/python3.11/site-packages/langsmith/client.py:323: LangSmithMissingAPIKeyWarning: API key must be provided when using hosted LangSmith API\n",
            "  warnings.warn(\n",
            "Failed to batch ingest runs: langsmith.utils.LangSmithAuthError: Authentication failed for https://api.smith.langchain.com/runs/batch. HTTPError('401 Client Error: Unauthorized for url: https://api.smith.langchain.com/runs/batch', '{\"detail\":\"Invalid token\"}')\n",
            "post: trace=0a30219e-7db0-4576-a26b-3442f53b3018,id=0a30219e-7db0-4576-a26b-3442f53b3018; trace=0a30219e-7db0-4576-a26b-3442f53b3018,id=61520699-692a-4e2f-ad43-34ec3465c9a8; trace=0a30219e-7db0-4576-a26b-3442f53b3018,id=41e157d9-335d-4f8d-9653-331d44658455; trace=0a30219e-7db0-4576-a26b-3442f53b3018,id=06f2c714-d710-4e4a-b5d9-5974a3dc63be; trace=0a30219e-7db0-4576-a26b-3442f53b3018,id=7e0a75e5-5524-4ebf-87a7-fd48982643cf; trace=0a30219e-7db0-4576-a26b-3442f53b3018,id=ff60ee62-248b-4b1e-a16a-32dd95857fa9\n",
            "Failed to batch ingest runs: langsmith.utils.LangSmithAuthError: Authentication failed for https://api.smith.langchain.com/runs/batch. HTTPError('401 Client Error: Unauthorized for url: https://api.smith.langchain.com/runs/batch', '{\"detail\":\"Invalid token\"}')\n",
            "post: trace=0a30219e-7db0-4576-a26b-3442f53b3018,id=ca8254d1-d1c0-4687-8ef2-de469cf61df0; trace=0a30219e-7db0-4576-a26b-3442f53b3018,id=d758908c-7694-4e1a-b48f-9dd0c64a97ec; trace=0a30219e-7db0-4576-a26b-3442f53b3018,id=0060b615-5506-4305-b10b-43409ec5213b; trace=0a30219e-7db0-4576-a26b-3442f53b3018,id=129f9d01-23ca-4067-9228-59d43949aab1; trace=0a30219e-7db0-4576-a26b-3442f53b3018,id=080b19c3-d6d7-425d-8d32-749f18815cd0; trace=0a30219e-7db0-4576-a26b-3442f53b3018,id=2f92d395-6772-4342-a1bd-8aaef43d4758; trace=0a30219e-7db0-4576-a26b-3442f53b3018,id=8d5d0cc0-936d-488d-b91f-6201f12d8419; trace=0a30219e-7db0-4576-a26b-3442f53b3018,id=4c360bda-69e7-4e19-b390-ae2f4692cacc; patch: trace=0a30219e-7db0-4576-a26b-3442f53b3018,id=41e157d9-335d-4f8d-9653-331d44658455; trace=0a30219e-7db0-4576-a26b-3442f53b3018,id=7e0a75e5-5524-4ebf-87a7-fd48982643cf; trace=0a30219e-7db0-4576-a26b-3442f53b3018,id=61520699-692a-4e2f-ad43-34ec3465c9a8\n"
          ]
        },
        {
          "data": {
            "text/plain": [
              "'Yes, people generally liked John Wick based on the reviews provided.'"
            ]
          },
          "execution_count": 15,
          "metadata": {},
          "output_type": "execute_result"
        }
      ],
      "source": [
        "naive_retrieval_chain.invoke({\"question\" : \"Did people generally like John Wick?\"})[\"response\"].content"
      ]
    },
    {
      "cell_type": "code",
      "execution_count": 16,
      "metadata": {
        "colab": {
          "base_uri": "https://localhost:8080/",
          "height": 36
        },
        "id": "43zdcdUydtXh",
        "outputId": "db874e67-f568-4ed1-b863-b7c17b387052"
      },
      "outputs": [
        {
          "name": "stderr",
          "output_type": "stream",
          "text": [
            "Failed to batch ingest runs: langsmith.utils.LangSmithAuthError: Authentication failed for https://api.smith.langchain.com/runs/batch. HTTPError('401 Client Error: Unauthorized for url: https://api.smith.langchain.com/runs/batch', '{\"detail\":\"Invalid token\"}')\n",
            "post: trace=e3557d82-40b6-4e46-85c0-904ef0ef3739,id=e3557d82-40b6-4e46-85c0-904ef0ef3739; trace=e3557d82-40b6-4e46-85c0-904ef0ef3739,id=40eab55e-c2fc-4a9c-b01f-819f3514a092; trace=e3557d82-40b6-4e46-85c0-904ef0ef3739,id=9959a2f3-f203-4ae2-a44e-964683a609f1; trace=e3557d82-40b6-4e46-85c0-904ef0ef3739,id=6381ca9b-8f90-4d91-a43d-fae3b4af26a5; trace=e3557d82-40b6-4e46-85c0-904ef0ef3739,id=c9ba6e74-6d19-4a23-b299-27189058e961; trace=e3557d82-40b6-4e46-85c0-904ef0ef3739,id=8ff78c87-15c8-4bef-8640-d06e5eb39286; patch: trace=0a30219e-7db0-4576-a26b-3442f53b3018,id=080b19c3-d6d7-425d-8d32-749f18815cd0; trace=0a30219e-7db0-4576-a26b-3442f53b3018,id=8d5d0cc0-936d-488d-b91f-6201f12d8419; trace=0a30219e-7db0-4576-a26b-3442f53b3018,id=0a30219e-7db0-4576-a26b-3442f53b3018; trace=0a30219e-7db0-4576-a26b-3442f53b3018,id=129f9d01-23ca-4067-9228-59d43949aab1\n",
            "Failed to batch ingest runs: langsmith.utils.LangSmithAuthError: Authentication failed for https://api.smith.langchain.com/runs/batch. HTTPError('401 Client Error: Unauthorized for url: https://api.smith.langchain.com/runs/batch', '{\"detail\":\"Invalid token\"}')\n",
            "post: trace=e3557d82-40b6-4e46-85c0-904ef0ef3739,id=f3088d6c-1eb6-4a99-a48d-8b24d54df0c2; trace=e3557d82-40b6-4e46-85c0-904ef0ef3739,id=510b011b-8b10-4ab1-9f17-9d77779ad201; trace=e3557d82-40b6-4e46-85c0-904ef0ef3739,id=f03f6829-dd85-4fa6-b8e4-c4adea105a67; trace=e3557d82-40b6-4e46-85c0-904ef0ef3739,id=53bd12ea-6c44-4aad-96be-6dde3b90ec6e; trace=e3557d82-40b6-4e46-85c0-904ef0ef3739,id=ff987fb9-d287-49ab-88db-c04fb7b3f1f7; trace=e3557d82-40b6-4e46-85c0-904ef0ef3739,id=1c15f508-f833-41db-9384-6f652ab62fd7; trace=e3557d82-40b6-4e46-85c0-904ef0ef3739,id=5035f127-25b4-48f7-b449-b7993d833d11; trace=e3557d82-40b6-4e46-85c0-904ef0ef3739,id=af24b21c-1a58-4856-a679-a71046f3a7df; patch: trace=e3557d82-40b6-4e46-85c0-904ef0ef3739,id=40eab55e-c2fc-4a9c-b01f-819f3514a092; trace=e3557d82-40b6-4e46-85c0-904ef0ef3739,id=9959a2f3-f203-4ae2-a44e-964683a609f1; trace=e3557d82-40b6-4e46-85c0-904ef0ef3739,id=c9ba6e74-6d19-4a23-b299-27189058e961\n",
            "Failed to batch ingest runs: langsmith.utils.LangSmithAuthError: Authentication failed for https://api.smith.langchain.com/runs/batch. HTTPError('401 Client Error: Unauthorized for url: https://api.smith.langchain.com/runs/batch', '{\"detail\":\"Invalid token\"}')\n",
            "post: trace=ad81d912-302b-44c0-86dd-c2eddb48beaa,id=ad81d912-302b-44c0-86dd-c2eddb48beaa; trace=ad81d912-302b-44c0-86dd-c2eddb48beaa,id=41449138-9353-41ea-b784-8bb0344ffdb3; trace=ad81d912-302b-44c0-86dd-c2eddb48beaa,id=0552eb00-3fd9-484d-a803-7853452af570; trace=ad81d912-302b-44c0-86dd-c2eddb48beaa,id=92a2c9dc-b660-43b4-a65a-27d5608edec3; trace=ad81d912-302b-44c0-86dd-c2eddb48beaa,id=503cb7a3-0491-4a08-ac82-85f7aad8a3f3; trace=ad81d912-302b-44c0-86dd-c2eddb48beaa,id=6ec81133-0cee-4b3f-ae4e-82955c4c09b1; patch: trace=e3557d82-40b6-4e46-85c0-904ef0ef3739,id=ff987fb9-d287-49ab-88db-c04fb7b3f1f7; trace=e3557d82-40b6-4e46-85c0-904ef0ef3739,id=5035f127-25b4-48f7-b449-b7993d833d11; trace=e3557d82-40b6-4e46-85c0-904ef0ef3739,id=e3557d82-40b6-4e46-85c0-904ef0ef3739; trace=e3557d82-40b6-4e46-85c0-904ef0ef3739,id=53bd12ea-6c44-4aad-96be-6dde3b90ec6e\n",
            "Failed to batch ingest runs: langsmith.utils.LangSmithAuthError: Authentication failed for https://api.smith.langchain.com/runs/batch. HTTPError('401 Client Error: Unauthorized for url: https://api.smith.langchain.com/runs/batch', '{\"detail\":\"Invalid token\"}')\n",
            "post: trace=ad81d912-302b-44c0-86dd-c2eddb48beaa,id=bf1714a5-2c43-420c-af8a-cb8856b2355c; trace=ad81d912-302b-44c0-86dd-c2eddb48beaa,id=435c1bb5-f4b0-429b-a489-305a31b3851a; trace=ad81d912-302b-44c0-86dd-c2eddb48beaa,id=d78ec846-597f-48cb-b2e7-c09eee0b5739; trace=ad81d912-302b-44c0-86dd-c2eddb48beaa,id=66e6b462-baf4-4a5d-a6ea-25caf669a58e; trace=ad81d912-302b-44c0-86dd-c2eddb48beaa,id=166709d2-1cc5-4f70-93a8-587833fb037c; trace=ad81d912-302b-44c0-86dd-c2eddb48beaa,id=78cbde41-d526-491e-86f1-d5c13eb66a85; trace=ad81d912-302b-44c0-86dd-c2eddb48beaa,id=b52ebf70-77be-4a25-a71a-d36c9878244b; trace=ad81d912-302b-44c0-86dd-c2eddb48beaa,id=e28c8438-d606-4a82-9156-8674a5fb20f3; patch: trace=ad81d912-302b-44c0-86dd-c2eddb48beaa,id=41449138-9353-41ea-b784-8bb0344ffdb3; trace=ad81d912-302b-44c0-86dd-c2eddb48beaa,id=0552eb00-3fd9-484d-a803-7853452af570; trace=ad81d912-302b-44c0-86dd-c2eddb48beaa,id=6ec81133-0cee-4b3f-ae4e-82955c4c09b1\n",
            "Failed to batch ingest runs: langsmith.utils.LangSmithAuthError: Authentication failed for https://api.smith.langchain.com/runs/batch. HTTPError('401 Client Error: Unauthorized for url: https://api.smith.langchain.com/runs/batch', '{\"detail\":\"Invalid token\"}')\n",
            "post: trace=49fb8dd1-da2f-4195-a80b-f9942d755794,id=49fb8dd1-da2f-4195-a80b-f9942d755794; trace=49fb8dd1-da2f-4195-a80b-f9942d755794,id=00374a64-8064-4f48-bd61-b9dc780ee043; trace=49fb8dd1-da2f-4195-a80b-f9942d755794,id=25504f07-78f3-47fb-809f-1b3a92373ba5; trace=49fb8dd1-da2f-4195-a80b-f9942d755794,id=3d45430a-e3bd-4756-bc0d-33c9fcad5efb; trace=49fb8dd1-da2f-4195-a80b-f9942d755794,id=b2b7e0df-087e-4a42-9ecf-30db4c60cc4e; trace=49fb8dd1-da2f-4195-a80b-f9942d755794,id=2efea351-27e6-420d-8f6f-456b9cc5b078; trace=49fb8dd1-da2f-4195-a80b-f9942d755794,id=77ae4ec2-f338-4bef-88df-e751c9d03d37; trace=49fb8dd1-da2f-4195-a80b-f9942d755794,id=2a55bcab-e798-457a-a1bd-a514c93efaf2; trace=49fb8dd1-da2f-4195-a80b-f9942d755794,id=f67defb1-7cfd-4718-9218-093a86e5065f; trace=49fb8dd1-da2f-4195-a80b-f9942d755794,id=085ac85a-2b38-4514-958f-d18e0da8a571; trace=49fb8dd1-da2f-4195-a80b-f9942d755794,id=955068bd-d7ff-4766-bc93-471d8ec0d60f; trace=49fb8dd1-da2f-4195-a80b-f9942d755794,id=49811818-a23f-4a8d-b552-f8711b4145a5; trace=49fb8dd1-da2f-4195-a80b-f9942d755794,id=5e55b1aa-a0fc-4a0b-88e3-eaaf05bb51dc; trace=49fb8dd1-da2f-4195-a80b-f9942d755794,id=006d2cc1-f8a2-4c72-a777-33f8b2f8173c; patch: trace=ad81d912-302b-44c0-86dd-c2eddb48beaa,id=166709d2-1cc5-4f70-93a8-587833fb037c; trace=ad81d912-302b-44c0-86dd-c2eddb48beaa,id=b52ebf70-77be-4a25-a71a-d36c9878244b; trace=ad81d912-302b-44c0-86dd-c2eddb48beaa,id=ad81d912-302b-44c0-86dd-c2eddb48beaa; trace=ad81d912-302b-44c0-86dd-c2eddb48beaa,id=66e6b462-baf4-4a5d-a6ea-25caf669a58e\n",
            "Failed to batch ingest runs: langsmith.utils.LangSmithAuthError: Authentication failed for https://api.smith.langchain.com/runs/batch. HTTPError('401 Client Error: Unauthorized for url: https://api.smith.langchain.com/runs/batch', '{\"detail\":\"Invalid token\"}')\n",
            "post: trace=13007f14-3a61-452d-8b78-9a0cfafcdd4b,id=13007f14-3a61-452d-8b78-9a0cfafcdd4b; trace=13007f14-3a61-452d-8b78-9a0cfafcdd4b,id=d3ba2215-9310-447f-b599-7019e6378037; trace=13007f14-3a61-452d-8b78-9a0cfafcdd4b,id=dbb106ba-9603-44db-a5ea-623bbeef9091; trace=13007f14-3a61-452d-8b78-9a0cfafcdd4b,id=a8e965cc-0138-4a93-9edd-889d0ec94e18; trace=13007f14-3a61-452d-8b78-9a0cfafcdd4b,id=97e32b3a-e371-4210-a5f0-ca44ee45a22e; trace=13007f14-3a61-452d-8b78-9a0cfafcdd4b,id=33ebe51e-cc7d-4deb-a1d9-f133cf281024; trace=13007f14-3a61-452d-8b78-9a0cfafcdd4b,id=fe217ac1-7d3c-4b90-9a9f-c94f1d0970fb; trace=13007f14-3a61-452d-8b78-9a0cfafcdd4b,id=b8d9c971-61ae-487b-ad1f-0bbb44ab9c97; trace=13007f14-3a61-452d-8b78-9a0cfafcdd4b,id=61edf4f8-d8f3-4f03-81e7-68dfb55b7321; trace=13007f14-3a61-452d-8b78-9a0cfafcdd4b,id=2afcba3a-bf62-42c1-835f-9ce5e5b60c18; trace=13007f14-3a61-452d-8b78-9a0cfafcdd4b,id=a72ffa28-1f00-422e-977d-b2c363470146; trace=13007f14-3a61-452d-8b78-9a0cfafcdd4b,id=c247779d-7f7c-4ffa-9427-9314e90da94e; trace=13007f14-3a61-452d-8b78-9a0cfafcdd4b,id=81b5a9b7-f92f-434c-9fa5-5a600b6cf93e; trace=13007f14-3a61-452d-8b78-9a0cfafcdd4b,id=e6a5d3ae-6f50-4433-a76b-acbb538d03e5; patch: trace=49fb8dd1-da2f-4195-a80b-f9942d755794,id=955068bd-d7ff-4766-bc93-471d8ec0d60f; trace=49fb8dd1-da2f-4195-a80b-f9942d755794,id=5e55b1aa-a0fc-4a0b-88e3-eaaf05bb51dc; trace=49fb8dd1-da2f-4195-a80b-f9942d755794,id=49fb8dd1-da2f-4195-a80b-f9942d755794; trace=49fb8dd1-da2f-4195-a80b-f9942d755794,id=085ac85a-2b38-4514-958f-d18e0da8a571\n",
            "Failed to batch ingest runs: langsmith.utils.LangSmithAuthError: Authentication failed for https://api.smith.langchain.com/runs/batch. HTTPError('401 Client Error: Unauthorized for url: https://api.smith.langchain.com/runs/batch', '{\"detail\":\"Invalid token\"}')\n",
            "post: trace=0ecce68f-d1a0-447b-833d-b38261f4a37f,id=0ecce68f-d1a0-447b-833d-b38261f4a37f; trace=0ecce68f-d1a0-447b-833d-b38261f4a37f,id=b1cbc5a2-f16a-4327-b2fd-9e6e959c5c7a; trace=0ecce68f-d1a0-447b-833d-b38261f4a37f,id=9d6f63c1-204d-47fc-80f0-72a4f8214f35; trace=0ecce68f-d1a0-447b-833d-b38261f4a37f,id=3153fd30-0ba1-435d-b40e-9c36d13dcf4a; trace=0ecce68f-d1a0-447b-833d-b38261f4a37f,id=d0f89523-55c2-4b52-bb03-384969f32b78; trace=0ecce68f-d1a0-447b-833d-b38261f4a37f,id=4f970993-0c07-4909-a949-24ad2c28daf3; trace=0ecce68f-d1a0-447b-833d-b38261f4a37f,id=567060a0-ee78-456c-ab51-dc067b0ad1f7; trace=0ecce68f-d1a0-447b-833d-b38261f4a37f,id=8b6354b3-47b8-4132-b67a-99d9e75e7098; trace=0ecce68f-d1a0-447b-833d-b38261f4a37f,id=26699d63-2035-4cba-8a2c-e6d2b31a3b7f; trace=0ecce68f-d1a0-447b-833d-b38261f4a37f,id=ac581ffa-936c-4b34-945b-540ea5f4e307; trace=0ecce68f-d1a0-447b-833d-b38261f4a37f,id=f3989f47-525e-43a6-92fb-a2878d090540; trace=0ecce68f-d1a0-447b-833d-b38261f4a37f,id=6df22276-50d8-4d92-8a6b-0d55491613b3; trace=0ecce68f-d1a0-447b-833d-b38261f4a37f,id=2d90473d-9869-42d1-acc4-b3c5e374a59b; trace=0ecce68f-d1a0-447b-833d-b38261f4a37f,id=6e29c589-d9e3-42e6-ac34-eb35c9794d96; patch: trace=13007f14-3a61-452d-8b78-9a0cfafcdd4b,id=a72ffa28-1f00-422e-977d-b2c363470146; trace=13007f14-3a61-452d-8b78-9a0cfafcdd4b,id=81b5a9b7-f92f-434c-9fa5-5a600b6cf93e; trace=13007f14-3a61-452d-8b78-9a0cfafcdd4b,id=13007f14-3a61-452d-8b78-9a0cfafcdd4b; trace=13007f14-3a61-452d-8b78-9a0cfafcdd4b,id=2afcba3a-bf62-42c1-835f-9ce5e5b60c18\n",
            "Failed to batch ingest runs: langsmith.utils.LangSmithAuthError: Authentication failed for https://api.smith.langchain.com/runs/batch. HTTPError('401 Client Error: Unauthorized for url: https://api.smith.langchain.com/runs/batch', '{\"detail\":\"Invalid token\"}')\n",
            "patch: trace=0ecce68f-d1a0-447b-833d-b38261f4a37f,id=f3989f47-525e-43a6-92fb-a2878d090540; trace=0ecce68f-d1a0-447b-833d-b38261f4a37f,id=2d90473d-9869-42d1-acc4-b3c5e374a59b; trace=0ecce68f-d1a0-447b-833d-b38261f4a37f,id=0ecce68f-d1a0-447b-833d-b38261f4a37f; trace=0ecce68f-d1a0-447b-833d-b38261f4a37f,id=ac581ffa-936c-4b34-945b-540ea5f4e307\n",
            "Failed to batch ingest runs: langsmith.utils.LangSmithAuthError: Authentication failed for https://api.smith.langchain.com/runs/batch. HTTPError('401 Client Error: Unauthorized for url: https://api.smith.langchain.com/runs/batch', '{\"detail\":\"Invalid token\"}')\n",
            "post: trace=11bf71d4-a066-40c4-b477-606fd79851db,id=11bf71d4-a066-40c4-b477-606fd79851db; trace=11bf71d4-a066-40c4-b477-606fd79851db,id=5e64d1a4-cada-4b4f-9f12-df9ba59988ca; trace=11bf71d4-a066-40c4-b477-606fd79851db,id=722ab1fd-51c8-4d83-8393-86e4ab472440; trace=11bf71d4-a066-40c4-b477-606fd79851db,id=a33cc5a2-10f0-4e94-95cb-125131c4d978; trace=11bf71d4-a066-40c4-b477-606fd79851db,id=98ab4e48-c964-469e-a57f-fc5881d39c9b; trace=11bf71d4-a066-40c4-b477-606fd79851db,id=f58ccc38-cfed-47cd-8bd4-cf68cc67a0ab; trace=11bf71d4-a066-40c4-b477-606fd79851db,id=ac5953a0-5d55-46f1-88bd-25ab4f61adb3\n",
            "Failed to batch ingest runs: langsmith.utils.LangSmithAuthError: Authentication failed for https://api.smith.langchain.com/runs/batch. HTTPError('401 Client Error: Unauthorized for url: https://api.smith.langchain.com/runs/batch', '{\"detail\":\"Invalid token\"}')\n",
            "patch: trace=11bf71d4-a066-40c4-b477-606fd79851db,id=ac5953a0-5d55-46f1-88bd-25ab4f61adb3\n",
            "Failed to batch ingest runs: langsmith.utils.LangSmithAuthError: Authentication failed for https://api.smith.langchain.com/runs/batch. HTTPError('401 Client Error: Unauthorized for url: https://api.smith.langchain.com/runs/batch', '{\"detail\":\"Invalid token\"}')\n",
            "post: trace=11bf71d4-a066-40c4-b477-606fd79851db,id=3e0872bc-84bf-4b15-ad16-7179f5d14bfa; trace=11bf71d4-a066-40c4-b477-606fd79851db,id=6834394f-a576-4bae-97ff-9affaf1c5ee8; trace=11bf71d4-a066-40c4-b477-606fd79851db,id=f5fd50c3-eeb8-4fd4-8041-0fa520e99b51; trace=11bf71d4-a066-40c4-b477-606fd79851db,id=0805da14-2af8-48f0-bb84-20263faa839f; trace=11bf71d4-a066-40c4-b477-606fd79851db,id=84471bf9-729e-4ab8-88c0-46a34676dc18; trace=11bf71d4-a066-40c4-b477-606fd79851db,id=6178dac4-5a88-4627-955c-826dbdb59d8c; trace=11bf71d4-a066-40c4-b477-606fd79851db,id=bdaa976f-c199-41a1-94dd-63c1cd1ce33f; trace=11bf71d4-a066-40c4-b477-606fd79851db,id=2ae120a6-0436-40f8-874d-5119860ced17; patch: trace=11bf71d4-a066-40c4-b477-606fd79851db,id=722ab1fd-51c8-4d83-8393-86e4ab472440; trace=11bf71d4-a066-40c4-b477-606fd79851db,id=f58ccc38-cfed-47cd-8bd4-cf68cc67a0ab; trace=11bf71d4-a066-40c4-b477-606fd79851db,id=5e64d1a4-cada-4b4f-9f12-df9ba59988ca\n",
            "Failed to batch ingest runs: langsmith.utils.LangSmithAuthError: Authentication failed for https://api.smith.langchain.com/runs/batch. HTTPError('401 Client Error: Unauthorized for url: https://api.smith.langchain.com/runs/batch', '{\"detail\":\"Invalid token\"}')\n",
            "post: trace=0fd23dc1-3266-4441-991c-d32d85d602c4,id=0fd23dc1-3266-4441-991c-d32d85d602c4; trace=0fd23dc1-3266-4441-991c-d32d85d602c4,id=00a56fe3-7c73-4284-8171-505d7739e926; trace=0fd23dc1-3266-4441-991c-d32d85d602c4,id=32327add-a1c6-4909-ba53-2e06dd22d77f; trace=0fd23dc1-3266-4441-991c-d32d85d602c4,id=d54c7864-1dc6-4bf9-8863-2745aec0bc6f; trace=0fd23dc1-3266-4441-991c-d32d85d602c4,id=29b19432-cae7-4b1d-be7f-08d29bc2acea; trace=0fd23dc1-3266-4441-991c-d32d85d602c4,id=36a1536a-8c96-4953-815f-bb51281797d1; trace=0fd23dc1-3266-4441-991c-d32d85d602c4,id=e5a45eb8-cb9e-4251-b1d7-64e61fd968df; patch: trace=11bf71d4-a066-40c4-b477-606fd79851db,id=84471bf9-729e-4ab8-88c0-46a34676dc18; trace=11bf71d4-a066-40c4-b477-606fd79851db,id=bdaa976f-c199-41a1-94dd-63c1cd1ce33f; trace=11bf71d4-a066-40c4-b477-606fd79851db,id=11bf71d4-a066-40c4-b477-606fd79851db; trace=11bf71d4-a066-40c4-b477-606fd79851db,id=0805da14-2af8-48f0-bb84-20263faa839f\n",
            "Failed to batch ingest runs: langsmith.utils.LangSmithAuthError: Authentication failed for https://api.smith.langchain.com/runs/batch. HTTPError('401 Client Error: Unauthorized for url: https://api.smith.langchain.com/runs/batch', '{\"detail\":\"Invalid token\"}')\n",
            "patch: trace=0fd23dc1-3266-4441-991c-d32d85d602c4,id=e5a45eb8-cb9e-4251-b1d7-64e61fd968df\n",
            "Failed to batch ingest runs: langsmith.utils.LangSmithAuthError: Authentication failed for https://api.smith.langchain.com/runs/batch. HTTPError('401 Client Error: Unauthorized for url: https://api.smith.langchain.com/runs/batch', '{\"detail\":\"Invalid token\"}')\n",
            "post: trace=0fd23dc1-3266-4441-991c-d32d85d602c4,id=d43ed6b8-e6c2-42e8-8be1-f49572ddc0ba; trace=0fd23dc1-3266-4441-991c-d32d85d602c4,id=25982da5-aa28-415d-8670-2481b28b4ad1; trace=0fd23dc1-3266-4441-991c-d32d85d602c4,id=2b9f85a9-3801-4f64-903d-7c5a02dfaf2a; trace=0fd23dc1-3266-4441-991c-d32d85d602c4,id=6fa87a8a-2060-4fb2-93e9-a6ab032163d8; trace=0fd23dc1-3266-4441-991c-d32d85d602c4,id=4cada7dc-3cde-440a-a4fb-55722a3c5dc4; trace=0fd23dc1-3266-4441-991c-d32d85d602c4,id=dd4dc825-f5a1-45ac-8877-c1a2d5c2a536; trace=0fd23dc1-3266-4441-991c-d32d85d602c4,id=77985949-78b9-4bae-943c-2898ad6e69fc; trace=0fd23dc1-3266-4441-991c-d32d85d602c4,id=6da27aa3-5f74-4cda-b2ef-9febdd19bba0; patch: trace=0fd23dc1-3266-4441-991c-d32d85d602c4,id=00a56fe3-7c73-4284-8171-505d7739e926; trace=0fd23dc1-3266-4441-991c-d32d85d602c4,id=d54c7864-1dc6-4bf9-8863-2745aec0bc6f; trace=0fd23dc1-3266-4441-991c-d32d85d602c4,id=36a1536a-8c96-4953-815f-bb51281797d1\n",
            "Failed to batch ingest runs: langsmith.utils.LangSmithAuthError: Authentication failed for https://api.smith.langchain.com/runs/batch. HTTPError('401 Client Error: Unauthorized for url: https://api.smith.langchain.com/runs/batch', '{\"detail\":\"Invalid token\"}')\n",
            "post: trace=fd69f9c3-d0f0-4469-b06f-485d45c9a31c,id=fd69f9c3-d0f0-4469-b06f-485d45c9a31c; trace=fd69f9c3-d0f0-4469-b06f-485d45c9a31c,id=ea1305af-0016-43ac-b675-9d654e54c85c; trace=fd69f9c3-d0f0-4469-b06f-485d45c9a31c,id=c492e1dc-abf6-42bc-9253-70ee4adb303a; trace=fd69f9c3-d0f0-4469-b06f-485d45c9a31c,id=88c00654-f7b9-4e84-9ee0-06d540965df6; trace=fd69f9c3-d0f0-4469-b06f-485d45c9a31c,id=5255face-4278-4b63-b847-391d180cb377; trace=fd69f9c3-d0f0-4469-b06f-485d45c9a31c,id=4652b61a-7776-4dab-b3ec-64914a4979b6; trace=fd69f9c3-d0f0-4469-b06f-485d45c9a31c,id=e7e6c239-9842-4ada-aaae-d60c0ed91de1; patch: trace=0fd23dc1-3266-4441-991c-d32d85d602c4,id=4cada7dc-3cde-440a-a4fb-55722a3c5dc4; trace=0fd23dc1-3266-4441-991c-d32d85d602c4,id=77985949-78b9-4bae-943c-2898ad6e69fc; trace=0fd23dc1-3266-4441-991c-d32d85d602c4,id=0fd23dc1-3266-4441-991c-d32d85d602c4; trace=0fd23dc1-3266-4441-991c-d32d85d602c4,id=6fa87a8a-2060-4fb2-93e9-a6ab032163d8\n",
            "Failed to batch ingest runs: langsmith.utils.LangSmithAuthError: Authentication failed for https://api.smith.langchain.com/runs/batch. HTTPError('401 Client Error: Unauthorized for url: https://api.smith.langchain.com/runs/batch', '{\"detail\":\"Invalid token\"}')\n",
            "patch: trace=fd69f9c3-d0f0-4469-b06f-485d45c9a31c,id=e7e6c239-9842-4ada-aaae-d60c0ed91de1\n",
            "Failed to batch ingest runs: langsmith.utils.LangSmithAuthError: Authentication failed for https://api.smith.langchain.com/runs/batch. HTTPError('401 Client Error: Unauthorized for url: https://api.smith.langchain.com/runs/batch', '{\"detail\":\"Invalid token\"}')\n",
            "post: trace=fd69f9c3-d0f0-4469-b06f-485d45c9a31c,id=3e6d3265-6821-4504-8b30-bfc9ec7751ea; trace=fd69f9c3-d0f0-4469-b06f-485d45c9a31c,id=1f98c276-771d-48ba-a409-230f2f1a7fd2; trace=fd69f9c3-d0f0-4469-b06f-485d45c9a31c,id=c3f07ced-d2a8-483e-81ea-13fb8c786b99; trace=fd69f9c3-d0f0-4469-b06f-485d45c9a31c,id=b9ef03a0-c5ec-4f50-8896-5f441b89e020; trace=fd69f9c3-d0f0-4469-b06f-485d45c9a31c,id=4cf24391-ea64-4548-8a8a-0f97c8ad79a5; trace=fd69f9c3-d0f0-4469-b06f-485d45c9a31c,id=bd162840-cd77-40bf-aa2c-9a9dfaea912a; trace=fd69f9c3-d0f0-4469-b06f-485d45c9a31c,id=e1aa0382-3250-4364-a1a4-14dded0b8ed9; trace=fd69f9c3-d0f0-4469-b06f-485d45c9a31c,id=9f40de8c-8a5c-4871-a3ae-81fa93bc20f4; patch: trace=fd69f9c3-d0f0-4469-b06f-485d45c9a31c,id=ea1305af-0016-43ac-b675-9d654e54c85c; trace=fd69f9c3-d0f0-4469-b06f-485d45c9a31c,id=c492e1dc-abf6-42bc-9253-70ee4adb303a; trace=fd69f9c3-d0f0-4469-b06f-485d45c9a31c,id=4652b61a-7776-4dab-b3ec-64914a4979b6\n",
            "Failed to batch ingest runs: langsmith.utils.LangSmithAuthError: Authentication failed for https://api.smith.langchain.com/runs/batch. HTTPError('401 Client Error: Unauthorized for url: https://api.smith.langchain.com/runs/batch', '{\"detail\":\"Invalid token\"}')\n",
            "post: trace=e75e4dad-f19d-4730-9660-dc53ee02ceea,id=e75e4dad-f19d-4730-9660-dc53ee02ceea; trace=e75e4dad-f19d-4730-9660-dc53ee02ceea,id=cacb7411-40c8-4021-bfaa-48dcf4735bfd; trace=e75e4dad-f19d-4730-9660-dc53ee02ceea,id=9e8883af-cbe0-4b5c-962f-d0cdcafa3e24; trace=e75e4dad-f19d-4730-9660-dc53ee02ceea,id=8d3cc7c1-3f6d-4bde-b020-cd342c1dc404; trace=e75e4dad-f19d-4730-9660-dc53ee02ceea,id=37024081-8983-4408-b44c-e1e4f9621aac; trace=e75e4dad-f19d-4730-9660-dc53ee02ceea,id=bb611465-f7ef-4f44-9d2d-3fe059771c63; trace=e75e4dad-f19d-4730-9660-dc53ee02ceea,id=222d3ec0-16f7-4ee0-934a-1be248e720fe; trace=e75e4dad-f19d-4730-9660-dc53ee02ceea,id=802ac17e-9668-4e18-b201-e9b5d5633475; trace=e75e4dad-f19d-4730-9660-dc53ee02ceea,id=ae073fe3-475d-4d0c-83c5-2cb3470468f9; patch: trace=fd69f9c3-d0f0-4469-b06f-485d45c9a31c,id=4cf24391-ea64-4548-8a8a-0f97c8ad79a5; trace=fd69f9c3-d0f0-4469-b06f-485d45c9a31c,id=e1aa0382-3250-4364-a1a4-14dded0b8ed9; trace=fd69f9c3-d0f0-4469-b06f-485d45c9a31c,id=fd69f9c3-d0f0-4469-b06f-485d45c9a31c; trace=fd69f9c3-d0f0-4469-b06f-485d45c9a31c,id=b9ef03a0-c5ec-4f50-8896-5f441b89e020\n",
            "Failed to batch ingest runs: langsmith.utils.LangSmithAuthError: Authentication failed for https://api.smith.langchain.com/runs/batch. HTTPError('401 Client Error: Unauthorized for url: https://api.smith.langchain.com/runs/batch', '{\"detail\":\"Invalid token\"}')\n",
            "post: trace=e75e4dad-f19d-4730-9660-dc53ee02ceea,id=08047198-e079-4d14-be4b-2a529c20484b; trace=e75e4dad-f19d-4730-9660-dc53ee02ceea,id=b570ace3-5f2c-4f3a-9cc1-2cd0f1bbb85d; patch: trace=e75e4dad-f19d-4730-9660-dc53ee02ceea,id=ae073fe3-475d-4d0c-83c5-2cb3470468f9; trace=e75e4dad-f19d-4730-9660-dc53ee02ceea,id=222d3ec0-16f7-4ee0-934a-1be248e720fe\n",
            "Failed to batch ingest runs: langsmith.utils.LangSmithAuthError: Authentication failed for https://api.smith.langchain.com/runs/batch. HTTPError('401 Client Error: Unauthorized for url: https://api.smith.langchain.com/runs/batch', '{\"detail\":\"Invalid token\"}')\n",
            "post: trace=e75e4dad-f19d-4730-9660-dc53ee02ceea,id=2c565171-4779-459a-9deb-589b41cb9cf4; patch: trace=e75e4dad-f19d-4730-9660-dc53ee02ceea,id=b570ace3-5f2c-4f3a-9cc1-2cd0f1bbb85d\n",
            "Failed to batch ingest runs: langsmith.utils.LangSmithAuthError: Authentication failed for https://api.smith.langchain.com/runs/batch. HTTPError('401 Client Error: Unauthorized for url: https://api.smith.langchain.com/runs/batch', '{\"detail\":\"Invalid token\"}')\n",
            "post: trace=e75e4dad-f19d-4730-9660-dc53ee02ceea,id=8202c94d-8ef2-4792-9136-9ffa943e3840; patch: trace=e75e4dad-f19d-4730-9660-dc53ee02ceea,id=2c565171-4779-459a-9deb-589b41cb9cf4\n",
            "Failed to batch ingest runs: langsmith.utils.LangSmithAuthError: Authentication failed for https://api.smith.langchain.com/runs/batch. HTTPError('401 Client Error: Unauthorized for url: https://api.smith.langchain.com/runs/batch', '{\"detail\":\"Invalid token\"}')\n",
            "post: trace=e75e4dad-f19d-4730-9660-dc53ee02ceea,id=206efe3c-2391-443a-ac06-08b611cdd59f; trace=e75e4dad-f19d-4730-9660-dc53ee02ceea,id=22f45395-506f-4395-9806-7a946a6919b5; trace=e75e4dad-f19d-4730-9660-dc53ee02ceea,id=666cd5ab-467d-4284-9577-f7699f2ee946; trace=e75e4dad-f19d-4730-9660-dc53ee02ceea,id=d880d0be-9cfc-47d4-8367-d5b0c2917cac; trace=e75e4dad-f19d-4730-9660-dc53ee02ceea,id=e9d335f3-f143-4779-b785-c16fd219ae4f; trace=e75e4dad-f19d-4730-9660-dc53ee02ceea,id=f4478959-6e9f-4cbc-8445-699b53bc4a0c; trace=e75e4dad-f19d-4730-9660-dc53ee02ceea,id=55045964-ca08-4649-a1b1-7e7415030c7b; trace=e75e4dad-f19d-4730-9660-dc53ee02ceea,id=e99e1999-bdf2-4ca2-b4c2-f1de2053a21e; patch: trace=e75e4dad-f19d-4730-9660-dc53ee02ceea,id=9e8883af-cbe0-4b5c-962f-d0cdcafa3e24; trace=e75e4dad-f19d-4730-9660-dc53ee02ceea,id=bb611465-f7ef-4f44-9d2d-3fe059771c63; trace=e75e4dad-f19d-4730-9660-dc53ee02ceea,id=8202c94d-8ef2-4792-9136-9ffa943e3840; trace=e75e4dad-f19d-4730-9660-dc53ee02ceea,id=cacb7411-40c8-4021-bfaa-48dcf4735bfd\n",
            "Failed to batch ingest runs: langsmith.utils.LangSmithAuthError: Authentication failed for https://api.smith.langchain.com/runs/batch. HTTPError('401 Client Error: Unauthorized for url: https://api.smith.langchain.com/runs/batch', '{\"detail\":\"Invalid token\"}')\n",
            "post: trace=248a85f1-91a2-4d33-836a-9fcbdc4e5e2d,id=248a85f1-91a2-4d33-836a-9fcbdc4e5e2d; trace=248a85f1-91a2-4d33-836a-9fcbdc4e5e2d,id=b52a4d05-d1a0-4154-bc97-4727510d9dcf; trace=248a85f1-91a2-4d33-836a-9fcbdc4e5e2d,id=0a5f83cf-8a94-4388-b6b7-af6faf2fe7f7; trace=248a85f1-91a2-4d33-836a-9fcbdc4e5e2d,id=5f651f2e-dd98-4084-ad57-2a341ca9d669; trace=248a85f1-91a2-4d33-836a-9fcbdc4e5e2d,id=9cabfda2-4c99-4e5d-bb09-525fefcdf209; trace=248a85f1-91a2-4d33-836a-9fcbdc4e5e2d,id=1fdad26a-ba86-4808-8c78-dbbe3948b990; trace=248a85f1-91a2-4d33-836a-9fcbdc4e5e2d,id=7975308b-a686-4b92-928c-0a83bad676de; trace=248a85f1-91a2-4d33-836a-9fcbdc4e5e2d,id=399eb928-93f6-4fb9-95d8-d19d478f5813; trace=248a85f1-91a2-4d33-836a-9fcbdc4e5e2d,id=efa609fd-9867-445a-9c3e-74850931d4ac; patch: trace=e75e4dad-f19d-4730-9660-dc53ee02ceea,id=e9d335f3-f143-4779-b785-c16fd219ae4f; trace=e75e4dad-f19d-4730-9660-dc53ee02ceea,id=55045964-ca08-4649-a1b1-7e7415030c7b; trace=e75e4dad-f19d-4730-9660-dc53ee02ceea,id=e75e4dad-f19d-4730-9660-dc53ee02ceea; trace=e75e4dad-f19d-4730-9660-dc53ee02ceea,id=d880d0be-9cfc-47d4-8367-d5b0c2917cac\n",
            "Failed to batch ingest runs: langsmith.utils.LangSmithAuthError: Authentication failed for https://api.smith.langchain.com/runs/batch. HTTPError('401 Client Error: Unauthorized for url: https://api.smith.langchain.com/runs/batch', '{\"detail\":\"Invalid token\"}')\n",
            "post: trace=248a85f1-91a2-4d33-836a-9fcbdc4e5e2d,id=40eb4e2d-ba36-48a9-a535-77ea84916ad6; trace=248a85f1-91a2-4d33-836a-9fcbdc4e5e2d,id=3bf32b39-11e4-4c34-9b8f-ebf61b772a50; trace=248a85f1-91a2-4d33-836a-9fcbdc4e5e2d,id=7d69c4b4-3174-4df2-9b75-6a393d0948bf; trace=248a85f1-91a2-4d33-836a-9fcbdc4e5e2d,id=f7927007-5bb0-4947-a1b9-ad495957cc8e; trace=248a85f1-91a2-4d33-836a-9fcbdc4e5e2d,id=f8a271f2-6402-465c-86be-737040a24e53; trace=248a85f1-91a2-4d33-836a-9fcbdc4e5e2d,id=71b3b027-ca37-407a-8a7a-6d76163c78af; trace=248a85f1-91a2-4d33-836a-9fcbdc4e5e2d,id=b5339ebf-2b60-41ae-9d4c-3147a9345d44; trace=248a85f1-91a2-4d33-836a-9fcbdc4e5e2d,id=dd07e3f3-350f-45c6-92fc-5fda5a7db1fe; trace=248a85f1-91a2-4d33-836a-9fcbdc4e5e2d,id=df0c1b0c-64d0-4b8b-a6af-4eceba357545; trace=248a85f1-91a2-4d33-836a-9fcbdc4e5e2d,id=8bc41bce-c734-4728-b269-b83412c3c194; trace=248a85f1-91a2-4d33-836a-9fcbdc4e5e2d,id=568d0ac0-201c-4da2-af5d-45efc2022aea; trace=248a85f1-91a2-4d33-836a-9fcbdc4e5e2d,id=342ac54e-347e-4f3a-a101-671a294943ea; trace=4de45f0a-147d-4cca-9690-c2dcf504f8e7,id=4de45f0a-147d-4cca-9690-c2dcf504f8e7; trace=4de45f0a-147d-4cca-9690-c2dcf504f8e7,id=01578e06-6a44-41da-a86c-2f0cee2b18ef; trace=4de45f0a-147d-4cca-9690-c2dcf504f8e7,id=d7219500-f38b-43bb-a1b5-0614a59c010f; trace=4de45f0a-147d-4cca-9690-c2dcf504f8e7,id=57650a07-9cb8-4796-8f34-8a2420a6396d; trace=4de45f0a-147d-4cca-9690-c2dcf504f8e7,id=7000aaec-127e-475a-8484-967294516825; trace=4de45f0a-147d-4cca-9690-c2dcf504f8e7,id=1fedfe87-ed49-4c1e-8f06-f0cfd3a3a071; trace=4de45f0a-147d-4cca-9690-c2dcf504f8e7,id=5aec85dd-6d5f-45b5-83d9-c75a0e4ee870; trace=4de45f0a-147d-4cca-9690-c2dcf504f8e7,id=4f31dd0c-6c07-41ed-a726-a804f77583aa; trace=4de45f0a-147d-4cca-9690-c2dcf504f8e7,id=9225eb13-d413-4fd1-918c-96606aabba4d; patch: trace=248a85f1-91a2-4d33-836a-9fcbdc4e5e2d,id=248a85f1-91a2-4d33-836a-9fcbdc4e5e2d; trace=248a85f1-91a2-4d33-836a-9fcbdc4e5e2d,id=b52a4d05-d1a0-4154-bc97-4727510d9dcf; trace=248a85f1-91a2-4d33-836a-9fcbdc4e5e2d,id=5f651f2e-dd98-4084-ad57-2a341ca9d669; trace=248a85f1-91a2-4d33-836a-9fcbdc4e5e2d,id=1fdad26a-ba86-4808-8c78-dbbe3948b990; trace=248a85f1-91a2-4d33-836a-9fcbdc4e5e2d,id=7975308b-a686-4b92-928c-0a83bad676de; trace=248a85f1-91a2-4d33-836a-9fcbdc4e5e2d,id=efa609fd-9867-445a-9c3e-74850931d4ac\n",
            "Failed to batch ingest runs: langsmith.utils.LangSmithAuthError: Authentication failed for https://api.smith.langchain.com/runs/batch. HTTPError('401 Client Error: Unauthorized for url: https://api.smith.langchain.com/runs/batch', '{\"detail\":\"Invalid token\"}')\n",
            "post: trace=4de45f0a-147d-4cca-9690-c2dcf504f8e7,id=4d39d91e-0d0f-47f2-a9d1-b3fb5fdc32a1; trace=4de45f0a-147d-4cca-9690-c2dcf504f8e7,id=150363d7-fc4b-4190-ab94-bfce49095e6b; patch: trace=4de45f0a-147d-4cca-9690-c2dcf504f8e7,id=4f31dd0c-6c07-41ed-a726-a804f77583aa; trace=4de45f0a-147d-4cca-9690-c2dcf504f8e7,id=1fedfe87-ed49-4c1e-8f06-f0cfd3a3a071\n",
            "Failed to batch ingest runs: langsmith.utils.LangSmithAuthError: Authentication failed for https://api.smith.langchain.com/runs/batch. HTTPError('401 Client Error: Unauthorized for url: https://api.smith.langchain.com/runs/batch', '{\"detail\":\"Invalid token\"}')\n",
            "post: trace=4de45f0a-147d-4cca-9690-c2dcf504f8e7,id=d6e7bf58-09ba-4d90-a93f-c35daf1d3a50; patch: trace=4de45f0a-147d-4cca-9690-c2dcf504f8e7,id=150363d7-fc4b-4190-ab94-bfce49095e6b\n",
            "Failed to batch ingest runs: langsmith.utils.LangSmithAuthError: Authentication failed for https://api.smith.langchain.com/runs/batch. HTTPError('401 Client Error: Unauthorized for url: https://api.smith.langchain.com/runs/batch', '{\"detail\":\"Invalid token\"}')\n",
            "post: trace=4de45f0a-147d-4cca-9690-c2dcf504f8e7,id=346f91ae-7805-48cd-8eac-fabcbdd340d9; patch: trace=4de45f0a-147d-4cca-9690-c2dcf504f8e7,id=d6e7bf58-09ba-4d90-a93f-c35daf1d3a50\n",
            "Failed to batch ingest runs: langsmith.utils.LangSmithAuthError: Authentication failed for https://api.smith.langchain.com/runs/batch. HTTPError('401 Client Error: Unauthorized for url: https://api.smith.langchain.com/runs/batch', '{\"detail\":\"Invalid token\"}')\n",
            "post: trace=4de45f0a-147d-4cca-9690-c2dcf504f8e7,id=4dc45eaa-88f7-48bb-8ed3-8c6dfc95797c; trace=4de45f0a-147d-4cca-9690-c2dcf504f8e7,id=80d8c07a-6b29-4cab-bf5d-1cf8d781bb2e; trace=4de45f0a-147d-4cca-9690-c2dcf504f8e7,id=67c63c52-1194-45f2-9e37-0effdfb9352c; trace=4de45f0a-147d-4cca-9690-c2dcf504f8e7,id=741703cb-d3bd-4196-9813-cc4e2caa04b6; trace=4de45f0a-147d-4cca-9690-c2dcf504f8e7,id=0926d0c6-9b0a-4f1b-b838-28ed18de9c52; trace=4de45f0a-147d-4cca-9690-c2dcf504f8e7,id=61c01a6a-f332-4439-8e2b-795291f5c13f; trace=4de45f0a-147d-4cca-9690-c2dcf504f8e7,id=9d117b46-72b9-4182-8826-c4afb8e8156b; trace=4de45f0a-147d-4cca-9690-c2dcf504f8e7,id=be5759a6-85c4-462c-847e-988bb1c53b3c; patch: trace=4de45f0a-147d-4cca-9690-c2dcf504f8e7,id=d7219500-f38b-43bb-a1b5-0614a59c010f; trace=4de45f0a-147d-4cca-9690-c2dcf504f8e7,id=7000aaec-127e-475a-8484-967294516825; trace=4de45f0a-147d-4cca-9690-c2dcf504f8e7,id=346f91ae-7805-48cd-8eac-fabcbdd340d9; trace=4de45f0a-147d-4cca-9690-c2dcf504f8e7,id=01578e06-6a44-41da-a86c-2f0cee2b18ef\n",
            "Failed to batch ingest runs: langsmith.utils.LangSmithAuthError: Authentication failed for https://api.smith.langchain.com/runs/batch. HTTPError('401 Client Error: Unauthorized for url: https://api.smith.langchain.com/runs/batch', '{\"detail\":\"Invalid token\"}')\n",
            "patch: trace=4de45f0a-147d-4cca-9690-c2dcf504f8e7,id=0926d0c6-9b0a-4f1b-b838-28ed18de9c52; trace=4de45f0a-147d-4cca-9690-c2dcf504f8e7,id=9d117b46-72b9-4182-8826-c4afb8e8156b; trace=4de45f0a-147d-4cca-9690-c2dcf504f8e7,id=4de45f0a-147d-4cca-9690-c2dcf504f8e7; trace=4de45f0a-147d-4cca-9690-c2dcf504f8e7,id=741703cb-d3bd-4196-9813-cc4e2caa04b6\n",
            "Failed to batch ingest runs: langsmith.utils.LangSmithAuthError: Authentication failed for https://api.smith.langchain.com/runs/batch. HTTPError('401 Client Error: Unauthorized for url: https://api.smith.langchain.com/runs/batch', '{\"detail\":\"Invalid token\"}')\n",
            "post: trace=e80f7ebd-982c-4364-9d52-42e23053e6bc,id=e80f7ebd-982c-4364-9d52-42e23053e6bc; trace=e80f7ebd-982c-4364-9d52-42e23053e6bc,id=58ee06de-8320-4780-81b4-86ec068eaafa; trace=e80f7ebd-982c-4364-9d52-42e23053e6bc,id=4e4c3a55-d779-4873-9634-d34a3b5af7f1; trace=e80f7ebd-982c-4364-9d52-42e23053e6bc,id=453aaeac-dca0-4334-ab9c-2b9e6ad6fed2; trace=e80f7ebd-982c-4364-9d52-42e23053e6bc,id=7e6dd319-684b-46b1-8b69-0ba91d0fd742; trace=e80f7ebd-982c-4364-9d52-42e23053e6bc,id=5d480479-63d5-4abe-9bb9-51260825f981\n",
            "Failed to batch ingest runs: langsmith.utils.LangSmithAuthError: Authentication failed for https://api.smith.langchain.com/runs/batch. HTTPError('401 Client Error: Unauthorized for url: https://api.smith.langchain.com/runs/batch', '{\"detail\":\"Invalid token\"}')\n",
            "post: trace=e80f7ebd-982c-4364-9d52-42e23053e6bc,id=01f4b556-2ab8-46f0-8592-94761c30944c; trace=e80f7ebd-982c-4364-9d52-42e23053e6bc,id=1ee77f4e-2a0e-48d4-8abd-513171c750ad; trace=e80f7ebd-982c-4364-9d52-42e23053e6bc,id=27a27b0c-dd1a-4a1b-97b6-d6562904d204; trace=e80f7ebd-982c-4364-9d52-42e23053e6bc,id=12fd1bfa-52e3-41a2-819c-a3d5c97500af; trace=e80f7ebd-982c-4364-9d52-42e23053e6bc,id=54bdd6d6-c8f6-40e0-b546-fb1e53b0a97c; trace=e80f7ebd-982c-4364-9d52-42e23053e6bc,id=26f991e0-97a0-4d8b-94dc-bb265c901b73; trace=e80f7ebd-982c-4364-9d52-42e23053e6bc,id=d289448a-f782-431a-b800-a82cc8e87f19; trace=e80f7ebd-982c-4364-9d52-42e23053e6bc,id=eefd0be9-e9c6-4ddb-8748-80e5f385752c; patch: trace=e80f7ebd-982c-4364-9d52-42e23053e6bc,id=4e4c3a55-d779-4873-9634-d34a3b5af7f1; trace=e80f7ebd-982c-4364-9d52-42e23053e6bc,id=7e6dd319-684b-46b1-8b69-0ba91d0fd742; trace=e80f7ebd-982c-4364-9d52-42e23053e6bc,id=58ee06de-8320-4780-81b4-86ec068eaafa\n",
            "Failed to batch ingest runs: langsmith.utils.LangSmithAuthError: Authentication failed for https://api.smith.langchain.com/runs/batch. HTTPError('401 Client Error: Unauthorized for url: https://api.smith.langchain.com/runs/batch', '{\"detail\":\"Invalid token\"}')\n",
            "post: trace=49459bd9-2cb5-4983-abe8-8bb1ee9b2b6d,id=49459bd9-2cb5-4983-abe8-8bb1ee9b2b6d; trace=49459bd9-2cb5-4983-abe8-8bb1ee9b2b6d,id=b338cb1c-2a9d-413b-b4d9-4fafc5ecb481; trace=49459bd9-2cb5-4983-abe8-8bb1ee9b2b6d,id=6647b992-0934-4880-b754-75fc948dbe38; trace=49459bd9-2cb5-4983-abe8-8bb1ee9b2b6d,id=2b1b8644-3b65-41e5-a307-05dafd5e3637; trace=49459bd9-2cb5-4983-abe8-8bb1ee9b2b6d,id=6e69f249-10a1-4c00-b7d4-f7bbcafaed01; trace=49459bd9-2cb5-4983-abe8-8bb1ee9b2b6d,id=a6f55dac-3a04-4521-8b79-884bb0038632; patch: trace=e80f7ebd-982c-4364-9d52-42e23053e6bc,id=54bdd6d6-c8f6-40e0-b546-fb1e53b0a97c; trace=e80f7ebd-982c-4364-9d52-42e23053e6bc,id=d289448a-f782-431a-b800-a82cc8e87f19; trace=e80f7ebd-982c-4364-9d52-42e23053e6bc,id=e80f7ebd-982c-4364-9d52-42e23053e6bc; trace=e80f7ebd-982c-4364-9d52-42e23053e6bc,id=12fd1bfa-52e3-41a2-819c-a3d5c97500af\n",
            "Failed to batch ingest runs: langsmith.utils.LangSmithAuthError: Authentication failed for https://api.smith.langchain.com/runs/batch. HTTPError('401 Client Error: Unauthorized for url: https://api.smith.langchain.com/runs/batch', '{\"detail\":\"Invalid token\"}')\n",
            "post: trace=49459bd9-2cb5-4983-abe8-8bb1ee9b2b6d,id=98623739-2292-4cd9-a798-cba01223bf2a; trace=49459bd9-2cb5-4983-abe8-8bb1ee9b2b6d,id=bcd1fabc-3e94-421a-9d1c-52fcb0772fce; trace=49459bd9-2cb5-4983-abe8-8bb1ee9b2b6d,id=17c82cef-0d74-445f-a160-adc220f7d093; trace=49459bd9-2cb5-4983-abe8-8bb1ee9b2b6d,id=781098ed-3cf3-4c28-9d4a-cede1667dc99; trace=49459bd9-2cb5-4983-abe8-8bb1ee9b2b6d,id=3ddf4ca3-d3a2-4646-badb-011e4858a140; trace=49459bd9-2cb5-4983-abe8-8bb1ee9b2b6d,id=78d9656e-e160-4770-aafb-4fda32574a96; trace=49459bd9-2cb5-4983-abe8-8bb1ee9b2b6d,id=cb64f99c-3087-4fb1-a724-833c9499dbe6; trace=49459bd9-2cb5-4983-abe8-8bb1ee9b2b6d,id=ce8d64fd-3458-4f69-b107-4a02d38f2775; patch: trace=49459bd9-2cb5-4983-abe8-8bb1ee9b2b6d,id=2b1b8644-3b65-41e5-a307-05dafd5e3637; trace=49459bd9-2cb5-4983-abe8-8bb1ee9b2b6d,id=a6f55dac-3a04-4521-8b79-884bb0038632; trace=49459bd9-2cb5-4983-abe8-8bb1ee9b2b6d,id=b338cb1c-2a9d-413b-b4d9-4fafc5ecb481\n",
            "Failed to batch ingest runs: langsmith.utils.LangSmithAuthError: Authentication failed for https://api.smith.langchain.com/runs/batch. HTTPError('401 Client Error: Unauthorized for url: https://api.smith.langchain.com/runs/batch', '{\"detail\":\"Invalid token\"}')\n",
            "post: trace=62123259-a4a9-4f1a-ae89-a09c3fc032d3,id=62123259-a4a9-4f1a-ae89-a09c3fc032d3; trace=62123259-a4a9-4f1a-ae89-a09c3fc032d3,id=32af1ead-b5f4-4da0-ae3f-c1a4bec74b93; trace=62123259-a4a9-4f1a-ae89-a09c3fc032d3,id=4a6b42a6-52ee-4736-8246-a2ac3ace4896; trace=62123259-a4a9-4f1a-ae89-a09c3fc032d3,id=9ece0c57-49f9-4f14-b35b-085e0e1fcc30; trace=62123259-a4a9-4f1a-ae89-a09c3fc032d3,id=ef7de1ac-755d-444d-8a12-3d56d59a8f0f; trace=62123259-a4a9-4f1a-ae89-a09c3fc032d3,id=0e4d77e2-e3dc-45eb-b11f-e3e94ea51540; patch: trace=49459bd9-2cb5-4983-abe8-8bb1ee9b2b6d,id=3ddf4ca3-d3a2-4646-badb-011e4858a140; trace=49459bd9-2cb5-4983-abe8-8bb1ee9b2b6d,id=cb64f99c-3087-4fb1-a724-833c9499dbe6; trace=49459bd9-2cb5-4983-abe8-8bb1ee9b2b6d,id=49459bd9-2cb5-4983-abe8-8bb1ee9b2b6d; trace=49459bd9-2cb5-4983-abe8-8bb1ee9b2b6d,id=781098ed-3cf3-4c28-9d4a-cede1667dc99\n",
            "Failed to batch ingest runs: langsmith.utils.LangSmithAuthError: Authentication failed for https://api.smith.langchain.com/runs/batch. HTTPError('401 Client Error: Unauthorized for url: https://api.smith.langchain.com/runs/batch', '{\"detail\":\"Invalid token\"}')\n",
            "post: trace=62123259-a4a9-4f1a-ae89-a09c3fc032d3,id=b9afee3d-bad9-47e4-bee2-219afacf91cc; trace=62123259-a4a9-4f1a-ae89-a09c3fc032d3,id=a2abf5b3-3814-4f22-a2b2-9abc2a960ea4; trace=62123259-a4a9-4f1a-ae89-a09c3fc032d3,id=48799835-a305-4e5e-8c06-ddee27964b65; trace=62123259-a4a9-4f1a-ae89-a09c3fc032d3,id=0a2e47bd-5fe6-4547-a535-f111923e4ad7; trace=62123259-a4a9-4f1a-ae89-a09c3fc032d3,id=510af9cd-59f1-48da-adcf-2f05931b944b; trace=62123259-a4a9-4f1a-ae89-a09c3fc032d3,id=74bded66-1523-48d8-9d6c-a2dc3cca29d1; trace=62123259-a4a9-4f1a-ae89-a09c3fc032d3,id=4e3bb07b-dcc8-41d1-a653-617111deb5b2; trace=62123259-a4a9-4f1a-ae89-a09c3fc032d3,id=4af9cdbb-d083-41bf-bfef-b907252cc992; trace=29d2b173-5643-41c8-bd19-b45bbbddc814,id=29d2b173-5643-41c8-bd19-b45bbbddc814; trace=29d2b173-5643-41c8-bd19-b45bbbddc814,id=1791d47e-c4d2-46d4-be74-7141ab63576d; trace=29d2b173-5643-41c8-bd19-b45bbbddc814,id=27b97023-7745-4489-a532-b38b4360e72c; trace=29d2b173-5643-41c8-bd19-b45bbbddc814,id=bf475e8e-97e5-4ca8-94d2-c9f00677d5d2; trace=29d2b173-5643-41c8-bd19-b45bbbddc814,id=5a63c2b9-c160-499d-84f0-1f13d3e21b64; trace=29d2b173-5643-41c8-bd19-b45bbbddc814,id=0c054685-682e-4919-a512-88cffd9ea2fa; trace=29d2b173-5643-41c8-bd19-b45bbbddc814,id=422d8a80-b94b-4094-8806-be0114d7e407; trace=29d2b173-5643-41c8-bd19-b45bbbddc814,id=be2433b2-e0a8-44f7-9970-08d3fe7ad920; trace=29d2b173-5643-41c8-bd19-b45bbbddc814,id=02bd91e6-f89e-41c9-aa41-f9791c7d80cb; trace=29d2b173-5643-41c8-bd19-b45bbbddc814,id=bad51fb7-e8f3-4ee6-a11c-6e0d633fd7d1; trace=29d2b173-5643-41c8-bd19-b45bbbddc814,id=eaad36b4-298a-44db-8071-fc29042290b2; patch: trace=62123259-a4a9-4f1a-ae89-a09c3fc032d3,id=62123259-a4a9-4f1a-ae89-a09c3fc032d3; trace=62123259-a4a9-4f1a-ae89-a09c3fc032d3,id=32af1ead-b5f4-4da0-ae3f-c1a4bec74b93; trace=62123259-a4a9-4f1a-ae89-a09c3fc032d3,id=4a6b42a6-52ee-4736-8246-a2ac3ace4896; trace=62123259-a4a9-4f1a-ae89-a09c3fc032d3,id=ef7de1ac-755d-444d-8a12-3d56d59a8f0f\n",
            "Failed to batch ingest runs: langsmith.utils.LangSmithAuthError: Authentication failed for https://api.smith.langchain.com/runs/batch. HTTPError('401 Client Error: Unauthorized for url: https://api.smith.langchain.com/runs/batch', '{\"detail\":\"Invalid token\"}')\n",
            "patch: trace=29d2b173-5643-41c8-bd19-b45bbbddc814,id=bad51fb7-e8f3-4ee6-a11c-6e0d633fd7d1\n",
            "Failed to batch ingest runs: langsmith.utils.LangSmithAuthError: Authentication failed for https://api.smith.langchain.com/runs/batch. HTTPError('401 Client Error: Unauthorized for url: https://api.smith.langchain.com/runs/batch', '{\"detail\":\"Invalid token\"}')\n",
            "post: trace=29d2b173-5643-41c8-bd19-b45bbbddc814,id=88274962-864e-4b8c-aa2f-f47594d89cdd; trace=29d2b173-5643-41c8-bd19-b45bbbddc814,id=3e85a9bd-36f3-400a-aa06-c34c9fc4b81e; trace=29d2b173-5643-41c8-bd19-b45bbbddc814,id=687afe1b-a3d8-40d7-8545-21f9a5429112; trace=29d2b173-5643-41c8-bd19-b45bbbddc814,id=fa64b00a-67b9-444f-8b15-0ba4f7e5396f; patch: trace=29d2b173-5643-41c8-bd19-b45bbbddc814,id=02bd91e6-f89e-41c9-aa41-f9791c7d80cb\n",
            "Failed to batch ingest runs: langsmith.utils.LangSmithAuthError: Authentication failed for https://api.smith.langchain.com/runs/batch. HTTPError('401 Client Error: Unauthorized for url: https://api.smith.langchain.com/runs/batch', '{\"detail\":\"Invalid token\"}')\n",
            "post: trace=29d2b173-5643-41c8-bd19-b45bbbddc814,id=5761878f-4bc2-4229-a3a0-de76fbbb182a; trace=29d2b173-5643-41c8-bd19-b45bbbddc814,id=acc55e7e-34d0-488c-9d32-5abcf27095e5; patch: trace=29d2b173-5643-41c8-bd19-b45bbbddc814,id=3e85a9bd-36f3-400a-aa06-c34c9fc4b81e; trace=29d2b173-5643-41c8-bd19-b45bbbddc814,id=fa64b00a-67b9-444f-8b15-0ba4f7e5396f\n",
            "Failed to batch ingest runs: langsmith.utils.LangSmithAuthError: Authentication failed for https://api.smith.langchain.com/runs/batch. HTTPError('401 Client Error: Unauthorized for url: https://api.smith.langchain.com/runs/batch', '{\"detail\":\"Invalid token\"}')\n",
            "post: trace=29d2b173-5643-41c8-bd19-b45bbbddc814,id=56711d23-e326-4815-a563-d1a4424621dc; patch: trace=29d2b173-5643-41c8-bd19-b45bbbddc814,id=acc55e7e-34d0-488c-9d32-5abcf27095e5\n",
            "Failed to batch ingest runs: langsmith.utils.LangSmithAuthError: Authentication failed for https://api.smith.langchain.com/runs/batch. HTTPError('401 Client Error: Unauthorized for url: https://api.smith.langchain.com/runs/batch', '{\"detail\":\"Invalid token\"}')\n",
            "post: trace=29d2b173-5643-41c8-bd19-b45bbbddc814,id=95999daf-8829-4167-a6ad-68de9895ef16; patch: trace=29d2b173-5643-41c8-bd19-b45bbbddc814,id=56711d23-e326-4815-a563-d1a4424621dc\n",
            "Failed to batch ingest runs: langsmith.utils.LangSmithAuthError: Authentication failed for https://api.smith.langchain.com/runs/batch. HTTPError('401 Client Error: Unauthorized for url: https://api.smith.langchain.com/runs/batch', '{\"detail\":\"Invalid token\"}')\n",
            "post: trace=29d2b173-5643-41c8-bd19-b45bbbddc814,id=bed0d0d5-ade2-467f-ae97-9d4ad09d3e33; trace=29d2b173-5643-41c8-bd19-b45bbbddc814,id=288c8bb9-dba0-4291-b8ac-44a4b758de35; trace=29d2b173-5643-41c8-bd19-b45bbbddc814,id=e7735f2d-9c00-4cbd-9b5e-6e389e571e09; trace=29d2b173-5643-41c8-bd19-b45bbbddc814,id=64304952-014f-47a3-8fdb-b048793be50a; trace=29d2b173-5643-41c8-bd19-b45bbbddc814,id=eaf122e6-dc07-4194-b20b-925ae2391b69; trace=29d2b173-5643-41c8-bd19-b45bbbddc814,id=664a36a4-8ac0-4f8d-bb21-a02d571eeb1a; trace=29d2b173-5643-41c8-bd19-b45bbbddc814,id=a92f5e5c-d91b-4dea-87c4-32b45c81ecad; trace=29d2b173-5643-41c8-bd19-b45bbbddc814,id=f6e85669-e9bb-40ed-acb3-0ba5d415506c; patch: trace=29d2b173-5643-41c8-bd19-b45bbbddc814,id=27b97023-7745-4489-a532-b38b4360e72c; trace=29d2b173-5643-41c8-bd19-b45bbbddc814,id=5a63c2b9-c160-499d-84f0-1f13d3e21b64; trace=29d2b173-5643-41c8-bd19-b45bbbddc814,id=88274962-864e-4b8c-aa2f-f47594d89cdd; trace=29d2b173-5643-41c8-bd19-b45bbbddc814,id=95999daf-8829-4167-a6ad-68de9895ef16; trace=29d2b173-5643-41c8-bd19-b45bbbddc814,id=1791d47e-c4d2-46d4-be74-7141ab63576d\n",
            "Failed to batch ingest runs: langsmith.utils.LangSmithAuthError: Authentication failed for https://api.smith.langchain.com/runs/batch. HTTPError('401 Client Error: Unauthorized for url: https://api.smith.langchain.com/runs/batch', '{\"detail\":\"Invalid token\"}')\n",
            "post: trace=f0095f5b-9bde-42ad-8a03-bdeb0af0d994,id=f0095f5b-9bde-42ad-8a03-bdeb0af0d994; trace=f0095f5b-9bde-42ad-8a03-bdeb0af0d994,id=95692c70-6b3f-40bd-bb4e-ef4887da87fc; trace=f0095f5b-9bde-42ad-8a03-bdeb0af0d994,id=e6f9c78f-5493-4f0c-8cc9-d890b4a8530d; trace=f0095f5b-9bde-42ad-8a03-bdeb0af0d994,id=688f07c6-0292-4dc8-835f-80a5e43d967f; trace=f0095f5b-9bde-42ad-8a03-bdeb0af0d994,id=611458e8-744e-4916-a4c1-2e5e7c080b0e; trace=f0095f5b-9bde-42ad-8a03-bdeb0af0d994,id=7ad82eb2-68d5-4e95-b9ed-6e0ed2553db7; trace=f0095f5b-9bde-42ad-8a03-bdeb0af0d994,id=97b921ba-c3b4-4049-b8bf-1f8446789941; trace=f0095f5b-9bde-42ad-8a03-bdeb0af0d994,id=e04e8f0b-826a-4d09-974d-669788f4c3eb; patch: trace=29d2b173-5643-41c8-bd19-b45bbbddc814,id=eaf122e6-dc07-4194-b20b-925ae2391b69; trace=29d2b173-5643-41c8-bd19-b45bbbddc814,id=a92f5e5c-d91b-4dea-87c4-32b45c81ecad; trace=29d2b173-5643-41c8-bd19-b45bbbddc814,id=29d2b173-5643-41c8-bd19-b45bbbddc814; trace=29d2b173-5643-41c8-bd19-b45bbbddc814,id=64304952-014f-47a3-8fdb-b048793be50a\n",
            "Failed to batch ingest runs: langsmith.utils.LangSmithAuthError: Authentication failed for https://api.smith.langchain.com/runs/batch. HTTPError('401 Client Error: Unauthorized for url: https://api.smith.langchain.com/runs/batch', '{\"detail\":\"Invalid token\"}')\n",
            "post: trace=f0095f5b-9bde-42ad-8a03-bdeb0af0d994,id=298a3707-631b-4c46-9a9c-6688c5a1d5cc; patch: trace=f0095f5b-9bde-42ad-8a03-bdeb0af0d994,id=97b921ba-c3b4-4049-b8bf-1f8446789941\n",
            "Failed to batch ingest runs: langsmith.utils.LangSmithAuthError: Authentication failed for https://api.smith.langchain.com/runs/batch. HTTPError('401 Client Error: Unauthorized for url: https://api.smith.langchain.com/runs/batch', '{\"detail\":\"Invalid token\"}')\n",
            "post: trace=f0095f5b-9bde-42ad-8a03-bdeb0af0d994,id=cd1d60f6-1c7f-4d64-aa88-7a16e91ee9e1; trace=f0095f5b-9bde-42ad-8a03-bdeb0af0d994,id=7f959b59-a211-435c-9eee-2146e0faeba0; patch: trace=f0095f5b-9bde-42ad-8a03-bdeb0af0d994,id=298a3707-631b-4c46-9a9c-6688c5a1d5cc\n",
            "Failed to batch ingest runs: langsmith.utils.LangSmithAuthError: Authentication failed for https://api.smith.langchain.com/runs/batch. HTTPError('401 Client Error: Unauthorized for url: https://api.smith.langchain.com/runs/batch', '{\"detail\":\"Invalid token\"}')\n",
            "patch: trace=f0095f5b-9bde-42ad-8a03-bdeb0af0d994,id=7f959b59-a211-435c-9eee-2146e0faeba0\n",
            "Failed to batch ingest runs: langsmith.utils.LangSmithAuthError: Authentication failed for https://api.smith.langchain.com/runs/batch. HTTPError('401 Client Error: Unauthorized for url: https://api.smith.langchain.com/runs/batch', '{\"detail\":\"Invalid token\"}')\n",
            "post: trace=f0095f5b-9bde-42ad-8a03-bdeb0af0d994,id=9003d4fc-b007-4571-ab1a-b4eacb48f5f4; trace=f0095f5b-9bde-42ad-8a03-bdeb0af0d994,id=09ba4859-4670-4934-b5e5-6bff008fbe86; trace=f0095f5b-9bde-42ad-8a03-bdeb0af0d994,id=0d08b998-fbd4-499b-af66-d0803ae31c35; trace=f0095f5b-9bde-42ad-8a03-bdeb0af0d994,id=fb28a46a-801e-4f12-9970-1f28ef0864df; patch: trace=f0095f5b-9bde-42ad-8a03-bdeb0af0d994,id=cd1d60f6-1c7f-4d64-aa88-7a16e91ee9e1\n",
            "Failed to batch ingest runs: langsmith.utils.LangSmithAuthError: Authentication failed for https://api.smith.langchain.com/runs/batch. HTTPError('401 Client Error: Unauthorized for url: https://api.smith.langchain.com/runs/batch', '{\"detail\":\"Invalid token\"}')\n",
            "post: trace=f0095f5b-9bde-42ad-8a03-bdeb0af0d994,id=7676cf5c-da31-4336-8708-2e333e3b9233; trace=f0095f5b-9bde-42ad-8a03-bdeb0af0d994,id=1ba20289-88e8-40a9-b267-e30a415211b2; patch: trace=f0095f5b-9bde-42ad-8a03-bdeb0af0d994,id=fb28a46a-801e-4f12-9970-1f28ef0864df; trace=f0095f5b-9bde-42ad-8a03-bdeb0af0d994,id=09ba4859-4670-4934-b5e5-6bff008fbe86\n",
            "Failed to batch ingest runs: langsmith.utils.LangSmithAuthError: Authentication failed for https://api.smith.langchain.com/runs/batch. HTTPError('401 Client Error: Unauthorized for url: https://api.smith.langchain.com/runs/batch', '{\"detail\":\"Invalid token\"}')\n",
            "post: trace=f0095f5b-9bde-42ad-8a03-bdeb0af0d994,id=ea820721-bb71-41a2-a1f2-4e2267ff24d4; patch: trace=f0095f5b-9bde-42ad-8a03-bdeb0af0d994,id=1ba20289-88e8-40a9-b267-e30a415211b2\n",
            "Failed to batch ingest runs: langsmith.utils.LangSmithAuthError: Authentication failed for https://api.smith.langchain.com/runs/batch. HTTPError('401 Client Error: Unauthorized for url: https://api.smith.langchain.com/runs/batch', '{\"detail\":\"Invalid token\"}')\n",
            "post: trace=f0095f5b-9bde-42ad-8a03-bdeb0af0d994,id=701e9053-638e-48ec-948c-7a14b7df58a3; patch: trace=f0095f5b-9bde-42ad-8a03-bdeb0af0d994,id=ea820721-bb71-41a2-a1f2-4e2267ff24d4\n",
            "Failed to batch ingest runs: langsmith.utils.LangSmithAuthError: Authentication failed for https://api.smith.langchain.com/runs/batch. HTTPError('401 Client Error: Unauthorized for url: https://api.smith.langchain.com/runs/batch', '{\"detail\":\"Invalid token\"}')\n",
            "post: trace=f0095f5b-9bde-42ad-8a03-bdeb0af0d994,id=838aa597-5840-40e1-9e84-772e3dba73c1; trace=f0095f5b-9bde-42ad-8a03-bdeb0af0d994,id=8b8cfa05-d924-4101-b14e-c56f5cbac97a; trace=f0095f5b-9bde-42ad-8a03-bdeb0af0d994,id=5e119286-2463-41c7-a81c-a98c6a201478; trace=f0095f5b-9bde-42ad-8a03-bdeb0af0d994,id=f7f16be2-784b-46c0-96fa-ce1ac0fba147; trace=f0095f5b-9bde-42ad-8a03-bdeb0af0d994,id=f822ed27-0940-49d0-b601-c82ee08849b2; trace=f0095f5b-9bde-42ad-8a03-bdeb0af0d994,id=63b1b027-d372-4aaa-a51b-74cd3529e429; trace=f0095f5b-9bde-42ad-8a03-bdeb0af0d994,id=aacc30db-66df-4ab6-8991-3d5a9247ed7a; trace=f0095f5b-9bde-42ad-8a03-bdeb0af0d994,id=27e0ef7c-6ed8-4f15-8f2d-d4a4fd636ef9; patch: trace=f0095f5b-9bde-42ad-8a03-bdeb0af0d994,id=e6f9c78f-5493-4f0c-8cc9-d890b4a8530d; trace=f0095f5b-9bde-42ad-8a03-bdeb0af0d994,id=611458e8-744e-4916-a4c1-2e5e7c080b0e; trace=f0095f5b-9bde-42ad-8a03-bdeb0af0d994,id=9003d4fc-b007-4571-ab1a-b4eacb48f5f4; trace=f0095f5b-9bde-42ad-8a03-bdeb0af0d994,id=701e9053-638e-48ec-948c-7a14b7df58a3; trace=f0095f5b-9bde-42ad-8a03-bdeb0af0d994,id=95692c70-6b3f-40bd-bb4e-ef4887da87fc\n",
            "Failed to batch ingest runs: langsmith.utils.LangSmithAuthError: Authentication failed for https://api.smith.langchain.com/runs/batch. HTTPError('401 Client Error: Unauthorized for url: https://api.smith.langchain.com/runs/batch', '{\"detail\":\"Invalid token\"}')\n",
            "post: trace=e58428c5-d3bb-4407-ad1e-fcaf91d9bf1e,id=e58428c5-d3bb-4407-ad1e-fcaf91d9bf1e; trace=e58428c5-d3bb-4407-ad1e-fcaf91d9bf1e,id=e331520e-8bf4-4293-8a5c-d20826bf92d0; trace=e58428c5-d3bb-4407-ad1e-fcaf91d9bf1e,id=07a4fde8-cfcc-4bda-8f78-91de9cf02c44; trace=e58428c5-d3bb-4407-ad1e-fcaf91d9bf1e,id=06fe3f30-21fe-4de9-b105-5258d4bc92d3; trace=e58428c5-d3bb-4407-ad1e-fcaf91d9bf1e,id=0e8d57bc-5e7b-4532-831e-c331518dd390; trace=e58428c5-d3bb-4407-ad1e-fcaf91d9bf1e,id=f94e610e-faad-49c8-b27d-75f6031f28e6; trace=e58428c5-d3bb-4407-ad1e-fcaf91d9bf1e,id=6e826355-d672-4ae7-944a-c1f5e51d5786; trace=e58428c5-d3bb-4407-ad1e-fcaf91d9bf1e,id=0393302e-c01d-4bff-869d-91edd10646ff; patch: trace=f0095f5b-9bde-42ad-8a03-bdeb0af0d994,id=f822ed27-0940-49d0-b601-c82ee08849b2; trace=f0095f5b-9bde-42ad-8a03-bdeb0af0d994,id=aacc30db-66df-4ab6-8991-3d5a9247ed7a; trace=f0095f5b-9bde-42ad-8a03-bdeb0af0d994,id=f0095f5b-9bde-42ad-8a03-bdeb0af0d994; trace=f0095f5b-9bde-42ad-8a03-bdeb0af0d994,id=f7f16be2-784b-46c0-96fa-ce1ac0fba147\n",
            "Failed to batch ingest runs: langsmith.utils.LangSmithAuthError: Authentication failed for https://api.smith.langchain.com/runs/batch. HTTPError('401 Client Error: Unauthorized for url: https://api.smith.langchain.com/runs/batch', '{\"detail\":\"Invalid token\"}')\n",
            "post: trace=e58428c5-d3bb-4407-ad1e-fcaf91d9bf1e,id=99e7a043-2566-4c08-adf7-24d86e8259f4; patch: trace=e58428c5-d3bb-4407-ad1e-fcaf91d9bf1e,id=0393302e-c01d-4bff-869d-91edd10646ff\n",
            "Failed to batch ingest runs: langsmith.utils.LangSmithAuthError: Authentication failed for https://api.smith.langchain.com/runs/batch. HTTPError('401 Client Error: Unauthorized for url: https://api.smith.langchain.com/runs/batch', '{\"detail\":\"Invalid token\"}')\n",
            "post: trace=e58428c5-d3bb-4407-ad1e-fcaf91d9bf1e,id=02c64413-d838-44f8-9370-4e0c81692ee0; trace=e58428c5-d3bb-4407-ad1e-fcaf91d9bf1e,id=a08e141a-d8ef-4129-b12d-7b1889397fbf; patch: trace=e58428c5-d3bb-4407-ad1e-fcaf91d9bf1e,id=99e7a043-2566-4c08-adf7-24d86e8259f4\n",
            "Failed to batch ingest runs: langsmith.utils.LangSmithAuthError: Authentication failed for https://api.smith.langchain.com/runs/batch. HTTPError('401 Client Error: Unauthorized for url: https://api.smith.langchain.com/runs/batch', '{\"detail\":\"Invalid token\"}')\n",
            "patch: trace=e58428c5-d3bb-4407-ad1e-fcaf91d9bf1e,id=a08e141a-d8ef-4129-b12d-7b1889397fbf\n",
            "Failed to batch ingest runs: langsmith.utils.LangSmithAuthError: Authentication failed for https://api.smith.langchain.com/runs/batch. HTTPError('401 Client Error: Unauthorized for url: https://api.smith.langchain.com/runs/batch', '{\"detail\":\"Invalid token\"}')\n",
            "post: trace=e58428c5-d3bb-4407-ad1e-fcaf91d9bf1e,id=d010c830-e360-4780-b154-1b89498eaae6; trace=e58428c5-d3bb-4407-ad1e-fcaf91d9bf1e,id=f003e89e-8da3-4281-83eb-4578b60ba8a9; trace=e58428c5-d3bb-4407-ad1e-fcaf91d9bf1e,id=d3abafbc-d483-4a2a-a36a-2c77a1027cff; trace=e58428c5-d3bb-4407-ad1e-fcaf91d9bf1e,id=6e706282-7704-4253-a178-38d99a999863; patch: trace=e58428c5-d3bb-4407-ad1e-fcaf91d9bf1e,id=02c64413-d838-44f8-9370-4e0c81692ee0\n",
            "Failed to batch ingest runs: langsmith.utils.LangSmithAuthError: Authentication failed for https://api.smith.langchain.com/runs/batch. HTTPError('401 Client Error: Unauthorized for url: https://api.smith.langchain.com/runs/batch', '{\"detail\":\"Invalid token\"}')\n",
            "post: trace=e58428c5-d3bb-4407-ad1e-fcaf91d9bf1e,id=1034b056-cc96-4d4a-9426-204f783a4b47; trace=e58428c5-d3bb-4407-ad1e-fcaf91d9bf1e,id=c16dc1be-2392-4b55-9366-e9cdf7bfc428; patch: trace=e58428c5-d3bb-4407-ad1e-fcaf91d9bf1e,id=f003e89e-8da3-4281-83eb-4578b60ba8a9; trace=e58428c5-d3bb-4407-ad1e-fcaf91d9bf1e,id=6e706282-7704-4253-a178-38d99a999863\n",
            "Failed to batch ingest runs: langsmith.utils.LangSmithAuthError: Authentication failed for https://api.smith.langchain.com/runs/batch. HTTPError('401 Client Error: Unauthorized for url: https://api.smith.langchain.com/runs/batch', '{\"detail\":\"Invalid token\"}')\n",
            "post: trace=e58428c5-d3bb-4407-ad1e-fcaf91d9bf1e,id=d465b7d2-553a-4e20-b8fe-275fe6d69fbd; patch: trace=e58428c5-d3bb-4407-ad1e-fcaf91d9bf1e,id=c16dc1be-2392-4b55-9366-e9cdf7bfc428\n",
            "Failed to batch ingest runs: langsmith.utils.LangSmithAuthError: Authentication failed for https://api.smith.langchain.com/runs/batch. HTTPError('401 Client Error: Unauthorized for url: https://api.smith.langchain.com/runs/batch', '{\"detail\":\"Invalid token\"}')\n",
            "post: trace=e58428c5-d3bb-4407-ad1e-fcaf91d9bf1e,id=31a5449b-d649-497b-8836-6692b8107a05; patch: trace=e58428c5-d3bb-4407-ad1e-fcaf91d9bf1e,id=d465b7d2-553a-4e20-b8fe-275fe6d69fbd\n",
            "Failed to batch ingest runs: langsmith.utils.LangSmithAuthError: Authentication failed for https://api.smith.langchain.com/runs/batch. HTTPError('401 Client Error: Unauthorized for url: https://api.smith.langchain.com/runs/batch', '{\"detail\":\"Invalid token\"}')\n",
            "post: trace=e58428c5-d3bb-4407-ad1e-fcaf91d9bf1e,id=e38acdbc-af29-4fb0-bdfa-045ff1ff9820; trace=e58428c5-d3bb-4407-ad1e-fcaf91d9bf1e,id=c738c2dd-60f1-4c13-b9ee-334cf4093212; trace=e58428c5-d3bb-4407-ad1e-fcaf91d9bf1e,id=ddf65940-18b2-42ca-8d30-b84cda5c2e5c; trace=e58428c5-d3bb-4407-ad1e-fcaf91d9bf1e,id=3809da02-45bf-4ae3-ac4a-e245db013da2; trace=e58428c5-d3bb-4407-ad1e-fcaf91d9bf1e,id=09916551-a8bc-45fd-bdaf-7a818074b4ea; trace=e58428c5-d3bb-4407-ad1e-fcaf91d9bf1e,id=b73baa5d-809b-493f-88aa-128ad115b31d; trace=e58428c5-d3bb-4407-ad1e-fcaf91d9bf1e,id=012a2768-8022-43ee-b3f2-be2f8792282c; trace=e58428c5-d3bb-4407-ad1e-fcaf91d9bf1e,id=fa4b1fea-4540-4f40-bd6c-ec991173630d; patch: trace=e58428c5-d3bb-4407-ad1e-fcaf91d9bf1e,id=07a4fde8-cfcc-4bda-8f78-91de9cf02c44; trace=e58428c5-d3bb-4407-ad1e-fcaf91d9bf1e,id=f94e610e-faad-49c8-b27d-75f6031f28e6; trace=e58428c5-d3bb-4407-ad1e-fcaf91d9bf1e,id=d010c830-e360-4780-b154-1b89498eaae6; trace=e58428c5-d3bb-4407-ad1e-fcaf91d9bf1e,id=31a5449b-d649-497b-8836-6692b8107a05; trace=e58428c5-d3bb-4407-ad1e-fcaf91d9bf1e,id=e331520e-8bf4-4293-8a5c-d20826bf92d0\n",
            "Failed to batch ingest runs: langsmith.utils.LangSmithAuthError: Authentication failed for https://api.smith.langchain.com/runs/batch. HTTPError('401 Client Error: Unauthorized for url: https://api.smith.langchain.com/runs/batch', '{\"detail\":\"Invalid token\"}')\n",
            "patch: trace=e58428c5-d3bb-4407-ad1e-fcaf91d9bf1e,id=09916551-a8bc-45fd-bdaf-7a818074b4ea; trace=e58428c5-d3bb-4407-ad1e-fcaf91d9bf1e,id=012a2768-8022-43ee-b3f2-be2f8792282c; trace=e58428c5-d3bb-4407-ad1e-fcaf91d9bf1e,id=e58428c5-d3bb-4407-ad1e-fcaf91d9bf1e; trace=e58428c5-d3bb-4407-ad1e-fcaf91d9bf1e,id=3809da02-45bf-4ae3-ac4a-e245db013da2\n",
            "Failed to batch ingest runs: langsmith.utils.LangSmithAuthError: Authentication failed for https://api.smith.langchain.com/runs/batch. HTTPError('401 Client Error: Unauthorized for url: https://api.smith.langchain.com/runs/batch', '{\"detail\":\"Invalid token\"}')\n",
            "post: trace=3325ceee-77bd-4afc-b30d-fde876d57d8a,id=3325ceee-77bd-4afc-b30d-fde876d57d8a; trace=3325ceee-77bd-4afc-b30d-fde876d57d8a,id=ad73e26e-5bb4-4e82-98e1-46e9b322b42c; trace=3325ceee-77bd-4afc-b30d-fde876d57d8a,id=cf6e5163-3ddf-4abb-bf7a-6bd618a48256; trace=3325ceee-77bd-4afc-b30d-fde876d57d8a,id=82b5a256-3046-45fb-8343-67deca257163; trace=3325ceee-77bd-4afc-b30d-fde876d57d8a,id=164e8c38-b9a4-4efb-ad2a-570b0c1d9464; trace=3325ceee-77bd-4afc-b30d-fde876d57d8a,id=b664c68f-ce0f-42d6-a45e-e07a2456da8f; trace=3325ceee-77bd-4afc-b30d-fde876d57d8a,id=579c325e-cc1a-416c-8c4a-3e9a77ca0efa; trace=3325ceee-77bd-4afc-b30d-fde876d57d8a,id=82fb7165-4865-430e-8758-5c692d6ac3da\n",
            "Failed to batch ingest runs: langsmith.utils.LangSmithAuthError: Authentication failed for https://api.smith.langchain.com/runs/batch. HTTPError('401 Client Error: Unauthorized for url: https://api.smith.langchain.com/runs/batch', '{\"detail\":\"Invalid token\"}')\n",
            "post: trace=3325ceee-77bd-4afc-b30d-fde876d57d8a,id=a7972d83-ed0e-4c99-ab7b-31fd737dc2a2; patch: trace=3325ceee-77bd-4afc-b30d-fde876d57d8a,id=579c325e-cc1a-416c-8c4a-3e9a77ca0efa\n",
            "Failed to batch ingest runs: langsmith.utils.LangSmithAuthError: Authentication failed for https://api.smith.langchain.com/runs/batch. HTTPError('401 Client Error: Unauthorized for url: https://api.smith.langchain.com/runs/batch', '{\"detail\":\"Invalid token\"}')\n",
            "post: trace=3325ceee-77bd-4afc-b30d-fde876d57d8a,id=aa863f05-059d-4623-91a7-6784e007d566; trace=3325ceee-77bd-4afc-b30d-fde876d57d8a,id=d5ec6247-9a87-44c5-9a6b-314c66298791; patch: trace=3325ceee-77bd-4afc-b30d-fde876d57d8a,id=a7972d83-ed0e-4c99-ab7b-31fd737dc2a2\n",
            "Failed to batch ingest runs: langsmith.utils.LangSmithAuthError: Authentication failed for https://api.smith.langchain.com/runs/batch. HTTPError('401 Client Error: Unauthorized for url: https://api.smith.langchain.com/runs/batch', '{\"detail\":\"Invalid token\"}')\n",
            "patch: trace=3325ceee-77bd-4afc-b30d-fde876d57d8a,id=d5ec6247-9a87-44c5-9a6b-314c66298791\n",
            "Failed to batch ingest runs: langsmith.utils.LangSmithAuthError: Authentication failed for https://api.smith.langchain.com/runs/batch. HTTPError('401 Client Error: Unauthorized for url: https://api.smith.langchain.com/runs/batch', '{\"detail\":\"Invalid token\"}')\n",
            "post: trace=3325ceee-77bd-4afc-b30d-fde876d57d8a,id=a57dcf6b-2be9-4919-812b-b806fd11f5bb; trace=3325ceee-77bd-4afc-b30d-fde876d57d8a,id=0783b5a1-e327-4d3f-9b65-7c11d716a28a; trace=3325ceee-77bd-4afc-b30d-fde876d57d8a,id=c129b4ba-b9b4-4ba1-9d0d-27f52bfe809e; trace=3325ceee-77bd-4afc-b30d-fde876d57d8a,id=72baf635-125d-436e-a4be-be18385e7ba7; patch: trace=3325ceee-77bd-4afc-b30d-fde876d57d8a,id=aa863f05-059d-4623-91a7-6784e007d566\n",
            "Failed to batch ingest runs: langsmith.utils.LangSmithAuthError: Authentication failed for https://api.smith.langchain.com/runs/batch. HTTPError('401 Client Error: Unauthorized for url: https://api.smith.langchain.com/runs/batch', '{\"detail\":\"Invalid token\"}')\n",
            "post: trace=3325ceee-77bd-4afc-b30d-fde876d57d8a,id=24c2df36-0850-4400-bb4a-e7cb5493d78b; trace=3325ceee-77bd-4afc-b30d-fde876d57d8a,id=ba0e03a9-4845-4be1-a4a9-7f81805c3848; patch: trace=3325ceee-77bd-4afc-b30d-fde876d57d8a,id=72baf635-125d-436e-a4be-be18385e7ba7; trace=3325ceee-77bd-4afc-b30d-fde876d57d8a,id=0783b5a1-e327-4d3f-9b65-7c11d716a28a\n",
            "Failed to batch ingest runs: langsmith.utils.LangSmithAuthError: Authentication failed for https://api.smith.langchain.com/runs/batch. HTTPError('401 Client Error: Unauthorized for url: https://api.smith.langchain.com/runs/batch', '{\"detail\":\"Invalid token\"}')\n",
            "post: trace=3325ceee-77bd-4afc-b30d-fde876d57d8a,id=09e88455-438b-497f-b821-63a5dcfef937; patch: trace=3325ceee-77bd-4afc-b30d-fde876d57d8a,id=ba0e03a9-4845-4be1-a4a9-7f81805c3848\n",
            "Failed to batch ingest runs: langsmith.utils.LangSmithAuthError: Authentication failed for https://api.smith.langchain.com/runs/batch. HTTPError('401 Client Error: Unauthorized for url: https://api.smith.langchain.com/runs/batch', '{\"detail\":\"Invalid token\"}')\n",
            "post: trace=3325ceee-77bd-4afc-b30d-fde876d57d8a,id=fc86477a-9b5e-4291-825f-9e4cd7509689; patch: trace=3325ceee-77bd-4afc-b30d-fde876d57d8a,id=09e88455-438b-497f-b821-63a5dcfef937\n",
            "Failed to batch ingest runs: langsmith.utils.LangSmithAuthError: Authentication failed for https://api.smith.langchain.com/runs/batch. HTTPError('401 Client Error: Unauthorized for url: https://api.smith.langchain.com/runs/batch', '{\"detail\":\"Invalid token\"}')\n",
            "post: trace=3325ceee-77bd-4afc-b30d-fde876d57d8a,id=6613f2f7-bafb-4af6-879e-ef8a452dad7a; trace=3325ceee-77bd-4afc-b30d-fde876d57d8a,id=2767d4ea-0cb8-45c2-bcc4-333c056cd119; trace=3325ceee-77bd-4afc-b30d-fde876d57d8a,id=42fff43d-1200-4504-ad90-89658f673fb6; trace=3325ceee-77bd-4afc-b30d-fde876d57d8a,id=70a0c59d-13f1-4979-9db8-190dcef38259; trace=3325ceee-77bd-4afc-b30d-fde876d57d8a,id=d18d1505-b79b-4346-a679-aefbf72181c2; trace=3325ceee-77bd-4afc-b30d-fde876d57d8a,id=4161a01c-d046-4aa5-b27b-1e8744dffd61; trace=3325ceee-77bd-4afc-b30d-fde876d57d8a,id=c3f005ef-022d-4034-9413-8dda440467f5; trace=3325ceee-77bd-4afc-b30d-fde876d57d8a,id=e7fba2da-0288-4cef-98af-e96e7b9e13af; patch: trace=3325ceee-77bd-4afc-b30d-fde876d57d8a,id=cf6e5163-3ddf-4abb-bf7a-6bd618a48256; trace=3325ceee-77bd-4afc-b30d-fde876d57d8a,id=164e8c38-b9a4-4efb-ad2a-570b0c1d9464; trace=3325ceee-77bd-4afc-b30d-fde876d57d8a,id=a57dcf6b-2be9-4919-812b-b806fd11f5bb; trace=3325ceee-77bd-4afc-b30d-fde876d57d8a,id=fc86477a-9b5e-4291-825f-9e4cd7509689; trace=3325ceee-77bd-4afc-b30d-fde876d57d8a,id=ad73e26e-5bb4-4e82-98e1-46e9b322b42c\n",
            "Failed to batch ingest runs: langsmith.utils.LangSmithAuthError: Authentication failed for https://api.smith.langchain.com/runs/batch. HTTPError('401 Client Error: Unauthorized for url: https://api.smith.langchain.com/runs/batch', '{\"detail\":\"Invalid token\"}')\n",
            "post: trace=70b23584-8d4d-40ad-ae42-e3703e5261ba,id=70b23584-8d4d-40ad-ae42-e3703e5261ba; trace=70b23584-8d4d-40ad-ae42-e3703e5261ba,id=15910c93-0afe-4a20-bfea-d1ef0da1acb7; trace=70b23584-8d4d-40ad-ae42-e3703e5261ba,id=9331891a-4add-4231-a73a-3386cb687a62; trace=70b23584-8d4d-40ad-ae42-e3703e5261ba,id=039965b0-3192-4505-ba1c-6e39f56bac21; trace=70b23584-8d4d-40ad-ae42-e3703e5261ba,id=972e4758-df35-43b7-b07c-190237eaa784; trace=70b23584-8d4d-40ad-ae42-e3703e5261ba,id=03c2ba14-fbfc-47fd-a759-2aaa746bf3ff; trace=70b23584-8d4d-40ad-ae42-e3703e5261ba,id=70ab40a7-413e-493c-b213-230c794039e2; trace=70b23584-8d4d-40ad-ae42-e3703e5261ba,id=984cfcdf-0237-4cb9-aba1-faf813ddac4e; patch: trace=3325ceee-77bd-4afc-b30d-fde876d57d8a,id=d18d1505-b79b-4346-a679-aefbf72181c2; trace=3325ceee-77bd-4afc-b30d-fde876d57d8a,id=e7fba2da-0288-4cef-98af-e96e7b9e13af; trace=3325ceee-77bd-4afc-b30d-fde876d57d8a,id=3325ceee-77bd-4afc-b30d-fde876d57d8a; trace=3325ceee-77bd-4afc-b30d-fde876d57d8a,id=70a0c59d-13f1-4979-9db8-190dcef38259\n",
            "Failed to batch ingest runs: langsmith.utils.LangSmithAuthError: Authentication failed for https://api.smith.langchain.com/runs/batch. HTTPError('401 Client Error: Unauthorized for url: https://api.smith.langchain.com/runs/batch', '{\"detail\":\"Invalid token\"}')\n",
            "post: trace=70b23584-8d4d-40ad-ae42-e3703e5261ba,id=d1ae2c32-1a47-4c74-a00b-96ad24b2e88e; patch: trace=70b23584-8d4d-40ad-ae42-e3703e5261ba,id=984cfcdf-0237-4cb9-aba1-faf813ddac4e\n",
            "Failed to batch ingest runs: langsmith.utils.LangSmithAuthError: Authentication failed for https://api.smith.langchain.com/runs/batch. HTTPError('401 Client Error: Unauthorized for url: https://api.smith.langchain.com/runs/batch', '{\"detail\":\"Invalid token\"}')\n",
            "post: trace=70b23584-8d4d-40ad-ae42-e3703e5261ba,id=e4f899b7-af91-456c-a79a-aba3530994db; trace=70b23584-8d4d-40ad-ae42-e3703e5261ba,id=e36c4809-bb6a-48d5-874a-189c90f34fdc; patch: trace=70b23584-8d4d-40ad-ae42-e3703e5261ba,id=d1ae2c32-1a47-4c74-a00b-96ad24b2e88e\n",
            "Failed to batch ingest runs: langsmith.utils.LangSmithAuthError: Authentication failed for https://api.smith.langchain.com/runs/batch. HTTPError('401 Client Error: Unauthorized for url: https://api.smith.langchain.com/runs/batch', '{\"detail\":\"Invalid token\"}')\n",
            "patch: trace=70b23584-8d4d-40ad-ae42-e3703e5261ba,id=e36c4809-bb6a-48d5-874a-189c90f34fdc\n",
            "Failed to batch ingest runs: langsmith.utils.LangSmithAuthError: Authentication failed for https://api.smith.langchain.com/runs/batch. HTTPError('401 Client Error: Unauthorized for url: https://api.smith.langchain.com/runs/batch', '{\"detail\":\"Invalid token\"}')\n",
            "post: trace=70b23584-8d4d-40ad-ae42-e3703e5261ba,id=7ca251fa-8847-4506-a554-ea1e11506052; trace=70b23584-8d4d-40ad-ae42-e3703e5261ba,id=d3595eaa-6f12-4689-b363-2a01dcdefe65; trace=70b23584-8d4d-40ad-ae42-e3703e5261ba,id=613150ac-1be9-45b6-9630-b84b47de0a6f; trace=70b23584-8d4d-40ad-ae42-e3703e5261ba,id=e1dba8b6-2f8b-4d1f-afb8-fec3a958aa55; patch: trace=70b23584-8d4d-40ad-ae42-e3703e5261ba,id=e4f899b7-af91-456c-a79a-aba3530994db\n",
            "Failed to batch ingest runs: langsmith.utils.LangSmithAuthError: Authentication failed for https://api.smith.langchain.com/runs/batch. HTTPError('401 Client Error: Unauthorized for url: https://api.smith.langchain.com/runs/batch', '{\"detail\":\"Invalid token\"}')\n",
            "post: trace=70b23584-8d4d-40ad-ae42-e3703e5261ba,id=ac2f035a-16dd-42ae-95ae-b8f3ce980028; trace=70b23584-8d4d-40ad-ae42-e3703e5261ba,id=532351f2-5332-4d7b-b36d-66c63a57afd9; patch: trace=70b23584-8d4d-40ad-ae42-e3703e5261ba,id=d3595eaa-6f12-4689-b363-2a01dcdefe65; trace=70b23584-8d4d-40ad-ae42-e3703e5261ba,id=e1dba8b6-2f8b-4d1f-afb8-fec3a958aa55\n",
            "Failed to batch ingest runs: langsmith.utils.LangSmithAuthError: Authentication failed for https://api.smith.langchain.com/runs/batch. HTTPError('401 Client Error: Unauthorized for url: https://api.smith.langchain.com/runs/batch', '{\"detail\":\"Invalid token\"}')\n",
            "post: trace=70b23584-8d4d-40ad-ae42-e3703e5261ba,id=4c79d99d-461d-45b6-864c-332d9d524510; patch: trace=70b23584-8d4d-40ad-ae42-e3703e5261ba,id=532351f2-5332-4d7b-b36d-66c63a57afd9\n",
            "Failed to batch ingest runs: langsmith.utils.LangSmithAuthError: Authentication failed for https://api.smith.langchain.com/runs/batch. HTTPError('401 Client Error: Unauthorized for url: https://api.smith.langchain.com/runs/batch', '{\"detail\":\"Invalid token\"}')\n",
            "post: trace=70b23584-8d4d-40ad-ae42-e3703e5261ba,id=4825ff6a-a7fe-4930-9619-bd4b154254f1; patch: trace=70b23584-8d4d-40ad-ae42-e3703e5261ba,id=4c79d99d-461d-45b6-864c-332d9d524510\n",
            "Failed to batch ingest runs: langsmith.utils.LangSmithAuthError: Authentication failed for https://api.smith.langchain.com/runs/batch. HTTPError('401 Client Error: Unauthorized for url: https://api.smith.langchain.com/runs/batch', '{\"detail\":\"Invalid token\"}')\n",
            "post: trace=70b23584-8d4d-40ad-ae42-e3703e5261ba,id=5d8db3e5-e6f8-48cc-a176-222dee148b2c; trace=70b23584-8d4d-40ad-ae42-e3703e5261ba,id=eab27f41-2aaf-4bf4-b6ed-b2a692abaa1c; trace=70b23584-8d4d-40ad-ae42-e3703e5261ba,id=a9cd96fc-fcf4-41c7-b15b-e9462e1cb9c9; trace=70b23584-8d4d-40ad-ae42-e3703e5261ba,id=c192c065-2ad4-4741-84cb-399473dd47ec; trace=70b23584-8d4d-40ad-ae42-e3703e5261ba,id=873d2a68-0f9d-41fd-af3d-fa24b4a704ed; trace=70b23584-8d4d-40ad-ae42-e3703e5261ba,id=560c5a49-b5c2-4bb9-affe-45f29c9f0eee; trace=70b23584-8d4d-40ad-ae42-e3703e5261ba,id=a8cb864a-97a4-4c6e-8f29-44710f2879b8; trace=70b23584-8d4d-40ad-ae42-e3703e5261ba,id=e9db5fc5-6d67-4bdb-bfc1-121f015a8750; patch: trace=70b23584-8d4d-40ad-ae42-e3703e5261ba,id=9331891a-4add-4231-a73a-3386cb687a62; trace=70b23584-8d4d-40ad-ae42-e3703e5261ba,id=03c2ba14-fbfc-47fd-a759-2aaa746bf3ff; trace=70b23584-8d4d-40ad-ae42-e3703e5261ba,id=7ca251fa-8847-4506-a554-ea1e11506052; trace=70b23584-8d4d-40ad-ae42-e3703e5261ba,id=4825ff6a-a7fe-4930-9619-bd4b154254f1; trace=70b23584-8d4d-40ad-ae42-e3703e5261ba,id=15910c93-0afe-4a20-bfea-d1ef0da1acb7\n",
            "Failed to batch ingest runs: langsmith.utils.LangSmithAuthError: Authentication failed for https://api.smith.langchain.com/runs/batch. HTTPError('401 Client Error: Unauthorized for url: https://api.smith.langchain.com/runs/batch', '{\"detail\":\"Invalid token\"}')\n",
            "post: trace=924e909c-1be8-4640-bbce-6198dbced75a,id=924e909c-1be8-4640-bbce-6198dbced75a; trace=924e909c-1be8-4640-bbce-6198dbced75a,id=7be78d7c-976f-4ba0-a641-0c8bb4c617a0; trace=924e909c-1be8-4640-bbce-6198dbced75a,id=299a571c-c62e-48e6-9538-c28410c7f6a3; trace=924e909c-1be8-4640-bbce-6198dbced75a,id=fd03e174-72f0-43a1-9eec-4dca3562c53b; trace=924e909c-1be8-4640-bbce-6198dbced75a,id=268e3b1a-250f-46be-b306-31d82931fdac; trace=924e909c-1be8-4640-bbce-6198dbced75a,id=aca92f4b-11ea-446d-9532-cb72384f0df7; trace=924e909c-1be8-4640-bbce-6198dbced75a,id=9694084a-ccfd-45c0-8def-963b9a992d67; trace=924e909c-1be8-4640-bbce-6198dbced75a,id=1f92f875-26ce-4ee3-83c5-5d89c9d3b881; patch: trace=70b23584-8d4d-40ad-ae42-e3703e5261ba,id=873d2a68-0f9d-41fd-af3d-fa24b4a704ed; trace=70b23584-8d4d-40ad-ae42-e3703e5261ba,id=a8cb864a-97a4-4c6e-8f29-44710f2879b8; trace=70b23584-8d4d-40ad-ae42-e3703e5261ba,id=70b23584-8d4d-40ad-ae42-e3703e5261ba; trace=70b23584-8d4d-40ad-ae42-e3703e5261ba,id=c192c065-2ad4-4741-84cb-399473dd47ec\n",
            "Failed to batch ingest runs: langsmith.utils.LangSmithAuthError: Authentication failed for https://api.smith.langchain.com/runs/batch. HTTPError('401 Client Error: Unauthorized for url: https://api.smith.langchain.com/runs/batch', '{\"detail\":\"Invalid token\"}')\n",
            "post: trace=924e909c-1be8-4640-bbce-6198dbced75a,id=46433048-886d-4496-b012-1c59b46a825e; patch: trace=924e909c-1be8-4640-bbce-6198dbced75a,id=9694084a-ccfd-45c0-8def-963b9a992d67\n",
            "Failed to batch ingest runs: langsmith.utils.LangSmithAuthError: Authentication failed for https://api.smith.langchain.com/runs/batch. HTTPError('401 Client Error: Unauthorized for url: https://api.smith.langchain.com/runs/batch', '{\"detail\":\"Invalid token\"}')\n",
            "post: trace=924e909c-1be8-4640-bbce-6198dbced75a,id=b9f5cace-c8ce-491d-b7f1-a75857f874d6; trace=924e909c-1be8-4640-bbce-6198dbced75a,id=5ddd6c1a-9263-4f89-bb3b-f4863db53acb; patch: trace=924e909c-1be8-4640-bbce-6198dbced75a,id=46433048-886d-4496-b012-1c59b46a825e\n",
            "Failed to batch ingest runs: langsmith.utils.LangSmithAuthError: Authentication failed for https://api.smith.langchain.com/runs/batch. HTTPError('401 Client Error: Unauthorized for url: https://api.smith.langchain.com/runs/batch', '{\"detail\":\"Invalid token\"}')\n",
            "post: trace=924e909c-1be8-4640-bbce-6198dbced75a,id=2f438cd5-ceaf-4016-a3ed-ea8103b3c9f9; trace=924e909c-1be8-4640-bbce-6198dbced75a,id=79b67c47-285d-4b37-b018-ca4991ea055e; trace=924e909c-1be8-4640-bbce-6198dbced75a,id=e5ac7cd9-8e09-4662-b812-6dc0099ce287; trace=924e909c-1be8-4640-bbce-6198dbced75a,id=5c5684bc-137a-4740-8610-31ba55a53ff1; trace=924e909c-1be8-4640-bbce-6198dbced75a,id=d503563c-840d-4584-868d-1d2692b4aed7; trace=924e909c-1be8-4640-bbce-6198dbced75a,id=69de46d7-453e-4c23-a861-ab5dcb0e520d; trace=924e909c-1be8-4640-bbce-6198dbced75a,id=9a0bcafd-91dc-4422-b04e-c4d4bb74b90b; trace=924e909c-1be8-4640-bbce-6198dbced75a,id=d81c0a25-b7bb-4814-a172-b083dbd80b27; trace=924e909c-1be8-4640-bbce-6198dbced75a,id=03cf4863-9e09-4089-815a-8636c996ec72; trace=924e909c-1be8-4640-bbce-6198dbced75a,id=707554cb-7846-439a-b35d-4a7176f926c2; trace=924e909c-1be8-4640-bbce-6198dbced75a,id=1162e0a5-a303-46b2-b64c-ac0acaf2eab3; trace=924e909c-1be8-4640-bbce-6198dbced75a,id=9dc5379c-8a6e-401a-b0e5-b36d4f17a3cd; trace=924e909c-1be8-4640-bbce-6198dbced75a,id=761ce955-dcac-45ec-b13c-c80cb8e85699; trace=924e909c-1be8-4640-bbce-6198dbced75a,id=6ebf75ed-9d13-489d-bb9e-502b2f0cefba; trace=924e909c-1be8-4640-bbce-6198dbced75a,id=ccafb3a9-4f3d-4412-9f91-cdb3ab90cfa1; trace=924e909c-1be8-4640-bbce-6198dbced75a,id=41ff626e-9b13-485c-a84c-52ec90cceaca; patch: trace=924e909c-1be8-4640-bbce-6198dbced75a,id=7be78d7c-976f-4ba0-a641-0c8bb4c617a0; trace=924e909c-1be8-4640-bbce-6198dbced75a,id=299a571c-c62e-48e6-9538-c28410c7f6a3; trace=924e909c-1be8-4640-bbce-6198dbced75a,id=268e3b1a-250f-46be-b306-31d82931fdac; trace=924e909c-1be8-4640-bbce-6198dbced75a,id=b9f5cace-c8ce-491d-b7f1-a75857f874d6; trace=924e909c-1be8-4640-bbce-6198dbced75a,id=5ddd6c1a-9263-4f89-bb3b-f4863db53acb\n",
            "Failed to batch ingest runs: langsmith.utils.LangSmithAuthError: Authentication failed for https://api.smith.langchain.com/runs/batch. HTTPError('401 Client Error: Unauthorized for url: https://api.smith.langchain.com/runs/batch', '{\"detail\":\"Invalid token\"}')\n",
            "patch: trace=924e909c-1be8-4640-bbce-6198dbced75a,id=761ce955-dcac-45ec-b13c-c80cb8e85699; trace=924e909c-1be8-4640-bbce-6198dbced75a,id=ccafb3a9-4f3d-4412-9f91-cdb3ab90cfa1; trace=924e909c-1be8-4640-bbce-6198dbced75a,id=924e909c-1be8-4640-bbce-6198dbced75a; trace=924e909c-1be8-4640-bbce-6198dbced75a,id=9dc5379c-8a6e-401a-b0e5-b36d4f17a3cd\n",
            "Failed to batch ingest runs: langsmith.utils.LangSmithAuthError: Authentication failed for https://api.smith.langchain.com/runs/batch. HTTPError('401 Client Error: Unauthorized for url: https://api.smith.langchain.com/runs/batch', '{\"detail\":\"Invalid token\"}')\n",
            "post: trace=a3efba0a-264d-4de9-810a-a11b679eeeb3,id=a3efba0a-264d-4de9-810a-a11b679eeeb3; trace=a3efba0a-264d-4de9-810a-a11b679eeeb3,id=a417939f-da6d-4bb7-ade7-49a3e5a306dc; trace=a3efba0a-264d-4de9-810a-a11b679eeeb3,id=c57561ac-749b-471a-9eb8-36e80ee01c4e; trace=a3efba0a-264d-4de9-810a-a11b679eeeb3,id=af752fe4-a560-431b-8535-9ad64a3c25fa; trace=a3efba0a-264d-4de9-810a-a11b679eeeb3,id=e4ef7460-16ee-4329-b8e2-a0229e58b648; trace=a3efba0a-264d-4de9-810a-a11b679eeeb3,id=49a6e4e7-8dfc-4790-95a6-adb64b1e7bca\n",
            "Failed to batch ingest runs: langsmith.utils.LangSmithAuthError: Authentication failed for https://api.smith.langchain.com/runs/batch. HTTPError('401 Client Error: Unauthorized for url: https://api.smith.langchain.com/runs/batch', '{\"detail\":\"Invalid token\"}')\n",
            "post: trace=a3efba0a-264d-4de9-810a-a11b679eeeb3,id=0171922a-5d81-4023-8b7c-cfa3d401663b; trace=a3efba0a-264d-4de9-810a-a11b679eeeb3,id=d2b73e00-57eb-4478-b6b2-629f5c118b43; trace=a3efba0a-264d-4de9-810a-a11b679eeeb3,id=e2a09aae-3478-48f4-9200-613c20390cab; trace=a3efba0a-264d-4de9-810a-a11b679eeeb3,id=8226d406-eb06-4c8a-b2c1-3aaad99a6a6e; trace=a3efba0a-264d-4de9-810a-a11b679eeeb3,id=73b7d229-c50f-4f3f-a918-9cb97c3b3da1; trace=a3efba0a-264d-4de9-810a-a11b679eeeb3,id=c8a4ed75-c79e-4850-8d36-2df0fab83caf; trace=a3efba0a-264d-4de9-810a-a11b679eeeb3,id=e240dcbd-7e3b-41ec-b4e5-aaaa4472be4f; trace=a3efba0a-264d-4de9-810a-a11b679eeeb3,id=05ea7297-a970-4a15-955c-2a4dc2833b3e; patch: trace=a3efba0a-264d-4de9-810a-a11b679eeeb3,id=c57561ac-749b-471a-9eb8-36e80ee01c4e; trace=a3efba0a-264d-4de9-810a-a11b679eeeb3,id=49a6e4e7-8dfc-4790-95a6-adb64b1e7bca; trace=a3efba0a-264d-4de9-810a-a11b679eeeb3,id=a417939f-da6d-4bb7-ade7-49a3e5a306dc\n",
            "Failed to batch ingest runs: langsmith.utils.LangSmithAuthError: Authentication failed for https://api.smith.langchain.com/runs/batch. HTTPError('401 Client Error: Unauthorized for url: https://api.smith.langchain.com/runs/batch', '{\"detail\":\"Invalid token\"}')\n",
            "post: trace=3db95498-7c44-4fae-8bda-2af2b30b8aa3,id=3db95498-7c44-4fae-8bda-2af2b30b8aa3; trace=3db95498-7c44-4fae-8bda-2af2b30b8aa3,id=025a17c5-f316-4833-91df-3ab3550681e9; trace=3db95498-7c44-4fae-8bda-2af2b30b8aa3,id=3a6cb214-5c04-49b1-a8b7-00d848728344; trace=3db95498-7c44-4fae-8bda-2af2b30b8aa3,id=e98d338d-4adb-4fe9-8170-40d969189403; trace=3db95498-7c44-4fae-8bda-2af2b30b8aa3,id=9660dcad-6388-4b0d-8c79-a99b07944618; trace=3db95498-7c44-4fae-8bda-2af2b30b8aa3,id=82401d2e-6c38-4296-a3e0-cb869b69892b; patch: trace=a3efba0a-264d-4de9-810a-a11b679eeeb3,id=73b7d229-c50f-4f3f-a918-9cb97c3b3da1; trace=a3efba0a-264d-4de9-810a-a11b679eeeb3,id=e240dcbd-7e3b-41ec-b4e5-aaaa4472be4f; trace=a3efba0a-264d-4de9-810a-a11b679eeeb3,id=a3efba0a-264d-4de9-810a-a11b679eeeb3; trace=a3efba0a-264d-4de9-810a-a11b679eeeb3,id=8226d406-eb06-4c8a-b2c1-3aaad99a6a6e\n",
            "Failed to batch ingest runs: langsmith.utils.LangSmithAuthError: Authentication failed for https://api.smith.langchain.com/runs/batch. HTTPError('401 Client Error: Unauthorized for url: https://api.smith.langchain.com/runs/batch', '{\"detail\":\"Invalid token\"}')\n",
            "post: trace=3db95498-7c44-4fae-8bda-2af2b30b8aa3,id=0bc8a693-8bf7-4006-bc22-21bfe5fac857; trace=3db95498-7c44-4fae-8bda-2af2b30b8aa3,id=a66bbd55-6649-448d-9a06-c3d086f4e192; trace=3db95498-7c44-4fae-8bda-2af2b30b8aa3,id=d1424d47-e428-4645-805a-a7e810b9b6e0; trace=3db95498-7c44-4fae-8bda-2af2b30b8aa3,id=cef239d4-6058-4261-85f9-42bde5f4ec25; trace=3db95498-7c44-4fae-8bda-2af2b30b8aa3,id=d4fb6607-3074-4271-873a-9c6a1df39e11; trace=3db95498-7c44-4fae-8bda-2af2b30b8aa3,id=c58eeaab-c18e-47eb-8670-d8d6846ecfe1; trace=3db95498-7c44-4fae-8bda-2af2b30b8aa3,id=02d641f3-cc56-49d8-b6eb-cbfa09b13ec7; trace=3db95498-7c44-4fae-8bda-2af2b30b8aa3,id=56b171a6-6c96-4394-a758-dc892a873a68; patch: trace=3db95498-7c44-4fae-8bda-2af2b30b8aa3,id=3a6cb214-5c04-49b1-a8b7-00d848728344; trace=3db95498-7c44-4fae-8bda-2af2b30b8aa3,id=82401d2e-6c38-4296-a3e0-cb869b69892b; trace=3db95498-7c44-4fae-8bda-2af2b30b8aa3,id=025a17c5-f316-4833-91df-3ab3550681e9\n",
            "Failed to batch ingest runs: langsmith.utils.LangSmithAuthError: Authentication failed for https://api.smith.langchain.com/runs/batch. HTTPError('401 Client Error: Unauthorized for url: https://api.smith.langchain.com/runs/batch', '{\"detail\":\"Invalid token\"}')\n",
            "post: trace=988d0059-5c61-4ec8-be4b-fc2aefcc0f9c,id=988d0059-5c61-4ec8-be4b-fc2aefcc0f9c; trace=988d0059-5c61-4ec8-be4b-fc2aefcc0f9c,id=5da41613-7489-44b8-877a-6021269a272a; trace=988d0059-5c61-4ec8-be4b-fc2aefcc0f9c,id=3a735e70-2bbf-4cc8-b571-e9df93a50c29; trace=988d0059-5c61-4ec8-be4b-fc2aefcc0f9c,id=030b9aa4-072e-48ef-8fc4-2b93ef52ab69; trace=988d0059-5c61-4ec8-be4b-fc2aefcc0f9c,id=b52f50b8-da46-48db-a2ee-c13f0e87daa0; trace=988d0059-5c61-4ec8-be4b-fc2aefcc0f9c,id=c2959d51-1cfe-4e21-9169-493a61c6c518; patch: trace=3db95498-7c44-4fae-8bda-2af2b30b8aa3,id=d4fb6607-3074-4271-873a-9c6a1df39e11; trace=3db95498-7c44-4fae-8bda-2af2b30b8aa3,id=02d641f3-cc56-49d8-b6eb-cbfa09b13ec7; trace=3db95498-7c44-4fae-8bda-2af2b30b8aa3,id=3db95498-7c44-4fae-8bda-2af2b30b8aa3; trace=3db95498-7c44-4fae-8bda-2af2b30b8aa3,id=cef239d4-6058-4261-85f9-42bde5f4ec25\n",
            "Failed to batch ingest runs: langsmith.utils.LangSmithAuthError: Authentication failed for https://api.smith.langchain.com/runs/batch. HTTPError('401 Client Error: Unauthorized for url: https://api.smith.langchain.com/runs/batch', '{\"detail\":\"Invalid token\"}')\n",
            "post: trace=988d0059-5c61-4ec8-be4b-fc2aefcc0f9c,id=03b94e6d-64b1-409b-bf87-c969d623c7a4; trace=988d0059-5c61-4ec8-be4b-fc2aefcc0f9c,id=92ba71ac-adcf-4c58-91ae-b6d226ecd8fe; trace=988d0059-5c61-4ec8-be4b-fc2aefcc0f9c,id=d180a775-11ba-4939-8834-828490b849e8; trace=988d0059-5c61-4ec8-be4b-fc2aefcc0f9c,id=076e526f-02ea-49fc-99b8-64cc810b4c26; trace=988d0059-5c61-4ec8-be4b-fc2aefcc0f9c,id=16a1630e-b863-4bf8-b6af-7a622f99c858; trace=988d0059-5c61-4ec8-be4b-fc2aefcc0f9c,id=4f585b8e-ad6f-4606-aa82-be07d7e1f0a3; trace=988d0059-5c61-4ec8-be4b-fc2aefcc0f9c,id=fbcbad6d-7c9e-4ff8-81b5-c6c70efe907b; trace=988d0059-5c61-4ec8-be4b-fc2aefcc0f9c,id=51898cb0-2516-4032-8cfa-02973f0af575; patch: trace=988d0059-5c61-4ec8-be4b-fc2aefcc0f9c,id=030b9aa4-072e-48ef-8fc4-2b93ef52ab69; trace=988d0059-5c61-4ec8-be4b-fc2aefcc0f9c,id=c2959d51-1cfe-4e21-9169-493a61c6c518; trace=988d0059-5c61-4ec8-be4b-fc2aefcc0f9c,id=5da41613-7489-44b8-877a-6021269a272a\n",
            "Failed to batch ingest runs: langsmith.utils.LangSmithAuthError: Authentication failed for https://api.smith.langchain.com/runs/batch. HTTPError('401 Client Error: Unauthorized for url: https://api.smith.langchain.com/runs/batch', '{\"detail\":\"Invalid token\"}')\n",
            "post: trace=70967a7d-a848-4d48-89c8-0d880b695373,id=70967a7d-a848-4d48-89c8-0d880b695373; trace=70967a7d-a848-4d48-89c8-0d880b695373,id=eaae79cb-b071-46e2-9d54-0c8e7a29beb7; trace=70967a7d-a848-4d48-89c8-0d880b695373,id=477de2d0-dd0b-4138-a35a-898d1987f6cf; trace=70967a7d-a848-4d48-89c8-0d880b695373,id=fb38c9f8-a202-464a-b0e9-660554490873; trace=70967a7d-a848-4d48-89c8-0d880b695373,id=0a4ffcb3-dcf0-45be-8bc3-addd748df50a; trace=70967a7d-a848-4d48-89c8-0d880b695373,id=1c1bc79f-6de3-4bbf-8774-ef6083b7727d; patch: trace=988d0059-5c61-4ec8-be4b-fc2aefcc0f9c,id=16a1630e-b863-4bf8-b6af-7a622f99c858; trace=988d0059-5c61-4ec8-be4b-fc2aefcc0f9c,id=fbcbad6d-7c9e-4ff8-81b5-c6c70efe907b; trace=988d0059-5c61-4ec8-be4b-fc2aefcc0f9c,id=988d0059-5c61-4ec8-be4b-fc2aefcc0f9c; trace=988d0059-5c61-4ec8-be4b-fc2aefcc0f9c,id=076e526f-02ea-49fc-99b8-64cc810b4c26\n",
            "Failed to batch ingest runs: langsmith.utils.LangSmithAuthError: Authentication failed for https://api.smith.langchain.com/runs/batch. HTTPError('401 Client Error: Unauthorized for url: https://api.smith.langchain.com/runs/batch', '{\"detail\":\"Invalid token\"}')\n",
            "post: trace=70967a7d-a848-4d48-89c8-0d880b695373,id=b6f7ec27-5ea9-47d5-ab80-ded8b9fcfaba; trace=70967a7d-a848-4d48-89c8-0d880b695373,id=fb8fe287-1c12-4948-9624-2a454ba9bd8a; trace=70967a7d-a848-4d48-89c8-0d880b695373,id=fab83fbf-c428-4da0-acd3-91358a2cce46; trace=70967a7d-a848-4d48-89c8-0d880b695373,id=29d65509-c22e-4ff5-94e4-58fd5aee47ad; trace=70967a7d-a848-4d48-89c8-0d880b695373,id=1f849a57-552b-43a0-a0c4-38b443c16d47; trace=70967a7d-a848-4d48-89c8-0d880b695373,id=e58d256a-d292-452d-bb61-fa3d2457a632; trace=70967a7d-a848-4d48-89c8-0d880b695373,id=3ddfae46-c756-4035-b65e-e9f631f44e3d; trace=70967a7d-a848-4d48-89c8-0d880b695373,id=5487cb67-d6db-4753-a97b-59b308c4e1a3; patch: trace=70967a7d-a848-4d48-89c8-0d880b695373,id=477de2d0-dd0b-4138-a35a-898d1987f6cf; trace=70967a7d-a848-4d48-89c8-0d880b695373,id=0a4ffcb3-dcf0-45be-8bc3-addd748df50a; trace=70967a7d-a848-4d48-89c8-0d880b695373,id=eaae79cb-b071-46e2-9d54-0c8e7a29beb7\n",
            "Failed to batch ingest runs: langsmith.utils.LangSmithAuthError: Authentication failed for https://api.smith.langchain.com/runs/batch. HTTPError('401 Client Error: Unauthorized for url: https://api.smith.langchain.com/runs/batch', '{\"detail\":\"Invalid token\"}')\n",
            "post: trace=5badb5a6-7742-49d1-b2d7-65454ff2e7c6,id=5badb5a6-7742-49d1-b2d7-65454ff2e7c6; trace=5badb5a6-7742-49d1-b2d7-65454ff2e7c6,id=e8989072-d7a3-4a8f-a028-0bd4a1994e7b; trace=5badb5a6-7742-49d1-b2d7-65454ff2e7c6,id=b77a245b-1028-4758-bd92-af13f20feaae; trace=5badb5a6-7742-49d1-b2d7-65454ff2e7c6,id=e1b4ef05-64a4-4da3-b937-dd1740a6c2fc; trace=5badb5a6-7742-49d1-b2d7-65454ff2e7c6,id=d8ad9cc6-4d28-4b53-ab7d-33d457ee0580; trace=5badb5a6-7742-49d1-b2d7-65454ff2e7c6,id=586c639b-7674-4cf4-b828-03f58d7af001; patch: trace=70967a7d-a848-4d48-89c8-0d880b695373,id=1f849a57-552b-43a0-a0c4-38b443c16d47; trace=70967a7d-a848-4d48-89c8-0d880b695373,id=3ddfae46-c756-4035-b65e-e9f631f44e3d; trace=70967a7d-a848-4d48-89c8-0d880b695373,id=70967a7d-a848-4d48-89c8-0d880b695373; trace=70967a7d-a848-4d48-89c8-0d880b695373,id=29d65509-c22e-4ff5-94e4-58fd5aee47ad\n",
            "Failed to batch ingest runs: langsmith.utils.LangSmithAuthError: Authentication failed for https://api.smith.langchain.com/runs/batch. HTTPError('401 Client Error: Unauthorized for url: https://api.smith.langchain.com/runs/batch', '{\"detail\":\"Invalid token\"}')\n",
            "post: trace=5badb5a6-7742-49d1-b2d7-65454ff2e7c6,id=26403619-8312-40c2-a603-033d57a3ea23; trace=5badb5a6-7742-49d1-b2d7-65454ff2e7c6,id=c87e4214-b5bf-447b-ad7f-18289252350a; trace=5badb5a6-7742-49d1-b2d7-65454ff2e7c6,id=23abef52-b027-48c2-9899-7584844cc2fb; trace=5badb5a6-7742-49d1-b2d7-65454ff2e7c6,id=679fdec1-036c-49ec-8c3e-2cbfa5f0f835; trace=5badb5a6-7742-49d1-b2d7-65454ff2e7c6,id=dbd56af1-0ef6-4510-ba73-82cae4caad28; trace=5badb5a6-7742-49d1-b2d7-65454ff2e7c6,id=5a0003f0-80c1-4cc1-b39c-c32bf7b758b8; trace=5badb5a6-7742-49d1-b2d7-65454ff2e7c6,id=f0ca2ec3-20d6-400a-bb3c-cade88ab400c; trace=5badb5a6-7742-49d1-b2d7-65454ff2e7c6,id=e86c66e5-ca6c-45b7-b960-8a1e3c9ba3e1; patch: trace=5badb5a6-7742-49d1-b2d7-65454ff2e7c6,id=b77a245b-1028-4758-bd92-af13f20feaae; trace=5badb5a6-7742-49d1-b2d7-65454ff2e7c6,id=d8ad9cc6-4d28-4b53-ab7d-33d457ee0580; trace=5badb5a6-7742-49d1-b2d7-65454ff2e7c6,id=e8989072-d7a3-4a8f-a028-0bd4a1994e7b\n",
            "Failed to batch ingest runs: langsmith.utils.LangSmithAuthError: Authentication failed for https://api.smith.langchain.com/runs/batch. HTTPError('401 Client Error: Unauthorized for url: https://api.smith.langchain.com/runs/batch', '{\"detail\":\"Invalid token\"}')\n",
            "post: trace=2928f66b-ef88-4fa6-adf2-ebbfeaaa39e9,id=2928f66b-ef88-4fa6-adf2-ebbfeaaa39e9; trace=2928f66b-ef88-4fa6-adf2-ebbfeaaa39e9,id=40b5623b-a0e8-4047-8739-522feab86276; trace=2928f66b-ef88-4fa6-adf2-ebbfeaaa39e9,id=99013c8b-21d1-4c7e-b46f-fc45fe4c5bde; trace=2928f66b-ef88-4fa6-adf2-ebbfeaaa39e9,id=5317d188-764f-4954-9efd-70432fe95a9d; trace=2928f66b-ef88-4fa6-adf2-ebbfeaaa39e9,id=6a7e38f7-fee5-4a35-b092-794179845cd1; trace=2928f66b-ef88-4fa6-adf2-ebbfeaaa39e9,id=7ca0aa45-9cd9-45b0-bdea-9f152775a75d; patch: trace=5badb5a6-7742-49d1-b2d7-65454ff2e7c6,id=dbd56af1-0ef6-4510-ba73-82cae4caad28; trace=5badb5a6-7742-49d1-b2d7-65454ff2e7c6,id=f0ca2ec3-20d6-400a-bb3c-cade88ab400c; trace=5badb5a6-7742-49d1-b2d7-65454ff2e7c6,id=5badb5a6-7742-49d1-b2d7-65454ff2e7c6; trace=5badb5a6-7742-49d1-b2d7-65454ff2e7c6,id=679fdec1-036c-49ec-8c3e-2cbfa5f0f835\n",
            "Failed to batch ingest runs: langsmith.utils.LangSmithAuthError: Authentication failed for https://api.smith.langchain.com/runs/batch. HTTPError('401 Client Error: Unauthorized for url: https://api.smith.langchain.com/runs/batch', '{\"detail\":\"Invalid token\"}')\n",
            "post: trace=2928f66b-ef88-4fa6-adf2-ebbfeaaa39e9,id=d22ae7c6-6011-46da-93b1-fa993b34d230; trace=2928f66b-ef88-4fa6-adf2-ebbfeaaa39e9,id=5f7d45c4-1685-4546-bf22-deeb355f5b9e; trace=2928f66b-ef88-4fa6-adf2-ebbfeaaa39e9,id=ae6c0cff-d60c-4e1c-af3a-779d55204b13; trace=2928f66b-ef88-4fa6-adf2-ebbfeaaa39e9,id=0454df4c-4ffe-4e23-9851-c54c807f256b; trace=2928f66b-ef88-4fa6-adf2-ebbfeaaa39e9,id=77bb8961-d0e6-4ffa-9710-461ba3970cdb; trace=2928f66b-ef88-4fa6-adf2-ebbfeaaa39e9,id=9ceb6fee-166b-4f57-8a17-f4d94e2d01e3; trace=2928f66b-ef88-4fa6-adf2-ebbfeaaa39e9,id=455fb5cc-6edd-483c-adcb-5beac632cbfb; trace=2928f66b-ef88-4fa6-adf2-ebbfeaaa39e9,id=802290f7-a367-4a26-a6df-9d91934e6cd8; patch: trace=2928f66b-ef88-4fa6-adf2-ebbfeaaa39e9,id=40b5623b-a0e8-4047-8739-522feab86276; trace=2928f66b-ef88-4fa6-adf2-ebbfeaaa39e9,id=99013c8b-21d1-4c7e-b46f-fc45fe4c5bde; trace=2928f66b-ef88-4fa6-adf2-ebbfeaaa39e9,id=6a7e38f7-fee5-4a35-b092-794179845cd1\n",
            "Failed to batch ingest runs: langsmith.utils.LangSmithAuthError: Authentication failed for https://api.smith.langchain.com/runs/batch. HTTPError('401 Client Error: Unauthorized for url: https://api.smith.langchain.com/runs/batch', '{\"detail\":\"Invalid token\"}')\n",
            "post: trace=400b5438-2788-46b8-bca9-80dba2277a8f,id=400b5438-2788-46b8-bca9-80dba2277a8f; trace=400b5438-2788-46b8-bca9-80dba2277a8f,id=4edd62f1-0dae-41ee-b468-817b690bc9df; trace=400b5438-2788-46b8-bca9-80dba2277a8f,id=d541e5e5-a84b-4ae5-af64-37ea504f238b; trace=400b5438-2788-46b8-bca9-80dba2277a8f,id=c0ea005d-9cbd-4ec8-81ae-e8d0d9a5df4a; trace=400b5438-2788-46b8-bca9-80dba2277a8f,id=054a6705-afad-4b6f-b88b-a8c9b417b8e7; trace=400b5438-2788-46b8-bca9-80dba2277a8f,id=6046e0d2-dbb9-4924-959d-a63004dd86a6; patch: trace=2928f66b-ef88-4fa6-adf2-ebbfeaaa39e9,id=77bb8961-d0e6-4ffa-9710-461ba3970cdb; trace=2928f66b-ef88-4fa6-adf2-ebbfeaaa39e9,id=455fb5cc-6edd-483c-adcb-5beac632cbfb; trace=2928f66b-ef88-4fa6-adf2-ebbfeaaa39e9,id=2928f66b-ef88-4fa6-adf2-ebbfeaaa39e9; trace=2928f66b-ef88-4fa6-adf2-ebbfeaaa39e9,id=0454df4c-4ffe-4e23-9851-c54c807f256b\n",
            "Failed to batch ingest runs: langsmith.utils.LangSmithAuthError: Authentication failed for https://api.smith.langchain.com/runs/batch. HTTPError('401 Client Error: Unauthorized for url: https://api.smith.langchain.com/runs/batch', '{\"detail\":\"Invalid token\"}')\n",
            "post: trace=400b5438-2788-46b8-bca9-80dba2277a8f,id=0fe0ab4a-6b2a-47c6-b2aa-8231ea29232e; trace=400b5438-2788-46b8-bca9-80dba2277a8f,id=103e09e4-1bef-48aa-8167-e9c1472a9954; trace=400b5438-2788-46b8-bca9-80dba2277a8f,id=807d14d7-37c7-4542-85c1-bcb6173e292d; trace=400b5438-2788-46b8-bca9-80dba2277a8f,id=3769141d-0400-43cb-a7e8-5ae5443af2bd; trace=400b5438-2788-46b8-bca9-80dba2277a8f,id=83dc482c-bc98-401c-b3e7-5fe089339e84; trace=400b5438-2788-46b8-bca9-80dba2277a8f,id=0c04a15d-4914-4fe2-b8ac-52ba6dbab214; trace=400b5438-2788-46b8-bca9-80dba2277a8f,id=5c1a0c97-f2ff-48a0-968e-da9184d73903; trace=400b5438-2788-46b8-bca9-80dba2277a8f,id=9299ffd0-29e4-423f-acc5-c2e6dad53daf; patch: trace=400b5438-2788-46b8-bca9-80dba2277a8f,id=4edd62f1-0dae-41ee-b468-817b690bc9df; trace=400b5438-2788-46b8-bca9-80dba2277a8f,id=c0ea005d-9cbd-4ec8-81ae-e8d0d9a5df4a; trace=400b5438-2788-46b8-bca9-80dba2277a8f,id=6046e0d2-dbb9-4924-959d-a63004dd86a6\n",
            "Failed to batch ingest runs: langsmith.utils.LangSmithAuthError: Authentication failed for https://api.smith.langchain.com/runs/batch. HTTPError('401 Client Error: Unauthorized for url: https://api.smith.langchain.com/runs/batch', '{\"detail\":\"Invalid token\"}')\n",
            "post: trace=8517dafa-bf30-43e0-a103-da27324dae34,id=8517dafa-bf30-43e0-a103-da27324dae34; trace=8517dafa-bf30-43e0-a103-da27324dae34,id=271f7df2-3419-426d-a38a-7c6d70db967f; trace=8517dafa-bf30-43e0-a103-da27324dae34,id=fcfcb459-dba9-451b-a961-345b16d7bb6b; trace=8517dafa-bf30-43e0-a103-da27324dae34,id=92a33768-15e9-45ef-8714-e55b4e769107; trace=8517dafa-bf30-43e0-a103-da27324dae34,id=92c09996-6a2b-4d15-8add-64b2e44652ea; trace=8517dafa-bf30-43e0-a103-da27324dae34,id=1bd2382b-7066-4972-a783-2ccd4bb7c706; patch: trace=400b5438-2788-46b8-bca9-80dba2277a8f,id=83dc482c-bc98-401c-b3e7-5fe089339e84; trace=400b5438-2788-46b8-bca9-80dba2277a8f,id=5c1a0c97-f2ff-48a0-968e-da9184d73903; trace=400b5438-2788-46b8-bca9-80dba2277a8f,id=400b5438-2788-46b8-bca9-80dba2277a8f; trace=400b5438-2788-46b8-bca9-80dba2277a8f,id=3769141d-0400-43cb-a7e8-5ae5443af2bd\n",
            "Failed to batch ingest runs: langsmith.utils.LangSmithAuthError: Authentication failed for https://api.smith.langchain.com/runs/batch. HTTPError('401 Client Error: Unauthorized for url: https://api.smith.langchain.com/runs/batch', '{\"detail\":\"Invalid token\"}')\n",
            "post: trace=8517dafa-bf30-43e0-a103-da27324dae34,id=9d86dc7f-f667-4bb3-842f-62848644479a; trace=8517dafa-bf30-43e0-a103-da27324dae34,id=9c5290eb-fa86-471d-82a0-c72d1b9119a9; trace=8517dafa-bf30-43e0-a103-da27324dae34,id=96c64778-5ad1-4ad5-bc78-ad10fefa1e23; trace=8517dafa-bf30-43e0-a103-da27324dae34,id=e7b568c3-dbb6-42fa-9326-963702bcb449; trace=8517dafa-bf30-43e0-a103-da27324dae34,id=f0755f46-6465-4759-ac1e-01df700c3ff4; trace=8517dafa-bf30-43e0-a103-da27324dae34,id=09c1bb26-5c7b-42a0-86a9-ce18f1d8478c; trace=8517dafa-bf30-43e0-a103-da27324dae34,id=d2aeb68b-6792-425c-b5f6-d18d87456273; trace=8517dafa-bf30-43e0-a103-da27324dae34,id=3ee794fc-8643-4291-b287-d557442a0486; patch: trace=8517dafa-bf30-43e0-a103-da27324dae34,id=fcfcb459-dba9-451b-a961-345b16d7bb6b; trace=8517dafa-bf30-43e0-a103-da27324dae34,id=92c09996-6a2b-4d15-8add-64b2e44652ea; trace=8517dafa-bf30-43e0-a103-da27324dae34,id=271f7df2-3419-426d-a38a-7c6d70db967f\n",
            "Failed to batch ingest runs: langsmith.utils.LangSmithAuthError: Authentication failed for https://api.smith.langchain.com/runs/batch. HTTPError('401 Client Error: Unauthorized for url: https://api.smith.langchain.com/runs/batch', '{\"detail\":\"Invalid token\"}')\n",
            "post: trace=37b62ce0-5c72-4126-a5c4-12cd0ba02c77,id=37b62ce0-5c72-4126-a5c4-12cd0ba02c77; trace=37b62ce0-5c72-4126-a5c4-12cd0ba02c77,id=34008515-dd07-416e-a31d-c142b75355ca; trace=37b62ce0-5c72-4126-a5c4-12cd0ba02c77,id=97c1b1b2-03ff-496d-809e-4d7664e0a5f7; trace=37b62ce0-5c72-4126-a5c4-12cd0ba02c77,id=c659c541-fdcc-442b-ba0f-04d43140776c; trace=37b62ce0-5c72-4126-a5c4-12cd0ba02c77,id=149b194a-2a02-4f44-8615-723007d68f0f; trace=37b62ce0-5c72-4126-a5c4-12cd0ba02c77,id=e2f63af1-42be-40ce-a564-13934f4960c2; patch: trace=8517dafa-bf30-43e0-a103-da27324dae34,id=f0755f46-6465-4759-ac1e-01df700c3ff4; trace=8517dafa-bf30-43e0-a103-da27324dae34,id=d2aeb68b-6792-425c-b5f6-d18d87456273; trace=8517dafa-bf30-43e0-a103-da27324dae34,id=8517dafa-bf30-43e0-a103-da27324dae34; trace=8517dafa-bf30-43e0-a103-da27324dae34,id=e7b568c3-dbb6-42fa-9326-963702bcb449\n",
            "Failed to batch ingest runs: langsmith.utils.LangSmithAuthError: Authentication failed for https://api.smith.langchain.com/runs/batch. HTTPError('401 Client Error: Unauthorized for url: https://api.smith.langchain.com/runs/batch', '{\"detail\":\"Invalid token\"}')\n",
            "post: trace=37b62ce0-5c72-4126-a5c4-12cd0ba02c77,id=f7a3e9fc-f2ed-4b2f-b9eb-a53115387f4c; trace=37b62ce0-5c72-4126-a5c4-12cd0ba02c77,id=fae17fb4-26ee-49ed-9951-122f94005db1; trace=37b62ce0-5c72-4126-a5c4-12cd0ba02c77,id=3e73fedd-5bf3-4199-aada-1b57f3565243; trace=37b62ce0-5c72-4126-a5c4-12cd0ba02c77,id=d2cfbe8c-1e70-46d9-b1fa-8e41f506a556; trace=37b62ce0-5c72-4126-a5c4-12cd0ba02c77,id=16c07299-8e9a-4407-8204-1fc35ba52699; trace=37b62ce0-5c72-4126-a5c4-12cd0ba02c77,id=6ac2b96f-cfc1-4563-ab9e-eab7cc19c108; trace=37b62ce0-5c72-4126-a5c4-12cd0ba02c77,id=f255d6df-3860-4dbd-a53f-a688218f1594; trace=37b62ce0-5c72-4126-a5c4-12cd0ba02c77,id=bdcd8471-7e71-41e8-bd97-4b71921ba93d; patch: trace=37b62ce0-5c72-4126-a5c4-12cd0ba02c77,id=97c1b1b2-03ff-496d-809e-4d7664e0a5f7; trace=37b62ce0-5c72-4126-a5c4-12cd0ba02c77,id=149b194a-2a02-4f44-8615-723007d68f0f; trace=37b62ce0-5c72-4126-a5c4-12cd0ba02c77,id=34008515-dd07-416e-a31d-c142b75355ca\n",
            "Failed to batch ingest runs: langsmith.utils.LangSmithAuthError: Authentication failed for https://api.smith.langchain.com/runs/batch. HTTPError('401 Client Error: Unauthorized for url: https://api.smith.langchain.com/runs/batch', '{\"detail\":\"Invalid token\"}')\n",
            "post: trace=58695425-476b-415a-9810-75d245667956,id=58695425-476b-415a-9810-75d245667956; trace=58695425-476b-415a-9810-75d245667956,id=f67a9137-2776-4e60-b016-6e401ecaf44f; trace=58695425-476b-415a-9810-75d245667956,id=f271ab2b-3017-4d64-96ce-f5c61ff2ec0a; trace=58695425-476b-415a-9810-75d245667956,id=070f8541-7371-433d-a2a5-172cf7691c0f; trace=58695425-476b-415a-9810-75d245667956,id=fde3f313-b932-4b13-aeaf-6756af16e24d; trace=58695425-476b-415a-9810-75d245667956,id=bd18257d-e7c0-45b1-8f96-9ad78f112cef; patch: trace=37b62ce0-5c72-4126-a5c4-12cd0ba02c77,id=16c07299-8e9a-4407-8204-1fc35ba52699; trace=37b62ce0-5c72-4126-a5c4-12cd0ba02c77,id=f255d6df-3860-4dbd-a53f-a688218f1594; trace=37b62ce0-5c72-4126-a5c4-12cd0ba02c77,id=37b62ce0-5c72-4126-a5c4-12cd0ba02c77; trace=37b62ce0-5c72-4126-a5c4-12cd0ba02c77,id=d2cfbe8c-1e70-46d9-b1fa-8e41f506a556\n",
            "Failed to batch ingest runs: langsmith.utils.LangSmithAuthError: Authentication failed for https://api.smith.langchain.com/runs/batch. HTTPError('401 Client Error: Unauthorized for url: https://api.smith.langchain.com/runs/batch', '{\"detail\":\"Invalid token\"}')\n",
            "post: trace=58695425-476b-415a-9810-75d245667956,id=c735aa83-8449-46a7-8c76-9ac08c23d466; trace=58695425-476b-415a-9810-75d245667956,id=1d9b97ff-8a45-4544-9f1d-96d0469f2c26; trace=58695425-476b-415a-9810-75d245667956,id=db34ba73-51a6-4cb9-a565-37dfbbf915f8; trace=58695425-476b-415a-9810-75d245667956,id=eec96cd5-98a2-4c3e-b555-a8da7b79cfee; trace=58695425-476b-415a-9810-75d245667956,id=aad49e4b-6a96-4be2-85aa-ddc33068de27; trace=58695425-476b-415a-9810-75d245667956,id=51827618-00d8-4e87-9aaa-f0f792188651; trace=58695425-476b-415a-9810-75d245667956,id=b3151709-3454-4e8d-bbc4-b883c41b968f; trace=58695425-476b-415a-9810-75d245667956,id=8bf71809-0f2e-4989-98f0-a8f5c12aef20; patch: trace=58695425-476b-415a-9810-75d245667956,id=f271ab2b-3017-4d64-96ce-f5c61ff2ec0a; trace=58695425-476b-415a-9810-75d245667956,id=bd18257d-e7c0-45b1-8f96-9ad78f112cef; trace=58695425-476b-415a-9810-75d245667956,id=f67a9137-2776-4e60-b016-6e401ecaf44f\n",
            "Failed to batch ingest runs: langsmith.utils.LangSmithAuthError: Authentication failed for https://api.smith.langchain.com/runs/batch. HTTPError('401 Client Error: Unauthorized for url: https://api.smith.langchain.com/runs/batch', '{\"detail\":\"Invalid token\"}')\n",
            "post: trace=0063ced6-e66c-4167-bbd9-8755a256acf0,id=0063ced6-e66c-4167-bbd9-8755a256acf0; trace=0063ced6-e66c-4167-bbd9-8755a256acf0,id=5cd41222-29e1-4564-a378-bcd96ed91f2c; trace=0063ced6-e66c-4167-bbd9-8755a256acf0,id=3ee0a8c7-2c5e-4d6d-965e-8dafc099b80f; trace=0063ced6-e66c-4167-bbd9-8755a256acf0,id=efa69bb8-6765-4aaa-9f79-e2c80c16b204; trace=0063ced6-e66c-4167-bbd9-8755a256acf0,id=915948bf-2f94-4e7e-9b6f-3319e9ccdb25; trace=0063ced6-e66c-4167-bbd9-8755a256acf0,id=078a47e1-5362-40be-80bf-44600fa78894; patch: trace=58695425-476b-415a-9810-75d245667956,id=aad49e4b-6a96-4be2-85aa-ddc33068de27; trace=58695425-476b-415a-9810-75d245667956,id=b3151709-3454-4e8d-bbc4-b883c41b968f; trace=58695425-476b-415a-9810-75d245667956,id=58695425-476b-415a-9810-75d245667956; trace=58695425-476b-415a-9810-75d245667956,id=eec96cd5-98a2-4c3e-b555-a8da7b79cfee\n",
            "Failed to batch ingest runs: langsmith.utils.LangSmithAuthError: Authentication failed for https://api.smith.langchain.com/runs/batch. HTTPError('401 Client Error: Unauthorized for url: https://api.smith.langchain.com/runs/batch', '{\"detail\":\"Invalid token\"}')\n",
            "post: trace=0063ced6-e66c-4167-bbd9-8755a256acf0,id=ac1863d1-77ff-4a3c-b4e0-8b6a53b44e8a; trace=0063ced6-e66c-4167-bbd9-8755a256acf0,id=adc40bfc-2c37-4375-8e07-07b0fb305045; trace=0063ced6-e66c-4167-bbd9-8755a256acf0,id=71135685-5253-4b3b-aaa9-988a41cb50c4; trace=0063ced6-e66c-4167-bbd9-8755a256acf0,id=5e20f2d8-8789-4093-b04d-28de82ed55e4; trace=0063ced6-e66c-4167-bbd9-8755a256acf0,id=12e2a72d-9049-4d9f-b224-de5f259df822; trace=0063ced6-e66c-4167-bbd9-8755a256acf0,id=28bf1bfb-3310-47b4-af32-bd18099ed804; trace=0063ced6-e66c-4167-bbd9-8755a256acf0,id=631ac607-1bb4-4d9e-a1d9-871058af14f3; trace=0063ced6-e66c-4167-bbd9-8755a256acf0,id=99e55a32-032c-4412-9c6f-f496e22e8cc2; patch: trace=0063ced6-e66c-4167-bbd9-8755a256acf0,id=efa69bb8-6765-4aaa-9f79-e2c80c16b204; trace=0063ced6-e66c-4167-bbd9-8755a256acf0,id=078a47e1-5362-40be-80bf-44600fa78894; trace=0063ced6-e66c-4167-bbd9-8755a256acf0,id=5cd41222-29e1-4564-a378-bcd96ed91f2c\n",
            "Failed to batch ingest runs: langsmith.utils.LangSmithAuthError: Authentication failed for https://api.smith.langchain.com/runs/batch. HTTPError('401 Client Error: Unauthorized for url: https://api.smith.langchain.com/runs/batch', '{\"detail\":\"Invalid token\"}')\n",
            "post: trace=e0d3367c-c21e-4126-9a20-2fc11860daad,id=e0d3367c-c21e-4126-9a20-2fc11860daad; trace=e0d3367c-c21e-4126-9a20-2fc11860daad,id=923315cb-396d-411d-a3c8-bb4e1381ab54; trace=e0d3367c-c21e-4126-9a20-2fc11860daad,id=09946253-39e0-433c-9993-481f177182e7; trace=e0d3367c-c21e-4126-9a20-2fc11860daad,id=3b8027d6-fcbd-4f10-b965-40952149dce2; trace=e0d3367c-c21e-4126-9a20-2fc11860daad,id=bcb7b6d8-7995-4710-b810-8b5f1cea70c8; trace=e0d3367c-c21e-4126-9a20-2fc11860daad,id=5a9dd747-1ec0-4efe-a197-c8e6a85c29a8; patch: trace=0063ced6-e66c-4167-bbd9-8755a256acf0,id=12e2a72d-9049-4d9f-b224-de5f259df822; trace=0063ced6-e66c-4167-bbd9-8755a256acf0,id=631ac607-1bb4-4d9e-a1d9-871058af14f3; trace=0063ced6-e66c-4167-bbd9-8755a256acf0,id=0063ced6-e66c-4167-bbd9-8755a256acf0; trace=0063ced6-e66c-4167-bbd9-8755a256acf0,id=5e20f2d8-8789-4093-b04d-28de82ed55e4\n",
            "Failed to batch ingest runs: langsmith.utils.LangSmithAuthError: Authentication failed for https://api.smith.langchain.com/runs/batch. HTTPError('401 Client Error: Unauthorized for url: https://api.smith.langchain.com/runs/batch', '{\"detail\":\"Invalid token\"}')\n",
            "post: trace=e0d3367c-c21e-4126-9a20-2fc11860daad,id=b9c618ff-722f-4c62-bab0-151ca7c482af; trace=e0d3367c-c21e-4126-9a20-2fc11860daad,id=d8cd2e31-4067-4154-a87d-627318835acf; trace=e0d3367c-c21e-4126-9a20-2fc11860daad,id=81f945a1-d250-4215-a512-b801bbdcdead; trace=e0d3367c-c21e-4126-9a20-2fc11860daad,id=cd399252-c03f-433f-8948-83001e5ff411; trace=e0d3367c-c21e-4126-9a20-2fc11860daad,id=79c2e099-b3a8-43bf-b3d1-895ee00b94c3; trace=e0d3367c-c21e-4126-9a20-2fc11860daad,id=6c091544-9d17-4e1b-8753-8d8784810696; trace=e0d3367c-c21e-4126-9a20-2fc11860daad,id=c27a8326-7d96-436f-b6f9-f9687b64f76f; trace=e0d3367c-c21e-4126-9a20-2fc11860daad,id=91396e00-38ce-470d-b30b-b294d0159efa; patch: trace=e0d3367c-c21e-4126-9a20-2fc11860daad,id=923315cb-396d-411d-a3c8-bb4e1381ab54; trace=e0d3367c-c21e-4126-9a20-2fc11860daad,id=09946253-39e0-433c-9993-481f177182e7; trace=e0d3367c-c21e-4126-9a20-2fc11860daad,id=5a9dd747-1ec0-4efe-a197-c8e6a85c29a8\n",
            "Failed to batch ingest runs: langsmith.utils.LangSmithAuthError: Authentication failed for https://api.smith.langchain.com/runs/batch. HTTPError('401 Client Error: Unauthorized for url: https://api.smith.langchain.com/runs/batch', '{\"detail\":\"Invalid token\"}')\n",
            "post: trace=f9431123-f351-44d6-aae0-28d3172ec109,id=f9431123-f351-44d6-aae0-28d3172ec109; trace=f9431123-f351-44d6-aae0-28d3172ec109,id=d514e90d-c6ab-4c3e-917b-4c877824804d; trace=f9431123-f351-44d6-aae0-28d3172ec109,id=26f2ce2d-e560-4986-a241-0423382d3bc1; trace=f9431123-f351-44d6-aae0-28d3172ec109,id=9b374107-622a-4408-9833-8606004e75ad; trace=f9431123-f351-44d6-aae0-28d3172ec109,id=2ecfecd4-5bf8-4725-a40e-26d84114b391; trace=f9431123-f351-44d6-aae0-28d3172ec109,id=f87267de-3367-4954-baca-cb5f989e65d7; patch: trace=e0d3367c-c21e-4126-9a20-2fc11860daad,id=79c2e099-b3a8-43bf-b3d1-895ee00b94c3; trace=e0d3367c-c21e-4126-9a20-2fc11860daad,id=c27a8326-7d96-436f-b6f9-f9687b64f76f; trace=e0d3367c-c21e-4126-9a20-2fc11860daad,id=e0d3367c-c21e-4126-9a20-2fc11860daad; trace=e0d3367c-c21e-4126-9a20-2fc11860daad,id=cd399252-c03f-433f-8948-83001e5ff411\n",
            "Failed to batch ingest runs: langsmith.utils.LangSmithAuthError: Authentication failed for https://api.smith.langchain.com/runs/batch. HTTPError('401 Client Error: Unauthorized for url: https://api.smith.langchain.com/runs/batch', '{\"detail\":\"Invalid token\"}')\n",
            "post: trace=f9431123-f351-44d6-aae0-28d3172ec109,id=3b39f633-9598-43cf-8046-40419f07e0da; trace=f9431123-f351-44d6-aae0-28d3172ec109,id=98d3ffcf-87cf-4382-9bbd-506180a60182; trace=f9431123-f351-44d6-aae0-28d3172ec109,id=13d9ab16-2f98-4710-a207-70e135dcb943; trace=f9431123-f351-44d6-aae0-28d3172ec109,id=b3942363-418d-4e41-bc58-2b538c7bdf3f; trace=f9431123-f351-44d6-aae0-28d3172ec109,id=e2f26a63-fb7d-4237-b248-0eeda3c57e71; trace=f9431123-f351-44d6-aae0-28d3172ec109,id=848fdd15-3e14-451c-95d7-0c61381e8476; trace=f9431123-f351-44d6-aae0-28d3172ec109,id=9e8a77a1-4f5f-49b8-a210-9d294bbaa5c8; trace=f9431123-f351-44d6-aae0-28d3172ec109,id=5630d6da-909c-48d4-9d36-ac59a5729ee3; patch: trace=f9431123-f351-44d6-aae0-28d3172ec109,id=9b374107-622a-4408-9833-8606004e75ad; trace=f9431123-f351-44d6-aae0-28d3172ec109,id=f87267de-3367-4954-baca-cb5f989e65d7; trace=f9431123-f351-44d6-aae0-28d3172ec109,id=d514e90d-c6ab-4c3e-917b-4c877824804d\n",
            "Failed to batch ingest runs: langsmith.utils.LangSmithAuthError: Authentication failed for https://api.smith.langchain.com/runs/batch. HTTPError('401 Client Error: Unauthorized for url: https://api.smith.langchain.com/runs/batch', '{\"detail\":\"Invalid token\"}')\n",
            "post: trace=8e22eb8f-9346-4819-aab2-ed414356f085,id=8e22eb8f-9346-4819-aab2-ed414356f085; trace=8e22eb8f-9346-4819-aab2-ed414356f085,id=9170dfe4-93e0-4a83-b5bf-0558f8bae4b3; trace=8e22eb8f-9346-4819-aab2-ed414356f085,id=8e5654e6-a393-4b38-85b8-259c701a6bef; trace=8e22eb8f-9346-4819-aab2-ed414356f085,id=000327a1-194b-4dc2-86b4-735ab4961de6; trace=8e22eb8f-9346-4819-aab2-ed414356f085,id=ca497b86-95dc-464c-9ac6-0e249f3db2a1; trace=8e22eb8f-9346-4819-aab2-ed414356f085,id=d4ac122a-7a0a-499a-8032-31ebefc9301f; patch: trace=f9431123-f351-44d6-aae0-28d3172ec109,id=e2f26a63-fb7d-4237-b248-0eeda3c57e71; trace=f9431123-f351-44d6-aae0-28d3172ec109,id=9e8a77a1-4f5f-49b8-a210-9d294bbaa5c8; trace=f9431123-f351-44d6-aae0-28d3172ec109,id=f9431123-f351-44d6-aae0-28d3172ec109; trace=f9431123-f351-44d6-aae0-28d3172ec109,id=b3942363-418d-4e41-bc58-2b538c7bdf3f\n",
            "Failed to batch ingest runs: langsmith.utils.LangSmithAuthError: Authentication failed for https://api.smith.langchain.com/runs/batch. HTTPError('401 Client Error: Unauthorized for url: https://api.smith.langchain.com/runs/batch', '{\"detail\":\"Invalid token\"}')\n",
            "post: trace=8e22eb8f-9346-4819-aab2-ed414356f085,id=ff8f9585-bc54-4abf-8c9a-f8f7a3a0506d; trace=8e22eb8f-9346-4819-aab2-ed414356f085,id=29da741b-9359-4d71-a531-0350545cb08a; trace=8e22eb8f-9346-4819-aab2-ed414356f085,id=eab2cc65-2f5a-4cfa-9825-4549678650c8; trace=8e22eb8f-9346-4819-aab2-ed414356f085,id=721e5d19-0e0e-4273-952c-6f798411c108; trace=8e22eb8f-9346-4819-aab2-ed414356f085,id=48b4f094-4dc8-4c92-9222-a74904629e3b; trace=8e22eb8f-9346-4819-aab2-ed414356f085,id=8d1825ba-df50-4755-9c67-62d7493817e3; trace=8e22eb8f-9346-4819-aab2-ed414356f085,id=da5566d5-5842-46ea-a755-993dfc36a020; trace=8e22eb8f-9346-4819-aab2-ed414356f085,id=0ef4fc1a-60aa-4326-87b6-a7b5bd6e3722; patch: trace=8e22eb8f-9346-4819-aab2-ed414356f085,id=8e5654e6-a393-4b38-85b8-259c701a6bef; trace=8e22eb8f-9346-4819-aab2-ed414356f085,id=ca497b86-95dc-464c-9ac6-0e249f3db2a1; trace=8e22eb8f-9346-4819-aab2-ed414356f085,id=9170dfe4-93e0-4a83-b5bf-0558f8bae4b3\n",
            "Failed to batch ingest runs: langsmith.utils.LangSmithAuthError: Authentication failed for https://api.smith.langchain.com/runs/batch. HTTPError('401 Client Error: Unauthorized for url: https://api.smith.langchain.com/runs/batch', '{\"detail\":\"Invalid token\"}')\n",
            "post: trace=b508c513-ab8f-4257-afa3-d0be8b409a87,id=b508c513-ab8f-4257-afa3-d0be8b409a87; trace=b508c513-ab8f-4257-afa3-d0be8b409a87,id=06e4fba2-05f5-4552-a0e1-438aa3da9f90; trace=b508c513-ab8f-4257-afa3-d0be8b409a87,id=5d1828c6-9849-41bb-a1bd-ca1e445f4a38; trace=b508c513-ab8f-4257-afa3-d0be8b409a87,id=46445da9-85d4-42e5-acff-d3308a56fb6b; trace=b508c513-ab8f-4257-afa3-d0be8b409a87,id=3d810589-9de5-428a-8309-516e6559f49a; trace=b508c513-ab8f-4257-afa3-d0be8b409a87,id=b585e86f-1972-49e4-a618-c145583f10d0; patch: trace=8e22eb8f-9346-4819-aab2-ed414356f085,id=48b4f094-4dc8-4c92-9222-a74904629e3b; trace=8e22eb8f-9346-4819-aab2-ed414356f085,id=da5566d5-5842-46ea-a755-993dfc36a020; trace=8e22eb8f-9346-4819-aab2-ed414356f085,id=8e22eb8f-9346-4819-aab2-ed414356f085; trace=8e22eb8f-9346-4819-aab2-ed414356f085,id=721e5d19-0e0e-4273-952c-6f798411c108\n",
            "Failed to batch ingest runs: langsmith.utils.LangSmithAuthError: Authentication failed for https://api.smith.langchain.com/runs/batch. HTTPError('401 Client Error: Unauthorized for url: https://api.smith.langchain.com/runs/batch', '{\"detail\":\"Invalid token\"}')\n",
            "post: trace=b508c513-ab8f-4257-afa3-d0be8b409a87,id=4ba12ff4-26e0-4cc8-94c6-dfcb9c3a319d; trace=b508c513-ab8f-4257-afa3-d0be8b409a87,id=88bb8cb8-c37b-4047-af05-0b09741e7453; trace=b508c513-ab8f-4257-afa3-d0be8b409a87,id=1c4755e2-d3cc-4934-9bfc-30647035193a; trace=b508c513-ab8f-4257-afa3-d0be8b409a87,id=be996ef0-b6fa-4745-ac8e-2774c30ef7e4; trace=b508c513-ab8f-4257-afa3-d0be8b409a87,id=c6263425-26e0-4c1d-ac92-6544fc887bd2; trace=b508c513-ab8f-4257-afa3-d0be8b409a87,id=6538d669-9adb-449d-9a10-0da0bee27604; trace=b508c513-ab8f-4257-afa3-d0be8b409a87,id=aa5531ab-766a-4443-b13b-5cab40ddb7ac; trace=b508c513-ab8f-4257-afa3-d0be8b409a87,id=68c26e4f-2832-43c0-b499-f42669959337; patch: trace=b508c513-ab8f-4257-afa3-d0be8b409a87,id=5d1828c6-9849-41bb-a1bd-ca1e445f4a38; trace=b508c513-ab8f-4257-afa3-d0be8b409a87,id=3d810589-9de5-428a-8309-516e6559f49a; trace=b508c513-ab8f-4257-afa3-d0be8b409a87,id=06e4fba2-05f5-4552-a0e1-438aa3da9f90\n",
            "Failed to batch ingest runs: langsmith.utils.LangSmithAuthError: Authentication failed for https://api.smith.langchain.com/runs/batch. HTTPError('401 Client Error: Unauthorized for url: https://api.smith.langchain.com/runs/batch', '{\"detail\":\"Invalid token\"}')\n",
            "post: trace=576771d9-65af-4f32-a378-6dcb8f00dcaa,id=576771d9-65af-4f32-a378-6dcb8f00dcaa; trace=576771d9-65af-4f32-a378-6dcb8f00dcaa,id=4098e14f-29da-4cf0-b0c6-535f3195de80; trace=576771d9-65af-4f32-a378-6dcb8f00dcaa,id=2b0922fa-7bd0-42b9-9619-d4d6f8cf0c19; trace=576771d9-65af-4f32-a378-6dcb8f00dcaa,id=e3612545-3cf4-423a-86cf-6351b7d3a7b1; trace=576771d9-65af-4f32-a378-6dcb8f00dcaa,id=e98638a0-772b-4efa-9c40-76529bf3d279; trace=576771d9-65af-4f32-a378-6dcb8f00dcaa,id=1748d7e7-36f9-4aab-95f0-14e5d482c3ac; patch: trace=b508c513-ab8f-4257-afa3-d0be8b409a87,id=c6263425-26e0-4c1d-ac92-6544fc887bd2; trace=b508c513-ab8f-4257-afa3-d0be8b409a87,id=aa5531ab-766a-4443-b13b-5cab40ddb7ac; trace=b508c513-ab8f-4257-afa3-d0be8b409a87,id=b508c513-ab8f-4257-afa3-d0be8b409a87; trace=b508c513-ab8f-4257-afa3-d0be8b409a87,id=be996ef0-b6fa-4745-ac8e-2774c30ef7e4\n",
            "Failed to batch ingest runs: langsmith.utils.LangSmithAuthError: Authentication failed for https://api.smith.langchain.com/runs/batch. HTTPError('401 Client Error: Unauthorized for url: https://api.smith.langchain.com/runs/batch', '{\"detail\":\"Invalid token\"}')\n",
            "post: trace=576771d9-65af-4f32-a378-6dcb8f00dcaa,id=e869b930-b18f-49cb-b8f1-c5be9b47124e; trace=576771d9-65af-4f32-a378-6dcb8f00dcaa,id=00a650a3-f807-4d1f-8e34-4d683cd5ac2c; trace=576771d9-65af-4f32-a378-6dcb8f00dcaa,id=258c04a6-1ce0-44db-b5f3-f38892e23d62; trace=576771d9-65af-4f32-a378-6dcb8f00dcaa,id=85f7b1fa-1612-4373-943a-bc02a87d9447; trace=576771d9-65af-4f32-a378-6dcb8f00dcaa,id=a4212908-1eca-4d1d-b9e3-5de61e9f5a23; trace=576771d9-65af-4f32-a378-6dcb8f00dcaa,id=5613bde9-53c0-4584-ab78-610ac37a5c50; trace=576771d9-65af-4f32-a378-6dcb8f00dcaa,id=cf998933-1a39-462c-afdd-09ad187f50d1; trace=576771d9-65af-4f32-a378-6dcb8f00dcaa,id=c701865c-7461-42cf-b769-195e83c3e57d; patch: trace=576771d9-65af-4f32-a378-6dcb8f00dcaa,id=2b0922fa-7bd0-42b9-9619-d4d6f8cf0c19; trace=576771d9-65af-4f32-a378-6dcb8f00dcaa,id=e98638a0-772b-4efa-9c40-76529bf3d279; trace=576771d9-65af-4f32-a378-6dcb8f00dcaa,id=4098e14f-29da-4cf0-b0c6-535f3195de80\n",
            "Failed to batch ingest runs: langsmith.utils.LangSmithAuthError: Authentication failed for https://api.smith.langchain.com/runs/batch. HTTPError('401 Client Error: Unauthorized for url: https://api.smith.langchain.com/runs/batch', '{\"detail\":\"Invalid token\"}')\n",
            "post: trace=b718c7d4-7dde-41f5-9057-6bf1f0e959bd,id=b718c7d4-7dde-41f5-9057-6bf1f0e959bd; trace=b718c7d4-7dde-41f5-9057-6bf1f0e959bd,id=45057466-de6d-49e4-8a03-5e8a16da9b43; trace=b718c7d4-7dde-41f5-9057-6bf1f0e959bd,id=4564c751-6884-422d-9f0d-06b26abc3259; trace=b718c7d4-7dde-41f5-9057-6bf1f0e959bd,id=46794b7b-bf53-4acc-979b-a9a861b3b1e0; trace=b718c7d4-7dde-41f5-9057-6bf1f0e959bd,id=ac3657ee-6518-4154-ba3b-eeab89edb089; trace=b718c7d4-7dde-41f5-9057-6bf1f0e959bd,id=ed9c5b92-6ad2-4c15-8fa9-1e77c3d33d91; patch: trace=576771d9-65af-4f32-a378-6dcb8f00dcaa,id=a4212908-1eca-4d1d-b9e3-5de61e9f5a23; trace=576771d9-65af-4f32-a378-6dcb8f00dcaa,id=cf998933-1a39-462c-afdd-09ad187f50d1; trace=576771d9-65af-4f32-a378-6dcb8f00dcaa,id=576771d9-65af-4f32-a378-6dcb8f00dcaa; trace=576771d9-65af-4f32-a378-6dcb8f00dcaa,id=85f7b1fa-1612-4373-943a-bc02a87d9447\n",
            "Failed to batch ingest runs: langsmith.utils.LangSmithAuthError: Authentication failed for https://api.smith.langchain.com/runs/batch. HTTPError('401 Client Error: Unauthorized for url: https://api.smith.langchain.com/runs/batch', '{\"detail\":\"Invalid token\"}')\n",
            "post: trace=b718c7d4-7dde-41f5-9057-6bf1f0e959bd,id=03f5f5a0-12df-4b1b-8050-4cf23fb5e622; trace=b718c7d4-7dde-41f5-9057-6bf1f0e959bd,id=3289aa74-c5db-469d-9784-6bc058f9b3ea; trace=b718c7d4-7dde-41f5-9057-6bf1f0e959bd,id=f3ba9e53-d29b-4b51-a1df-2566a4613dd9; trace=b718c7d4-7dde-41f5-9057-6bf1f0e959bd,id=3a1d8778-6c12-4e05-acbf-61c260ffa52d; trace=b718c7d4-7dde-41f5-9057-6bf1f0e959bd,id=6a020b79-ab77-4dfa-bb2f-2d8bd4719c42; trace=b718c7d4-7dde-41f5-9057-6bf1f0e959bd,id=d0e3652a-a9b7-4952-aed8-5e24133e4101; trace=b718c7d4-7dde-41f5-9057-6bf1f0e959bd,id=e5aaee72-0c6e-4c9e-b088-50acddfd5d47; trace=b718c7d4-7dde-41f5-9057-6bf1f0e959bd,id=da883ba1-b861-40e9-bf50-c058d1969dc1; patch: trace=b718c7d4-7dde-41f5-9057-6bf1f0e959bd,id=45057466-de6d-49e4-8a03-5e8a16da9b43; trace=b718c7d4-7dde-41f5-9057-6bf1f0e959bd,id=4564c751-6884-422d-9f0d-06b26abc3259; trace=b718c7d4-7dde-41f5-9057-6bf1f0e959bd,id=ed9c5b92-6ad2-4c15-8fa9-1e77c3d33d91\n",
            "Failed to batch ingest runs: langsmith.utils.LangSmithAuthError: Authentication failed for https://api.smith.langchain.com/runs/batch. HTTPError('401 Client Error: Unauthorized for url: https://api.smith.langchain.com/runs/batch', '{\"detail\":\"Invalid token\"}')\n",
            "post: trace=b0594fab-a13e-4ad5-b77b-a9bf7b3bf574,id=b0594fab-a13e-4ad5-b77b-a9bf7b3bf574; trace=b0594fab-a13e-4ad5-b77b-a9bf7b3bf574,id=bd9133c2-a1ef-45c3-949d-b8b959b43abf; trace=b0594fab-a13e-4ad5-b77b-a9bf7b3bf574,id=99f8bdab-75be-489f-a0a4-d2eb48af9f47; trace=b0594fab-a13e-4ad5-b77b-a9bf7b3bf574,id=2620df41-5193-48d1-8cac-1ad078d8754e; trace=b0594fab-a13e-4ad5-b77b-a9bf7b3bf574,id=0d308540-277d-4d54-aab2-a1873f3e54de; trace=b0594fab-a13e-4ad5-b77b-a9bf7b3bf574,id=f6fb14cb-8f19-49f5-80aa-ec5bff1f7824; patch: trace=b718c7d4-7dde-41f5-9057-6bf1f0e959bd,id=6a020b79-ab77-4dfa-bb2f-2d8bd4719c42; trace=b718c7d4-7dde-41f5-9057-6bf1f0e959bd,id=e5aaee72-0c6e-4c9e-b088-50acddfd5d47; trace=b718c7d4-7dde-41f5-9057-6bf1f0e959bd,id=b718c7d4-7dde-41f5-9057-6bf1f0e959bd; trace=b718c7d4-7dde-41f5-9057-6bf1f0e959bd,id=3a1d8778-6c12-4e05-acbf-61c260ffa52d\n",
            "Failed to batch ingest runs: langsmith.utils.LangSmithAuthError: Authentication failed for https://api.smith.langchain.com/runs/batch. HTTPError('401 Client Error: Unauthorized for url: https://api.smith.langchain.com/runs/batch', '{\"detail\":\"Invalid token\"}')\n",
            "post: trace=b0594fab-a13e-4ad5-b77b-a9bf7b3bf574,id=9985c5a2-e4e2-4043-893f-e8df9eda54c2; trace=b0594fab-a13e-4ad5-b77b-a9bf7b3bf574,id=8f6cd5de-6622-4e5b-97a7-1bee69f93b78; trace=b0594fab-a13e-4ad5-b77b-a9bf7b3bf574,id=3701e370-b557-40ed-972b-014ee46cdbb5; trace=b0594fab-a13e-4ad5-b77b-a9bf7b3bf574,id=98680801-8c18-4a9d-a3a5-02c18262323e; trace=b0594fab-a13e-4ad5-b77b-a9bf7b3bf574,id=6ae47d46-3e80-4647-991c-e81486f3ef6f; trace=b0594fab-a13e-4ad5-b77b-a9bf7b3bf574,id=c83857cf-b134-46cb-8ce9-37a1ad474142; trace=b0594fab-a13e-4ad5-b77b-a9bf7b3bf574,id=7196197a-6038-4caa-9bab-668630467980; trace=b0594fab-a13e-4ad5-b77b-a9bf7b3bf574,id=bd578ef2-8345-404b-9564-47c8610e7e42; patch: trace=b0594fab-a13e-4ad5-b77b-a9bf7b3bf574,id=2620df41-5193-48d1-8cac-1ad078d8754e; trace=b0594fab-a13e-4ad5-b77b-a9bf7b3bf574,id=f6fb14cb-8f19-49f5-80aa-ec5bff1f7824; trace=b0594fab-a13e-4ad5-b77b-a9bf7b3bf574,id=bd9133c2-a1ef-45c3-949d-b8b959b43abf\n",
            "Failed to batch ingest runs: langsmith.utils.LangSmithAuthError: Authentication failed for https://api.smith.langchain.com/runs/batch. HTTPError('401 Client Error: Unauthorized for url: https://api.smith.langchain.com/runs/batch', '{\"detail\":\"Invalid token\"}')\n",
            "post: trace=b8a30ba3-3e05-4263-82b7-2fbac13a1e6a,id=b8a30ba3-3e05-4263-82b7-2fbac13a1e6a; trace=b8a30ba3-3e05-4263-82b7-2fbac13a1e6a,id=4b21b9b7-eb36-49ca-8a69-1873ae55ddbe; trace=b8a30ba3-3e05-4263-82b7-2fbac13a1e6a,id=322bf842-a56b-4287-9af0-3c3d6bdfcbcd; trace=b8a30ba3-3e05-4263-82b7-2fbac13a1e6a,id=7535d9e9-8294-4ed2-99b8-fb98468b2ad0; trace=b8a30ba3-3e05-4263-82b7-2fbac13a1e6a,id=34642235-eb82-4a6d-8966-24e6883bc79d; trace=b8a30ba3-3e05-4263-82b7-2fbac13a1e6a,id=7b720d6d-6650-41bd-9e66-e5b88b048d03; patch: trace=b0594fab-a13e-4ad5-b77b-a9bf7b3bf574,id=6ae47d46-3e80-4647-991c-e81486f3ef6f; trace=b0594fab-a13e-4ad5-b77b-a9bf7b3bf574,id=7196197a-6038-4caa-9bab-668630467980; trace=b0594fab-a13e-4ad5-b77b-a9bf7b3bf574,id=b0594fab-a13e-4ad5-b77b-a9bf7b3bf574; trace=b0594fab-a13e-4ad5-b77b-a9bf7b3bf574,id=98680801-8c18-4a9d-a3a5-02c18262323e\n",
            "Failed to batch ingest runs: langsmith.utils.LangSmithAuthError: Authentication failed for https://api.smith.langchain.com/runs/batch. HTTPError('401 Client Error: Unauthorized for url: https://api.smith.langchain.com/runs/batch', '{\"detail\":\"Invalid token\"}')\n",
            "post: trace=b8a30ba3-3e05-4263-82b7-2fbac13a1e6a,id=a0135965-a7b6-49c0-a58d-b83dc1a392db; trace=b8a30ba3-3e05-4263-82b7-2fbac13a1e6a,id=cd743ab7-5b9c-4b16-800c-e24a165101b4; trace=b8a30ba3-3e05-4263-82b7-2fbac13a1e6a,id=4909bbc8-440b-4bc3-9e1f-f22f9832927d; trace=b8a30ba3-3e05-4263-82b7-2fbac13a1e6a,id=0ad47e3d-f821-4436-a884-952d2a9bb045; trace=b8a30ba3-3e05-4263-82b7-2fbac13a1e6a,id=e82c1bdc-9f4e-46ba-a75f-f7ea3eb2ded2; trace=b8a30ba3-3e05-4263-82b7-2fbac13a1e6a,id=d656617d-6206-4e3a-af80-8f36fc6447a6; trace=b8a30ba3-3e05-4263-82b7-2fbac13a1e6a,id=9b157487-46e5-40ed-b303-ed77467253ad; trace=b8a30ba3-3e05-4263-82b7-2fbac13a1e6a,id=df8a4b29-7237-4633-bb91-07b0ebde414a; patch: trace=b8a30ba3-3e05-4263-82b7-2fbac13a1e6a,id=7535d9e9-8294-4ed2-99b8-fb98468b2ad0; trace=b8a30ba3-3e05-4263-82b7-2fbac13a1e6a,id=7b720d6d-6650-41bd-9e66-e5b88b048d03; trace=b8a30ba3-3e05-4263-82b7-2fbac13a1e6a,id=4b21b9b7-eb36-49ca-8a69-1873ae55ddbe\n",
            "Failed to batch ingest runs: langsmith.utils.LangSmithAuthError: Authentication failed for https://api.smith.langchain.com/runs/batch. HTTPError('401 Client Error: Unauthorized for url: https://api.smith.langchain.com/runs/batch', '{\"detail\":\"Invalid token\"}')\n",
            "patch: trace=b8a30ba3-3e05-4263-82b7-2fbac13a1e6a,id=e82c1bdc-9f4e-46ba-a75f-f7ea3eb2ded2; trace=b8a30ba3-3e05-4263-82b7-2fbac13a1e6a,id=9b157487-46e5-40ed-b303-ed77467253ad; trace=b8a30ba3-3e05-4263-82b7-2fbac13a1e6a,id=b8a30ba3-3e05-4263-82b7-2fbac13a1e6a; trace=b8a30ba3-3e05-4263-82b7-2fbac13a1e6a,id=0ad47e3d-f821-4436-a884-952d2a9bb045\n",
            "Failed to batch ingest runs: langsmith.utils.LangSmithAuthError: Authentication failed for https://api.smith.langchain.com/runs/batch. HTTPError('401 Client Error: Unauthorized for url: https://api.smith.langchain.com/runs/batch', '{\"detail\":\"Invalid token\"}')\n",
            "post: trace=79f6f51d-4972-474d-a9ca-4c156adb5a50,id=79f6f51d-4972-474d-a9ca-4c156adb5a50; trace=79f6f51d-4972-474d-a9ca-4c156adb5a50,id=3c986abb-49d6-4b2d-9de6-c8a72adf227e; trace=79f6f51d-4972-474d-a9ca-4c156adb5a50,id=274551f1-9f21-4a35-871c-2b35dafd894d; trace=79f6f51d-4972-474d-a9ca-4c156adb5a50,id=ead83984-c665-4087-92fc-2c78ad2e6a61; trace=79f6f51d-4972-474d-a9ca-4c156adb5a50,id=ae0f465e-8222-444d-8ced-47dcb90176a7; trace=79f6f51d-4972-474d-a9ca-4c156adb5a50,id=298dd427-d488-456a-95ee-cc080a0a984b\n",
            "Failed to batch ingest runs: langsmith.utils.LangSmithAuthError: Authentication failed for https://api.smith.langchain.com/runs/batch. HTTPError('401 Client Error: Unauthorized for url: https://api.smith.langchain.com/runs/batch', '{\"detail\":\"Invalid token\"}')\n",
            "post: trace=79f6f51d-4972-474d-a9ca-4c156adb5a50,id=4e59bd5b-bf2c-4d91-bb02-4f72f7e708e9; trace=79f6f51d-4972-474d-a9ca-4c156adb5a50,id=fc88f67e-7a20-45c3-817b-355dfd8c1f9c; trace=79f6f51d-4972-474d-a9ca-4c156adb5a50,id=6078895f-6eb6-4092-a057-7076773d998f; trace=79f6f51d-4972-474d-a9ca-4c156adb5a50,id=fec03159-e2d8-4393-b5d6-4b3c67af69a6; trace=79f6f51d-4972-474d-a9ca-4c156adb5a50,id=8aad9c72-a185-4145-9755-2d163618f632; trace=79f6f51d-4972-474d-a9ca-4c156adb5a50,id=7854caf3-742f-4ff2-8ffc-e1213b4f3a22; trace=79f6f51d-4972-474d-a9ca-4c156adb5a50,id=a482752e-51bf-4589-8384-3847e4c0fd77; trace=79f6f51d-4972-474d-a9ca-4c156adb5a50,id=0c10a21b-cdd1-4fe6-8c14-66220cd7f33b; patch: trace=79f6f51d-4972-474d-a9ca-4c156adb5a50,id=274551f1-9f21-4a35-871c-2b35dafd894d; trace=79f6f51d-4972-474d-a9ca-4c156adb5a50,id=ae0f465e-8222-444d-8ced-47dcb90176a7; trace=79f6f51d-4972-474d-a9ca-4c156adb5a50,id=3c986abb-49d6-4b2d-9de6-c8a72adf227e\n",
            "Failed to batch ingest runs: langsmith.utils.LangSmithAuthError: Authentication failed for https://api.smith.langchain.com/runs/batch. HTTPError('401 Client Error: Unauthorized for url: https://api.smith.langchain.com/runs/batch', '{\"detail\":\"Invalid token\"}')\n",
            "post: trace=31dcebbf-8b17-453d-9dbc-dff72f6cd924,id=31dcebbf-8b17-453d-9dbc-dff72f6cd924; trace=31dcebbf-8b17-453d-9dbc-dff72f6cd924,id=43116e23-7080-4d5c-be50-71f437bce29f; trace=31dcebbf-8b17-453d-9dbc-dff72f6cd924,id=db9c63f5-1c7c-49bf-8d06-b0099356c2f0; trace=31dcebbf-8b17-453d-9dbc-dff72f6cd924,id=8ed6cde4-3ae1-4bd4-ad8a-2c9fadb0bc81; trace=31dcebbf-8b17-453d-9dbc-dff72f6cd924,id=97737c3a-e9c0-4ade-a326-37e7569d60be; trace=31dcebbf-8b17-453d-9dbc-dff72f6cd924,id=8e9758f5-5f40-43fa-85a7-bda93b717422; patch: trace=79f6f51d-4972-474d-a9ca-4c156adb5a50,id=8aad9c72-a185-4145-9755-2d163618f632; trace=79f6f51d-4972-474d-a9ca-4c156adb5a50,id=a482752e-51bf-4589-8384-3847e4c0fd77; trace=79f6f51d-4972-474d-a9ca-4c156adb5a50,id=79f6f51d-4972-474d-a9ca-4c156adb5a50; trace=79f6f51d-4972-474d-a9ca-4c156adb5a50,id=fec03159-e2d8-4393-b5d6-4b3c67af69a6\n",
            "Failed to batch ingest runs: langsmith.utils.LangSmithAuthError: Authentication failed for https://api.smith.langchain.com/runs/batch. HTTPError('401 Client Error: Unauthorized for url: https://api.smith.langchain.com/runs/batch', '{\"detail\":\"Invalid token\"}')\n",
            "post: trace=31dcebbf-8b17-453d-9dbc-dff72f6cd924,id=453e3788-b02a-4f66-ba52-0c1e97e98594; trace=31dcebbf-8b17-453d-9dbc-dff72f6cd924,id=903873fa-19ad-4973-a027-9f3904881913; trace=31dcebbf-8b17-453d-9dbc-dff72f6cd924,id=e59fbd9f-4c51-443b-baca-306c5cc8e511; trace=31dcebbf-8b17-453d-9dbc-dff72f6cd924,id=692fe8fb-f274-4825-acbe-5a1a1200959e; trace=31dcebbf-8b17-453d-9dbc-dff72f6cd924,id=345dec49-4df8-42bc-b658-5873d3cdd8e5; trace=31dcebbf-8b17-453d-9dbc-dff72f6cd924,id=3442a9a6-ca42-470c-851b-b26518452e77; trace=31dcebbf-8b17-453d-9dbc-dff72f6cd924,id=bfc00b5d-b290-490e-a201-9eb1937dbdca; trace=31dcebbf-8b17-453d-9dbc-dff72f6cd924,id=28d28310-0221-4d2e-9700-b54f7af32fda; trace=df10e29e-fec4-423a-b23d-a8ca6a7787aa,id=df10e29e-fec4-423a-b23d-a8ca6a7787aa; trace=df10e29e-fec4-423a-b23d-a8ca6a7787aa,id=e5e5669e-e4d2-45b4-a64a-c334b13e2263; trace=df10e29e-fec4-423a-b23d-a8ca6a7787aa,id=fec920b7-a197-4ba4-8f43-28cf270e0a3b; trace=df10e29e-fec4-423a-b23d-a8ca6a7787aa,id=900d998d-4fa9-4f07-b753-a65f6c86cd15; trace=df10e29e-fec4-423a-b23d-a8ca6a7787aa,id=bc2ee75d-2c85-4bf4-892c-b40b2e6ae7c9; trace=df10e29e-fec4-423a-b23d-a8ca6a7787aa,id=31dfc039-0f7f-459d-9695-e95cde9ba65b; trace=df10e29e-fec4-423a-b23d-a8ca6a7787aa,id=7e5b0dbf-b701-4281-9592-7102bce0feea; trace=df10e29e-fec4-423a-b23d-a8ca6a7787aa,id=566631ab-545c-4faa-9451-7c0fb527dceb; trace=df10e29e-fec4-423a-b23d-a8ca6a7787aa,id=a872048c-596e-4d69-9392-0582369380c4; trace=df10e29e-fec4-423a-b23d-a8ca6a7787aa,id=79bd23fd-1356-4a07-99ee-54a78af5013e; trace=df10e29e-fec4-423a-b23d-a8ca6a7787aa,id=a89e2522-66f6-4907-b722-83a6c02807ca; trace=df10e29e-fec4-423a-b23d-a8ca6a7787aa,id=c35b6763-90f5-494a-b65b-79325dfc2b2f; trace=df10e29e-fec4-423a-b23d-a8ca6a7787aa,id=da0eb0a0-6da0-4665-a91f-21d980658dba; trace=df10e29e-fec4-423a-b23d-a8ca6a7787aa,id=8f01d634-72d9-4716-b3e6-dc9168d39496; patch: trace=31dcebbf-8b17-453d-9dbc-dff72f6cd924,id=31dcebbf-8b17-453d-9dbc-dff72f6cd924; trace=31dcebbf-8b17-453d-9dbc-dff72f6cd924,id=43116e23-7080-4d5c-be50-71f437bce29f; trace=31dcebbf-8b17-453d-9dbc-dff72f6cd924,id=db9c63f5-1c7c-49bf-8d06-b0099356c2f0; trace=31dcebbf-8b17-453d-9dbc-dff72f6cd924,id=97737c3a-e9c0-4ade-a326-37e7569d60be\n",
            "Failed to batch ingest runs: langsmith.utils.LangSmithAuthError: Authentication failed for https://api.smith.langchain.com/runs/batch. HTTPError('401 Client Error: Unauthorized for url: https://api.smith.langchain.com/runs/batch', '{\"detail\":\"Invalid token\"}')\n",
            "post: trace=dedb726e-77fc-4519-a10b-e8f365e0be65,id=dedb726e-77fc-4519-a10b-e8f365e0be65; trace=dedb726e-77fc-4519-a10b-e8f365e0be65,id=4773cc49-0a72-40b4-94ae-ef9ab6161602; trace=dedb726e-77fc-4519-a10b-e8f365e0be65,id=43dd6f97-904c-46e0-aadf-0e92444559ca; trace=dedb726e-77fc-4519-a10b-e8f365e0be65,id=b69ff8c9-ed07-4dda-8bfe-68a8d2453e07; trace=dedb726e-77fc-4519-a10b-e8f365e0be65,id=a9a45dba-4f9f-4d04-97e6-364f04bc3787; trace=dedb726e-77fc-4519-a10b-e8f365e0be65,id=34a9f6e6-f320-42e2-b687-44c397515074; trace=dedb726e-77fc-4519-a10b-e8f365e0be65,id=9861c8a4-1a4e-4856-80c0-73fdafd88061; trace=dedb726e-77fc-4519-a10b-e8f365e0be65,id=d30aa565-edde-4d05-8abc-14c4567b88d6; trace=dedb726e-77fc-4519-a10b-e8f365e0be65,id=918d4cce-e031-44ef-a56d-519f59e70703; trace=dedb726e-77fc-4519-a10b-e8f365e0be65,id=a123b5ec-e250-46b6-88d7-e70f27131b67; trace=dedb726e-77fc-4519-a10b-e8f365e0be65,id=683422a7-b7d9-4b4c-a3eb-b4d3dfc5925e; trace=dedb726e-77fc-4519-a10b-e8f365e0be65,id=5fde24c4-ae1e-4a06-8a1b-6b81fab79a8e; trace=dedb726e-77fc-4519-a10b-e8f365e0be65,id=c08b34ec-023e-484d-9304-abba7c883d15; trace=dedb726e-77fc-4519-a10b-e8f365e0be65,id=f641b44e-59fc-41e5-8993-b26025648648; trace=53544b66-db20-479c-aa62-6bbb9052c0ca,id=53544b66-db20-479c-aa62-6bbb9052c0ca; trace=53544b66-db20-479c-aa62-6bbb9052c0ca,id=aed439da-334a-41e1-927c-1f0c588ff72e; trace=53544b66-db20-479c-aa62-6bbb9052c0ca,id=254bea1b-3c25-4325-a95c-2c9e5291aba6; trace=53544b66-db20-479c-aa62-6bbb9052c0ca,id=a96013cb-2a92-4844-a84b-9a620739fe7a; trace=53544b66-db20-479c-aa62-6bbb9052c0ca,id=86247af5-9366-4fd4-b266-0605eb930a60; trace=53544b66-db20-479c-aa62-6bbb9052c0ca,id=ac38d283-7827-4f8f-869c-8dcf7aa0353e; trace=53544b66-db20-479c-aa62-6bbb9052c0ca,id=52e17474-c344-4dfa-b341-9aebad7563c6; trace=53544b66-db20-479c-aa62-6bbb9052c0ca,id=9ae489f8-5259-4260-91a1-ce8e4e50136b; trace=53544b66-db20-479c-aa62-6bbb9052c0ca,id=92a70cad-2160-4999-93f8-2c942feeb1f4; trace=53544b66-db20-479c-aa62-6bbb9052c0ca,id=9d11397b-3c6b-45d7-87b9-c6584b871cfe; trace=53544b66-db20-479c-aa62-6bbb9052c0ca,id=24c09e79-04ae-4b68-bb11-11bed20133cc; trace=53544b66-db20-479c-aa62-6bbb9052c0ca,id=7bb07e1a-24b0-4371-b1bd-cf6087c1af03; trace=53544b66-db20-479c-aa62-6bbb9052c0ca,id=f6784ca6-0791-41d4-97bd-f1e8d078d069; trace=53544b66-db20-479c-aa62-6bbb9052c0ca,id=acb32169-aef6-4dcd-bec7-a03d2501cdfc; patch: trace=df10e29e-fec4-423a-b23d-a8ca6a7787aa,id=df10e29e-fec4-423a-b23d-a8ca6a7787aa; trace=df10e29e-fec4-423a-b23d-a8ca6a7787aa,id=79bd23fd-1356-4a07-99ee-54a78af5013e; trace=df10e29e-fec4-423a-b23d-a8ca6a7787aa,id=a89e2522-66f6-4907-b722-83a6c02807ca; trace=df10e29e-fec4-423a-b23d-a8ca6a7787aa,id=da0eb0a0-6da0-4665-a91f-21d980658dba\n",
            "Failed to batch ingest runs: langsmith.utils.LangSmithAuthError: Authentication failed for https://api.smith.langchain.com/runs/batch. HTTPError('401 Client Error: Unauthorized for url: https://api.smith.langchain.com/runs/batch', '{\"detail\":\"Invalid token\"}')\n",
            "post: trace=ab238957-6ce4-4b21-9150-3036ff818134,id=ab238957-6ce4-4b21-9150-3036ff818134; trace=ab238957-6ce4-4b21-9150-3036ff818134,id=3e4bb97c-ebb5-434a-b094-237058e87d0a; trace=ab238957-6ce4-4b21-9150-3036ff818134,id=bfb0844f-5c36-4514-a3b1-8d10142b1ab9; trace=ab238957-6ce4-4b21-9150-3036ff818134,id=609246af-b2f0-4b19-bb14-cd5866712140; trace=ab238957-6ce4-4b21-9150-3036ff818134,id=6238c699-d71c-430e-83fc-c74df5a2bf56; trace=ab238957-6ce4-4b21-9150-3036ff818134,id=5a0e1823-a79e-468a-93c2-c3d8731fae4c; patch: trace=53544b66-db20-479c-aa62-6bbb9052c0ca,id=24c09e79-04ae-4b68-bb11-11bed20133cc; trace=53544b66-db20-479c-aa62-6bbb9052c0ca,id=f6784ca6-0791-41d4-97bd-f1e8d078d069; trace=53544b66-db20-479c-aa62-6bbb9052c0ca,id=53544b66-db20-479c-aa62-6bbb9052c0ca; trace=53544b66-db20-479c-aa62-6bbb9052c0ca,id=9d11397b-3c6b-45d7-87b9-c6584b871cfe\n",
            "Failed to batch ingest runs: langsmith.utils.LangSmithAuthError: Authentication failed for https://api.smith.langchain.com/runs/batch. HTTPError('401 Client Error: Unauthorized for url: https://api.smith.langchain.com/runs/batch', '{\"detail\":\"Invalid token\"}')\n",
            "post: trace=ab238957-6ce4-4b21-9150-3036ff818134,id=66ffe010-6386-4d8d-ba11-067c8b803843; trace=ab238957-6ce4-4b21-9150-3036ff818134,id=e28bc4d7-bac2-42b3-8788-fb8a20b4cef9; trace=ab238957-6ce4-4b21-9150-3036ff818134,id=16cc758c-c890-4166-b5a4-755ea6273380; trace=ab238957-6ce4-4b21-9150-3036ff818134,id=3cf4f540-b62d-43ea-8566-763fd08d00e5; trace=ab238957-6ce4-4b21-9150-3036ff818134,id=2b10f145-bfa8-49a5-8586-75b22071b619; trace=ab238957-6ce4-4b21-9150-3036ff818134,id=b78f9857-b7ed-423f-99da-e7a93ead836f; trace=ab238957-6ce4-4b21-9150-3036ff818134,id=76b6cbfa-9258-46b4-bd90-f012895d765e; trace=ab238957-6ce4-4b21-9150-3036ff818134,id=0d70d406-e221-4af8-a94b-5a1660afced3; patch: trace=ab238957-6ce4-4b21-9150-3036ff818134,id=bfb0844f-5c36-4514-a3b1-8d10142b1ab9; trace=ab238957-6ce4-4b21-9150-3036ff818134,id=6238c699-d71c-430e-83fc-c74df5a2bf56; trace=ab238957-6ce4-4b21-9150-3036ff818134,id=3e4bb97c-ebb5-434a-b094-237058e87d0a\n",
            "Failed to batch ingest runs: langsmith.utils.LangSmithAuthError: Authentication failed for https://api.smith.langchain.com/runs/batch. HTTPError('401 Client Error: Unauthorized for url: https://api.smith.langchain.com/runs/batch', '{\"detail\":\"Invalid token\"}')\n",
            "post: trace=a3c36792-2d81-409e-9632-574932e952e8,id=a3c36792-2d81-409e-9632-574932e952e8; trace=a3c36792-2d81-409e-9632-574932e952e8,id=0cd9b020-7b11-4e6e-95e8-29e11084c8ce; trace=a3c36792-2d81-409e-9632-574932e952e8,id=d2c1d513-1ed4-4efd-b3b7-b1cd4a0ce181; trace=a3c36792-2d81-409e-9632-574932e952e8,id=f76a17a4-e17b-47e1-9070-0ff9aae1565e; trace=a3c36792-2d81-409e-9632-574932e952e8,id=a7603f50-b943-4e6b-9ce2-a6527a326aef; trace=a3c36792-2d81-409e-9632-574932e952e8,id=bd527baa-cdf3-4b63-8514-f51eb3e73f3a; patch: trace=ab238957-6ce4-4b21-9150-3036ff818134,id=2b10f145-bfa8-49a5-8586-75b22071b619; trace=ab238957-6ce4-4b21-9150-3036ff818134,id=76b6cbfa-9258-46b4-bd90-f012895d765e; trace=ab238957-6ce4-4b21-9150-3036ff818134,id=ab238957-6ce4-4b21-9150-3036ff818134; trace=ab238957-6ce4-4b21-9150-3036ff818134,id=3cf4f540-b62d-43ea-8566-763fd08d00e5\n",
            "Failed to batch ingest runs: langsmith.utils.LangSmithAuthError: Authentication failed for https://api.smith.langchain.com/runs/batch. HTTPError('401 Client Error: Unauthorized for url: https://api.smith.langchain.com/runs/batch', '{\"detail\":\"Invalid token\"}')\n",
            "post: trace=a3c36792-2d81-409e-9632-574932e952e8,id=3fd65b95-94e7-4ef2-b935-6c3850bb69e7; trace=a3c36792-2d81-409e-9632-574932e952e8,id=7fd23113-dc3e-4db4-ba5c-5d448e859ac0; trace=a3c36792-2d81-409e-9632-574932e952e8,id=3735b82f-ad48-45f0-af6f-1fbc09385075; trace=a3c36792-2d81-409e-9632-574932e952e8,id=eeaf1dc1-f198-4a65-a6f2-b9e3b05c16c8; trace=a3c36792-2d81-409e-9632-574932e952e8,id=3e282790-2cab-4bd1-a911-c552e3bb18ab; trace=a3c36792-2d81-409e-9632-574932e952e8,id=ddc5ab23-604f-4291-a6df-747910086f48; trace=a3c36792-2d81-409e-9632-574932e952e8,id=66836459-1994-44c3-a764-e7661ddd24b6; trace=a3c36792-2d81-409e-9632-574932e952e8,id=97502509-823c-40d3-b541-b3e67c03367b; trace=4e8049f5-a027-48f1-90e1-3010abff6ea2,id=4e8049f5-a027-48f1-90e1-3010abff6ea2; trace=4e8049f5-a027-48f1-90e1-3010abff6ea2,id=575e677e-f5c0-45a3-8529-e7420f86d1d4; trace=4e8049f5-a027-48f1-90e1-3010abff6ea2,id=98ba2022-1c27-4415-bed0-0ce476f463e6; trace=4e8049f5-a027-48f1-90e1-3010abff6ea2,id=1686c856-a79e-4991-ba80-07b5a0e3ee49; trace=4e8049f5-a027-48f1-90e1-3010abff6ea2,id=7b2ac0c2-df42-4808-937a-78666f034f3a; trace=4e8049f5-a027-48f1-90e1-3010abff6ea2,id=bab74026-ca33-4d66-91ce-c5f13d417fd7; patch: trace=a3c36792-2d81-409e-9632-574932e952e8,id=0cd9b020-7b11-4e6e-95e8-29e11084c8ce; trace=a3c36792-2d81-409e-9632-574932e952e8,id=f76a17a4-e17b-47e1-9070-0ff9aae1565e; trace=a3c36792-2d81-409e-9632-574932e952e8,id=bd527baa-cdf3-4b63-8514-f51eb3e73f3a; trace=a3c36792-2d81-409e-9632-574932e952e8,id=a3c36792-2d81-409e-9632-574932e952e8\n",
            "Failed to batch ingest runs: langsmith.utils.LangSmithAuthError: Authentication failed for https://api.smith.langchain.com/runs/batch. HTTPError('401 Client Error: Unauthorized for url: https://api.smith.langchain.com/runs/batch', '{\"detail\":\"Invalid token\"}')\n",
            "post: trace=4e8049f5-a027-48f1-90e1-3010abff6ea2,id=80050629-51e4-4985-b691-82afc8e8ce50; trace=4e8049f5-a027-48f1-90e1-3010abff6ea2,id=62dfaa1b-9a83-405f-9354-7682847ff737; trace=4e8049f5-a027-48f1-90e1-3010abff6ea2,id=3713e76a-da26-4ec3-bf67-39b9fdec3e91; trace=4e8049f5-a027-48f1-90e1-3010abff6ea2,id=3bb7f21f-8b8f-4ecf-8299-3cad290c134e; trace=4e8049f5-a027-48f1-90e1-3010abff6ea2,id=b06ddfa5-6a30-49bd-b849-8a5bfd39e3d8; trace=4e8049f5-a027-48f1-90e1-3010abff6ea2,id=39cc3c8c-0bc1-435b-aa41-679380c697be; trace=4e8049f5-a027-48f1-90e1-3010abff6ea2,id=be6ddccf-83b4-4dd8-83eb-01bdffad957a; trace=4e8049f5-a027-48f1-90e1-3010abff6ea2,id=994a0518-252e-43c6-8c49-906ff20b881b; patch: trace=4e8049f5-a027-48f1-90e1-3010abff6ea2,id=98ba2022-1c27-4415-bed0-0ce476f463e6; trace=4e8049f5-a027-48f1-90e1-3010abff6ea2,id=7b2ac0c2-df42-4808-937a-78666f034f3a; trace=4e8049f5-a027-48f1-90e1-3010abff6ea2,id=575e677e-f5c0-45a3-8529-e7420f86d1d4\n",
            "Failed to batch ingest runs: langsmith.utils.LangSmithAuthError: Authentication failed for https://api.smith.langchain.com/runs/batch. HTTPError('401 Client Error: Unauthorized for url: https://api.smith.langchain.com/runs/batch', '{\"detail\":\"Invalid token\"}')\n",
            "post: trace=a0a4dc04-1f32-4069-85d9-5b4129596e80,id=a0a4dc04-1f32-4069-85d9-5b4129596e80; trace=a0a4dc04-1f32-4069-85d9-5b4129596e80,id=b83c0dc3-a1de-4219-a680-f5961f784181; trace=a0a4dc04-1f32-4069-85d9-5b4129596e80,id=0208e167-8870-4e13-9ab6-bf761ae80964; trace=a0a4dc04-1f32-4069-85d9-5b4129596e80,id=9cacf792-a87e-4b10-9707-db16a3880851; trace=a0a4dc04-1f32-4069-85d9-5b4129596e80,id=4bb96b8f-275a-4e58-9d30-7aa32d60dbcc; trace=a0a4dc04-1f32-4069-85d9-5b4129596e80,id=aa95288a-1e14-48be-8669-7639bb865993; patch: trace=4e8049f5-a027-48f1-90e1-3010abff6ea2,id=b06ddfa5-6a30-49bd-b849-8a5bfd39e3d8; trace=4e8049f5-a027-48f1-90e1-3010abff6ea2,id=be6ddccf-83b4-4dd8-83eb-01bdffad957a; trace=4e8049f5-a027-48f1-90e1-3010abff6ea2,id=4e8049f5-a027-48f1-90e1-3010abff6ea2; trace=4e8049f5-a027-48f1-90e1-3010abff6ea2,id=3bb7f21f-8b8f-4ecf-8299-3cad290c134e\n",
            "Failed to batch ingest runs: langsmith.utils.LangSmithAuthError: Authentication failed for https://api.smith.langchain.com/runs/batch. HTTPError('401 Client Error: Unauthorized for url: https://api.smith.langchain.com/runs/batch', '{\"detail\":\"Invalid token\"}')\n",
            "post: trace=a0a4dc04-1f32-4069-85d9-5b4129596e80,id=23ae14cf-ea18-47c8-bf1d-e310e9094d07; trace=a0a4dc04-1f32-4069-85d9-5b4129596e80,id=e4efcb39-66ad-4b36-8cf6-cbf1cd890c07; trace=a0a4dc04-1f32-4069-85d9-5b4129596e80,id=249cdd01-1671-4db9-94cb-0cc7f4827e63; trace=a0a4dc04-1f32-4069-85d9-5b4129596e80,id=3378ae96-89eb-4c29-987d-7c485504fa45; trace=a0a4dc04-1f32-4069-85d9-5b4129596e80,id=d83399d0-dad3-43cc-96dd-4e0cd7cf2197; trace=a0a4dc04-1f32-4069-85d9-5b4129596e80,id=58cb0b0d-9e71-421b-9a34-f0c5b49d17e5; trace=a0a4dc04-1f32-4069-85d9-5b4129596e80,id=67a877c9-f20d-445c-a345-51cbc22054d8; trace=a0a4dc04-1f32-4069-85d9-5b4129596e80,id=3157f2bc-9616-4252-9a5a-a9523ff98e35; patch: trace=a0a4dc04-1f32-4069-85d9-5b4129596e80,id=b83c0dc3-a1de-4219-a680-f5961f784181; trace=a0a4dc04-1f32-4069-85d9-5b4129596e80,id=0208e167-8870-4e13-9ab6-bf761ae80964; trace=a0a4dc04-1f32-4069-85d9-5b4129596e80,id=4bb96b8f-275a-4e58-9d30-7aa32d60dbcc\n",
            "Failed to batch ingest runs: langsmith.utils.LangSmithAuthError: Authentication failed for https://api.smith.langchain.com/runs/batch. HTTPError('401 Client Error: Unauthorized for url: https://api.smith.langchain.com/runs/batch', '{\"detail\":\"Invalid token\"}')\n",
            "post: trace=f5a6072b-3e1d-4d05-bfce-c3ec6a650eec,id=f5a6072b-3e1d-4d05-bfce-c3ec6a650eec; trace=f5a6072b-3e1d-4d05-bfce-c3ec6a650eec,id=b8d96cf9-2a9e-4de8-8d5a-ee0342c24810; trace=f5a6072b-3e1d-4d05-bfce-c3ec6a650eec,id=d45d7670-18c5-463d-bf37-7a6e4886d9d6; trace=f5a6072b-3e1d-4d05-bfce-c3ec6a650eec,id=e72a2212-ad96-4450-8f70-8ef0f4eb0cfd; trace=f5a6072b-3e1d-4d05-bfce-c3ec6a650eec,id=e48ebe7a-523f-455a-b8a9-03433c483071; trace=f5a6072b-3e1d-4d05-bfce-c3ec6a650eec,id=560a72f3-16d8-4599-a787-356c30d4fa9e; patch: trace=a0a4dc04-1f32-4069-85d9-5b4129596e80,id=d83399d0-dad3-43cc-96dd-4e0cd7cf2197; trace=a0a4dc04-1f32-4069-85d9-5b4129596e80,id=67a877c9-f20d-445c-a345-51cbc22054d8; trace=a0a4dc04-1f32-4069-85d9-5b4129596e80,id=a0a4dc04-1f32-4069-85d9-5b4129596e80; trace=a0a4dc04-1f32-4069-85d9-5b4129596e80,id=3378ae96-89eb-4c29-987d-7c485504fa45\n",
            "Failed to batch ingest runs: langsmith.utils.LangSmithAuthError: Authentication failed for https://api.smith.langchain.com/runs/batch. HTTPError('401 Client Error: Unauthorized for url: https://api.smith.langchain.com/runs/batch', '{\"detail\":\"Invalid token\"}')\n",
            "post: trace=f5a6072b-3e1d-4d05-bfce-c3ec6a650eec,id=37645536-8023-4a55-9f98-cd4550a605e0; trace=f5a6072b-3e1d-4d05-bfce-c3ec6a650eec,id=f97bce91-f995-4f31-887d-766284436cb8; trace=f5a6072b-3e1d-4d05-bfce-c3ec6a650eec,id=dcce514d-fc35-4ad3-9771-1978608b5500; trace=f5a6072b-3e1d-4d05-bfce-c3ec6a650eec,id=3c34ebb3-7983-4a2f-9a88-048be4b5104e; trace=f5a6072b-3e1d-4d05-bfce-c3ec6a650eec,id=b54d4202-3b72-414a-82da-3978d94ebf44; trace=f5a6072b-3e1d-4d05-bfce-c3ec6a650eec,id=2e620354-563e-474e-98dc-12a3889213b1; trace=f5a6072b-3e1d-4d05-bfce-c3ec6a650eec,id=1a63f5c3-0789-409d-a782-8af5677a9c60; trace=f5a6072b-3e1d-4d05-bfce-c3ec6a650eec,id=11d66501-2d6b-4eae-8d8e-d85a6d67c5b0; patch: trace=f5a6072b-3e1d-4d05-bfce-c3ec6a650eec,id=b8d96cf9-2a9e-4de8-8d5a-ee0342c24810; trace=f5a6072b-3e1d-4d05-bfce-c3ec6a650eec,id=d45d7670-18c5-463d-bf37-7a6e4886d9d6; trace=f5a6072b-3e1d-4d05-bfce-c3ec6a650eec,id=e48ebe7a-523f-455a-b8a9-03433c483071\n",
            "Failed to batch ingest runs: langsmith.utils.LangSmithAuthError: Authentication failed for https://api.smith.langchain.com/runs/batch. HTTPError('401 Client Error: Unauthorized for url: https://api.smith.langchain.com/runs/batch', '{\"detail\":\"Invalid token\"}')\n",
            "post: trace=63dc40ac-f94a-4bb8-93a3-4288ccd54835,id=63dc40ac-f94a-4bb8-93a3-4288ccd54835; trace=63dc40ac-f94a-4bb8-93a3-4288ccd54835,id=70a932f1-e654-4699-a4d6-2a4506d653b1; trace=63dc40ac-f94a-4bb8-93a3-4288ccd54835,id=4ad38d77-ec2b-4fbe-9d99-875ff2a09c64; trace=63dc40ac-f94a-4bb8-93a3-4288ccd54835,id=cd166a2b-bb04-4fcf-a58b-e5dfef665403; trace=63dc40ac-f94a-4bb8-93a3-4288ccd54835,id=d604162a-e7e0-43c8-a2a6-ea3e1952389e; trace=63dc40ac-f94a-4bb8-93a3-4288ccd54835,id=b1b9618e-7953-44e8-8a72-c164540951e8; patch: trace=f5a6072b-3e1d-4d05-bfce-c3ec6a650eec,id=b54d4202-3b72-414a-82da-3978d94ebf44; trace=f5a6072b-3e1d-4d05-bfce-c3ec6a650eec,id=1a63f5c3-0789-409d-a782-8af5677a9c60; trace=f5a6072b-3e1d-4d05-bfce-c3ec6a650eec,id=f5a6072b-3e1d-4d05-bfce-c3ec6a650eec; trace=f5a6072b-3e1d-4d05-bfce-c3ec6a650eec,id=3c34ebb3-7983-4a2f-9a88-048be4b5104e\n",
            "Failed to batch ingest runs: langsmith.utils.LangSmithAuthError: Authentication failed for https://api.smith.langchain.com/runs/batch. HTTPError('401 Client Error: Unauthorized for url: https://api.smith.langchain.com/runs/batch', '{\"detail\":\"Invalid token\"}')\n",
            "post: trace=63dc40ac-f94a-4bb8-93a3-4288ccd54835,id=b46936c5-c6d6-4273-94bd-8c27b6f8549d; trace=63dc40ac-f94a-4bb8-93a3-4288ccd54835,id=0d52c5f3-7fec-4e97-909e-bbdba9a0020c; trace=63dc40ac-f94a-4bb8-93a3-4288ccd54835,id=ad666c69-3d68-442e-a4a7-5e544f0a55a4; trace=63dc40ac-f94a-4bb8-93a3-4288ccd54835,id=6f7f445f-4c34-4964-ab79-4adbbcc60ea8; trace=63dc40ac-f94a-4bb8-93a3-4288ccd54835,id=f3a49870-2ced-47be-b0dc-dcf436c07362; trace=63dc40ac-f94a-4bb8-93a3-4288ccd54835,id=5669bbd5-df80-4515-9d84-cc7cd744ad11; trace=63dc40ac-f94a-4bb8-93a3-4288ccd54835,id=d80b0540-1dff-4a1d-afa5-c49c3613aa2f; trace=63dc40ac-f94a-4bb8-93a3-4288ccd54835,id=5c0d7de8-b6ce-4a97-888e-f3fd80088ded; patch: trace=63dc40ac-f94a-4bb8-93a3-4288ccd54835,id=cd166a2b-bb04-4fcf-a58b-e5dfef665403; trace=63dc40ac-f94a-4bb8-93a3-4288ccd54835,id=b1b9618e-7953-44e8-8a72-c164540951e8; trace=63dc40ac-f94a-4bb8-93a3-4288ccd54835,id=70a932f1-e654-4699-a4d6-2a4506d653b1\n",
            "Failed to batch ingest runs: langsmith.utils.LangSmithAuthError: Authentication failed for https://api.smith.langchain.com/runs/batch. HTTPError('401 Client Error: Unauthorized for url: https://api.smith.langchain.com/runs/batch', '{\"detail\":\"Invalid token\"}')\n",
            "post: trace=b92c662b-e355-46ff-9396-0f1394eb19c0,id=b92c662b-e355-46ff-9396-0f1394eb19c0; trace=b92c662b-e355-46ff-9396-0f1394eb19c0,id=32f3dd82-bace-41cb-a95e-069327242aac; trace=b92c662b-e355-46ff-9396-0f1394eb19c0,id=82c345c7-1190-44db-b2bb-acb18c5c63d0; trace=b92c662b-e355-46ff-9396-0f1394eb19c0,id=4a873a6e-1171-42c5-a177-4b374239fa88; trace=b92c662b-e355-46ff-9396-0f1394eb19c0,id=bd66a1ac-91a6-4448-ba8e-ebbab0460fc1; trace=b92c662b-e355-46ff-9396-0f1394eb19c0,id=87983346-c372-4323-a1b3-cd99cffaf1d1; patch: trace=63dc40ac-f94a-4bb8-93a3-4288ccd54835,id=f3a49870-2ced-47be-b0dc-dcf436c07362; trace=63dc40ac-f94a-4bb8-93a3-4288ccd54835,id=d80b0540-1dff-4a1d-afa5-c49c3613aa2f; trace=63dc40ac-f94a-4bb8-93a3-4288ccd54835,id=63dc40ac-f94a-4bb8-93a3-4288ccd54835; trace=63dc40ac-f94a-4bb8-93a3-4288ccd54835,id=6f7f445f-4c34-4964-ab79-4adbbcc60ea8\n",
            "Failed to batch ingest runs: langsmith.utils.LangSmithAuthError: Authentication failed for https://api.smith.langchain.com/runs/batch. HTTPError('401 Client Error: Unauthorized for url: https://api.smith.langchain.com/runs/batch', '{\"detail\":\"Invalid token\"}')\n",
            "post: trace=b92c662b-e355-46ff-9396-0f1394eb19c0,id=95d56eb0-9b77-44db-9770-ac70bd879ce5; trace=b92c662b-e355-46ff-9396-0f1394eb19c0,id=15b056c6-9d55-4754-b431-334dd1a32faa; trace=b92c662b-e355-46ff-9396-0f1394eb19c0,id=13da974f-c90a-470d-b437-f2415143bda2; trace=b92c662b-e355-46ff-9396-0f1394eb19c0,id=3286f2d4-b8fe-4cb9-b5b6-15c1336b7ce3; trace=b92c662b-e355-46ff-9396-0f1394eb19c0,id=5961bf01-bf0e-4cf0-b5e3-5370d7bdcc91; trace=b92c662b-e355-46ff-9396-0f1394eb19c0,id=d1408f8a-4f6e-4a75-a2fc-f93394f52911; trace=b92c662b-e355-46ff-9396-0f1394eb19c0,id=3567c1ed-51c0-4145-a7c0-96ad6c4f212f; trace=b92c662b-e355-46ff-9396-0f1394eb19c0,id=422e773e-f21b-4e58-a9fc-72d032a21962; patch: trace=b92c662b-e355-46ff-9396-0f1394eb19c0,id=82c345c7-1190-44db-b2bb-acb18c5c63d0; trace=b92c662b-e355-46ff-9396-0f1394eb19c0,id=bd66a1ac-91a6-4448-ba8e-ebbab0460fc1; trace=b92c662b-e355-46ff-9396-0f1394eb19c0,id=32f3dd82-bace-41cb-a95e-069327242aac\n",
            "Failed to batch ingest runs: langsmith.utils.LangSmithAuthError: Authentication failed for https://api.smith.langchain.com/runs/batch. HTTPError('401 Client Error: Unauthorized for url: https://api.smith.langchain.com/runs/batch', '{\"detail\":\"Invalid token\"}')\n",
            "post: trace=1daa5492-ac36-4113-a023-13c10176c515,id=1daa5492-ac36-4113-a023-13c10176c515; trace=1daa5492-ac36-4113-a023-13c10176c515,id=dfc7c208-8686-4032-956d-d67eaac735a7; trace=1daa5492-ac36-4113-a023-13c10176c515,id=b0b569fc-1ca4-4438-92a1-5569482413c4; trace=1daa5492-ac36-4113-a023-13c10176c515,id=771776f6-75b9-40ac-b2e6-cc707eb03b12; trace=1daa5492-ac36-4113-a023-13c10176c515,id=f6cc34d2-042e-400f-8a9e-88a28974eb1c; trace=1daa5492-ac36-4113-a023-13c10176c515,id=5d6c8b76-c729-4d5b-825a-9036f073a0f5; patch: trace=b92c662b-e355-46ff-9396-0f1394eb19c0,id=5961bf01-bf0e-4cf0-b5e3-5370d7bdcc91; trace=b92c662b-e355-46ff-9396-0f1394eb19c0,id=3567c1ed-51c0-4145-a7c0-96ad6c4f212f; trace=b92c662b-e355-46ff-9396-0f1394eb19c0,id=b92c662b-e355-46ff-9396-0f1394eb19c0; trace=b92c662b-e355-46ff-9396-0f1394eb19c0,id=3286f2d4-b8fe-4cb9-b5b6-15c1336b7ce3\n",
            "Failed to batch ingest runs: langsmith.utils.LangSmithAuthError: Authentication failed for https://api.smith.langchain.com/runs/batch. HTTPError('401 Client Error: Unauthorized for url: https://api.smith.langchain.com/runs/batch', '{\"detail\":\"Invalid token\"}')\n",
            "post: trace=1daa5492-ac36-4113-a023-13c10176c515,id=3b0aa9c5-6714-42cf-977f-e3bdb5d4af5c; trace=1daa5492-ac36-4113-a023-13c10176c515,id=713a1dc9-413e-46cc-9987-831bb4b2155b; trace=1daa5492-ac36-4113-a023-13c10176c515,id=4ec3c972-deb0-481c-8ed2-406480bbd9d7; trace=1daa5492-ac36-4113-a023-13c10176c515,id=b9cf081f-07b3-471a-a204-c23bde44f371; trace=1daa5492-ac36-4113-a023-13c10176c515,id=646e4c90-66fc-42b3-aceb-d8ff4b698bb8; trace=1daa5492-ac36-4113-a023-13c10176c515,id=6d8d1ab9-e467-4dd0-9cb2-5082ac5e7d6b; trace=1daa5492-ac36-4113-a023-13c10176c515,id=3e6643b5-1e1d-42a5-ac18-69863e84fcf8; trace=1daa5492-ac36-4113-a023-13c10176c515,id=3c4357b7-4bc8-4903-9251-f128bd37365e; patch: trace=1daa5492-ac36-4113-a023-13c10176c515,id=b0b569fc-1ca4-4438-92a1-5569482413c4; trace=1daa5492-ac36-4113-a023-13c10176c515,id=f6cc34d2-042e-400f-8a9e-88a28974eb1c; trace=1daa5492-ac36-4113-a023-13c10176c515,id=dfc7c208-8686-4032-956d-d67eaac735a7\n",
            "Failed to batch ingest runs: langsmith.utils.LangSmithAuthError: Authentication failed for https://api.smith.langchain.com/runs/batch. HTTPError('401 Client Error: Unauthorized for url: https://api.smith.langchain.com/runs/batch', '{\"detail\":\"Invalid token\"}')\n",
            "post: trace=f157a525-edc5-4eb2-ae89-5f206960d9bc,id=f157a525-edc5-4eb2-ae89-5f206960d9bc; trace=f157a525-edc5-4eb2-ae89-5f206960d9bc,id=e4a96f40-3d4d-4307-b3fa-2bdeab7ebc42; trace=f157a525-edc5-4eb2-ae89-5f206960d9bc,id=e1471f02-5ace-49d1-bdd1-fb71db4b42d7; trace=f157a525-edc5-4eb2-ae89-5f206960d9bc,id=c5ebb9e3-235e-4790-9694-83f49752ebc9; trace=f157a525-edc5-4eb2-ae89-5f206960d9bc,id=af64de7e-93eb-406e-a2c3-b11e537a28ca; trace=f157a525-edc5-4eb2-ae89-5f206960d9bc,id=98fe49b3-e12c-4f37-9843-8bf9d78df572; patch: trace=1daa5492-ac36-4113-a023-13c10176c515,id=646e4c90-66fc-42b3-aceb-d8ff4b698bb8; trace=1daa5492-ac36-4113-a023-13c10176c515,id=3e6643b5-1e1d-42a5-ac18-69863e84fcf8; trace=1daa5492-ac36-4113-a023-13c10176c515,id=1daa5492-ac36-4113-a023-13c10176c515; trace=1daa5492-ac36-4113-a023-13c10176c515,id=b9cf081f-07b3-471a-a204-c23bde44f371\n",
            "Failed to batch ingest runs: langsmith.utils.LangSmithAuthError: Authentication failed for https://api.smith.langchain.com/runs/batch. HTTPError('401 Client Error: Unauthorized for url: https://api.smith.langchain.com/runs/batch', '{\"detail\":\"Invalid token\"}')\n",
            "post: trace=f157a525-edc5-4eb2-ae89-5f206960d9bc,id=3539c41e-fd46-4d17-b693-fcf955d40a3e; trace=f157a525-edc5-4eb2-ae89-5f206960d9bc,id=5ada522c-e076-42db-94a3-f1dacea5153d; trace=f157a525-edc5-4eb2-ae89-5f206960d9bc,id=f9366f31-0b90-4754-afb2-06374ad5dade; trace=f157a525-edc5-4eb2-ae89-5f206960d9bc,id=b729823b-75ce-4247-8ae4-e1ac7478fafc; trace=f157a525-edc5-4eb2-ae89-5f206960d9bc,id=98236a92-cc40-4bc9-8bfd-e6f1f6e629a4; trace=f157a525-edc5-4eb2-ae89-5f206960d9bc,id=f1d5dab1-b06e-44a4-a15c-b9fb3821c35b; trace=f157a525-edc5-4eb2-ae89-5f206960d9bc,id=4e10c9bd-1ac4-4b39-ae2f-3a2ac6416821; trace=f157a525-edc5-4eb2-ae89-5f206960d9bc,id=0e801c6c-d23d-4fc8-94ee-bfc2a9021784; patch: trace=f157a525-edc5-4eb2-ae89-5f206960d9bc,id=e1471f02-5ace-49d1-bdd1-fb71db4b42d7; trace=f157a525-edc5-4eb2-ae89-5f206960d9bc,id=98fe49b3-e12c-4f37-9843-8bf9d78df572; trace=f157a525-edc5-4eb2-ae89-5f206960d9bc,id=e4a96f40-3d4d-4307-b3fa-2bdeab7ebc42\n",
            "Failed to batch ingest runs: langsmith.utils.LangSmithAuthError: Authentication failed for https://api.smith.langchain.com/runs/batch. HTTPError('401 Client Error: Unauthorized for url: https://api.smith.langchain.com/runs/batch', '{\"detail\":\"Invalid token\"}')\n",
            "post: trace=1562cf17-dd6a-4693-ad92-c3a799aee769,id=1562cf17-dd6a-4693-ad92-c3a799aee769; trace=1562cf17-dd6a-4693-ad92-c3a799aee769,id=7b0e9bb4-a0e2-44b7-9228-9bc719498dbd; trace=1562cf17-dd6a-4693-ad92-c3a799aee769,id=efc10aab-9381-49fe-b6f3-a5b7ea5d1d93; trace=1562cf17-dd6a-4693-ad92-c3a799aee769,id=1629d9d6-d0fc-4eec-8857-e75f2cf6da92; trace=1562cf17-dd6a-4693-ad92-c3a799aee769,id=e46820f4-3b0e-4e6e-addd-4727a0358ad0; trace=1562cf17-dd6a-4693-ad92-c3a799aee769,id=76e53bd4-8804-4274-a398-7d452c92eccc; patch: trace=f157a525-edc5-4eb2-ae89-5f206960d9bc,id=98236a92-cc40-4bc9-8bfd-e6f1f6e629a4; trace=f157a525-edc5-4eb2-ae89-5f206960d9bc,id=4e10c9bd-1ac4-4b39-ae2f-3a2ac6416821; trace=f157a525-edc5-4eb2-ae89-5f206960d9bc,id=f157a525-edc5-4eb2-ae89-5f206960d9bc; trace=f157a525-edc5-4eb2-ae89-5f206960d9bc,id=b729823b-75ce-4247-8ae4-e1ac7478fafc\n",
            "Failed to batch ingest runs: langsmith.utils.LangSmithAuthError: Authentication failed for https://api.smith.langchain.com/runs/batch. HTTPError('401 Client Error: Unauthorized for url: https://api.smith.langchain.com/runs/batch', '{\"detail\":\"Invalid token\"}')\n",
            "post: trace=1562cf17-dd6a-4693-ad92-c3a799aee769,id=4e7bc480-70f9-4612-946d-3f3533c2fd21; trace=1562cf17-dd6a-4693-ad92-c3a799aee769,id=992cbbee-6b3c-43e5-8de5-547d6a335341; trace=1562cf17-dd6a-4693-ad92-c3a799aee769,id=9f45236a-a179-4337-9ddc-581269397a5d; trace=1562cf17-dd6a-4693-ad92-c3a799aee769,id=01780d41-271d-4815-8133-f8fb45101f46; trace=1562cf17-dd6a-4693-ad92-c3a799aee769,id=45b02055-d513-45eb-8d15-895dda41da4a; trace=1562cf17-dd6a-4693-ad92-c3a799aee769,id=f7e54634-68ad-4c39-9eea-ce80a6c648c0; trace=1562cf17-dd6a-4693-ad92-c3a799aee769,id=99653f5a-aefe-4ee9-b30c-335ca9675ad4; trace=1562cf17-dd6a-4693-ad92-c3a799aee769,id=7bb2e3cb-4761-4797-95c6-e4d8a00709bb; patch: trace=1562cf17-dd6a-4693-ad92-c3a799aee769,id=1629d9d6-d0fc-4eec-8857-e75f2cf6da92; trace=1562cf17-dd6a-4693-ad92-c3a799aee769,id=76e53bd4-8804-4274-a398-7d452c92eccc; trace=1562cf17-dd6a-4693-ad92-c3a799aee769,id=7b0e9bb4-a0e2-44b7-9228-9bc719498dbd\n",
            "Failed to batch ingest runs: langsmith.utils.LangSmithAuthError: Authentication failed for https://api.smith.langchain.com/runs/batch. HTTPError('401 Client Error: Unauthorized for url: https://api.smith.langchain.com/runs/batch', '{\"detail\":\"Invalid token\"}')\n",
            "post: trace=84c83b4e-cd52-45c1-914a-e7f6cab73d94,id=84c83b4e-cd52-45c1-914a-e7f6cab73d94; trace=84c83b4e-cd52-45c1-914a-e7f6cab73d94,id=bf136204-5484-4afb-9ffc-31d2160670b4; trace=84c83b4e-cd52-45c1-914a-e7f6cab73d94,id=0876e1af-d707-4ba0-89fd-5e0d2b0f8d86; trace=84c83b4e-cd52-45c1-914a-e7f6cab73d94,id=b93c72f7-07d6-4a39-bfb2-6179008870cb; trace=84c83b4e-cd52-45c1-914a-e7f6cab73d94,id=6e8e1fcd-7961-4f66-9296-e8ef6f00a651; trace=84c83b4e-cd52-45c1-914a-e7f6cab73d94,id=c1f98eeb-e125-4f26-9857-35657c0d4ac6; patch: trace=1562cf17-dd6a-4693-ad92-c3a799aee769,id=45b02055-d513-45eb-8d15-895dda41da4a; trace=1562cf17-dd6a-4693-ad92-c3a799aee769,id=99653f5a-aefe-4ee9-b30c-335ca9675ad4; trace=1562cf17-dd6a-4693-ad92-c3a799aee769,id=1562cf17-dd6a-4693-ad92-c3a799aee769; trace=1562cf17-dd6a-4693-ad92-c3a799aee769,id=01780d41-271d-4815-8133-f8fb45101f46\n",
            "Failed to batch ingest runs: langsmith.utils.LangSmithAuthError: Authentication failed for https://api.smith.langchain.com/runs/batch. HTTPError('401 Client Error: Unauthorized for url: https://api.smith.langchain.com/runs/batch', '{\"detail\":\"Invalid token\"}')\n",
            "post: trace=84c83b4e-cd52-45c1-914a-e7f6cab73d94,id=cb03e6ab-9b8a-4685-b06a-9b6460b2fad0; trace=84c83b4e-cd52-45c1-914a-e7f6cab73d94,id=aee8ec93-190c-4847-9119-ca1b4b0bb4b3; trace=84c83b4e-cd52-45c1-914a-e7f6cab73d94,id=9415af52-a19f-4017-824c-41e24b1fa70d; trace=84c83b4e-cd52-45c1-914a-e7f6cab73d94,id=c345d889-9794-45a0-9ee9-eb25263c0a3f; trace=84c83b4e-cd52-45c1-914a-e7f6cab73d94,id=e1807edd-939f-40f5-9bc6-2a597d8b1b90; trace=84c83b4e-cd52-45c1-914a-e7f6cab73d94,id=6e1116e7-c08c-4d81-a8f9-1cf0213568c0; trace=84c83b4e-cd52-45c1-914a-e7f6cab73d94,id=c7c0de63-635d-421e-ad82-7803b85b36e8; trace=84c83b4e-cd52-45c1-914a-e7f6cab73d94,id=cc6c1b7a-021a-4250-acf3-7342de92ed6e; patch: trace=84c83b4e-cd52-45c1-914a-e7f6cab73d94,id=bf136204-5484-4afb-9ffc-31d2160670b4; trace=84c83b4e-cd52-45c1-914a-e7f6cab73d94,id=0876e1af-d707-4ba0-89fd-5e0d2b0f8d86; trace=84c83b4e-cd52-45c1-914a-e7f6cab73d94,id=6e8e1fcd-7961-4f66-9296-e8ef6f00a651\n",
            "Failed to batch ingest runs: langsmith.utils.LangSmithAuthError: Authentication failed for https://api.smith.langchain.com/runs/batch. HTTPError('401 Client Error: Unauthorized for url: https://api.smith.langchain.com/runs/batch', '{\"detail\":\"Invalid token\"}')\n",
            "post: trace=7ad264b4-9532-461c-baed-7172942e2a90,id=7ad264b4-9532-461c-baed-7172942e2a90; trace=7ad264b4-9532-461c-baed-7172942e2a90,id=f3359208-7ba6-4750-a9fc-fc65f4d521dd; trace=7ad264b4-9532-461c-baed-7172942e2a90,id=e70fdcc5-ca3a-4bb4-8bbd-ca27ddcb26e2; trace=7ad264b4-9532-461c-baed-7172942e2a90,id=5a5bcd62-0f6d-4fa0-958a-2690286e7a07; trace=7ad264b4-9532-461c-baed-7172942e2a90,id=c7071932-b819-44fa-be85-fced4bc63c0a; trace=7ad264b4-9532-461c-baed-7172942e2a90,id=f0b0114b-e409-4fb2-ae6e-be85c59b4ac1; patch: trace=84c83b4e-cd52-45c1-914a-e7f6cab73d94,id=e1807edd-939f-40f5-9bc6-2a597d8b1b90; trace=84c83b4e-cd52-45c1-914a-e7f6cab73d94,id=c7c0de63-635d-421e-ad82-7803b85b36e8; trace=84c83b4e-cd52-45c1-914a-e7f6cab73d94,id=84c83b4e-cd52-45c1-914a-e7f6cab73d94; trace=84c83b4e-cd52-45c1-914a-e7f6cab73d94,id=c345d889-9794-45a0-9ee9-eb25263c0a3f\n",
            "Failed to batch ingest runs: langsmith.utils.LangSmithAuthError: Authentication failed for https://api.smith.langchain.com/runs/batch. HTTPError('401 Client Error: Unauthorized for url: https://api.smith.langchain.com/runs/batch', '{\"detail\":\"Invalid token\"}')\n",
            "post: trace=7ad264b4-9532-461c-baed-7172942e2a90,id=bdd1540d-6db9-4a8e-8a25-efa59af12d24; trace=7ad264b4-9532-461c-baed-7172942e2a90,id=a6d8bf52-17ec-4769-8f2d-8971bc4e313e; trace=7ad264b4-9532-461c-baed-7172942e2a90,id=41475e50-624c-4f1e-a9a5-b2ddb1370319; trace=7ad264b4-9532-461c-baed-7172942e2a90,id=9108bbe7-2096-469c-877a-b2b3111ed818; trace=7ad264b4-9532-461c-baed-7172942e2a90,id=8731fcb1-9fce-4b81-aa3e-e779ee801e37; trace=7ad264b4-9532-461c-baed-7172942e2a90,id=8c08ee79-1157-449b-84c1-7ee72b748399; trace=7ad264b4-9532-461c-baed-7172942e2a90,id=6bd52132-b93a-4f6e-8090-f7fb4781795f; trace=7ad264b4-9532-461c-baed-7172942e2a90,id=749d58ef-d242-4750-8904-c3df974b2dd6; trace=a506a1a9-2468-4950-8b97-911b2bc45409,id=a506a1a9-2468-4950-8b97-911b2bc45409; trace=a506a1a9-2468-4950-8b97-911b2bc45409,id=2f314409-88b6-4380-94f6-84c7b0412b71; trace=a506a1a9-2468-4950-8b97-911b2bc45409,id=0eb37502-4acd-48a4-b046-85ebae91ff40; trace=a506a1a9-2468-4950-8b97-911b2bc45409,id=93b5b72f-6aa7-40d9-8274-25de00725bc9; trace=a506a1a9-2468-4950-8b97-911b2bc45409,id=044bb1e5-996d-4a54-be03-9ba4c7fe0c1b; trace=a506a1a9-2468-4950-8b97-911b2bc45409,id=39275b41-4cee-4f90-84b5-12596cc59908; trace=a506a1a9-2468-4950-8b97-911b2bc45409,id=d0acfa85-52a9-43bb-9dc7-25aea1da68d1; trace=a506a1a9-2468-4950-8b97-911b2bc45409,id=ececa62f-d1f3-4ac5-a1a6-2fed193d3e19; trace=a506a1a9-2468-4950-8b97-911b2bc45409,id=c3cac4b8-1186-42c4-8d68-5f91d9b9d4ed; trace=a506a1a9-2468-4950-8b97-911b2bc45409,id=1f4ffa9f-988d-467f-8852-9da5d260fe9a; trace=a506a1a9-2468-4950-8b97-911b2bc45409,id=7eaa7a74-a77c-4052-9f44-25de017fc308; trace=a506a1a9-2468-4950-8b97-911b2bc45409,id=cbbdeaf0-50bc-444e-baeb-e79e23f78439; trace=a506a1a9-2468-4950-8b97-911b2bc45409,id=3624c7bd-aded-41a1-9303-6ead4f428590; trace=a506a1a9-2468-4950-8b97-911b2bc45409,id=2f1b8967-de5c-44d6-8a16-993c80e9d43d; patch: trace=7ad264b4-9532-461c-baed-7172942e2a90,id=7ad264b4-9532-461c-baed-7172942e2a90; trace=7ad264b4-9532-461c-baed-7172942e2a90,id=f3359208-7ba6-4750-a9fc-fc65f4d521dd; trace=7ad264b4-9532-461c-baed-7172942e2a90,id=e70fdcc5-ca3a-4bb4-8bbd-ca27ddcb26e2; trace=7ad264b4-9532-461c-baed-7172942e2a90,id=c7071932-b819-44fa-be85-fced4bc63c0a\n",
            "Failed to batch ingest runs: langsmith.utils.LangSmithAuthError: Authentication failed for https://api.smith.langchain.com/runs/batch. HTTPError('401 Client Error: Unauthorized for url: https://api.smith.langchain.com/runs/batch', '{\"detail\":\"Invalid token\"}')\n",
            "post: trace=5bd68b92-4123-4f6d-8bc2-fe5704059b3d,id=5bd68b92-4123-4f6d-8bc2-fe5704059b3d; trace=5bd68b92-4123-4f6d-8bc2-fe5704059b3d,id=5084163f-36a0-4dba-8952-28140cfadb5a; trace=5bd68b92-4123-4f6d-8bc2-fe5704059b3d,id=6c9e1fe6-90da-4864-abc3-22cc5445ce68; trace=5bd68b92-4123-4f6d-8bc2-fe5704059b3d,id=5bd6800b-90bb-4916-bfaf-19aa3aed931b; trace=5bd68b92-4123-4f6d-8bc2-fe5704059b3d,id=e3bf4dc3-b083-4172-8a94-866fc1b671a0; trace=5bd68b92-4123-4f6d-8bc2-fe5704059b3d,id=9d1ca0e9-537c-40f0-9efa-054c1d01ba76; patch: trace=a506a1a9-2468-4950-8b97-911b2bc45409,id=7eaa7a74-a77c-4052-9f44-25de017fc308; trace=a506a1a9-2468-4950-8b97-911b2bc45409,id=3624c7bd-aded-41a1-9303-6ead4f428590; trace=a506a1a9-2468-4950-8b97-911b2bc45409,id=a506a1a9-2468-4950-8b97-911b2bc45409; trace=a506a1a9-2468-4950-8b97-911b2bc45409,id=1f4ffa9f-988d-467f-8852-9da5d260fe9a\n",
            "Failed to batch ingest runs: langsmith.utils.LangSmithAuthError: Authentication failed for https://api.smith.langchain.com/runs/batch. HTTPError('401 Client Error: Unauthorized for url: https://api.smith.langchain.com/runs/batch', '{\"detail\":\"Invalid token\"}')\n",
            "post: trace=5bd68b92-4123-4f6d-8bc2-fe5704059b3d,id=85b3a421-364c-4ce4-a5be-4228a83eed34; trace=5bd68b92-4123-4f6d-8bc2-fe5704059b3d,id=4dfd0de2-91c6-4890-b878-7b14539fd7b1; trace=5bd68b92-4123-4f6d-8bc2-fe5704059b3d,id=e6f436a1-6fd8-4d71-966f-b7e9176d8807; trace=5bd68b92-4123-4f6d-8bc2-fe5704059b3d,id=a8b2163b-1886-47d1-b1d4-d1f699c9bf08; trace=5bd68b92-4123-4f6d-8bc2-fe5704059b3d,id=4622cd12-2128-4f2a-841c-21b1061cff54; trace=5bd68b92-4123-4f6d-8bc2-fe5704059b3d,id=b5711939-6460-438d-8c99-8db07b174eeb; trace=5bd68b92-4123-4f6d-8bc2-fe5704059b3d,id=9fb68027-aa0d-4b97-96b9-d45b2cd800aa; trace=5bd68b92-4123-4f6d-8bc2-fe5704059b3d,id=78a52e1a-0795-4815-9557-115edb509d65; patch: trace=5bd68b92-4123-4f6d-8bc2-fe5704059b3d,id=6c9e1fe6-90da-4864-abc3-22cc5445ce68; trace=5bd68b92-4123-4f6d-8bc2-fe5704059b3d,id=e3bf4dc3-b083-4172-8a94-866fc1b671a0; trace=5bd68b92-4123-4f6d-8bc2-fe5704059b3d,id=5084163f-36a0-4dba-8952-28140cfadb5a\n",
            "Failed to batch ingest runs: langsmith.utils.LangSmithAuthError: Authentication failed for https://api.smith.langchain.com/runs/batch. HTTPError('401 Client Error: Unauthorized for url: https://api.smith.langchain.com/runs/batch', '{\"detail\":\"Invalid token\"}')\n",
            "patch: trace=5bd68b92-4123-4f6d-8bc2-fe5704059b3d,id=4622cd12-2128-4f2a-841c-21b1061cff54; trace=5bd68b92-4123-4f6d-8bc2-fe5704059b3d,id=9fb68027-aa0d-4b97-96b9-d45b2cd800aa; trace=5bd68b92-4123-4f6d-8bc2-fe5704059b3d,id=5bd68b92-4123-4f6d-8bc2-fe5704059b3d; trace=5bd68b92-4123-4f6d-8bc2-fe5704059b3d,id=a8b2163b-1886-47d1-b1d4-d1f699c9bf08\n"
          ]
        },
        {
          "data": {
            "text/plain": [
              "'Yes, there is a review with a rating of 10 for the movie \"John Wick 3\". Here is the URL to that review: \\'/review/rw4854296/?ref_=tt_urv\\'.'"
            ]
          },
          "execution_count": 16,
          "metadata": {},
          "output_type": "execute_result"
        }
      ],
      "source": [
        "naive_retrieval_chain.invoke({\"question\" : \"Do any reviews have a rating of 10? If so - can I have the URLs to those reviews?\"})[\"response\"].content"
      ]
    },
    {
      "cell_type": "code",
      "execution_count": 17,
      "metadata": {
        "colab": {
          "base_uri": "https://localhost:8080/",
          "height": 70
        },
        "id": "lpG6rlvvvKFq",
        "outputId": "a1b330b0-628e-41be-d829-9c1d55e781f5"
      },
      "outputs": [
        {
          "data": {
            "text/plain": [
              "'In the movie \"John Wick,\" the story follows an ex-hit-man who comes out of retirement to seek vengeance against the gangsters who killed his dog and took everything from him. The film is filled with violent action, shootouts, and breathtaking fights as John Wick unleashes a maelstrom of destruction against those who come after him, leading to a relentless vendetta.'"
            ]
          },
          "execution_count": 17,
          "metadata": {},
          "output_type": "execute_result"
        }
      ],
      "source": [
        "naive_retrieval_chain.invoke({\"question\" : \"What happened in John Wick?\"})[\"response\"].content"
      ]
    },
    {
      "cell_type": "markdown",
      "metadata": {
        "id": "jsbfQmbr1leg"
      },
      "source": [
        "Overall, this is not bad! Let's see if we can make it better!"
      ]
    },
    {
      "cell_type": "markdown",
      "metadata": {
        "id": "Ft1vt8HPR16w"
      },
      "source": [
        "## Task 5: Best-Matching 25 (BM25) Retriever\n",
        "\n",
        "Taking a step back in time - [BM25](https://www.nowpublishers.com/article/Details/INR-019) is based on [Bag-Of-Words](https://en.wikipedia.org/wiki/Bag-of-words_model) which is a sparse representation of text.\n",
        "\n",
        "In essence, it's a way to compare how similar two pieces of text are based on the words they both contain.\n",
        "\n",
        "This retriever is very straightforward to set-up! Let's see it happen down below!\n"
      ]
    },
    {
      "cell_type": "code",
      "execution_count": 18,
      "metadata": {
        "id": "qdF4wuj5R-cG"
      },
      "outputs": [],
      "source": [
        "from langchain_community.retrievers import BM25Retriever\n",
        "\n",
        "bm25_retriever = BM25Retriever.from_documents(documents)"
      ]
    },
    {
      "cell_type": "markdown",
      "metadata": {
        "id": "KIjJlBQ8drKH"
      },
      "source": [
        "We'll construct the same chain - only changing the retriever."
      ]
    },
    {
      "cell_type": "code",
      "execution_count": 19,
      "metadata": {
        "id": "WR15EQG7SLuw"
      },
      "outputs": [],
      "source": [
        "bm25_retrieval_chain = (\n",
        "    {\"context\": itemgetter(\"question\") | bm25_retriever, \"question\": itemgetter(\"question\")}\n",
        "    | RunnablePassthrough.assign(context=itemgetter(\"context\"))\n",
        "    | {\"response\": rag_prompt | chat_model, \"context\": itemgetter(\"context\")}\n",
        ")"
      ]
    },
    {
      "cell_type": "markdown",
      "metadata": {
        "id": "0Gi-yXCDdvJk"
      },
      "source": [
        "Let's look at the responses!"
      ]
    },
    {
      "cell_type": "code",
      "execution_count": 20,
      "metadata": {
        "colab": {
          "base_uri": "https://localhost:8080/",
          "height": 53
        },
        "id": "oY9qzmm3SOrF",
        "outputId": "4d4f450f-5978-460f-f242-b32407868353"
      },
      "outputs": [
        {
          "data": {
            "text/plain": [
              "'Based on the reviews provided, opinions on the John Wick movies seem to vary. Some people really enjoyed the first movie, praising its action sequences and style, while others found the third installment to be lacking in plot and excessively violent. Overall, it seems that John Wick has a mix of positive and negative reviews.'"
            ]
          },
          "execution_count": 20,
          "metadata": {},
          "output_type": "execute_result"
        }
      ],
      "source": [
        "bm25_retrieval_chain.invoke({\"question\" : \"Did people generally like John Wick?\"})[\"response\"].content"
      ]
    },
    {
      "cell_type": "code",
      "execution_count": 21,
      "metadata": {
        "colab": {
          "base_uri": "https://localhost:8080/",
          "height": 36
        },
        "id": "igfinyneSQkh",
        "outputId": "9752d4a9-dd16-45b1-f63f-a76e93a05eb3"
      },
      "outputs": [
        {
          "data": {
            "text/plain": [
              "\"I'm sorry, there are no reviews with a rating of 10 in the provided context.\""
            ]
          },
          "execution_count": 21,
          "metadata": {},
          "output_type": "execute_result"
        }
      ],
      "source": [
        "bm25_retrieval_chain.invoke({\"question\" : \"Do any reviews have a rating of 10? If so - can I have the URLs to those reviews?\"})[\"response\"].content"
      ]
    },
    {
      "cell_type": "code",
      "execution_count": 22,
      "metadata": {
        "colab": {
          "base_uri": "https://localhost:8080/",
          "height": 53
        },
        "id": "w0H7pV_USSMQ",
        "outputId": "bdead654-3109-4143-9a30-e1d6ca8dc534"
      },
      "outputs": [
        {
          "data": {
            "text/plain": [
              "'In John Wick, the protagonist is a former hitman seeking vengeance for the death of his dog, which was a final gift from his deceased wife. The movie is known for its intense action sequences and choreography.'"
            ]
          },
          "execution_count": 22,
          "metadata": {},
          "output_type": "execute_result"
        }
      ],
      "source": [
        "bm25_retrieval_chain.invoke({\"question\" : \"What happened in John Wick?\"})[\"response\"].content"
      ]
    },
    {
      "cell_type": "markdown",
      "metadata": {
        "id": "zvg5xHaUdxCl"
      },
      "source": [
        "It's not clear that this is better or worse - but the `I don't know` isn't great!"
      ]
    },
    {
      "cell_type": "markdown",
      "metadata": {
        "id": "Q-dcbFn2vpZF"
      },
      "source": [
        "## Task 6: Contextual Compression (Using Reranking)\n",
        "\n",
        "Contextual Compression is a fairly straightforward idea: We want to \"compress\" our retrieved context into just the most useful bits.\n",
        "\n",
        "There are a few ways we can achieve this - but we're going to look at a specific example called reranking.\n",
        "\n",
        "The basic idea here is this:\n",
        "\n",
        "- We retrieve lots of documents that are very likely related to our query vector\n",
        "- We \"compress\" those documents into a smaller set of *more* related documents using a reranking algorithm.\n",
        "\n",
        "We'll be leveraging Cohere's Rerank model for our reranker today!\n",
        "\n",
        "All we need to do is the following:\n",
        "\n",
        "- Create a basic retriever\n",
        "- Create a compressor (reranker, in this case)\n",
        "\n",
        "That's it!\n",
        "\n",
        "Let's see it in the code below!"
      ]
    },
    {
      "cell_type": "code",
      "execution_count": 23,
      "metadata": {
        "id": "psHvO2K1v_ZQ"
      },
      "outputs": [],
      "source": [
        "from langchain.retrievers.contextual_compression import ContextualCompressionRetriever\n",
        "from langchain_cohere import CohereRerank\n",
        "\n",
        "compressor = CohereRerank(model=\"rerank-english-v3.0\")\n",
        "compression_retriever = ContextualCompressionRetriever(\n",
        "    base_compressor=compressor, base_retriever=naive_retriever\n",
        ")"
      ]
    },
    {
      "cell_type": "markdown",
      "metadata": {
        "id": "_TA9RB2x-j7P"
      },
      "source": [
        "Let's create our chain again, and see how this does!"
      ]
    },
    {
      "cell_type": "code",
      "execution_count": 24,
      "metadata": {
        "id": "1BXqmxvHwX6T"
      },
      "outputs": [],
      "source": [
        "contextual_compression_retrieval_chain = (\n",
        "    {\"context\": itemgetter(\"question\") | compression_retriever, \"question\": itemgetter(\"question\")}\n",
        "    | RunnablePassthrough.assign(context=itemgetter(\"context\"))\n",
        "    | {\"response\": rag_prompt | chat_model, \"context\": itemgetter(\"context\")}\n",
        ")"
      ]
    },
    {
      "cell_type": "code",
      "execution_count": 25,
      "metadata": {
        "colab": {
          "base_uri": "https://localhost:8080/",
          "height": 36
        },
        "id": "V3iGpokswcBb",
        "outputId": "f15d2aa1-5e8b-417d-f623-eb835d072e59"
      },
      "outputs": [
        {
          "data": {
            "text/plain": [
              "'Yes, people generally liked John Wick based on the positive reviews provided.'"
            ]
          },
          "execution_count": 25,
          "metadata": {},
          "output_type": "execute_result"
        }
      ],
      "source": [
        "contextual_compression_retrieval_chain.invoke({\"question\" : \"Did people generally like John Wick?\"})[\"response\"].content"
      ]
    },
    {
      "cell_type": "code",
      "execution_count": 26,
      "metadata": {
        "colab": {
          "base_uri": "https://localhost:8080/",
          "height": 53
        },
        "id": "7u_k0i4OweUd",
        "outputId": "be5fccc8-2352-4189-c524-bbeaa28cf799"
      },
      "outputs": [
        {
          "data": {
            "text/plain": [
              "\"Yes, there is a review with a rating of 10. Here is the URL to that review:\\n- Review Title: A Masterpiece & Brilliant Sequel\\n- URL: '/review/rw4854296/?ref_=tt_urv'\""
            ]
          },
          "execution_count": 26,
          "metadata": {},
          "output_type": "execute_result"
        }
      ],
      "source": [
        "contextual_compression_retrieval_chain.invoke({\"question\" : \"Do any reviews have a rating of 10? If so - can I have the URLs to those reviews?\"})[\"response\"].content"
      ]
    },
    {
      "cell_type": "code",
      "execution_count": 27,
      "metadata": {
        "colab": {
          "base_uri": "https://localhost:8080/",
          "height": 70
        },
        "id": "zn1EqaGqweXN",
        "outputId": "42bc5972-4164-46eb-f49d-4272f39bb89b"
      },
      "outputs": [
        {
          "data": {
            "text/plain": [
              "\"In John Wick, the main character, John Wick, is forced out of retirement by a mobster who blows up his house. Wick is then given a task to kill the mobster's sister in Rome, but after completing it, a contract is put on his life. Wick then seeks revenge on the mobster who betrayed him.\""
            ]
          },
          "execution_count": 27,
          "metadata": {},
          "output_type": "execute_result"
        }
      ],
      "source": [
        "contextual_compression_retrieval_chain.invoke({\"question\" : \"What happened in John Wick?\"})[\"response\"].content"
      ]
    },
    {
      "cell_type": "markdown",
      "metadata": {
        "id": "OEbT0g2S-mZ4"
      },
      "source": [
        "We'll need to rely on something like Ragas to help us get a better sense of how this is performing overall - but it \"feels\" better!"
      ]
    },
    {
      "cell_type": "markdown",
      "metadata": {
        "id": "qqbghrBEQNn5"
      },
      "source": [
        "## Task 7: Multi-Query Retriever\n",
        "\n",
        "Typically in RAG we have a single query - the one provided by the user.\n",
        "\n",
        "What if we had....more than one query!\n",
        "\n",
        "In essence, a Multi-Query Retriever works by:\n",
        "\n",
        "1. Taking the original user query and creating `n` number of new user queries using an LLM.\n",
        "2. Retrieving documents for each query.\n",
        "3. Using all unique retrieved documents as context\n",
        "\n",
        "So, how is it to set-up? Not bad! Let's see it down below!\n",
        "\n"
      ]
    },
    {
      "cell_type": "code",
      "execution_count": 28,
      "metadata": {
        "id": "pfM26ReXQjzU"
      },
      "outputs": [],
      "source": [
        "from langchain.retrievers.multi_query import MultiQueryRetriever\n",
        "\n",
        "multi_query_retriever = MultiQueryRetriever.from_llm(\n",
        "    retriever=naive_retriever, llm=chat_model\n",
        ")"
      ]
    },
    {
      "cell_type": "code",
      "execution_count": 29,
      "metadata": {
        "id": "1vRc129jQ5WW"
      },
      "outputs": [],
      "source": [
        "multi_query_retrieval_chain = (\n",
        "    {\"context\": itemgetter(\"question\") | multi_query_retriever, \"question\": itemgetter(\"question\")}\n",
        "    | RunnablePassthrough.assign(context=itemgetter(\"context\"))\n",
        "    | {\"response\": rag_prompt | chat_model, \"context\": itemgetter(\"context\")}\n",
        ")"
      ]
    },
    {
      "cell_type": "code",
      "execution_count": 30,
      "metadata": {
        "colab": {
          "base_uri": "https://localhost:8080/",
          "height": 53
        },
        "id": "CGgNuOb3Q3M9",
        "outputId": "c5273ecf-da35-40b8-fbdb-0f8beab425f7"
      },
      "outputs": [
        {
          "data": {
            "text/plain": [
              "\"People generally liked John Wick based on the reviews provided. The film was praised for its slickness, brilliant action sequences, fast-paced nature, and Keanu Reeves' performance. Reviewers found it to be a refreshing and entertaining action film.\""
            ]
          },
          "execution_count": 30,
          "metadata": {},
          "output_type": "execute_result"
        }
      ],
      "source": [
        "multi_query_retrieval_chain.invoke({\"question\" : \"Did people generally like John Wick?\"})[\"response\"].content"
      ]
    },
    {
      "cell_type": "code",
      "execution_count": 31,
      "metadata": {
        "colab": {
          "base_uri": "https://localhost:8080/",
          "height": 36
        },
        "id": "aAlSthxrRDBC",
        "outputId": "230ff807-23ae-4d25-8d11-cfdbed0b77cb"
      },
      "outputs": [
        {
          "data": {
            "text/plain": [
              "\"I don't know.\""
            ]
          },
          "execution_count": 31,
          "metadata": {},
          "output_type": "execute_result"
        }
      ],
      "source": [
        "multi_query_retrieval_chain.invoke({\"question\" : \"Do any reviews have a rating of 10? If so - can I have the URLs to those reviews?\"})[\"response\"].content"
      ]
    },
    {
      "cell_type": "code",
      "execution_count": 32,
      "metadata": {
        "colab": {
          "base_uri": "https://localhost:8080/",
          "height": 88
        },
        "id": "Uv1mpCK8REs4",
        "outputId": "00fbc22a-ed9b-4613-9695-0b179e3f8369"
      },
      "outputs": [
        {
          "data": {
            "text/plain": [
              "\"In John Wick, the main character, played by Keanu Reeves, is a retired assassin who comes out of retirement when someone kills his dog. This leads to a series of events involving revenge, car theft, and a lot of violence. In the sequel, John Wick is called on to pay off an old debt by helping take over the Assassin's Guild, leading to him flying around to different locations and killing many assassins.\""
            ]
          },
          "execution_count": 32,
          "metadata": {},
          "output_type": "execute_result"
        }
      ],
      "source": [
        "multi_query_retrieval_chain.invoke({\"question\" : \"What happened in John Wick?\"})[\"response\"].content"
      ]
    },
    {
      "cell_type": "markdown",
      "metadata": {
        "id": "EDEawBf_d_3G"
      },
      "source": [
        "## Task 8: Parent Document Retriever\n",
        "\n",
        "A \"small-to-big\" strategy - the Parent Document Retriever works based on a simple strategy:\n",
        "\n",
        "1. Each un-split \"document\" will be designated as a \"parent document\" (You could use larger chunks of document as well, but our data format allows us to consider the overall document as the parent chunk)\n",
        "2. Store those \"parent documents\" in a memory store (not a VectorStore)\n",
        "3. We will chunk each of those documents into smaller documents, and associate them with their respective parents, and store those in a VectorStore. We'll call those \"child chunks\".\n",
        "4. When we query our Retriever, we will do a similarity search comparing our query vector to the \"child chunks\".\n",
        "5. Instead of returning the \"child chunks\", we'll return their associated \"parent chunks\".\n",
        "\n",
        "Okay, maybe that was a few steps - but the basic idea is this:\n",
        "\n",
        "- Search for small documents\n",
        "- Return big documents\n",
        "\n",
        "The intuition is that we're likely to find the most relevant information by limiting the amount of semantic information that is encoded in each embedding vector - but we're likely to miss relevant surrounding context if we only use that information.\n",
        "\n",
        "Let's start by creating our \"parent documents\" and defining a `RecursiveCharacterTextSplitter`."
      ]
    },
    {
      "cell_type": "code",
      "execution_count": 33,
      "metadata": {
        "id": "qJ53JJuMd_ZH"
      },
      "outputs": [],
      "source": [
        "from langchain.retrievers import ParentDocumentRetriever\n",
        "from langchain.storage import InMemoryStore\n",
        "from langchain_text_splitters import RecursiveCharacterTextSplitter\n",
        "from qdrant_client import QdrantClient, models\n",
        "\n",
        "parent_docs = documents\n",
        "child_splitter = RecursiveCharacterTextSplitter(chunk_size=200)"
      ]
    },
    {
      "cell_type": "markdown",
      "metadata": {
        "id": "oOpXfVUH3gL3"
      },
      "source": [
        "We'll need to set up a new QDrant vectorstore - and we'll use another useful pattern to do so!\n",
        "\n",
        "> NOTE: We are manually defining our embedding dimension, you'll need to change this if you're using a different embedding model."
      ]
    },
    {
      "cell_type": "code",
      "execution_count": 34,
      "metadata": {
        "colab": {
          "base_uri": "https://localhost:8080/"
        },
        "id": "rzFc-_9HlGQ-",
        "outputId": "223662dd-c36f-42f7-d1b0-b086e571484e"
      },
      "outputs": [
        {
          "name": "stderr",
          "output_type": "stream",
          "text": [
            "/var/folders/kd/n70wp5t13t1ftd6d335l_ynm0000gn/T/ipykernel_30206/3574430551.py:8: LangChainDeprecationWarning: The class `Qdrant` was deprecated in LangChain 0.0.37 and will be removed in 1.0. An updated version of the class exists in the :class:`~langchain-qdrant package and should be used instead. To use it run `pip install -U :class:`~langchain-qdrant` and import as `from :class:`~langchain_qdrant import Qdrant``.\n",
            "  parent_document_vectorstore = Qdrant(\n"
          ]
        }
      ],
      "source": [
        "client = QdrantClient(location=\":memory:\")\n",
        "\n",
        "client.create_collection(\n",
        "    collection_name=\"full_documents\",\n",
        "    vectors_config=models.VectorParams(size=1536, distance=models.Distance.COSINE)\n",
        ")\n",
        "\n",
        "parent_document_vectorstore = Qdrant(\n",
        "    collection_name=\"full_documents\", embeddings=OpenAIEmbeddings(model=\"text-embedding-3-small\"), client=client\n",
        ")"
      ]
    },
    {
      "cell_type": "markdown",
      "metadata": {
        "id": "sf_g95FA3s6w"
      },
      "source": [
        "Now we can create our `InMemoryStore` that will hold our \"parent documents\" - and build our retriever!"
      ]
    },
    {
      "cell_type": "code",
      "execution_count": 35,
      "metadata": {
        "id": "BpWVjPf4fLUp"
      },
      "outputs": [],
      "source": [
        "store = InMemoryStore()\n",
        "\n",
        "parent_document_retriever = ParentDocumentRetriever(\n",
        "    vectorstore = parent_document_vectorstore,\n",
        "    docstore=store,\n",
        "    child_splitter=child_splitter,\n",
        ")"
      ]
    },
    {
      "cell_type": "markdown",
      "metadata": {
        "id": "KoYmSWfE32Zo"
      },
      "source": [
        "By default, this is empty as we haven't added any documents - let's add some now!"
      ]
    },
    {
      "cell_type": "code",
      "execution_count": 36,
      "metadata": {
        "id": "iQ2ZzfKigMZc"
      },
      "outputs": [],
      "source": [
        "parent_document_retriever.add_documents(parent_docs, ids=None)"
      ]
    },
    {
      "cell_type": "markdown",
      "metadata": {
        "id": "bI7Tip1335rE"
      },
      "source": [
        "We'll create the same chain we did before - but substitute our new `parent_document_retriever`."
      ]
    },
    {
      "cell_type": "code",
      "execution_count": 37,
      "metadata": {
        "id": "Qq_adt2KlSqp"
      },
      "outputs": [],
      "source": [
        "parent_document_retrieval_chain = (\n",
        "    {\"context\": itemgetter(\"question\") | parent_document_retriever, \"question\": itemgetter(\"question\")}\n",
        "    | RunnablePassthrough.assign(context=itemgetter(\"context\"))\n",
        "    | {\"response\": rag_prompt | chat_model, \"context\": itemgetter(\"context\")}\n",
        ")"
      ]
    },
    {
      "cell_type": "markdown",
      "metadata": {
        "id": "jNolUVQb4Apt"
      },
      "source": [
        "Let's give it a whirl!"
      ]
    },
    {
      "cell_type": "code",
      "execution_count": 38,
      "metadata": {
        "colab": {
          "base_uri": "https://localhost:8080/",
          "height": 70
        },
        "id": "TXB5i89Zly5W",
        "outputId": "94c240be-7c5b-4c58-9eee-56d93285a054"
      },
      "outputs": [
        {
          "data": {
            "text/plain": [
              "\"People's opinions on John Wick seem to vary. Some love the series and find it consistent and well-received, while others have strong negative opinions about it. It ultimately depends on individual preferences.\""
            ]
          },
          "execution_count": 38,
          "metadata": {},
          "output_type": "execute_result"
        }
      ],
      "source": [
        "parent_document_retrieval_chain.invoke({\"question\" : \"Did people generally like John Wick?\"})[\"response\"].content"
      ]
    },
    {
      "cell_type": "code",
      "execution_count": 39,
      "metadata": {
        "colab": {
          "base_uri": "https://localhost:8080/",
          "height": 36
        },
        "id": "V5F1T-wNl3cg",
        "outputId": "9b81e72e-5db7-4b8a-b25b-400ea0df5335"
      },
      "outputs": [
        {
          "data": {
            "text/plain": [
              "'Yes, there is a review with a rating of 10. Here is the URL to that review: \"/review/rw4854296/?ref_=tt_urv\" for the movie \"John Wick 3\".'"
            ]
          },
          "execution_count": 39,
          "metadata": {},
          "output_type": "execute_result"
        }
      ],
      "source": [
        "parent_document_retrieval_chain.invoke({\"question\" : \"Do any reviews have a rating of 10? If so - can I have the URLs to those reviews?\"})[\"response\"].content"
      ]
    },
    {
      "cell_type": "code",
      "execution_count": 40,
      "metadata": {
        "colab": {
          "base_uri": "https://localhost:8080/",
          "height": 70
        },
        "id": "ZqARszGzvGcG",
        "outputId": "8867f83c-db13-4db4-d57f-9bd51d32cd8a"
      },
      "outputs": [
        {
          "data": {
            "text/plain": [
              "\"In John Wick, the main character, played by Keanu Reeves, is a retired assassin who comes out of retirement to seek revenge when someone kills his dog and steals his car. He gets caught up in a series of events involving the Assassin's Guild and goes on a killing spree across Italy, Canada, and Manhattan.\""
            ]
          },
          "execution_count": 40,
          "metadata": {},
          "output_type": "execute_result"
        }
      ],
      "source": [
        "parent_document_retrieval_chain.invoke({\"question\" : \"What happened in John Wick?\"})[\"response\"].content"
      ]
    },
    {
      "cell_type": "markdown",
      "metadata": {
        "id": "B41cj42s4DPM"
      },
      "source": [
        "Overall, the performance *seems* largely the same. We can leverage a tool like [Ragas]() to more effectively answer the question about the performance."
      ]
    },
    {
      "cell_type": "markdown",
      "metadata": {
        "id": "VUrIBKl_TwS9"
      },
      "source": [
        "## Task 9: Ensemble Retriever\n",
        "\n",
        "In brief, an Ensemble Retriever simply takes 2, or more, retrievers and combines their retrieved documents based on a rank-fusion algorithm.\n",
        "\n",
        "In this case - we're using the [Reciprocal Rank Fusion](https://plg.uwaterloo.ca/~gvcormac/cormacksigir09-rrf.pdf) algorithm.\n",
        "\n",
        "Setting it up is as easy as providing a list of our desired retrievers - and the weights for each retriever."
      ]
    },
    {
      "cell_type": "code",
      "execution_count": 41,
      "metadata": {
        "id": "8j7jpZsKTxic"
      },
      "outputs": [],
      "source": [
        "from langchain.retrievers import EnsembleRetriever\n",
        "\n",
        "retriever_list = [bm25_retriever, naive_retriever, parent_document_retriever, compression_retriever, multi_query_retriever]\n",
        "equal_weighting = [1/len(retriever_list)] * len(retriever_list)\n",
        "\n",
        "ensemble_retriever = EnsembleRetriever(\n",
        "    retrievers=retriever_list, weights=equal_weighting\n",
        ")"
      ]
    },
    {
      "cell_type": "markdown",
      "metadata": {
        "id": "kpo9Psl5hhJ-"
      },
      "source": [
        "We'll pack *all* of these retrievers together in an ensemble."
      ]
    },
    {
      "cell_type": "code",
      "execution_count": 42,
      "metadata": {
        "id": "KZ__EZwpUKkd"
      },
      "outputs": [],
      "source": [
        "ensemble_retrieval_chain = (\n",
        "    {\"context\": itemgetter(\"question\") | ensemble_retriever, \"question\": itemgetter(\"question\")}\n",
        "    | RunnablePassthrough.assign(context=itemgetter(\"context\"))\n",
        "    | {\"response\": rag_prompt | chat_model, \"context\": itemgetter(\"context\")}\n",
        ")"
      ]
    },
    {
      "cell_type": "markdown",
      "metadata": {
        "id": "SSsvHpRMj24L"
      },
      "source": [
        "Let's look at our results!"
      ]
    },
    {
      "cell_type": "code",
      "execution_count": 43,
      "metadata": {
        "colab": {
          "base_uri": "https://localhost:8080/",
          "height": 70
        },
        "id": "0lMvqL88UQI-",
        "outputId": "d86dd5f7-0a13-4836-c0ce-cc4c431fd889"
      },
      "outputs": [
        {
          "data": {
            "text/plain": [
              "\"Based on the reviews provided, people generally liked John Wick. The action sequences, Keanu Reeves' performance, and the overall style of the film were praised by many reviewers.\""
            ]
          },
          "execution_count": 43,
          "metadata": {},
          "output_type": "execute_result"
        }
      ],
      "source": [
        "ensemble_retrieval_chain.invoke({\"question\" : \"Did people generally like John Wick?\"})[\"response\"].content"
      ]
    },
    {
      "cell_type": "code",
      "execution_count": 44,
      "metadata": {
        "colab": {
          "base_uri": "https://localhost:8080/",
          "height": 53
        },
        "id": "MNFWLYECURI1",
        "outputId": "b17973b5-66a9-4481-97d5-880b5754b5c5"
      },
      "outputs": [
        {
          "data": {
            "text/plain": [
              "\"Yes, there is a review with a rating of 10. Here is the URL to that review: '/review/rw4854296/?ref_=tt_urv'\""
            ]
          },
          "execution_count": 44,
          "metadata": {},
          "output_type": "execute_result"
        }
      ],
      "source": [
        "ensemble_retrieval_chain.invoke({\"question\" : \"Do any reviews have a rating of 10? If so - can I have the URLs to those reviews?\"})[\"response\"].content"
      ]
    },
    {
      "cell_type": "code",
      "execution_count": 45,
      "metadata": {
        "colab": {
          "base_uri": "https://localhost:8080/",
          "height": 88
        },
        "id": "A7qbHfWgUR4c",
        "outputId": "f7373144-59ef-4fc7-b75d-ca00e7df881e"
      },
      "outputs": [
        {
          "data": {
            "text/plain": [
              "'In the movie \"John Wick,\" an ex-hitman comes out of retirement to seek vengeance against the gangsters who killed his dog and took everything from him. The story is filled with violent action, shootouts, and breathtaking fights as John Wick unleashes a maelstrom of destruction against those who come after him.'"
            ]
          },
          "execution_count": 45,
          "metadata": {},
          "output_type": "execute_result"
        }
      ],
      "source": [
        "ensemble_retrieval_chain.invoke({\"question\" : \"What happened in John Wick?\"})[\"response\"].content"
      ]
    },
    {
      "cell_type": "markdown",
      "metadata": {
        "id": "MopbkNJAXVaN"
      },
      "source": [
        "## Task 10: Semantic Chunking\n",
        "\n",
        "While this is not a retrieval method - it *is* an effective way of increasing retrieval performance on corpora that have clean semantic breaks in them.\n",
        "\n",
        "Essentially, Semantic Chunking is implemented by:\n",
        "\n",
        "1. Embedding all sentences in the corpus.\n",
        "2. Combining or splitting sequences of sentences based on their semantic similarity based on a number of [possible thresholding methods](https://python.langchain.com/docs/how_to/semantic-chunker/):\n",
        "  - `percentile`\n",
        "  - `standard_deviation`\n",
        "  - `interquartile`\n",
        "  - `gradient`\n",
        "3. Each sequence of related sentences is kept as a document!\n",
        "\n",
        "Let's see how to implement this!"
      ]
    },
    {
      "cell_type": "code",
      "execution_count": 46,
      "metadata": {
        "colab": {
          "base_uri": "https://localhost:8080/"
        },
        "id": "1dHeB-yGXneL",
        "outputId": "efc59105-518a-4134-9228-d98b8a97e08e"
      },
      "outputs": [],
      "source": [
        "!pip install -qU langchain_experimental"
      ]
    },
    {
      "cell_type": "markdown",
      "metadata": {
        "id": "U9ciZbFEldv_"
      },
      "source": [
        "We'll use the `percentile` thresholding method for this example which will:\n",
        "\n",
        "Calculate all distances between sentences, and then break apart sequences of setences that exceed a given percentile among all distances."
      ]
    },
    {
      "cell_type": "code",
      "execution_count": 47,
      "metadata": {
        "id": "66EIEWiEYl5y"
      },
      "outputs": [],
      "source": [
        "from langchain_experimental.text_splitter import SemanticChunker\n",
        "\n",
        "semantic_chunker = SemanticChunker(\n",
        "    embeddings,\n",
        "    breakpoint_threshold_type=\"percentile\"\n",
        ")"
      ]
    },
    {
      "cell_type": "markdown",
      "metadata": {
        "id": "YqoKmz12mhRW"
      },
      "source": [
        "Now we can split our documents."
      ]
    },
    {
      "cell_type": "code",
      "execution_count": 48,
      "metadata": {
        "id": "ROcV7o68ZIq7"
      },
      "outputs": [],
      "source": [
        "semantic_documents = semantic_chunker.split_documents(documents)"
      ]
    },
    {
      "cell_type": "markdown",
      "metadata": {
        "id": "L8-LNC-Xmjex"
      },
      "source": [
        "Let's create a new vector store."
      ]
    },
    {
      "cell_type": "code",
      "execution_count": 49,
      "metadata": {
        "id": "h3sl9QjyZhIe"
      },
      "outputs": [],
      "source": [
        "semantic_vectorstore = Qdrant.from_documents(\n",
        "    semantic_documents,\n",
        "    embeddings,\n",
        "    location=\":memory:\",\n",
        "    collection_name=\"JohnWickSemantic\"\n",
        ")"
      ]
    },
    {
      "cell_type": "markdown",
      "metadata": {
        "id": "Eh_r_-LHmmKn"
      },
      "source": [
        "We'll use naive retrieval for this example."
      ]
    },
    {
      "cell_type": "code",
      "execution_count": 50,
      "metadata": {
        "id": "odVyDUHwZftc"
      },
      "outputs": [],
      "source": [
        "semantic_retriever = semantic_vectorstore.as_retriever(search_kwargs={\"k\" : 10})"
      ]
    },
    {
      "cell_type": "markdown",
      "metadata": {
        "id": "Mkeiv_ojmp6G"
      },
      "source": [
        "Finally we can create our classic chain!"
      ]
    },
    {
      "cell_type": "code",
      "execution_count": 51,
      "metadata": {
        "id": "xWE_0J0mZveG"
      },
      "outputs": [],
      "source": [
        "semantic_retrieval_chain = (\n",
        "    {\"context\": itemgetter(\"question\") | semantic_retriever, \"question\": itemgetter(\"question\")}\n",
        "    | RunnablePassthrough.assign(context=itemgetter(\"context\"))\n",
        "    | {\"response\": rag_prompt | chat_model, \"context\": itemgetter(\"context\")}\n",
        ")"
      ]
    },
    {
      "cell_type": "markdown",
      "metadata": {
        "id": "R5pfjLQ3ms9_"
      },
      "source": [
        "And view the results!"
      ]
    },
    {
      "cell_type": "code",
      "execution_count": 52,
      "metadata": {
        "colab": {
          "base_uri": "https://localhost:8080/",
          "height": 70
        },
        "id": "0lN2j-e4Z0SD",
        "outputId": "ef483e21-7200-4dfc-b8bf-aed4f23587b2"
      },
      "outputs": [
        {
          "data": {
            "text/plain": [
              "'Yes, people generally liked John Wick based on the positive reviews and high ratings given by viewers.'"
            ]
          },
          "execution_count": 52,
          "metadata": {},
          "output_type": "execute_result"
        }
      ],
      "source": [
        "ensemble_retrieval_chain.invoke({\"question\" : \"Did people generally like John Wick?\"})[\"response\"].content"
      ]
    },
    {
      "cell_type": "code",
      "execution_count": 53,
      "metadata": {
        "colab": {
          "base_uri": "https://localhost:8080/",
          "height": 53
        },
        "id": "xdqfBH1SZ3f9",
        "outputId": "ed62b2d1-7586-46cc-aaf4-c54192a56155"
      },
      "outputs": [
        {
          "data": {
            "text/plain": [
              "\"Yes, there is a review with a rating of 10. Here is the URL to that review: '/review/rw4854296/?ref_=tt_urv'.\""
            ]
          },
          "execution_count": 53,
          "metadata": {},
          "output_type": "execute_result"
        }
      ],
      "source": [
        "ensemble_retrieval_chain.invoke({\"question\" : \"Do any reviews have a rating of 10? If so - can I have the URLs to those reviews?\"})[\"response\"].content"
      ]
    },
    {
      "cell_type": "code",
      "execution_count": 54,
      "metadata": {
        "colab": {
          "base_uri": "https://localhost:8080/",
          "height": 70
        },
        "id": "rAcAObZnZ4o6",
        "outputId": "3f1cade3-41e4-4e42-ef71-048dd18e5e3a"
      },
      "outputs": [
        {
          "data": {
            "text/plain": [
              "'In John Wick, an ex-hitman comes out of retirement to seek vengeance against the gangsters who killed his dog and took everything from him. The movie is filled with violent action, shootouts, and breathtaking fights as John Wick unleashes a maelstrom of destruction against those who come after him.'"
            ]
          },
          "execution_count": 54,
          "metadata": {},
          "output_type": "execute_result"
        }
      ],
      "source": [
        "ensemble_retrieval_chain.invoke({\"question\" : \"What happened in John Wick?\"})[\"response\"].content"
      ]
    },
    {
      "cell_type": "markdown",
      "metadata": {
        "id": "xk2n3-pnVWDJ"
      },
      "source": [
        "# 🤝 Breakout Room Part #2"
      ]
    },
    {
      "cell_type": "markdown",
      "metadata": {
        "id": "2SkJLYwMVZkj"
      },
      "source": [
        "#### 🏗️ Activity #1\n",
        "\n",
        "Your task is to evaluate the various Retriever methods against eachother.\n",
        "\n",
        "You are expected to:\n",
        "\n",
        "1. Create a \"golden dataset\"\n",
        " - Use Synthetic Data Generation (powered by Ragas, or otherwise) to create this dataset\n",
        "2. Evaluate each retriever with *retriever specific* Ragas metrics\n",
        " - Semantic Chunking is not considered a retriever method and will not be required for marks, but you may find it useful to do a \"semantic chunking on\" vs. \"semantic chunking off\" comparision between them\n",
        "3. Compile these in a list and write a small paragraph about which is best for this particular data and why.\n",
        "\n",
        "Your analysis should factor in:\n",
        "  - Cost\n",
        "  - Latency\n",
        "  - Performance\n",
        "\n",
        "> NOTE: This is **NOT** required to be completed in class. Please spend time in your breakout rooms creating a plan before moving on to writing code."
      ]
    },
    {
      "cell_type": "markdown",
      "metadata": {
        "id": "TWAr16a5XMub"
      },
      "source": [
        "##### HINTS:\n",
        "\n",
        "- LangSmith provides detailed information about latency and cost."
      ]
    },
    {
      "cell_type": "markdown",
      "metadata": {},
      "source": [
        "### YOUR CODE HERE"
      ]
    },
    {
      "cell_type": "markdown",
      "metadata": {},
      "source": [
        "#### Set up Langsmith"
      ]
    },
    {
      "cell_type": "code",
      "execution_count": 59,
      "metadata": {},
      "outputs": [],
      "source": [
        "import os\n",
        "from uuid import uuid4\n",
        "\n",
        "unique_id = uuid4().hex[0:8]\n",
        "\n",
        "os.environ[\"LANGCHAIN_TRACING_V2\"] = \"true\"\n",
        "os.environ[\"LANGCHAIN_PROJECT\"] = f\"Advanced_Retrieval_with_Langchain - {unique_id}\"\n",
        "os.environ[\"LANGCHAIN_API_KEY\"] = getpass.getpass(\"Enter your LangSmith API key: \")"
      ]
    },
    {
      "cell_type": "markdown",
      "metadata": {},
      "source": [
        "#### Generate the synthetic dataset using the SDG.ipynb notebook"
      ]
    },
    {
      "cell_type": "code",
      "execution_count": 60,
      "metadata": {},
      "outputs": [
        {
          "data": {
            "text/html": [
              "<div>\n",
              "<style scoped>\n",
              "    .dataframe tbody tr th:only-of-type {\n",
              "        vertical-align: middle;\n",
              "    }\n",
              "\n",
              "    .dataframe tbody tr th {\n",
              "        vertical-align: top;\n",
              "    }\n",
              "\n",
              "    .dataframe thead th {\n",
              "        text-align: right;\n",
              "    }\n",
              "</style>\n",
              "<table border=\"1\" class=\"dataframe\">\n",
              "  <thead>\n",
              "    <tr style=\"text-align: right;\">\n",
              "      <th></th>\n",
              "      <th>Unnamed: 0</th>\n",
              "      <th>question</th>\n",
              "      <th>contexts</th>\n",
              "      <th>ground_truth</th>\n",
              "      <th>evolution_type</th>\n",
              "      <th>metadata</th>\n",
              "      <th>episode_done</th>\n",
              "    </tr>\n",
              "  </thead>\n",
              "  <tbody>\n",
              "    <tr>\n",
              "      <th>0</th>\n",
              "      <td>0</td>\n",
              "      <td>What is the reputation of the John Wick action...</td>\n",
              "      <td>[\": 21\\nReview: He fights and bites, he fights...</td>\n",
              "      <td>The John Wick action movie franchise is known ...</td>\n",
              "      <td>simple</td>\n",
              "      <td>[{'source': 'john_wick_4.csv', 'row': 21, 'Rev...</td>\n",
              "      <td>True</td>\n",
              "    </tr>\n",
              "    <tr>\n",
              "      <th>1</th>\n",
              "      <td>1</td>\n",
              "      <td>What role does Iosef's uncle play in the plot ...</td>\n",
              "      <td>[\": 5\\nReview: Iosef's uncle still has John Wi...</td>\n",
              "      <td>Iosef's uncle plays a role in the plot of John...</td>\n",
              "      <td>simple</td>\n",
              "      <td>[{'source': 'john_wick_2.csv', 'row': 5, 'Revi...</td>\n",
              "      <td>True</td>\n",
              "    </tr>\n",
              "    <tr>\n",
              "      <th>2</th>\n",
              "      <td>2</td>\n",
              "      <td>How does John Wick: Chapter 3 - Parabellum exp...</td>\n",
              "      <td>[\": 24\\nReview: John Wick: Chapter 3 - Parabel...</td>\n",
              "      <td>John Wick: Chapter 3 - Parabellum explores the...</td>\n",
              "      <td>simple</td>\n",
              "      <td>[{'source': 'john_wick_3.csv', 'row': 24, 'Rev...</td>\n",
              "      <td>True</td>\n",
              "    </tr>\n",
              "    <tr>\n",
              "      <th>3</th>\n",
              "      <td>3</td>\n",
              "      <td>What role does the Continental hotel play in t...</td>\n",
              "      <td>[\": 20\\nReview: After resolving his issues wit...</td>\n",
              "      <td>The Continental hotel in New York City, owned ...</td>\n",
              "      <td>simple</td>\n",
              "      <td>[{'source': 'john_wick_2.csv', 'row': 20, 'Rev...</td>\n",
              "      <td>True</td>\n",
              "    </tr>\n",
              "    <tr>\n",
              "      <th>4</th>\n",
              "      <td>4</td>\n",
              "      <td>What is the premise of the John Wick movie ser...</td>\n",
              "      <td>[\": 19\\nReview: If you've seen the first John ...</td>\n",
              "      <td>The premise of the John Wick movie series revo...</td>\n",
              "      <td>simple</td>\n",
              "      <td>[{'source': 'john_wick_2.csv', 'row': 19, 'Rev...</td>\n",
              "      <td>True</td>\n",
              "    </tr>\n",
              "    <tr>\n",
              "      <th>5</th>\n",
              "      <td>5</td>\n",
              "      <td>Who is the mobster that visits John Wick and a...</td>\n",
              "      <td>[\": 20\\nReview: After resolving his issues wit...</td>\n",
              "      <td>Santino D'Antonio is the mobster who visits Jo...</td>\n",
              "      <td>simple</td>\n",
              "      <td>[{'source': 'john_wick_2.csv', 'row': 20, 'Rev...</td>\n",
              "      <td>True</td>\n",
              "    </tr>\n",
              "    <tr>\n",
              "      <th>6</th>\n",
              "      <td>6</td>\n",
              "      <td>What aspect of 'John Wick' received praise for...</td>\n",
              "      <td>[': 19\\nReview: I really don\\'t understand the...</td>\n",
              "      <td>The cinematography and fight choreography of '...</td>\n",
              "      <td>simple</td>\n",
              "      <td>[{'source': 'john_wick_1.csv', 'row': 19, 'Rev...</td>\n",
              "      <td>True</td>\n",
              "    </tr>\n",
              "    <tr>\n",
              "      <th>7</th>\n",
              "      <td>7</td>\n",
              "      <td>What role does the marker play in the plot of ...</td>\n",
              "      <td>[\": 20\\nReview: After resolving his issues wit...</td>\n",
              "      <td>The marker in the plot of John Wick: Chapter 2...</td>\n",
              "      <td>simple</td>\n",
              "      <td>[{'source': 'john_wick_2.csv', 'row': 20, 'Rev...</td>\n",
              "      <td>True</td>\n",
              "    </tr>\n",
              "    <tr>\n",
              "      <th>8</th>\n",
              "      <td>8</td>\n",
              "      <td>What event in the movie John Wick Chapter 2 le...</td>\n",
              "      <td>[\": 10\\nReview: Wow what a great surprise this...</td>\n",
              "      <td>The answer to given question is not present in...</td>\n",
              "      <td>simple</td>\n",
              "      <td>[{'source': 'john_wick_1.csv', 'row': 10, 'Rev...</td>\n",
              "      <td>True</td>\n",
              "    </tr>\n",
              "    <tr>\n",
              "      <th>9</th>\n",
              "      <td>9</td>\n",
              "      <td>What role do assassins play in the artistic sp...</td>\n",
              "      <td>[\": 12\\nReview: If there's an equivalent of cl...</td>\n",
              "      <td>Assassins play a significant role in the artis...</td>\n",
              "      <td>simple</td>\n",
              "      <td>[{'source': 'john_wick_2.csv', 'row': 12, 'Rev...</td>\n",
              "      <td>True</td>\n",
              "    </tr>\n",
              "    <tr>\n",
              "      <th>10</th>\n",
              "      <td>10</td>\n",
              "      <td>How does stunt work affect action in John Wick...</td>\n",
              "      <td>[': 22\\nReview: John Wick is one of my favouri...</td>\n",
              "      <td>The practical stunt work in John Wick movies g...</td>\n",
              "      <td>multi_context</td>\n",
              "      <td>[{'source': 'john_wick_2.csv', 'row': 22, 'Rev...</td>\n",
              "      <td>True</td>\n",
              "    </tr>\n",
              "    <tr>\n",
              "      <th>11</th>\n",
              "      <td>11</td>\n",
              "      <td>What makes action movies like John Wick 3 stan...</td>\n",
              "      <td>[\": 22\\nReview: Lets contemplate about compone...</td>\n",
              "      <td>Action movies like John Wick 3 stand out due t...</td>\n",
              "      <td>multi_context</td>\n",
              "      <td>[{'source': 'john_wick_3.csv', 'row': 22, 'Rev...</td>\n",
              "      <td>True</td>\n",
              "    </tr>\n",
              "    <tr>\n",
              "      <th>12</th>\n",
              "      <td>12</td>\n",
              "      <td>How do cutting-edge visual effects affect acti...</td>\n",
              "      <td>[\": 22\\nReview: Lets contemplate about compone...</td>\n",
              "      <td>Cutting-edge visual effects can enhance the qu...</td>\n",
              "      <td>multi_context</td>\n",
              "      <td>[{'source': 'john_wick_3.csv', 'row': 22, 'Rev...</td>\n",
              "      <td>True</td>\n",
              "    </tr>\n",
              "    <tr>\n",
              "      <th>13</th>\n",
              "      <td>13</td>\n",
              "      <td>What task does John Wick do for the Italian mo...</td>\n",
              "      <td>[\": 20\\nReview: After resolving his issues wit...</td>\n",
              "      <td>John Wick kills Santino D'Antonio's sister, Gi...</td>\n",
              "      <td>multi_context</td>\n",
              "      <td>[{'source': 'john_wick_2.csv', 'row': 20, 'Rev...</td>\n",
              "      <td>True</td>\n",
              "    </tr>\n",
              "    <tr>\n",
              "      <th>14</th>\n",
              "      <td>14</td>\n",
              "      <td>What complicates John Wick's world in 'Parabel...</td>\n",
              "      <td>[': 0\\nReview: It is 5 years since the first J...</td>\n",
              "      <td>The whole world is filled with assassins in 'P...</td>\n",
              "      <td>multi_context</td>\n",
              "      <td>[{'source': 'john_wick_3.csv', 'row': 0, 'Revi...</td>\n",
              "      <td>True</td>\n",
              "    </tr>\n",
              "    <tr>\n",
              "      <th>15</th>\n",
              "      <td>15</td>\n",
              "      <td>What does Keanu Reeves add to John Wick?</td>\n",
              "      <td>[\": 8\\nReview: It's hard to find anything bad ...</td>\n",
              "      <td>Keanu Reeves adds a watchable element to John ...</td>\n",
              "      <td>multi_context</td>\n",
              "      <td>[{'source': 'john_wick_1.csv', 'row': 8, 'Revi...</td>\n",
              "      <td>True</td>\n",
              "    </tr>\n",
              "    <tr>\n",
              "      <th>16</th>\n",
              "      <td>16</td>\n",
              "      <td>What motivates John Wick's vengeance and its i...</td>\n",
              "      <td>[\": 5\\nReview: Ultra-violent first entry with ...</td>\n",
              "      <td>John Wick's vengeance is primarily motivated b...</td>\n",
              "      <td>multi_context</td>\n",
              "      <td>[{'source': 'john_wick_1.csv', 'row': 5, 'Revi...</td>\n",
              "      <td>True</td>\n",
              "    </tr>\n",
              "    <tr>\n",
              "      <th>17</th>\n",
              "      <td>17</td>\n",
              "      <td>How does the Moroccan brawl scene in JOHN WICK...</td>\n",
              "      <td>[': 19\\nReview: The inevitable third chapter o...</td>\n",
              "      <td>The answer to given question is not present in...</td>\n",
              "      <td>reasoning</td>\n",
              "      <td>[{'source': 'john_wick_3.csv', 'row': 19, 'Rev...</td>\n",
              "      <td>True</td>\n",
              "    </tr>\n",
              "    <tr>\n",
              "      <th>18</th>\n",
              "      <td>18</td>\n",
              "      <td>What makes John Wick praised for its coordinat...</td>\n",
              "      <td>[\": 8\\nReview: It's hard to find anything bad ...</td>\n",
              "      <td>John Wick is praised for its beautifully chore...</td>\n",
              "      <td>reasoning</td>\n",
              "      <td>[{'source': 'john_wick_1.csv', 'row': 8, 'Revi...</td>\n",
              "      <td>True</td>\n",
              "    </tr>\n",
              "  </tbody>\n",
              "</table>\n",
              "</div>"
            ],
            "text/plain": [
              "    Unnamed: 0                                           question  \\\n",
              "0            0  What is the reputation of the John Wick action...   \n",
              "1            1  What role does Iosef's uncle play in the plot ...   \n",
              "2            2  How does John Wick: Chapter 3 - Parabellum exp...   \n",
              "3            3  What role does the Continental hotel play in t...   \n",
              "4            4  What is the premise of the John Wick movie ser...   \n",
              "5            5  Who is the mobster that visits John Wick and a...   \n",
              "6            6  What aspect of 'John Wick' received praise for...   \n",
              "7            7  What role does the marker play in the plot of ...   \n",
              "8            8  What event in the movie John Wick Chapter 2 le...   \n",
              "9            9  What role do assassins play in the artistic sp...   \n",
              "10          10  How does stunt work affect action in John Wick...   \n",
              "11          11  What makes action movies like John Wick 3 stan...   \n",
              "12          12  How do cutting-edge visual effects affect acti...   \n",
              "13          13  What task does John Wick do for the Italian mo...   \n",
              "14          14  What complicates John Wick's world in 'Parabel...   \n",
              "15          15           What does Keanu Reeves add to John Wick?   \n",
              "16          16  What motivates John Wick's vengeance and its i...   \n",
              "17          17  How does the Moroccan brawl scene in JOHN WICK...   \n",
              "18          18  What makes John Wick praised for its coordinat...   \n",
              "\n",
              "                                             contexts  \\\n",
              "0   [\": 21\\nReview: He fights and bites, he fights...   \n",
              "1   [\": 5\\nReview: Iosef's uncle still has John Wi...   \n",
              "2   [\": 24\\nReview: John Wick: Chapter 3 - Parabel...   \n",
              "3   [\": 20\\nReview: After resolving his issues wit...   \n",
              "4   [\": 19\\nReview: If you've seen the first John ...   \n",
              "5   [\": 20\\nReview: After resolving his issues wit...   \n",
              "6   [': 19\\nReview: I really don\\'t understand the...   \n",
              "7   [\": 20\\nReview: After resolving his issues wit...   \n",
              "8   [\": 10\\nReview: Wow what a great surprise this...   \n",
              "9   [\": 12\\nReview: If there's an equivalent of cl...   \n",
              "10  [': 22\\nReview: John Wick is one of my favouri...   \n",
              "11  [\": 22\\nReview: Lets contemplate about compone...   \n",
              "12  [\": 22\\nReview: Lets contemplate about compone...   \n",
              "13  [\": 20\\nReview: After resolving his issues wit...   \n",
              "14  [': 0\\nReview: It is 5 years since the first J...   \n",
              "15  [\": 8\\nReview: It's hard to find anything bad ...   \n",
              "16  [\": 5\\nReview: Ultra-violent first entry with ...   \n",
              "17  [': 19\\nReview: The inevitable third chapter o...   \n",
              "18  [\": 8\\nReview: It's hard to find anything bad ...   \n",
              "\n",
              "                                         ground_truth evolution_type  \\\n",
              "0   The John Wick action movie franchise is known ...         simple   \n",
              "1   Iosef's uncle plays a role in the plot of John...         simple   \n",
              "2   John Wick: Chapter 3 - Parabellum explores the...         simple   \n",
              "3   The Continental hotel in New York City, owned ...         simple   \n",
              "4   The premise of the John Wick movie series revo...         simple   \n",
              "5   Santino D'Antonio is the mobster who visits Jo...         simple   \n",
              "6   The cinematography and fight choreography of '...         simple   \n",
              "7   The marker in the plot of John Wick: Chapter 2...         simple   \n",
              "8   The answer to given question is not present in...         simple   \n",
              "9   Assassins play a significant role in the artis...         simple   \n",
              "10  The practical stunt work in John Wick movies g...  multi_context   \n",
              "11  Action movies like John Wick 3 stand out due t...  multi_context   \n",
              "12  Cutting-edge visual effects can enhance the qu...  multi_context   \n",
              "13  John Wick kills Santino D'Antonio's sister, Gi...  multi_context   \n",
              "14  The whole world is filled with assassins in 'P...  multi_context   \n",
              "15  Keanu Reeves adds a watchable element to John ...  multi_context   \n",
              "16  John Wick's vengeance is primarily motivated b...  multi_context   \n",
              "17  The answer to given question is not present in...      reasoning   \n",
              "18  John Wick is praised for its beautifully chore...      reasoning   \n",
              "\n",
              "                                             metadata  episode_done  \n",
              "0   [{'source': 'john_wick_4.csv', 'row': 21, 'Rev...          True  \n",
              "1   [{'source': 'john_wick_2.csv', 'row': 5, 'Revi...          True  \n",
              "2   [{'source': 'john_wick_3.csv', 'row': 24, 'Rev...          True  \n",
              "3   [{'source': 'john_wick_2.csv', 'row': 20, 'Rev...          True  \n",
              "4   [{'source': 'john_wick_2.csv', 'row': 19, 'Rev...          True  \n",
              "5   [{'source': 'john_wick_2.csv', 'row': 20, 'Rev...          True  \n",
              "6   [{'source': 'john_wick_1.csv', 'row': 19, 'Rev...          True  \n",
              "7   [{'source': 'john_wick_2.csv', 'row': 20, 'Rev...          True  \n",
              "8   [{'source': 'john_wick_1.csv', 'row': 10, 'Rev...          True  \n",
              "9   [{'source': 'john_wick_2.csv', 'row': 12, 'Rev...          True  \n",
              "10  [{'source': 'john_wick_2.csv', 'row': 22, 'Rev...          True  \n",
              "11  [{'source': 'john_wick_3.csv', 'row': 22, 'Rev...          True  \n",
              "12  [{'source': 'john_wick_3.csv', 'row': 22, 'Rev...          True  \n",
              "13  [{'source': 'john_wick_2.csv', 'row': 20, 'Rev...          True  \n",
              "14  [{'source': 'john_wick_3.csv', 'row': 0, 'Revi...          True  \n",
              "15  [{'source': 'john_wick_1.csv', 'row': 8, 'Revi...          True  \n",
              "16  [{'source': 'john_wick_1.csv', 'row': 5, 'Revi...          True  \n",
              "17  [{'source': 'john_wick_3.csv', 'row': 19, 'Rev...          True  \n",
              "18  [{'source': 'john_wick_1.csv', 'row': 8, 'Revi...          True  "
            ]
          },
          "execution_count": 60,
          "metadata": {},
          "output_type": "execute_result"
        }
      ],
      "source": [
        "import pandas as pd \n",
        "\n",
        "synthetic_testset_df = pd.read_csv(\"synthetic_testset.csv\")\n",
        "synthetic_testset_df"
      ]
    },
    {
      "cell_type": "markdown",
      "metadata": {},
      "source": [
        "# Create a function to test each chaing using the synthetic testset"
      ]
    },
    {
      "cell_type": "code",
      "execution_count": 61,
      "metadata": {},
      "outputs": [],
      "source": [
        "from datasets import Dataset\n",
        "import pandas as pd \n",
        "\n",
        "def test_chain(testset_path: str, chain) -> Dataset:\n",
        "    \n",
        "    testset_df = pd.read_csv(testset_path)\n",
        "\n",
        "    answers = []\n",
        "    contexts = []\n",
        "\n",
        "    questions = testset_df[\"question\"].values.tolist()\n",
        "    groundtruths = testset_df[\"ground_truth\"].values.tolist()\n",
        "\n",
        "    # Loop over the list of synthetic questions and call the chain \n",
        "    for question in questions:\n",
        "        print(question)\n",
        "\n",
        "        # Call the chain\n",
        "        response = chain.invoke({\"question\" : question})\n",
        "        print(response)\n",
        "        \n",
        "        # Capture the answer and context \n",
        "        answers.append(response[\"response\"].content)\n",
        "        contexts.append([context.page_content for context in response[\"context\"]])\n",
        "\n",
        "    data = {\n",
        "        \"question\" : questions,\n",
        "        \"answer\" : answers,\n",
        "        \"contexts\" : contexts,\n",
        "        \"ground_truth\" : groundtruths\n",
        "        }\n",
        "\n",
        "    response_ds = Dataset.from_dict(data)\n",
        "\n",
        "    return response_ds"
      ]
    },
    {
      "cell_type": "code",
      "execution_count": 62,
      "metadata": {},
      "outputs": [
        {
          "name": "stdout",
          "output_type": "stream",
          "text": [
            "What is the reputation of the John Wick action movie franchise in terms of its overall tone and style?\n",
            "{'response': AIMessage(content='The John Wick action movie franchise is highly regarded for its overall tone and style. It is described as slick, violent fun with stylish stunts, kinetic chaos, and cool characters. The action sequences are praised for being expertly choreographed, shot, and edited, setting a high standard for action filmmaking. Overall, the franchise is known for delivering entertaining and relentless action that keeps viewers engaged.', additional_kwargs={'refusal': None}, response_metadata={'token_usage': {'completion_tokens': 79, 'prompt_tokens': 3554, 'total_tokens': 3633, 'completion_tokens_details': {'reasoning_tokens': 0}}, 'model_name': 'gpt-3.5-turbo-0125', 'system_fingerprint': None, 'finish_reason': 'stop', 'logprobs': None}, id='run-a482752e-51bf-4589-8384-3847e4c0fd77-0', usage_metadata={'input_tokens': 3554, 'output_tokens': 79, 'total_tokens': 3633}), 'context': [Document(metadata={'source': 'john_wick_1.csv', 'row': 9, 'Review_Date': '20 October 2014', 'Review_Title': \" The coolest action film you'll see all year\\n\", 'Review_Url': '/review/rw3107759/?ref_=tt_urv', 'Author': 'trublu215', 'Rating': 9, 'Movie_Title': 'John Wick 1', 'last_accessed_at': '2024-09-28T09:20:20.837133', '_id': '73e00e211a4f42deb8409d12ca16e266', '_collection_name': 'JohnWick'}, page_content=\": 9\\nReview: At first glance, John Wick sounds like a terrible film on paper but with the slickness of Keanu Reeves' performance as the titular character and the sheer brilliance in its action sequences, this marks the best action film of the year and one of the absolute best in the past decade. Following a brutal home invasion that leaves his beloved dog murdered by thugs from his past, John Wick vows revenge on the ones who have taken what he loves most. Like I said, on paper, this seems like a direct-to-DVD slopfest starring John Cena but as a film with Keanu Reeves as the lead, it marks the very welcomed return for Reeves to the genre. John Wick is insanely fun, violently brutal and an overall romp especially for those disappointed by The Expendables 3. John Wick is propelled by Tarantino-esque dialog mixed with the swagger of action stars from the 70s. Reeves literally emulates cool in this film and does it with such confidence, that we don't even doubt the character...even when he kills countless bad guys with extreme force in some utterly ridiculous and implausible situations. We don't doubt it for a minute. This is EXACTLY what you want out of an action film. It is briskly paced, brilliantly shot and meticulously choreographed and keeps you wanting more and more. The supporting cast filled with the likes of John Legiuzamo, Ian McShane, and Willen Dafoe also keeps this film very interesting. These guys don't play good guys, hell, John Wick by traditional standards would be a bad guy in any other film. Every character is more ruthless than the next and pushes John Wick to be more ruthless than they are, creating a very cool dynamic between the character and the plot regarding the idea of how far is too far? However, don't expect some revelation from John Wick regarding the morality of bad and evil. This film wants you entertained and does so with brute force, it never lets up, not even for a second. One scene in particular that will have your blood pumping is a showdown between thugs and Wick in a nightclub. This action sequence remains the best in the film and will have you grasping your theater seat because of the sheer intensity of it. Overall, John Wick is slick, violent fun that turns into a remarkable, surprising film that will catch you off guard. It is THAT good. I highly recommend this film to action buffs especially but I'm sure those who just like a good movie will love it as well.\"), Document(metadata={'source': 'john_wick_3.csv', 'row': 5, 'Review_Date': '17 July 2019', 'Review_Title': ' The magic is gone\\n', 'Review_Url': '/review/rw4999970/?ref_=tt_urv', 'Author': 'soundoflight', 'Rating': 5, 'Movie_Title': 'John Wick 3', 'last_accessed_at': '2024-09-30T09:20:20.837440', '_id': 'd5410bcc8c454b7bb5132655d99d3c63', '_collection_name': 'JohnWick'}, page_content=': 5\\nReview: The first John Wick film was special because it broke a mold of sorts. It went against certain action film conventions - the hero was not a muscle bound hulk like a Schwarzenegger or Stallone, the action was super fast paced, the plot was basic and straighforward, but introduced some unique elements, and there was something a bit unique and stylish about the film. John Wick was cool.'), Document(metadata={'source': 'john_wick_1.csv', 'row': 20, 'Review_Date': '22 October 2014', 'Review_Title': ' Smoothest action film to come around in a long time\\n', 'Review_Url': '/review/rw3109271/?ref_=tt_urv', 'Author': 'IceSkateUpHill', 'Rating': 10, 'Movie_Title': 'John Wick 1', 'last_accessed_at': '2024-09-28T09:20:20.837141', '_id': '780d41c4f5364fd6b15651dfd440eba3', '_collection_name': 'JohnWick'}, page_content=\": 20\\nReview: John Wick is something special. It takes as much time setting up elaborate action sequences as it does the world with which it all takes place in. And what a world it is. It reminds me of Millers Crossing and it is cooler than any other recent attempt at noir. We are shown a criminal underworld where, if you are connected, many powerful people know who you are and show you respect. John Wick was connected but he got out. He is the rare killer who has found peace, and he is grateful for that peace. Some young kids steal that from him and he does what he does best, he wages a one man war against the Russian Mafia. It might sound like the film takes quite a leap but it all makes sense. The motives of John and the people who get in the way of his bullets are all very clear, even if it does come across as rather simple. That's the plot at it's most basic. Then there's the action. The film is directed by Reeve's stuntman from The Matrix, so this guy knows action. There are sequences that flow so smoothly it puts other action films and their quick cuts to shame. Keaunu moves so fluidly throughout the film and comes across as such a natural that the only disappointment is that we have not seen him like this before. Along the way are plenty of character actors, fans of The Matrix and The Wire will recognize a few people then there are more obvious ones like Ian McShane and Willem Dafoe. Everyone seems to be having a good time. That is another plus for this movie. It get's dark at times but overall it is quite fun, not very chipper, but fun. I cannot recommend this movie enough. I believe it is a must see for action fans and for anyone looking for something a bit different from the usual fare.\"), Document(metadata={'source': 'john_wick_1.csv', 'row': 0, 'Review_Date': '6 May 2015', 'Review_Title': ' Kinetic, concise, and stylish; John Wick kicks ass.\\n', 'Review_Url': '/review/rw3233896/?ref_=tt_urv', 'Author': 'lnvicta', 'Rating': 8, 'Movie_Title': 'John Wick 1', 'last_accessed_at': '2024-09-28T09:20:20.837118', '_id': '1368a0c0b1434949a40d1885b08b2851', '_collection_name': 'JohnWick'}, page_content=\": 0\\nReview: The best way I can describe John Wick is to picture Taken but instead of Liam Neeson it's Keanu Reeves and instead of his daughter it's his dog. That's essentially the plot of the movie. John Wick (Reeves) is out to seek revenge on the people who took something he loved from him. It's a beautifully simple premise for an action movie - when action movies get convoluted, they get bad i.e. A Good Day to Die Hard. John Wick gives the viewers what they want: Awesome action, stylish stunts, kinetic chaos, and a relatable hero to tie it all together. John Wick succeeds in its simplicity.\"), Document(metadata={'source': 'john_wick_3.csv', 'row': 1, 'Review_Date': '21 October 2021', 'Review_Title': ' Starting to test the friendship\\n', 'Review_Url': '/review/rw7466057/?ref_=tt_urv', 'Author': 'benxrichardson', 'Rating': 6, 'Movie_Title': 'John Wick 3', 'last_accessed_at': '2024-09-30T09:20:20.837437', '_id': '80848f777ed74086851b04df37a2b560', '_collection_name': 'JohnWick'}, page_content=\": 1\\nReview: I'm a fan of the John Wick films. The action sequences are of the highest order and there is quite a bit that feels unique in each action scene. By half way through JW3I started to long for a plot line or a human relationship. There needs to be more to a movie than just fighting.\"), Document(metadata={'source': 'john_wick_4.csv', 'row': 18, 'Review_Date': '17 March 2023', 'Review_Title': ' Not Just The Best John Wick, But Possibly One Of The Best Action Movies Ever\\n', 'Review_Url': '/review/rw8935367/?ref_=tt_urv', 'Author': 'cadillac20', 'Rating': 10, 'Movie_Title': 'John Wick 4', 'last_accessed_at': '2024-10-01T09:20:20.837593', '_id': '9b20976840684c6ab9b54d3c76e7c0d3', '_collection_name': 'JohnWick'}, page_content=\": 18\\nReview: Ever since the original John Wick, the franchise has set a standard of what action in Hollywood should be. Thanks to Chad Stahelski and Keanu Reeve's knowledge of the technical aspects of shooting action, they've been able to deliver expertly choreographed, shot, and edited action films that are now the go to as examples of great action filmmaking. And so, the expectations for the fourth film were fairly high, especially as it became more apparent this was not only the culmination of everything before it, but a whopping 169 minutes long. Rest assured, however, that it delivers in spades. Everything we have come to know and love is here, but with an infusion of creativity like we haven't seen from the franchise yet.\"), Document(metadata={'source': 'john_wick_4.csv', 'row': 14, 'Review_Date': '23 March 2023', 'Review_Title': ' Yeah\\n', 'Review_Url': '/review/rw8946621/?ref_=tt_urv', 'Author': 'markvanwasbeek', 'Rating': 9, 'Movie_Title': 'John Wick 4', 'last_accessed_at': '2024-10-01T09:20:20.837590', '_id': '1d4976cc623844d2bed5e69e71485154', '_collection_name': 'JohnWick'}, page_content=\": 14\\nReview: By now you know what to expect from a John Wick movie. I thought the franchise was losing a little momentum in chapter 3 so I was worried this could be disappointing. It's not. It's even more on steroids than any Wick before! Even close to 3 hours it doesn't feel to long which is very special for a action movie. This franchise has set new standards. If anybody says a movie is good like John Wick, it better f'n be! The set pieces as everyone mentioned before are really insane this time. The Tokyo sceney with illuminated cherry blossoms was beautiful. The only super illogical thing that bothered me was that nobody flinched at the nightclub, eventually they did but after a whole 10 minute beatdown through the whole club, but then again it's a shady nightclub for high table people. If you liked the first three movies, get your ass to the cinema. Yeah.\"), Document(metadata={'source': 'john_wick_1.csv', 'row': 17, 'Review_Date': '27 February 2016', 'Review_Title': ' The man who kills the Boogeyman\\n', 'Review_Url': '/review/rw3422991/?ref_=tt_urv', 'Author': 'Horst_In_Translation', 'Rating': 8, 'Movie_Title': 'John Wick 1', 'last_accessed_at': '2024-09-28T09:20:20.837139', '_id': 'e58c5fdd6169478493cdb5840aa6cf65', '_collection_name': 'JohnWick'}, page_content=': 17\\nReview: There are actually quite a handful reasons why \"John Wick\" could have become a failure. The two directors have never made a film before and almost exclusively worked in the stunt department so far. The writer is not exactly experienced either. Lead actor Keanu Reeves usually scores more through boyish charm than through realistic portrayal of gritty badass characters. And the genre of crime action thrillers rarely delivers in terms of real significance. Still it became a very good film. The main reason for that is probably that it does not attempt to be anything of great cinematic value, does not try to teach groundbreaking stories on moral, loyalty or betrayal. Instead, Derek Kolstad\\'s script goes for a gutsy revenge thriller that is not even hurt by its occasional predictability.'), Document(metadata={'source': 'john_wick_2.csv', 'row': 16, 'Review_Date': '9 February 2017', 'Review_Title': ' Kick-ass, entertaining and relentless throughout. This is what every sequel should aspire to be.\\n', 'Review_Url': '/review/rw3636884/?ref_=tt_urv', 'Author': 'trublu215', 'Rating': 5, 'Movie_Title': 'John Wick 2', 'last_accessed_at': '2024-09-29T09:20:20.837299', '_id': 'ef94eefbbe5e47e696fd9228c1e40d48', '_collection_name': 'JohnWick'}, page_content=\": 16\\nReview: John Wick Chapter 2 pits Keanu Reeves' titular character against the mean and nefarious of the criminal underworld. Once again, Reeves proves that he is a force to be reckoned with in this ridiculous, over-the-top sequel that is every bit as fun as the original. These types of films are rarely known for their artistic value but John Wick: Chapter 2 sets the bar pretty high, not only in its action, but in it's set design and camera work. This is pure escapist entertainment and couldn't have come at a better time. Those wanting to take a break from watching the Oscar nominees, this film is exactly what you're looking for.\"), Document(metadata={'source': 'john_wick_2.csv', 'row': 8, 'Review_Date': '23 February 2020', 'Review_Title': ' Great\\n', 'Review_Url': '/review/rw5503709/?ref_=tt_urv', 'Author': 'MrHeraclius', 'Rating': 0, 'Movie_Title': 'John Wick 2', 'last_accessed_at': '2024-09-29T09:20:20.837293', '_id': '33ff4331e52c4404879577c8b1fa006f', '_collection_name': 'JohnWick'}, page_content=\": 8\\nReview: In this 2nd installment of John Wick, the stylish visual and hard core action returns twice the level of the first film. So prepare for another suspenseful and cliffhanging sequences flow from this action movie when you watch this. The story goes deeper and the action scenes were incredibly entertaining! The revenge theme was still part of the movie's plot but this time the focus is the personal backstab of Wick. Keanu Reeves delivers again a notable performance as a titular character. This film is what a sequel movie should be - justifying the connection to the predecessor movie that made it successful by expanding its story and maintaining the elements that made it a superb film. The ending of this film opened the possibility of many more franchise of this movie.\")]}\n",
            "What role does Iosef's uncle play in the plot of John Wick?\n",
            "{'response': AIMessage(content=\"Iosef's uncle plays a role in the plot of John Wick by initially having John Wick's car and accepting his offer of peace. Later on, crime lord Santino D'Antonio calls in his Marker, which leads to Wick facing deadly assassins and numerous killers.\", additional_kwargs={'refusal': None}, response_metadata={'token_usage': {'completion_tokens': 56, 'prompt_tokens': 3323, 'total_tokens': 3379, 'completion_tokens_details': {'reasoning_tokens': 0}}, 'model_name': 'gpt-3.5-turbo-0125', 'system_fingerprint': None, 'finish_reason': 'stop', 'logprobs': None}, id='run-28d28310-0221-4d2e-9700-b54f7af32fda-0', usage_metadata={'input_tokens': 3323, 'output_tokens': 56, 'total_tokens': 3379}), 'context': [Document(metadata={'source': 'john_wick_2.csv', 'row': 5, 'Review_Date': '7 October 2017', 'Review_Title': ' more Gun Fu\\n', 'Review_Url': '/review/rw3825224/?ref_=tt_urv', 'Author': 'SnoopyStyle', 'Rating': 6, 'Movie_Title': 'John Wick 2', 'last_accessed_at': '2024-09-29T09:20:20.837291', '_id': '4306858d7dac4528af14d88bad62b920', '_collection_name': 'JohnWick'}, page_content=\": 5\\nReview: Iosef's uncle still has John Wick's car. Wick comes after it and the uncle accepts his offer of peace. He hopes to return to his peaceful retirement but crime lord Santino D'Antonio calls in his Marker. He faces deadly assassins, numerous killers, and countless thugs as Santino uses him to gain power even offering a $7 million contract.\"), Document(metadata={'source': 'john_wick_2.csv', 'row': 20, 'Review_Date': '28 May 2017', 'Review_Title': ' A New Franchise is Born\\n', 'Review_Url': '/review/rw3718180/?ref_=tt_urv', 'Author': 'claudio_carvalho', 'Rating': 8, 'Movie_Title': 'John Wick 2', 'last_accessed_at': '2024-09-29T09:20:20.837301', '_id': 'db8935d5944b4980bb1890a827281087', '_collection_name': 'JohnWick'}, page_content=\": 20\\nReview: After resolving his issues with the Russian mafia, John Wick (Keanu Reeves) returns home. But soon the mobster Santino D'Antonio (Riccardo Scamarcio) visits him to show Wick's marker and tells that he needs to help. John Wicks refuses since he is retired and Santino blows-up his house. John Wick meets the owner of the Continental hotel in New York City, Winston (Ian McShane), and he tells that Wick cannot violate the Mafia rules and shall honor the marker. Santino asks John Wick to kill his sister Gianna D'Antonio (Claudia Gerini) in Rome so that he can sit on the High Table of the criminal organizations. When John Wicks accomplishes his assignment, Santino puts a seven-million dollar contract on him attracting professional killers from everywhere. But Wick promises to kill Santino that is not protected by his marker anymore.\"), Document(metadata={'source': 'john_wick_1.csv', 'row': 18, 'Review_Date': '10 September 2019', 'Review_Title': ' Probably NOT a film to watch with your kids or mother.\\n', 'Review_Url': '/review/rw5112990/?ref_=tt_urv', 'Author': 'planktonrules', 'Rating': 7, 'Movie_Title': 'John Wick 1', 'last_accessed_at': '2024-09-28T09:20:20.837139', '_id': 'aed5e9fdae4c4868a54843e705c4bbf0', '_collection_name': 'JohnWick'}, page_content=\": 18\\nReview: When the story begins, John (Keanu Reeves) has just lost his wife. After her death, he's a bit lost but tries to rebuild his life. One day, he's getting gas and a young Russian-American punk notices Wick's classic car...and tries to buy it off him. But Wick isn't interested and declines. Soon, the punk arrives at Wick's home with some goons where they surprise him--beating him senseless, destroying his stuff, killing his dog and stealing his car! This is when you then learn that Wick is a super-assassin....and the punk chose the wrong guy to attack. The jerk's father is a big-time Russian mobster....and it's a contest to see who will win...the mobster and his gang or Wick on his own. Considering there are (so far) two MORE John Wick films, it pretty much seems certain who will win this battle.\"), Document(metadata={'source': 'john_wick_2.csv', 'row': 19, 'Review_Date': '29 November 2020', 'Review_Title': ' John Wick Kills A Lot Of People\\n', 'Review_Url': '/review/rw6320115/?ref_=tt_urv', 'Author': 'boblipton', 'Rating': 5, 'Movie_Title': 'John Wick 2', 'last_accessed_at': '2024-09-29T09:20:20.837301', '_id': 'd88498fdc2774199bd3aed5c20658bd8', '_collection_name': 'JohnWick'}, page_content=\": 19\\nReview: If you've seen the first John Wick movie, you know that Keanu Reeves is John Wick, a retired assassin who comes out of retirement when someone kills his dog. In this one, which begins a week later, matters are still reverberating, and some one has stolen his car, which calls for a lot of carnage. That settled, John is called on to pay off an old debt by helping Ian McShane take over the Assassin's Guild by flying around to Italy, Canada and Manhattan and killing what seems like hundreds of assassins.\"), Document(metadata={'source': 'john_wick_3.csv', 'row': 6, 'Review_Date': '7 February 2020', 'Review_Title': ' More of the same. Yawn!\\n', 'Review_Url': '/review/rw5466367/?ref_=tt_urv', 'Author': 'BA_Harrison', 'Rating': 4, 'Movie_Title': 'John Wick 3', 'last_accessed_at': '2024-09-30T09:20:20.837441', '_id': '6dbc333bf18c4c4c91abeef4934628d2', '_collection_name': 'JohnWick'}, page_content=\": 6\\nReview: Assassin John Wick is referred to as Baba Yaga in this third chapter, suggesting that he is, in fact, a supernatural being; his ability to evade death, appear and disappear like a ninja from a Godfrey Ho film, and move with lightning fast reflexes despite being in his mid-fifties confirms this fact, in my opinion. Unfortunately, Wick's invincibility means that the many action scenes in Parabellum are largely devoid of excitement, the only outcome being that Wick is still alive and all of his enemies are dead.\"), Document(metadata={'source': 'john_wick_1.csv', 'row': 5, 'Review_Date': '23 March 2023', 'Review_Title': ' Violent and gripping story with plenty of unstopped action , shootouts and breathtaking fights\\n', 'Review_Url': '/review/rw8945545/?ref_=tt_urv', 'Author': 'ma-cortes', 'Rating': 7, 'Movie_Title': 'John Wick 1', 'last_accessed_at': '2024-09-28T09:20:20.837128', '_id': '61c6fa160e5841d49f5a4584d8a7299d', '_collection_name': 'JohnWick'}, page_content=\": 5\\nReview: Ultra-violent first entry with lots of killings, thrills , noisy action , suspense , and crossfire . In this original John Wick (2014) , an ex-hit-man comes out of retirement to track down the gangsters that killed his dog and took everything from him . With the untimely death of his beloved wife still bitter in his mouth he seeks for vengeance . But when an arrogant Russian mob prince and hoodlums steal his car and kill his dog , they are fully aware of his lethal capacity. The Bogeyman will find himself dragged into an impossible task as every killer in the business dreams of cornering the legendary Wick who now has an enormous price on his head . In this first installment John Wick , blind with revenge, and for his salvation John will immediately unleash a carefully orchestrated maelstrom of destruction against those attempt to chase him and with a price tag on his head, as he is the target of hit men : an army of bounty-hunting killers on his trail and a murderer woman everywhere . The legendary hitman will be forced to unearth his meticulously concealed identity and to carry out a relentless vendetta . Now, only blood can quench the boogeyman's thirst for retribution . Don't Set Him Off! . John Wick isn't the Boogeyman... He's the guy you send to kill the doomed Boogeyman. Revenge is all he has left. You want peace, prepare for war . Don't Hunt What You Can't Kill. Tick Tock, Mr. Wick. Everyone Is Waiting. For John Wick . Every Action Has Consequences. This Friday, Wick is Back . Its the World Vs. Wick. Every Action Has Consequences.\"), Document(metadata={'source': 'john_wick_1.csv', 'row': 0, 'Review_Date': '6 May 2015', 'Review_Title': ' Kinetic, concise, and stylish; John Wick kicks ass.\\n', 'Review_Url': '/review/rw3233896/?ref_=tt_urv', 'Author': 'lnvicta', 'Rating': 8, 'Movie_Title': 'John Wick 1', 'last_accessed_at': '2024-09-28T09:20:20.837118', '_id': '1368a0c0b1434949a40d1885b08b2851', '_collection_name': 'JohnWick'}, page_content=\": 0\\nReview: The best way I can describe John Wick is to picture Taken but instead of Liam Neeson it's Keanu Reeves and instead of his daughter it's his dog. That's essentially the plot of the movie. John Wick (Reeves) is out to seek revenge on the people who took something he loved from him. It's a beautifully simple premise for an action movie - when action movies get convoluted, they get bad i.e. A Good Day to Die Hard. John Wick gives the viewers what they want: Awesome action, stylish stunts, kinetic chaos, and a relatable hero to tie it all together. John Wick succeeds in its simplicity.\"), Document(metadata={'source': 'john_wick_1.csv', 'row': 10, 'Review_Date': '22 November 2014', 'Review_Title': ' Most Excellent\\n', 'Review_Url': '/review/rw3128980/?ref_=tt_urv', 'Author': 'utgard14', 'Rating': 7, 'Movie_Title': 'John Wick 1', 'last_accessed_at': '2024-09-28T09:20:20.837133', '_id': '5abf4af088b04560835bcd293fa35a74', '_collection_name': 'JohnWick'}, page_content=\": 10\\nReview: Wow what a great surprise this was. I was told by a friend this was good but it's been awhile since I liked a Keanu movie so I was hesitant to try it. Retired hit-man John Wick (Keanu Reeves) loses his wife to cancer. After her funeral he receives a puppy she left him. A few days later some thugs, led by the son of a Russian gangster John used to work for, break into John's house. They beat him up, take the keys to his beloved car, and kill the puppy. They did this not knowing who he was; they just wanted the car. Now John Wick is out for revenge and the Russian gangster is trying to save his son's life by sending killers after John.\"), Document(metadata={'source': 'john_wick_2.csv', 'row': 17, 'Review_Date': '18 March 2018', 'Review_Title': ' Even worse than the first movie\\n', 'Review_Url': '/review/rw4095490/?ref_=tt_urv', 'Author': 'grantss', 'Rating': 2, 'Movie_Title': 'John Wick 2', 'last_accessed_at': '2024-09-29T09:20:20.837299', '_id': 'ded0316da16040f5927183addb746b7c', '_collection_name': 'JohnWick'}, page_content=': 17\\nReview: Picking up where the first movie left off, John Wick still wants his car back. Also, he now discovers that there is a bounty on his head. Rejoining his former profession, he heads to Rome to complete an assassination assignment.'), Document(metadata={'source': 'john_wick_1.csv', 'row': 20, 'Review_Date': '22 October 2014', 'Review_Title': ' Smoothest action film to come around in a long time\\n', 'Review_Url': '/review/rw3109271/?ref_=tt_urv', 'Author': 'IceSkateUpHill', 'Rating': 10, 'Movie_Title': 'John Wick 1', 'last_accessed_at': '2024-09-28T09:20:20.837141', '_id': '780d41c4f5364fd6b15651dfd440eba3', '_collection_name': 'JohnWick'}, page_content=\": 20\\nReview: John Wick is something special. It takes as much time setting up elaborate action sequences as it does the world with which it all takes place in. And what a world it is. It reminds me of Millers Crossing and it is cooler than any other recent attempt at noir. We are shown a criminal underworld where, if you are connected, many powerful people know who you are and show you respect. John Wick was connected but he got out. He is the rare killer who has found peace, and he is grateful for that peace. Some young kids steal that from him and he does what he does best, he wages a one man war against the Russian Mafia. It might sound like the film takes quite a leap but it all makes sense. The motives of John and the people who get in the way of his bullets are all very clear, even if it does come across as rather simple. That's the plot at it's most basic. Then there's the action. The film is directed by Reeve's stuntman from The Matrix, so this guy knows action. There are sequences that flow so smoothly it puts other action films and their quick cuts to shame. Keaunu moves so fluidly throughout the film and comes across as such a natural that the only disappointment is that we have not seen him like this before. Along the way are plenty of character actors, fans of The Matrix and The Wire will recognize a few people then there are more obvious ones like Ian McShane and Willem Dafoe. Everyone seems to be having a good time. That is another plus for this movie. It get's dark at times but overall it is quite fun, not very chipper, but fun. I cannot recommend this movie enough. I believe it is a must see for action fans and for anyone looking for something a bit different from the usual fare.\")]}\n",
            "How does John Wick: Chapter 3 - Parabellum explore the theme of consequences?\n",
            "{'response': AIMessage(content=\"In John Wick: Chapter 3 - Parabellum, the theme of consequences is explored by dealing with the fallout of John's actions at the end of the previous film and sending him on a larger journey of violence. The movie continues to delve into the world of assassination and delivers clean action sequences that reflect the consequences of John's actions.\", additional_kwargs={'refusal': None}, response_metadata={'token_usage': {'completion_tokens': 69, 'prompt_tokens': 3057, 'total_tokens': 3126, 'completion_tokens_details': {'reasoning_tokens': 0}}, 'model_name': 'gpt-3.5-turbo-0125', 'system_fingerprint': None, 'finish_reason': 'stop', 'logprobs': None}, id='run-da0eb0a0-6da0-4665-a91f-21d980658dba-0', usage_metadata={'input_tokens': 3057, 'output_tokens': 69, 'total_tokens': 3126}), 'context': [Document(metadata={'source': 'john_wick_3.csv', 'row': 24, 'Review_Date': '17 May 2019', 'Review_Title': ' Makes John Wick a superb trilogy\\n', 'Review_Url': '/review/rw4860603/?ref_=tt_urv', 'Author': 'masonsaul', 'Rating': 10, 'Movie_Title': 'John Wick 3', 'last_accessed_at': '2024-09-30T09:20:20.837452', '_id': '8d9efbac2855404caf0e816029f1b149', '_collection_name': 'JohnWick'}, page_content=\": 24\\nReview: John Wick: Chapter 3 - Parabellum is quite literally about consequences, dealing with the fallout of John's actions at the end of the previous film and sending him on an even bigger odyssey of violence that continues to explore this world of assassination and deliver beautifully clean action sequences.\"), Document(metadata={'source': 'john_wick_3.csv', 'row': 0, 'Review_Date': '22 September 2019', 'Review_Title': ' Enjoyably choreographed, but the lack of consequence combined with the global scale robs it of urgency and means it outstays its welcome a bit\\n', 'Review_Url': '/review/rw5136960/?ref_=tt_urv', 'Author': 'bob the moo', 'Rating': 0, 'Movie_Title': 'John Wick 3', 'last_accessed_at': '2024-09-30T09:20:20.837436', '_id': 'd9530c91c8054288a4322e094acc11f0', '_collection_name': 'JohnWick'}, page_content=': 0\\nReview: It is 5 years since the first John Wick film - one that took me by surprise by how silly it was as a narrative, but yet how well it delivered action sequences. The second film was only 2 years ago, and it raised the stakes and went from a man seeking revenge on another group of people, into one where the world was filled with assassins, popping up from everywhere all the time. I remember ending that film feeling like it had gone too far but that the third would probably do more of that. True enough, Parabellum (\"prepare for war\") sees the whole world filled with assassins, and a huge administrative system around them - but yet the whole lot of them can\\'t seem to cause John Wick too much trouble. As with the first film, this expands the world more than it can bear, and although it looks cool at times, the world makes no sense whatsoever and it hurts the film the more it relies on it (which it does as it expands it).'), Document(metadata={'source': 'john_wick_3.csv', 'row': 13, 'Review_Date': '15 May 2019', 'Review_Title': ' Pure, delirious joy in the form of yet another exhilarating thriller\\n', 'Review_Url': '/review/rw4855261/?ref_=tt_urv', 'Author': 'themadmovieman', 'Rating': 8, 'Movie_Title': 'John Wick 3', 'last_accessed_at': '2024-09-30T09:20:20.837445', '_id': 'cff870dc026d410aa9dff4288bb235c0', '_collection_name': 'JohnWick'}, page_content=\": 13\\nReview: Following on from two deliriously entertaining, visually gorgeous and blissfully simplistic thrillers, John Wick: Chapter 3 - Parabellum keeps up the franchise's unique appeal in stunning fashion. Complete with electrifying action, beautiful cinematography, a pulsating score and a great sense of humour, the film is pretty much as purely joyful as action thrillers get, and proves two hours of brilliant entertainment.\"), Document(metadata={'source': 'john_wick_4.csv', 'row': 2, 'Review_Date': '25 March 2023', 'Review_Title': ' It got on my wick.\\n', 'Review_Url': '/review/rw8950606/?ref_=tt_urv', 'Author': 'BA_Harrison', 'Rating': 4, 'Movie_Title': 'John Wick 4', 'last_accessed_at': '2024-10-01T09:20:20.837583', '_id': '941d820b68874776bf1b761a2cabc314', '_collection_name': 'JohnWick'}, page_content=': 2\\nReview: The first three John Wick films came in fairly quick succession, with only five years between the first and third chapters, each film trying to top the one before in terms of wild set pieces. For me, it all became a bit too much, the action rapidly becoming too frenetic and over-the-top. By Parabellum (part three), I had had enough.'), Document(metadata={'source': 'john_wick_4.csv', 'row': 19, 'Review_Date': '17 March 2023', 'Review_Title': ' The Best John Wick Sequel\\n', 'Review_Url': '/review/rw8935117/?ref_=tt_urv', 'Author': 'tkdlifemagazine', 'Rating': 9, 'Movie_Title': 'John Wick 4', 'last_accessed_at': '2024-10-01T09:20:20.837593', '_id': '4b280d54cfa845d0b57b2ed89f66cb7e', '_collection_name': 'JohnWick'}, page_content=\": 19\\nReview: John Wick: Chapter 4 picks up where Chapter 3: Parabellum left off. As has been the tradition in the sequels to this beloved martial arts action franchise the action starts from the very inception of the film's opening, and lasts until the curtain falls. JW4 is no exception to that rule. What it does do is improve on the prior installment, and solidify Keanu Reeves as the greatest martial arts action star of all time. If you don't accept that notion, then you must accept the fact that it solidifies Reeves and Director, Chad Stahelski, as the greatest martial arts action pairing of modern times.\"), Document(metadata={'source': 'john_wick_2.csv', 'row': 4, 'Review_Date': '13 February 2017', 'Review_Title': ' The rare sequel that is better than the original movie\\n', 'Review_Url': '/review/rw3639244/?ref_=tt_urv', 'Author': 'paul-allaer', 'Rating': 8, 'Movie_Title': 'John Wick 2', 'last_accessed_at': '2024-09-29T09:20:20.837290', '_id': 'be1cbf9ce1e44f5aa543bc0c8c3850e0', '_collection_name': 'JohnWick'}, page_content=': 4\\nReview: \"John Wick: Chapter 2\" (2017 release; 122 min.) continues the \\'adventures\\' of former (?) hit man John Wick. As the movie opens, we are immediately thrown in the middle of a car vs. bike chase, and next thing we know, we find our man retrieving his beloved Mustang from a chop shop in NYC, but not without cars flying about, and dozens of dead or wounded bodies. And that\\'s all in the pre-opening credits! As the story unfolds, Wick, who wants \"out, is nevertheless forced back \"in\" when an Italian baddie calls in a favor and Wick has no choice but to accept. To tell you more of the plot would spoil your viewing experience, you\\'ll just have to see for yourself how it all plays out.'), Document(metadata={'source': 'john_wick_1.csv', 'row': 5, 'Review_Date': '23 March 2023', 'Review_Title': ' Violent and gripping story with plenty of unstopped action , shootouts and breathtaking fights\\n', 'Review_Url': '/review/rw8945545/?ref_=tt_urv', 'Author': 'ma-cortes', 'Rating': 7, 'Movie_Title': 'John Wick 1', 'last_accessed_at': '2024-09-28T09:20:20.837128', '_id': '61c6fa160e5841d49f5a4584d8a7299d', '_collection_name': 'JohnWick'}, page_content=\": 5\\nReview: Ultra-violent first entry with lots of killings, thrills , noisy action , suspense , and crossfire . In this original John Wick (2014) , an ex-hit-man comes out of retirement to track down the gangsters that killed his dog and took everything from him . With the untimely death of his beloved wife still bitter in his mouth he seeks for vengeance . But when an arrogant Russian mob prince and hoodlums steal his car and kill his dog , they are fully aware of his lethal capacity. The Bogeyman will find himself dragged into an impossible task as every killer in the business dreams of cornering the legendary Wick who now has an enormous price on his head . In this first installment John Wick , blind with revenge, and for his salvation John will immediately unleash a carefully orchestrated maelstrom of destruction against those attempt to chase him and with a price tag on his head, as he is the target of hit men : an army of bounty-hunting killers on his trail and a murderer woman everywhere . The legendary hitman will be forced to unearth his meticulously concealed identity and to carry out a relentless vendetta . Now, only blood can quench the boogeyman's thirst for retribution . Don't Set Him Off! . John Wick isn't the Boogeyman... He's the guy you send to kill the doomed Boogeyman. Revenge is all he has left. You want peace, prepare for war . Don't Hunt What You Can't Kill. Tick Tock, Mr. Wick. Everyone Is Waiting. For John Wick . Every Action Has Consequences. This Friday, Wick is Back . Its the World Vs. Wick. Every Action Has Consequences.\"), Document(metadata={'source': 'john_wick_2.csv', 'row': 8, 'Review_Date': '23 February 2020', 'Review_Title': ' Great\\n', 'Review_Url': '/review/rw5503709/?ref_=tt_urv', 'Author': 'MrHeraclius', 'Rating': 0, 'Movie_Title': 'John Wick 2', 'last_accessed_at': '2024-09-29T09:20:20.837293', '_id': '33ff4331e52c4404879577c8b1fa006f', '_collection_name': 'JohnWick'}, page_content=\": 8\\nReview: In this 2nd installment of John Wick, the stylish visual and hard core action returns twice the level of the first film. So prepare for another suspenseful and cliffhanging sequences flow from this action movie when you watch this. The story goes deeper and the action scenes were incredibly entertaining! The revenge theme was still part of the movie's plot but this time the focus is the personal backstab of Wick. Keanu Reeves delivers again a notable performance as a titular character. This film is what a sequel movie should be - justifying the connection to the predecessor movie that made it successful by expanding its story and maintaining the elements that made it a superb film. The ending of this film opened the possibility of many more franchise of this movie.\"), Document(metadata={'source': 'john_wick_3.csv', 'row': 6, 'Review_Date': '7 February 2020', 'Review_Title': ' More of the same. Yawn!\\n', 'Review_Url': '/review/rw5466367/?ref_=tt_urv', 'Author': 'BA_Harrison', 'Rating': 4, 'Movie_Title': 'John Wick 3', 'last_accessed_at': '2024-09-30T09:20:20.837441', '_id': '6dbc333bf18c4c4c91abeef4934628d2', '_collection_name': 'JohnWick'}, page_content=\": 6\\nReview: Assassin John Wick is referred to as Baba Yaga in this third chapter, suggesting that he is, in fact, a supernatural being; his ability to evade death, appear and disappear like a ninja from a Godfrey Ho film, and move with lightning fast reflexes despite being in his mid-fifties confirms this fact, in my opinion. Unfortunately, Wick's invincibility means that the many action scenes in Parabellum are largely devoid of excitement, the only outcome being that Wick is still alive and all of his enemies are dead.\"), Document(metadata={'source': 'john_wick_1.csv', 'row': 3, 'Review_Date': '28 September 2018', 'Review_Title': ' Keanu gets pissed and shoots people in the face for 101 minutes*\\n', 'Review_Url': '/review/rw4366368/?ref_=tt_urv', 'Author': 'Kitsfi', 'Rating': 8, 'Movie_Title': 'John Wick 1', 'last_accessed_at': '2024-09-28T09:20:20.837127', '_id': '156478ef15ef463cae8b3148a5941991', '_collection_name': 'JohnWick'}, page_content=': 3\\nReview: John wick has a very simple revenge story. It can be summarized as \"Keanu gets angry and shoots bad guys\" but what makes it special? Directed by Chad Stahelski who\\'s a stunt specialist boy does it show because the main selling point in the film are some real virtuoso action sequences, well made choreographies. Unlike today\\'s action movies, it doesn\\'t use quick-cuts or shaky cameras actually see what\\'s going on.')]}\n",
            "What role does the Continental hotel play in the plot of John Wick: Chapter 2?\n",
            "{'response': AIMessage(content='The Continental hotel plays a significant role in the plot of John Wick: Chapter 2. It is a safe haven for assassins and a place where certain rules must be honored, such as not conducting business on the premises. The owner of the hotel, Winston, advises John Wick on the rules he must follow and the consequences of violating them.', additional_kwargs={'refusal': None}, response_metadata={'token_usage': {'completion_tokens': 69, 'prompt_tokens': 3232, 'total_tokens': 3301, 'completion_tokens_details': {'reasoning_tokens': 0}}, 'model_name': 'gpt-3.5-turbo-0125', 'system_fingerprint': None, 'finish_reason': 'stop', 'logprobs': None}, id='run-c08b34ec-023e-484d-9304-abba7c883d15-0', usage_metadata={'input_tokens': 3232, 'output_tokens': 69, 'total_tokens': 3301}), 'context': [Document(metadata={'source': 'john_wick_2.csv', 'row': 20, 'Review_Date': '28 May 2017', 'Review_Title': ' A New Franchise is Born\\n', 'Review_Url': '/review/rw3718180/?ref_=tt_urv', 'Author': 'claudio_carvalho', 'Rating': 8, 'Movie_Title': 'John Wick 2', 'last_accessed_at': '2024-09-29T09:20:20.837301', '_id': 'db8935d5944b4980bb1890a827281087', '_collection_name': 'JohnWick'}, page_content=\": 20\\nReview: After resolving his issues with the Russian mafia, John Wick (Keanu Reeves) returns home. But soon the mobster Santino D'Antonio (Riccardo Scamarcio) visits him to show Wick's marker and tells that he needs to help. John Wicks refuses since he is retired and Santino blows-up his house. John Wick meets the owner of the Continental hotel in New York City, Winston (Ian McShane), and he tells that Wick cannot violate the Mafia rules and shall honor the marker. Santino asks John Wick to kill his sister Gianna D'Antonio (Claudia Gerini) in Rome so that he can sit on the High Table of the criminal organizations. When John Wicks accomplishes his assignment, Santino puts a seven-million dollar contract on him attracting professional killers from everywhere. But Wick promises to kill Santino that is not protected by his marker anymore.\"), Document(metadata={'source': 'john_wick_4.csv', 'row': 1, 'Review_Date': '30 March 2023', 'Review_Title': ' There is such a thing as too much\\n', 'Review_Url': '/review/rw8960544/?ref_=tt_urv', 'Author': 'neil-476', 'Rating': 5, 'Movie_Title': 'John Wick 4', 'last_accessed_at': '2024-10-01T09:20:20.837582', '_id': '8524c3e8a9cf4c5fa3d2161130c7bffb', '_collection_name': 'JohnWick'}, page_content=': 1\\nReview: The Table, the international crminal brotherhood which has condemned John Wick empowers The Marquis to deal with him (and the Manager of the New York Continentale Hotel). But maybe, just maybe, there is a way out.'), Document(metadata={'source': 'john_wick_2.csv', 'row': 4, 'Review_Date': '13 February 2017', 'Review_Title': ' The rare sequel that is better than the original movie\\n', 'Review_Url': '/review/rw3639244/?ref_=tt_urv', 'Author': 'paul-allaer', 'Rating': 8, 'Movie_Title': 'John Wick 2', 'last_accessed_at': '2024-09-29T09:20:20.837290', '_id': 'be1cbf9ce1e44f5aa543bc0c8c3850e0', '_collection_name': 'JohnWick'}, page_content=': 4\\nReview: \"John Wick: Chapter 2\" (2017 release; 122 min.) continues the \\'adventures\\' of former (?) hit man John Wick. As the movie opens, we are immediately thrown in the middle of a car vs. bike chase, and next thing we know, we find our man retrieving his beloved Mustang from a chop shop in NYC, but not without cars flying about, and dozens of dead or wounded bodies. And that\\'s all in the pre-opening credits! As the story unfolds, Wick, who wants \"out, is nevertheless forced back \"in\" when an Italian baddie calls in a favor and Wick has no choice but to accept. To tell you more of the plot would spoil your viewing experience, you\\'ll just have to see for yourself how it all plays out.'), Document(metadata={'source': 'john_wick_2.csv', 'row': 19, 'Review_Date': '29 November 2020', 'Review_Title': ' John Wick Kills A Lot Of People\\n', 'Review_Url': '/review/rw6320115/?ref_=tt_urv', 'Author': 'boblipton', 'Rating': 5, 'Movie_Title': 'John Wick 2', 'last_accessed_at': '2024-09-29T09:20:20.837301', '_id': 'd88498fdc2774199bd3aed5c20658bd8', '_collection_name': 'JohnWick'}, page_content=\": 19\\nReview: If you've seen the first John Wick movie, you know that Keanu Reeves is John Wick, a retired assassin who comes out of retirement when someone kills his dog. In this one, which begins a week later, matters are still reverberating, and some one has stolen his car, which calls for a lot of carnage. That settled, John is called on to pay off an old debt by helping Ian McShane take over the Assassin's Guild by flying around to Italy, Canada and Manhattan and killing what seems like hundreds of assassins.\"), Document(metadata={'source': 'john_wick_2.csv', 'row': 16, 'Review_Date': '9 February 2017', 'Review_Title': ' Kick-ass, entertaining and relentless throughout. This is what every sequel should aspire to be.\\n', 'Review_Url': '/review/rw3636884/?ref_=tt_urv', 'Author': 'trublu215', 'Rating': 5, 'Movie_Title': 'John Wick 2', 'last_accessed_at': '2024-09-29T09:20:20.837299', '_id': 'ef94eefbbe5e47e696fd9228c1e40d48', '_collection_name': 'JohnWick'}, page_content=\": 16\\nReview: John Wick Chapter 2 pits Keanu Reeves' titular character against the mean and nefarious of the criminal underworld. Once again, Reeves proves that he is a force to be reckoned with in this ridiculous, over-the-top sequel that is every bit as fun as the original. These types of films are rarely known for their artistic value but John Wick: Chapter 2 sets the bar pretty high, not only in its action, but in it's set design and camera work. This is pure escapist entertainment and couldn't have come at a better time. Those wanting to take a break from watching the Oscar nominees, this film is exactly what you're looking for.\"), Document(metadata={'source': 'john_wick_1.csv', 'row': 18, 'Review_Date': '10 September 2019', 'Review_Title': ' Probably NOT a film to watch with your kids or mother.\\n', 'Review_Url': '/review/rw5112990/?ref_=tt_urv', 'Author': 'planktonrules', 'Rating': 7, 'Movie_Title': 'John Wick 1', 'last_accessed_at': '2024-09-28T09:20:20.837139', '_id': 'aed5e9fdae4c4868a54843e705c4bbf0', '_collection_name': 'JohnWick'}, page_content=\": 18\\nReview: When the story begins, John (Keanu Reeves) has just lost his wife. After her death, he's a bit lost but tries to rebuild his life. One day, he's getting gas and a young Russian-American punk notices Wick's classic car...and tries to buy it off him. But Wick isn't interested and declines. Soon, the punk arrives at Wick's home with some goons where they surprise him--beating him senseless, destroying his stuff, killing his dog and stealing his car! This is when you then learn that Wick is a super-assassin....and the punk chose the wrong guy to attack. The jerk's father is a big-time Russian mobster....and it's a contest to see who will win...the mobster and his gang or Wick on his own. Considering there are (so far) two MORE John Wick films, it pretty much seems certain who will win this battle.\"), Document(metadata={'source': 'john_wick_2.csv', 'row': 8, 'Review_Date': '23 February 2020', 'Review_Title': ' Great\\n', 'Review_Url': '/review/rw5503709/?ref_=tt_urv', 'Author': 'MrHeraclius', 'Rating': 0, 'Movie_Title': 'John Wick 2', 'last_accessed_at': '2024-09-29T09:20:20.837293', '_id': '33ff4331e52c4404879577c8b1fa006f', '_collection_name': 'JohnWick'}, page_content=\": 8\\nReview: In this 2nd installment of John Wick, the stylish visual and hard core action returns twice the level of the first film. So prepare for another suspenseful and cliffhanging sequences flow from this action movie when you watch this. The story goes deeper and the action scenes were incredibly entertaining! The revenge theme was still part of the movie's plot but this time the focus is the personal backstab of Wick. Keanu Reeves delivers again a notable performance as a titular character. This film is what a sequel movie should be - justifying the connection to the predecessor movie that made it successful by expanding its story and maintaining the elements that made it a superb film. The ending of this film opened the possibility of many more franchise of this movie.\"), Document(metadata={'source': 'john_wick_2.csv', 'row': 9, 'Review_Date': '22 July 2017', 'Review_Title': ' A disappointing sequel for the most part\\n', 'Review_Url': '/review/rw3760991/?ref_=tt_urv', 'Author': 'Horst_In_Translation', 'Rating': 4, 'Movie_Title': 'John Wick 2', 'last_accessed_at': '2024-09-29T09:20:20.837294', '_id': '2a9defa01f3d400586fb3c07f7ae4294', '_collection_name': 'JohnWick'}, page_content=': 9\\nReview: \"John Wick: Chapter 2\" is an American movie from this year (2017). Experienced visual effects artist Stahelski and Kolstad returned from the very first Wick film to work on the script/direction here too, so the premise with regard to people working behind the camera is there. And in front of the camera we see familiar faces again, people that survived the film, like most of all Keanu Reeves playing the central character. This is a really long film at over 2 hours and at this runtime, it is considerably longer than the first. And there is a lot other stuff different compared to the original. Most has to do with the fun component. I think the first film was a great fun watch from start to finish while offering emotion nonetheless and also delivering in the crime and drama genres. And action too, but I don\\'t care too much about that. This genre is also basically the only one where this new movie delivers as the first 30 minutes are truly packed with action. It gets less afterward, but there is no denying that it was still all about the action and nothing else.'), Document(metadata={'source': 'john_wick_2.csv', 'row': 0, 'Review_Date': '14 September 2018', 'Review_Title': ' \"No one gets out and comes back without repercussions.\"\\n', 'Review_Url': '/review/rw4338449/?ref_=tt_urv', 'Author': 'classicsoncall', 'Rating': 7, 'Movie_Title': 'John Wick 2', 'last_accessed_at': '2024-09-29T09:20:20.837287', '_id': '627f9ab4e4b64c2db7d199aa7e56a517', '_collection_name': 'JohnWick'}, page_content=': 0\\nReview: No doubt about it, \"John Wick: Chapter 2\" is a slick action thriller, but man, oh man, how can any one person absorb that kind of punishment? John (Keanu Reeves) gets shot, stabbed and hit by cars multiple times and postures a limp now and then to indicate he might have gotten just a little bit hurt. Besides that, he almost never makes a wrong move when hunted by dozens of assassins all at the same time. Okay, I get it, Reeves is the star of the picture and has to come out on top, but I\\'d like a little more credibility put into these kinds of stories. But I guess that\\'s the whole point, suspend your disbelief for a couple of hours and just go with all of the over the top action the film makers can put together.'), Document(metadata={'source': 'john_wick_3.csv', 'row': 0, 'Review_Date': '22 September 2019', 'Review_Title': ' Enjoyably choreographed, but the lack of consequence combined with the global scale robs it of urgency and means it outstays its welcome a bit\\n', 'Review_Url': '/review/rw5136960/?ref_=tt_urv', 'Author': 'bob the moo', 'Rating': 0, 'Movie_Title': 'John Wick 3', 'last_accessed_at': '2024-09-30T09:20:20.837436', '_id': 'd9530c91c8054288a4322e094acc11f0', '_collection_name': 'JohnWick'}, page_content=': 0\\nReview: It is 5 years since the first John Wick film - one that took me by surprise by how silly it was as a narrative, but yet how well it delivered action sequences. The second film was only 2 years ago, and it raised the stakes and went from a man seeking revenge on another group of people, into one where the world was filled with assassins, popping up from everywhere all the time. I remember ending that film feeling like it had gone too far but that the third would probably do more of that. True enough, Parabellum (\"prepare for war\") sees the whole world filled with assassins, and a huge administrative system around them - but yet the whole lot of them can\\'t seem to cause John Wick too much trouble. As with the first film, this expands the world more than it can bear, and although it looks cool at times, the world makes no sense whatsoever and it hurts the film the more it relies on it (which it does as it expands it).')]}\n",
            "What is the premise of the John Wick movie series?\n",
            "{'response': AIMessage(content=\"The premise of the John Wick movie series revolves around a retired hitman named John Wick seeking revenge on those who took something he loved from him. In the first movie, it was his dog that was killed, leading him on a path of vengeance against the perpetrators. Each subsequent movie in the series continues to explore John Wick's journey through action-packed sequences and intense confrontations.\", additional_kwargs={'refusal': None}, response_metadata={'token_usage': {'completion_tokens': 75, 'prompt_tokens': 3965, 'total_tokens': 4040, 'completion_tokens_details': {'reasoning_tokens': 0}}, 'model_name': 'gpt-3.5-turbo-0125', 'system_fingerprint': None, 'finish_reason': 'stop', 'logprobs': None}, id='run-f6784ca6-0791-41d4-97bd-f1e8d078d069-0', usage_metadata={'input_tokens': 3965, 'output_tokens': 75, 'total_tokens': 4040}), 'context': [Document(metadata={'source': 'john_wick_1.csv', 'row': 0, 'Review_Date': '6 May 2015', 'Review_Title': ' Kinetic, concise, and stylish; John Wick kicks ass.\\n', 'Review_Url': '/review/rw3233896/?ref_=tt_urv', 'Author': 'lnvicta', 'Rating': 8, 'Movie_Title': 'John Wick 1', 'last_accessed_at': '2024-09-28T09:20:20.837118', '_id': '1368a0c0b1434949a40d1885b08b2851', '_collection_name': 'JohnWick'}, page_content=\": 0\\nReview: The best way I can describe John Wick is to picture Taken but instead of Liam Neeson it's Keanu Reeves and instead of his daughter it's his dog. That's essentially the plot of the movie. John Wick (Reeves) is out to seek revenge on the people who took something he loved from him. It's a beautifully simple premise for an action movie - when action movies get convoluted, they get bad i.e. A Good Day to Die Hard. John Wick gives the viewers what they want: Awesome action, stylish stunts, kinetic chaos, and a relatable hero to tie it all together. John Wick succeeds in its simplicity.\"), Document(metadata={'source': 'john_wick_1.csv', 'row': 5, 'Review_Date': '23 March 2023', 'Review_Title': ' Violent and gripping story with plenty of unstopped action , shootouts and breathtaking fights\\n', 'Review_Url': '/review/rw8945545/?ref_=tt_urv', 'Author': 'ma-cortes', 'Rating': 7, 'Movie_Title': 'John Wick 1', 'last_accessed_at': '2024-09-28T09:20:20.837128', '_id': '61c6fa160e5841d49f5a4584d8a7299d', '_collection_name': 'JohnWick'}, page_content=\": 5\\nReview: Ultra-violent first entry with lots of killings, thrills , noisy action , suspense , and crossfire . In this original John Wick (2014) , an ex-hit-man comes out of retirement to track down the gangsters that killed his dog and took everything from him . With the untimely death of his beloved wife still bitter in his mouth he seeks for vengeance . But when an arrogant Russian mob prince and hoodlums steal his car and kill his dog , they are fully aware of his lethal capacity. The Bogeyman will find himself dragged into an impossible task as every killer in the business dreams of cornering the legendary Wick who now has an enormous price on his head . In this first installment John Wick , blind with revenge, and for his salvation John will immediately unleash a carefully orchestrated maelstrom of destruction against those attempt to chase him and with a price tag on his head, as he is the target of hit men : an army of bounty-hunting killers on his trail and a murderer woman everywhere . The legendary hitman will be forced to unearth his meticulously concealed identity and to carry out a relentless vendetta . Now, only blood can quench the boogeyman's thirst for retribution . Don't Set Him Off! . John Wick isn't the Boogeyman... He's the guy you send to kill the doomed Boogeyman. Revenge is all he has left. You want peace, prepare for war . Don't Hunt What You Can't Kill. Tick Tock, Mr. Wick. Everyone Is Waiting. For John Wick . Every Action Has Consequences. This Friday, Wick is Back . Its the World Vs. Wick. Every Action Has Consequences.\"), Document(metadata={'source': 'john_wick_2.csv', 'row': 19, 'Review_Date': '29 November 2020', 'Review_Title': ' John Wick Kills A Lot Of People\\n', 'Review_Url': '/review/rw6320115/?ref_=tt_urv', 'Author': 'boblipton', 'Rating': 5, 'Movie_Title': 'John Wick 2', 'last_accessed_at': '2024-09-29T09:20:20.837301', '_id': 'd88498fdc2774199bd3aed5c20658bd8', '_collection_name': 'JohnWick'}, page_content=\": 19\\nReview: If you've seen the first John Wick movie, you know that Keanu Reeves is John Wick, a retired assassin who comes out of retirement when someone kills his dog. In this one, which begins a week later, matters are still reverberating, and some one has stolen his car, which calls for a lot of carnage. That settled, John is called on to pay off an old debt by helping Ian McShane take over the Assassin's Guild by flying around to Italy, Canada and Manhattan and killing what seems like hundreds of assassins.\"), Document(metadata={'source': 'john_wick_1.csv', 'row': 18, 'Review_Date': '10 September 2019', 'Review_Title': ' Probably NOT a film to watch with your kids or mother.\\n', 'Review_Url': '/review/rw5112990/?ref_=tt_urv', 'Author': 'planktonrules', 'Rating': 7, 'Movie_Title': 'John Wick 1', 'last_accessed_at': '2024-09-28T09:20:20.837139', '_id': 'aed5e9fdae4c4868a54843e705c4bbf0', '_collection_name': 'JohnWick'}, page_content=\": 18\\nReview: When the story begins, John (Keanu Reeves) has just lost his wife. After her death, he's a bit lost but tries to rebuild his life. One day, he's getting gas and a young Russian-American punk notices Wick's classic car...and tries to buy it off him. But Wick isn't interested and declines. Soon, the punk arrives at Wick's home with some goons where they surprise him--beating him senseless, destroying his stuff, killing his dog and stealing his car! This is when you then learn that Wick is a super-assassin....and the punk chose the wrong guy to attack. The jerk's father is a big-time Russian mobster....and it's a contest to see who will win...the mobster and his gang or Wick on his own. Considering there are (so far) two MORE John Wick films, it pretty much seems certain who will win this battle.\"), Document(metadata={'source': 'john_wick_2.csv', 'row': 4, 'Review_Date': '13 February 2017', 'Review_Title': ' The rare sequel that is better than the original movie\\n', 'Review_Url': '/review/rw3639244/?ref_=tt_urv', 'Author': 'paul-allaer', 'Rating': 8, 'Movie_Title': 'John Wick 2', 'last_accessed_at': '2024-09-29T09:20:20.837290', '_id': 'be1cbf9ce1e44f5aa543bc0c8c3850e0', '_collection_name': 'JohnWick'}, page_content=': 4\\nReview: \"John Wick: Chapter 2\" (2017 release; 122 min.) continues the \\'adventures\\' of former (?) hit man John Wick. As the movie opens, we are immediately thrown in the middle of a car vs. bike chase, and next thing we know, we find our man retrieving his beloved Mustang from a chop shop in NYC, but not without cars flying about, and dozens of dead or wounded bodies. And that\\'s all in the pre-opening credits! As the story unfolds, Wick, who wants \"out, is nevertheless forced back \"in\" when an Italian baddie calls in a favor and Wick has no choice but to accept. To tell you more of the plot would spoil your viewing experience, you\\'ll just have to see for yourself how it all plays out.'), Document(metadata={'source': 'john_wick_2.csv', 'row': 20, 'Review_Date': '28 May 2017', 'Review_Title': ' A New Franchise is Born\\n', 'Review_Url': '/review/rw3718180/?ref_=tt_urv', 'Author': 'claudio_carvalho', 'Rating': 8, 'Movie_Title': 'John Wick 2', 'last_accessed_at': '2024-09-29T09:20:20.837301', '_id': 'db8935d5944b4980bb1890a827281087', '_collection_name': 'JohnWick'}, page_content=\": 20\\nReview: After resolving his issues with the Russian mafia, John Wick (Keanu Reeves) returns home. But soon the mobster Santino D'Antonio (Riccardo Scamarcio) visits him to show Wick's marker and tells that he needs to help. John Wicks refuses since he is retired and Santino blows-up his house. John Wick meets the owner of the Continental hotel in New York City, Winston (Ian McShane), and he tells that Wick cannot violate the Mafia rules and shall honor the marker. Santino asks John Wick to kill his sister Gianna D'Antonio (Claudia Gerini) in Rome so that he can sit on the High Table of the criminal organizations. When John Wicks accomplishes his assignment, Santino puts a seven-million dollar contract on him attracting professional killers from everywhere. But Wick promises to kill Santino that is not protected by his marker anymore.\"), Document(metadata={'source': 'john_wick_1.csv', 'row': 3, 'Review_Date': '28 September 2018', 'Review_Title': ' Keanu gets pissed and shoots people in the face for 101 minutes*\\n', 'Review_Url': '/review/rw4366368/?ref_=tt_urv', 'Author': 'Kitsfi', 'Rating': 8, 'Movie_Title': 'John Wick 1', 'last_accessed_at': '2024-09-28T09:20:20.837127', '_id': '156478ef15ef463cae8b3148a5941991', '_collection_name': 'JohnWick'}, page_content=': 3\\nReview: John wick has a very simple revenge story. It can be summarized as \"Keanu gets angry and shoots bad guys\" but what makes it special? Directed by Chad Stahelski who\\'s a stunt specialist boy does it show because the main selling point in the film are some real virtuoso action sequences, well made choreographies. Unlike today\\'s action movies, it doesn\\'t use quick-cuts or shaky cameras actually see what\\'s going on.'), Document(metadata={'source': 'john_wick_3.csv', 'row': 0, 'Review_Date': '22 September 2019', 'Review_Title': ' Enjoyably choreographed, but the lack of consequence combined with the global scale robs it of urgency and means it outstays its welcome a bit\\n', 'Review_Url': '/review/rw5136960/?ref_=tt_urv', 'Author': 'bob the moo', 'Rating': 0, 'Movie_Title': 'John Wick 3', 'last_accessed_at': '2024-09-30T09:20:20.837436', '_id': 'd9530c91c8054288a4322e094acc11f0', '_collection_name': 'JohnWick'}, page_content=': 0\\nReview: It is 5 years since the first John Wick film - one that took me by surprise by how silly it was as a narrative, but yet how well it delivered action sequences. The second film was only 2 years ago, and it raised the stakes and went from a man seeking revenge on another group of people, into one where the world was filled with assassins, popping up from everywhere all the time. I remember ending that film feeling like it had gone too far but that the third would probably do more of that. True enough, Parabellum (\"prepare for war\") sees the whole world filled with assassins, and a huge administrative system around them - but yet the whole lot of them can\\'t seem to cause John Wick too much trouble. As with the first film, this expands the world more than it can bear, and although it looks cool at times, the world makes no sense whatsoever and it hurts the film the more it relies on it (which it does as it expands it).'), Document(metadata={'source': 'john_wick_1.csv', 'row': 9, 'Review_Date': '20 October 2014', 'Review_Title': \" The coolest action film you'll see all year\\n\", 'Review_Url': '/review/rw3107759/?ref_=tt_urv', 'Author': 'trublu215', 'Rating': 9, 'Movie_Title': 'John Wick 1', 'last_accessed_at': '2024-09-28T09:20:20.837133', '_id': '73e00e211a4f42deb8409d12ca16e266', '_collection_name': 'JohnWick'}, page_content=\": 9\\nReview: At first glance, John Wick sounds like a terrible film on paper but with the slickness of Keanu Reeves' performance as the titular character and the sheer brilliance in its action sequences, this marks the best action film of the year and one of the absolute best in the past decade. Following a brutal home invasion that leaves his beloved dog murdered by thugs from his past, John Wick vows revenge on the ones who have taken what he loves most. Like I said, on paper, this seems like a direct-to-DVD slopfest starring John Cena but as a film with Keanu Reeves as the lead, it marks the very welcomed return for Reeves to the genre. John Wick is insanely fun, violently brutal and an overall romp especially for those disappointed by The Expendables 3. John Wick is propelled by Tarantino-esque dialog mixed with the swagger of action stars from the 70s. Reeves literally emulates cool in this film and does it with such confidence, that we don't even doubt the character...even when he kills countless bad guys with extreme force in some utterly ridiculous and implausible situations. We don't doubt it for a minute. This is EXACTLY what you want out of an action film. It is briskly paced, brilliantly shot and meticulously choreographed and keeps you wanting more and more. The supporting cast filled with the likes of John Legiuzamo, Ian McShane, and Willen Dafoe also keeps this film very interesting. These guys don't play good guys, hell, John Wick by traditional standards would be a bad guy in any other film. Every character is more ruthless than the next and pushes John Wick to be more ruthless than they are, creating a very cool dynamic between the character and the plot regarding the idea of how far is too far? However, don't expect some revelation from John Wick regarding the morality of bad and evil. This film wants you entertained and does so with brute force, it never lets up, not even for a second. One scene in particular that will have your blood pumping is a showdown between thugs and Wick in a nightclub. This action sequence remains the best in the film and will have you grasping your theater seat because of the sheer intensity of it. Overall, John Wick is slick, violent fun that turns into a remarkable, surprising film that will catch you off guard. It is THAT good. I highly recommend this film to action buffs especially but I'm sure those who just like a good movie will love it as well.\"), Document(metadata={'source': 'john_wick_1.csv', 'row': 20, 'Review_Date': '22 October 2014', 'Review_Title': ' Smoothest action film to come around in a long time\\n', 'Review_Url': '/review/rw3109271/?ref_=tt_urv', 'Author': 'IceSkateUpHill', 'Rating': 10, 'Movie_Title': 'John Wick 1', 'last_accessed_at': '2024-09-28T09:20:20.837141', '_id': '780d41c4f5364fd6b15651dfd440eba3', '_collection_name': 'JohnWick'}, page_content=\": 20\\nReview: John Wick is something special. It takes as much time setting up elaborate action sequences as it does the world with which it all takes place in. And what a world it is. It reminds me of Millers Crossing and it is cooler than any other recent attempt at noir. We are shown a criminal underworld where, if you are connected, many powerful people know who you are and show you respect. John Wick was connected but he got out. He is the rare killer who has found peace, and he is grateful for that peace. Some young kids steal that from him and he does what he does best, he wages a one man war against the Russian Mafia. It might sound like the film takes quite a leap but it all makes sense. The motives of John and the people who get in the way of his bullets are all very clear, even if it does come across as rather simple. That's the plot at it's most basic. Then there's the action. The film is directed by Reeve's stuntman from The Matrix, so this guy knows action. There are sequences that flow so smoothly it puts other action films and their quick cuts to shame. Keaunu moves so fluidly throughout the film and comes across as such a natural that the only disappointment is that we have not seen him like this before. Along the way are plenty of character actors, fans of The Matrix and The Wire will recognize a few people then there are more obvious ones like Ian McShane and Willem Dafoe. Everyone seems to be having a good time. That is another plus for this movie. It get's dark at times but overall it is quite fun, not very chipper, but fun. I cannot recommend this movie enough. I believe it is a must see for action fans and for anyone looking for something a bit different from the usual fare.\")]}\n",
            "Who is the mobster that visits John Wick and asks for his help by showing Wick's marker in the movie?\n",
            "{'response': AIMessage(content=\"The mobster that visits John Wick and asks for his help by showing Wick's marker in the movie is Santino D'Antonio.\", additional_kwargs={'refusal': None}, response_metadata={'token_usage': {'completion_tokens': 28, 'prompt_tokens': 3426, 'total_tokens': 3454, 'completion_tokens_details': {'reasoning_tokens': 0}}, 'model_name': 'gpt-3.5-turbo-0125', 'system_fingerprint': None, 'finish_reason': 'stop', 'logprobs': None}, id='run-76b6cbfa-9258-46b4-bd90-f012895d765e-0', usage_metadata={'input_tokens': 3426, 'output_tokens': 28, 'total_tokens': 3454}), 'context': [Document(metadata={'source': 'john_wick_2.csv', 'row': 20, 'Review_Date': '28 May 2017', 'Review_Title': ' A New Franchise is Born\\n', 'Review_Url': '/review/rw3718180/?ref_=tt_urv', 'Author': 'claudio_carvalho', 'Rating': 8, 'Movie_Title': 'John Wick 2', 'last_accessed_at': '2024-09-29T09:20:20.837301', '_id': 'db8935d5944b4980bb1890a827281087', '_collection_name': 'JohnWick'}, page_content=\": 20\\nReview: After resolving his issues with the Russian mafia, John Wick (Keanu Reeves) returns home. But soon the mobster Santino D'Antonio (Riccardo Scamarcio) visits him to show Wick's marker and tells that he needs to help. John Wicks refuses since he is retired and Santino blows-up his house. John Wick meets the owner of the Continental hotel in New York City, Winston (Ian McShane), and he tells that Wick cannot violate the Mafia rules and shall honor the marker. Santino asks John Wick to kill his sister Gianna D'Antonio (Claudia Gerini) in Rome so that he can sit on the High Table of the criminal organizations. When John Wicks accomplishes his assignment, Santino puts a seven-million dollar contract on him attracting professional killers from everywhere. But Wick promises to kill Santino that is not protected by his marker anymore.\"), Document(metadata={'source': 'john_wick_1.csv', 'row': 18, 'Review_Date': '10 September 2019', 'Review_Title': ' Probably NOT a film to watch with your kids or mother.\\n', 'Review_Url': '/review/rw5112990/?ref_=tt_urv', 'Author': 'planktonrules', 'Rating': 7, 'Movie_Title': 'John Wick 1', 'last_accessed_at': '2024-09-28T09:20:20.837139', '_id': 'aed5e9fdae4c4868a54843e705c4bbf0', '_collection_name': 'JohnWick'}, page_content=\": 18\\nReview: When the story begins, John (Keanu Reeves) has just lost his wife. After her death, he's a bit lost but tries to rebuild his life. One day, he's getting gas and a young Russian-American punk notices Wick's classic car...and tries to buy it off him. But Wick isn't interested and declines. Soon, the punk arrives at Wick's home with some goons where they surprise him--beating him senseless, destroying his stuff, killing his dog and stealing his car! This is when you then learn that Wick is a super-assassin....and the punk chose the wrong guy to attack. The jerk's father is a big-time Russian mobster....and it's a contest to see who will win...the mobster and his gang or Wick on his own. Considering there are (so far) two MORE John Wick films, it pretty much seems certain who will win this battle.\"), Document(metadata={'source': 'john_wick_2.csv', 'row': 5, 'Review_Date': '7 October 2017', 'Review_Title': ' more Gun Fu\\n', 'Review_Url': '/review/rw3825224/?ref_=tt_urv', 'Author': 'SnoopyStyle', 'Rating': 6, 'Movie_Title': 'John Wick 2', 'last_accessed_at': '2024-09-29T09:20:20.837291', '_id': '4306858d7dac4528af14d88bad62b920', '_collection_name': 'JohnWick'}, page_content=\": 5\\nReview: Iosef's uncle still has John Wick's car. Wick comes after it and the uncle accepts his offer of peace. He hopes to return to his peaceful retirement but crime lord Santino D'Antonio calls in his Marker. He faces deadly assassins, numerous killers, and countless thugs as Santino uses him to gain power even offering a $7 million contract.\"), Document(metadata={'source': 'john_wick_2.csv', 'row': 19, 'Review_Date': '29 November 2020', 'Review_Title': ' John Wick Kills A Lot Of People\\n', 'Review_Url': '/review/rw6320115/?ref_=tt_urv', 'Author': 'boblipton', 'Rating': 5, 'Movie_Title': 'John Wick 2', 'last_accessed_at': '2024-09-29T09:20:20.837301', '_id': 'd88498fdc2774199bd3aed5c20658bd8', '_collection_name': 'JohnWick'}, page_content=\": 19\\nReview: If you've seen the first John Wick movie, you know that Keanu Reeves is John Wick, a retired assassin who comes out of retirement when someone kills his dog. In this one, which begins a week later, matters are still reverberating, and some one has stolen his car, which calls for a lot of carnage. That settled, John is called on to pay off an old debt by helping Ian McShane take over the Assassin's Guild by flying around to Italy, Canada and Manhattan and killing what seems like hundreds of assassins.\"), Document(metadata={'source': 'john_wick_1.csv', 'row': 5, 'Review_Date': '23 March 2023', 'Review_Title': ' Violent and gripping story with plenty of unstopped action , shootouts and breathtaking fights\\n', 'Review_Url': '/review/rw8945545/?ref_=tt_urv', 'Author': 'ma-cortes', 'Rating': 7, 'Movie_Title': 'John Wick 1', 'last_accessed_at': '2024-09-28T09:20:20.837128', '_id': '61c6fa160e5841d49f5a4584d8a7299d', '_collection_name': 'JohnWick'}, page_content=\": 5\\nReview: Ultra-violent first entry with lots of killings, thrills , noisy action , suspense , and crossfire . In this original John Wick (2014) , an ex-hit-man comes out of retirement to track down the gangsters that killed his dog and took everything from him . With the untimely death of his beloved wife still bitter in his mouth he seeks for vengeance . But when an arrogant Russian mob prince and hoodlums steal his car and kill his dog , they are fully aware of his lethal capacity. The Bogeyman will find himself dragged into an impossible task as every killer in the business dreams of cornering the legendary Wick who now has an enormous price on his head . In this first installment John Wick , blind with revenge, and for his salvation John will immediately unleash a carefully orchestrated maelstrom of destruction against those attempt to chase him and with a price tag on his head, as he is the target of hit men : an army of bounty-hunting killers on his trail and a murderer woman everywhere . The legendary hitman will be forced to unearth his meticulously concealed identity and to carry out a relentless vendetta . Now, only blood can quench the boogeyman's thirst for retribution . Don't Set Him Off! . John Wick isn't the Boogeyman... He's the guy you send to kill the doomed Boogeyman. Revenge is all he has left. You want peace, prepare for war . Don't Hunt What You Can't Kill. Tick Tock, Mr. Wick. Everyone Is Waiting. For John Wick . Every Action Has Consequences. This Friday, Wick is Back . Its the World Vs. Wick. Every Action Has Consequences.\"), Document(metadata={'source': 'john_wick_1.csv', 'row': 20, 'Review_Date': '22 October 2014', 'Review_Title': ' Smoothest action film to come around in a long time\\n', 'Review_Url': '/review/rw3109271/?ref_=tt_urv', 'Author': 'IceSkateUpHill', 'Rating': 10, 'Movie_Title': 'John Wick 1', 'last_accessed_at': '2024-09-28T09:20:20.837141', '_id': '780d41c4f5364fd6b15651dfd440eba3', '_collection_name': 'JohnWick'}, page_content=\": 20\\nReview: John Wick is something special. It takes as much time setting up elaborate action sequences as it does the world with which it all takes place in. And what a world it is. It reminds me of Millers Crossing and it is cooler than any other recent attempt at noir. We are shown a criminal underworld where, if you are connected, many powerful people know who you are and show you respect. John Wick was connected but he got out. He is the rare killer who has found peace, and he is grateful for that peace. Some young kids steal that from him and he does what he does best, he wages a one man war against the Russian Mafia. It might sound like the film takes quite a leap but it all makes sense. The motives of John and the people who get in the way of his bullets are all very clear, even if it does come across as rather simple. That's the plot at it's most basic. Then there's the action. The film is directed by Reeve's stuntman from The Matrix, so this guy knows action. There are sequences that flow so smoothly it puts other action films and their quick cuts to shame. Keaunu moves so fluidly throughout the film and comes across as such a natural that the only disappointment is that we have not seen him like this before. Along the way are plenty of character actors, fans of The Matrix and The Wire will recognize a few people then there are more obvious ones like Ian McShane and Willem Dafoe. Everyone seems to be having a good time. That is another plus for this movie. It get's dark at times but overall it is quite fun, not very chipper, but fun. I cannot recommend this movie enough. I believe it is a must see for action fans and for anyone looking for something a bit different from the usual fare.\"), Document(metadata={'source': 'john_wick_4.csv', 'row': 1, 'Review_Date': '30 March 2023', 'Review_Title': ' There is such a thing as too much\\n', 'Review_Url': '/review/rw8960544/?ref_=tt_urv', 'Author': 'neil-476', 'Rating': 5, 'Movie_Title': 'John Wick 4', 'last_accessed_at': '2024-10-01T09:20:20.837582', '_id': '8524c3e8a9cf4c5fa3d2161130c7bffb', '_collection_name': 'JohnWick'}, page_content=': 1\\nReview: The Table, the international crminal brotherhood which has condemned John Wick empowers The Marquis to deal with him (and the Manager of the New York Continentale Hotel). But maybe, just maybe, there is a way out.'), Document(metadata={'source': 'john_wick_2.csv', 'row': 4, 'Review_Date': '13 February 2017', 'Review_Title': ' The rare sequel that is better than the original movie\\n', 'Review_Url': '/review/rw3639244/?ref_=tt_urv', 'Author': 'paul-allaer', 'Rating': 8, 'Movie_Title': 'John Wick 2', 'last_accessed_at': '2024-09-29T09:20:20.837290', '_id': 'be1cbf9ce1e44f5aa543bc0c8c3850e0', '_collection_name': 'JohnWick'}, page_content=': 4\\nReview: \"John Wick: Chapter 2\" (2017 release; 122 min.) continues the \\'adventures\\' of former (?) hit man John Wick. As the movie opens, we are immediately thrown in the middle of a car vs. bike chase, and next thing we know, we find our man retrieving his beloved Mustang from a chop shop in NYC, but not without cars flying about, and dozens of dead or wounded bodies. And that\\'s all in the pre-opening credits! As the story unfolds, Wick, who wants \"out, is nevertheless forced back \"in\" when an Italian baddie calls in a favor and Wick has no choice but to accept. To tell you more of the plot would spoil your viewing experience, you\\'ll just have to see for yourself how it all plays out.'), Document(metadata={'source': 'john_wick_3.csv', 'row': 6, 'Review_Date': '7 February 2020', 'Review_Title': ' More of the same. Yawn!\\n', 'Review_Url': '/review/rw5466367/?ref_=tt_urv', 'Author': 'BA_Harrison', 'Rating': 4, 'Movie_Title': 'John Wick 3', 'last_accessed_at': '2024-09-30T09:20:20.837441', '_id': '6dbc333bf18c4c4c91abeef4934628d2', '_collection_name': 'JohnWick'}, page_content=\": 6\\nReview: Assassin John Wick is referred to as Baba Yaga in this third chapter, suggesting that he is, in fact, a supernatural being; his ability to evade death, appear and disappear like a ninja from a Godfrey Ho film, and move with lightning fast reflexes despite being in his mid-fifties confirms this fact, in my opinion. Unfortunately, Wick's invincibility means that the many action scenes in Parabellum are largely devoid of excitement, the only outcome being that Wick is still alive and all of his enemies are dead.\"), Document(metadata={'source': 'john_wick_1.csv', 'row': 4, 'Review_Date': '30 July 2020', 'Review_Title': ' delivers if taken for what it is\\n', 'Review_Url': '/review/rw5952152/?ref_=tt_urv', 'Author': 'Special-K88', 'Rating': 0, 'Movie_Title': 'John Wick 1', 'last_accessed_at': '2024-09-28T09:20:20.837127', '_id': 'f45d6582377245b3a6faf2b52cdda796', '_collection_name': 'JohnWick'}, page_content=': 4\\nReview: Though he no longer has a taste for wet work, retired assassin and \"Boogeyman\" John Wick has suffered a personal tragedy that\\'s left a huge void in his life. When he and his dog (really the last meaningful thing he has left) fall victim to a scummy group of Russian mobsters, he emerges from his shell with vengeance on his mind. Slow and ambiguous at first, but reveals more as it goes along, and once it kicks into gear it rarely lets up with plenty of stylized, visceral action scenes, an impressive arsenal of weaponry, plus sly direction and editing that give it the feel of a violent music video at times. Preposterously fun to watch, it just doesn\\'t have much of a story at its disposal, not to mention all the over-the-top bloodletting and mayhem eventually becomes redundant. Savvy, indestructible Reeves looks right at home, and delivers many of his lines with a sardonic wit. **½')]}\n",
            "What aspect of 'John Wick' received praise for its top-notch quality?\n",
            "{'response': AIMessage(content=\"The action sequences in 'John Wick' received praise for their top-notch quality.\", additional_kwargs={'refusal': None}, response_metadata={'token_usage': {'completion_tokens': 16, 'prompt_tokens': 3524, 'total_tokens': 3540, 'completion_tokens_details': {'reasoning_tokens': 0}}, 'model_name': 'gpt-3.5-turbo-0125', 'system_fingerprint': None, 'finish_reason': 'stop', 'logprobs': None}, id='run-97502509-823c-40d3-b541-b3e67c03367b-0', usage_metadata={'input_tokens': 3524, 'output_tokens': 16, 'total_tokens': 3540}), 'context': [Document(metadata={'source': 'john_wick_1.csv', 'row': 9, 'Review_Date': '20 October 2014', 'Review_Title': \" The coolest action film you'll see all year\\n\", 'Review_Url': '/review/rw3107759/?ref_=tt_urv', 'Author': 'trublu215', 'Rating': 9, 'Movie_Title': 'John Wick 1', 'last_accessed_at': '2024-09-28T09:20:20.837133', '_id': '73e00e211a4f42deb8409d12ca16e266', '_collection_name': 'JohnWick'}, page_content=\": 9\\nReview: At first glance, John Wick sounds like a terrible film on paper but with the slickness of Keanu Reeves' performance as the titular character and the sheer brilliance in its action sequences, this marks the best action film of the year and one of the absolute best in the past decade. Following a brutal home invasion that leaves his beloved dog murdered by thugs from his past, John Wick vows revenge on the ones who have taken what he loves most. Like I said, on paper, this seems like a direct-to-DVD slopfest starring John Cena but as a film with Keanu Reeves as the lead, it marks the very welcomed return for Reeves to the genre. John Wick is insanely fun, violently brutal and an overall romp especially for those disappointed by The Expendables 3. John Wick is propelled by Tarantino-esque dialog mixed with the swagger of action stars from the 70s. Reeves literally emulates cool in this film and does it with such confidence, that we don't even doubt the character...even when he kills countless bad guys with extreme force in some utterly ridiculous and implausible situations. We don't doubt it for a minute. This is EXACTLY what you want out of an action film. It is briskly paced, brilliantly shot and meticulously choreographed and keeps you wanting more and more. The supporting cast filled with the likes of John Legiuzamo, Ian McShane, and Willen Dafoe also keeps this film very interesting. These guys don't play good guys, hell, John Wick by traditional standards would be a bad guy in any other film. Every character is more ruthless than the next and pushes John Wick to be more ruthless than they are, creating a very cool dynamic between the character and the plot regarding the idea of how far is too far? However, don't expect some revelation from John Wick regarding the morality of bad and evil. This film wants you entertained and does so with brute force, it never lets up, not even for a second. One scene in particular that will have your blood pumping is a showdown between thugs and Wick in a nightclub. This action sequence remains the best in the film and will have you grasping your theater seat because of the sheer intensity of it. Overall, John Wick is slick, violent fun that turns into a remarkable, surprising film that will catch you off guard. It is THAT good. I highly recommend this film to action buffs especially but I'm sure those who just like a good movie will love it as well.\"), Document(metadata={'source': 'john_wick_1.csv', 'row': 20, 'Review_Date': '22 October 2014', 'Review_Title': ' Smoothest action film to come around in a long time\\n', 'Review_Url': '/review/rw3109271/?ref_=tt_urv', 'Author': 'IceSkateUpHill', 'Rating': 10, 'Movie_Title': 'John Wick 1', 'last_accessed_at': '2024-09-28T09:20:20.837141', '_id': '780d41c4f5364fd6b15651dfd440eba3', '_collection_name': 'JohnWick'}, page_content=\": 20\\nReview: John Wick is something special. It takes as much time setting up elaborate action sequences as it does the world with which it all takes place in. And what a world it is. It reminds me of Millers Crossing and it is cooler than any other recent attempt at noir. We are shown a criminal underworld where, if you are connected, many powerful people know who you are and show you respect. John Wick was connected but he got out. He is the rare killer who has found peace, and he is grateful for that peace. Some young kids steal that from him and he does what he does best, he wages a one man war against the Russian Mafia. It might sound like the film takes quite a leap but it all makes sense. The motives of John and the people who get in the way of his bullets are all very clear, even if it does come across as rather simple. That's the plot at it's most basic. Then there's the action. The film is directed by Reeve's stuntman from The Matrix, so this guy knows action. There are sequences that flow so smoothly it puts other action films and their quick cuts to shame. Keaunu moves so fluidly throughout the film and comes across as such a natural that the only disappointment is that we have not seen him like this before. Along the way are plenty of character actors, fans of The Matrix and The Wire will recognize a few people then there are more obvious ones like Ian McShane and Willem Dafoe. Everyone seems to be having a good time. That is another plus for this movie. It get's dark at times but overall it is quite fun, not very chipper, but fun. I cannot recommend this movie enough. I believe it is a must see for action fans and for anyone looking for something a bit different from the usual fare.\"), Document(metadata={'source': 'john_wick_3.csv', 'row': 5, 'Review_Date': '17 July 2019', 'Review_Title': ' The magic is gone\\n', 'Review_Url': '/review/rw4999970/?ref_=tt_urv', 'Author': 'soundoflight', 'Rating': 5, 'Movie_Title': 'John Wick 3', 'last_accessed_at': '2024-09-30T09:20:20.837440', '_id': 'd5410bcc8c454b7bb5132655d99d3c63', '_collection_name': 'JohnWick'}, page_content=': 5\\nReview: The first John Wick film was special because it broke a mold of sorts. It went against certain action film conventions - the hero was not a muscle bound hulk like a Schwarzenegger or Stallone, the action was super fast paced, the plot was basic and straighforward, but introduced some unique elements, and there was something a bit unique and stylish about the film. John Wick was cool.'), Document(metadata={'source': 'john_wick_1.csv', 'row': 17, 'Review_Date': '27 February 2016', 'Review_Title': ' The man who kills the Boogeyman\\n', 'Review_Url': '/review/rw3422991/?ref_=tt_urv', 'Author': 'Horst_In_Translation', 'Rating': 8, 'Movie_Title': 'John Wick 1', 'last_accessed_at': '2024-09-28T09:20:20.837139', '_id': 'e58c5fdd6169478493cdb5840aa6cf65', '_collection_name': 'JohnWick'}, page_content=': 17\\nReview: There are actually quite a handful reasons why \"John Wick\" could have become a failure. The two directors have never made a film before and almost exclusively worked in the stunt department so far. The writer is not exactly experienced either. Lead actor Keanu Reeves usually scores more through boyish charm than through realistic portrayal of gritty badass characters. And the genre of crime action thrillers rarely delivers in terms of real significance. Still it became a very good film. The main reason for that is probably that it does not attempt to be anything of great cinematic value, does not try to teach groundbreaking stories on moral, loyalty or betrayal. Instead, Derek Kolstad\\'s script goes for a gutsy revenge thriller that is not even hurt by its occasional predictability.'), Document(metadata={'source': 'john_wick_1.csv', 'row': 11, 'Review_Date': '25 September 2015', 'Review_Title': ' Action as it should be\\n', 'Review_Url': '/review/rw3323198/?ref_=tt_urv', 'Author': 'Leofwine_draca', 'Rating': 8, 'Movie_Title': 'John Wick 1', 'last_accessed_at': '2024-09-28T09:20:20.837134', '_id': '9876f6fb513745a0946996e808b19161', '_collection_name': 'JohnWick'}, page_content=\": 11\\nReview: JOHN WICK is a rare example of Hollywood getting things spot-on when it comes to creating the near-perfect action film. JOHN WICK is a relentless, pulse-pounding thriller that has plenty of similarity to the Liam Neeson classic TAKEN, albeit with a more simplistic (and also more emotionally intense) plot line. This is the kind of lean, pared-down film-making that's all about intensity and momentum. It sits well with classic international fare like POINT BLANK, SLEEPLESS NIGHT, MEA CULPA, THE MAN FROM NOWHERE, and THE RAID films.\"), Document(metadata={'source': 'john_wick_3.csv', 'row': 16, 'Review_Date': '16 May 2019', 'Review_Title': \" Finally an action franchise than doesn't lose its touch!\\n\", 'Review_Url': '/review/rw4858493/?ref_=tt_urv', 'Author': 'Dannyboi94', 'Rating': 8, 'Movie_Title': 'John Wick 3', 'last_accessed_at': '2024-09-30T09:20:20.837447', '_id': '050f17684fe34f48b046f7a2b5a35b24', '_collection_name': 'JohnWick'}, page_content=\": 16\\nReview: John Wick 3 is without a doubt the best action movie to have come out in a few years. And its so surprising and refreshing to see that movies like this still exist. Most action movies you see is filled with ridiculous amounts of shaky-cam, fast edits and way over-the-top fights. This is perfect. You can see all action clear as day, and by god the stuns in this film are extraordinary. Why the Academy Awards don't award talent like this is beyond me. There were times that I wondered if they had used CGI, because someone nuts must be willing to throw themselves from motorbikes and through glass. But whatever case it is, its a dam joy to watch.\"), Document(metadata={'source': 'john_wick_1.csv', 'row': 3, 'Review_Date': '28 September 2018', 'Review_Title': ' Keanu gets pissed and shoots people in the face for 101 minutes*\\n', 'Review_Url': '/review/rw4366368/?ref_=tt_urv', 'Author': 'Kitsfi', 'Rating': 8, 'Movie_Title': 'John Wick 1', 'last_accessed_at': '2024-09-28T09:20:20.837127', '_id': '156478ef15ef463cae8b3148a5941991', '_collection_name': 'JohnWick'}, page_content=': 3\\nReview: John wick has a very simple revenge story. It can be summarized as \"Keanu gets angry and shoots bad guys\" but what makes it special? Directed by Chad Stahelski who\\'s a stunt specialist boy does it show because the main selling point in the film are some real virtuoso action sequences, well made choreographies. Unlike today\\'s action movies, it doesn\\'t use quick-cuts or shaky cameras actually see what\\'s going on.'), Document(metadata={'source': 'john_wick_3.csv', 'row': 19, 'Review_Date': '22 September 2019', 'Review_Title': ' Sheer enjoyment\\n', 'Review_Url': '/review/rw5135863/?ref_=tt_urv', 'Author': 'Leofwine_draca', 'Rating': 9, 'Movie_Title': 'John Wick 3', 'last_accessed_at': '2024-09-30T09:20:20.837449', '_id': 'beca4eabb8a1437c857a711d1d762de9', '_collection_name': 'JohnWick'}, page_content=': 19\\nReview: The inevitable third chapter of the JOHN WICK franchise continues on a high with the same quality as the last. In fact, this may just pip that one to the post to be the best JOHN WICK yet. The pacing is spot on and the plotting is measured by a huge amount of action sequences, all of which fizz and crackle with skill and energy. The movie hits the ground running as Keanu faces off with a hulking character in a library and then Triads in a weapon shop, but what really amazes here is the sheer inventiveness of the non-repetitive action. There are horse and motorbike chases, a Moroccan brawl with fighting dogs, alongside the massive action of the climax. There also seems to be a greater emphasis on hand-to-hand combat, featuring the likes of RAID actors and old-timer Mark Dacascos, which is a real pleasure as the choreography is top-notch. In terms of sheer enjoyment, this is a film hard to beat, and to criticise it at all is unnecessary. Bring on the fourth!'), Document(metadata={'source': 'john_wick_2.csv', 'row': 22, 'Review_Date': '12 February 2017', 'Review_Title': ' This is how you film an action movie !\\n', 'Review_Url': '/review/rw3638970/?ref_=tt_urv', 'Author': 'destroyerwod', 'Rating': 9, 'Movie_Title': 'John Wick 2', 'last_accessed_at': '2024-09-29T09:20:20.837302', '_id': '469a54f38a0249eba9c65eaafb37e4e7', '_collection_name': 'JohnWick'}, page_content=': 22\\nReview: John Wick is one of my favourite recent years action movie and the second one pick up right where the first one left. The action is sharp, well filmed, no bad shaky cams and jump cuts like a certain bad action movie i saw recently. Its so refreshing to see everything and admire the practical stunt work.'), Document(metadata={'source': 'john_wick_4.csv', 'row': 18, 'Review_Date': '17 March 2023', 'Review_Title': ' Not Just The Best John Wick, But Possibly One Of The Best Action Movies Ever\\n', 'Review_Url': '/review/rw8935367/?ref_=tt_urv', 'Author': 'cadillac20', 'Rating': 10, 'Movie_Title': 'John Wick 4', 'last_accessed_at': '2024-10-01T09:20:20.837593', '_id': '9b20976840684c6ab9b54d3c76e7c0d3', '_collection_name': 'JohnWick'}, page_content=\": 18\\nReview: Ever since the original John Wick, the franchise has set a standard of what action in Hollywood should be. Thanks to Chad Stahelski and Keanu Reeve's knowledge of the technical aspects of shooting action, they've been able to deliver expertly choreographed, shot, and edited action films that are now the go to as examples of great action filmmaking. And so, the expectations for the fourth film were fairly high, especially as it became more apparent this was not only the culmination of everything before it, but a whopping 169 minutes long. Rest assured, however, that it delivers in spades. Everything we have come to know and love is here, but with an infusion of creativity like we haven't seen from the franchise yet.\")]}\n",
            "What role does the marker play in the plot of John Wick: Chapter 2?\n",
            "{'response': AIMessage(content=\"The marker in John Wick: Chapter 2 plays a crucial role in the plot as it is used by Santino D'Antonio to force John Wick back into the world of assassins. Wick is obligated to honor the marker and carry out a dangerous mission, leading to a series of events that drive the narrative forward.\", additional_kwargs={'refusal': None}, response_metadata={'token_usage': {'completion_tokens': 65, 'prompt_tokens': 3684, 'total_tokens': 3749, 'completion_tokens_details': {'reasoning_tokens': 0}}, 'model_name': 'gpt-3.5-turbo-0125', 'system_fingerprint': None, 'finish_reason': 'stop', 'logprobs': None}, id='run-be6ddccf-83b4-4dd8-83eb-01bdffad957a-0', usage_metadata={'input_tokens': 3684, 'output_tokens': 65, 'total_tokens': 3749}), 'context': [Document(metadata={'source': 'john_wick_2.csv', 'row': 20, 'Review_Date': '28 May 2017', 'Review_Title': ' A New Franchise is Born\\n', 'Review_Url': '/review/rw3718180/?ref_=tt_urv', 'Author': 'claudio_carvalho', 'Rating': 8, 'Movie_Title': 'John Wick 2', 'last_accessed_at': '2024-09-29T09:20:20.837301', '_id': 'db8935d5944b4980bb1890a827281087', '_collection_name': 'JohnWick'}, page_content=\": 20\\nReview: After resolving his issues with the Russian mafia, John Wick (Keanu Reeves) returns home. But soon the mobster Santino D'Antonio (Riccardo Scamarcio) visits him to show Wick's marker and tells that he needs to help. John Wicks refuses since he is retired and Santino blows-up his house. John Wick meets the owner of the Continental hotel in New York City, Winston (Ian McShane), and he tells that Wick cannot violate the Mafia rules and shall honor the marker. Santino asks John Wick to kill his sister Gianna D'Antonio (Claudia Gerini) in Rome so that he can sit on the High Table of the criminal organizations. When John Wicks accomplishes his assignment, Santino puts a seven-million dollar contract on him attracting professional killers from everywhere. But Wick promises to kill Santino that is not protected by his marker anymore.\"), Document(metadata={'source': 'john_wick_2.csv', 'row': 19, 'Review_Date': '29 November 2020', 'Review_Title': ' John Wick Kills A Lot Of People\\n', 'Review_Url': '/review/rw6320115/?ref_=tt_urv', 'Author': 'boblipton', 'Rating': 5, 'Movie_Title': 'John Wick 2', 'last_accessed_at': '2024-09-29T09:20:20.837301', '_id': 'd88498fdc2774199bd3aed5c20658bd8', '_collection_name': 'JohnWick'}, page_content=\": 19\\nReview: If you've seen the first John Wick movie, you know that Keanu Reeves is John Wick, a retired assassin who comes out of retirement when someone kills his dog. In this one, which begins a week later, matters are still reverberating, and some one has stolen his car, which calls for a lot of carnage. That settled, John is called on to pay off an old debt by helping Ian McShane take over the Assassin's Guild by flying around to Italy, Canada and Manhattan and killing what seems like hundreds of assassins.\"), Document(metadata={'source': 'john_wick_1.csv', 'row': 18, 'Review_Date': '10 September 2019', 'Review_Title': ' Probably NOT a film to watch with your kids or mother.\\n', 'Review_Url': '/review/rw5112990/?ref_=tt_urv', 'Author': 'planktonrules', 'Rating': 7, 'Movie_Title': 'John Wick 1', 'last_accessed_at': '2024-09-28T09:20:20.837139', '_id': 'aed5e9fdae4c4868a54843e705c4bbf0', '_collection_name': 'JohnWick'}, page_content=\": 18\\nReview: When the story begins, John (Keanu Reeves) has just lost his wife. After her death, he's a bit lost but tries to rebuild his life. One day, he's getting gas and a young Russian-American punk notices Wick's classic car...and tries to buy it off him. But Wick isn't interested and declines. Soon, the punk arrives at Wick's home with some goons where they surprise him--beating him senseless, destroying his stuff, killing his dog and stealing his car! This is when you then learn that Wick is a super-assassin....and the punk chose the wrong guy to attack. The jerk's father is a big-time Russian mobster....and it's a contest to see who will win...the mobster and his gang or Wick on his own. Considering there are (so far) two MORE John Wick films, it pretty much seems certain who will win this battle.\"), Document(metadata={'source': 'john_wick_2.csv', 'row': 4, 'Review_Date': '13 February 2017', 'Review_Title': ' The rare sequel that is better than the original movie\\n', 'Review_Url': '/review/rw3639244/?ref_=tt_urv', 'Author': 'paul-allaer', 'Rating': 8, 'Movie_Title': 'John Wick 2', 'last_accessed_at': '2024-09-29T09:20:20.837290', '_id': 'be1cbf9ce1e44f5aa543bc0c8c3850e0', '_collection_name': 'JohnWick'}, page_content=': 4\\nReview: \"John Wick: Chapter 2\" (2017 release; 122 min.) continues the \\'adventures\\' of former (?) hit man John Wick. As the movie opens, we are immediately thrown in the middle of a car vs. bike chase, and next thing we know, we find our man retrieving his beloved Mustang from a chop shop in NYC, but not without cars flying about, and dozens of dead or wounded bodies. And that\\'s all in the pre-opening credits! As the story unfolds, Wick, who wants \"out, is nevertheless forced back \"in\" when an Italian baddie calls in a favor and Wick has no choice but to accept. To tell you more of the plot would spoil your viewing experience, you\\'ll just have to see for yourself how it all plays out.'), Document(metadata={'source': 'john_wick_1.csv', 'row': 5, 'Review_Date': '23 March 2023', 'Review_Title': ' Violent and gripping story with plenty of unstopped action , shootouts and breathtaking fights\\n', 'Review_Url': '/review/rw8945545/?ref_=tt_urv', 'Author': 'ma-cortes', 'Rating': 7, 'Movie_Title': 'John Wick 1', 'last_accessed_at': '2024-09-28T09:20:20.837128', '_id': '61c6fa160e5841d49f5a4584d8a7299d', '_collection_name': 'JohnWick'}, page_content=\": 5\\nReview: Ultra-violent first entry with lots of killings, thrills , noisy action , suspense , and crossfire . In this original John Wick (2014) , an ex-hit-man comes out of retirement to track down the gangsters that killed his dog and took everything from him . With the untimely death of his beloved wife still bitter in his mouth he seeks for vengeance . But when an arrogant Russian mob prince and hoodlums steal his car and kill his dog , they are fully aware of his lethal capacity. The Bogeyman will find himself dragged into an impossible task as every killer in the business dreams of cornering the legendary Wick who now has an enormous price on his head . In this first installment John Wick , blind with revenge, and for his salvation John will immediately unleash a carefully orchestrated maelstrom of destruction against those attempt to chase him and with a price tag on his head, as he is the target of hit men : an army of bounty-hunting killers on his trail and a murderer woman everywhere . The legendary hitman will be forced to unearth his meticulously concealed identity and to carry out a relentless vendetta . Now, only blood can quench the boogeyman's thirst for retribution . Don't Set Him Off! . John Wick isn't the Boogeyman... He's the guy you send to kill the doomed Boogeyman. Revenge is all he has left. You want peace, prepare for war . Don't Hunt What You Can't Kill. Tick Tock, Mr. Wick. Everyone Is Waiting. For John Wick . Every Action Has Consequences. This Friday, Wick is Back . Its the World Vs. Wick. Every Action Has Consequences.\"), Document(metadata={'source': 'john_wick_1.csv', 'row': 0, 'Review_Date': '6 May 2015', 'Review_Title': ' Kinetic, concise, and stylish; John Wick kicks ass.\\n', 'Review_Url': '/review/rw3233896/?ref_=tt_urv', 'Author': 'lnvicta', 'Rating': 8, 'Movie_Title': 'John Wick 1', 'last_accessed_at': '2024-09-28T09:20:20.837118', '_id': '1368a0c0b1434949a40d1885b08b2851', '_collection_name': 'JohnWick'}, page_content=\": 0\\nReview: The best way I can describe John Wick is to picture Taken but instead of Liam Neeson it's Keanu Reeves and instead of his daughter it's his dog. That's essentially the plot of the movie. John Wick (Reeves) is out to seek revenge on the people who took something he loved from him. It's a beautifully simple premise for an action movie - when action movies get convoluted, they get bad i.e. A Good Day to Die Hard. John Wick gives the viewers what they want: Awesome action, stylish stunts, kinetic chaos, and a relatable hero to tie it all together. John Wick succeeds in its simplicity.\"), Document(metadata={'source': 'john_wick_2.csv', 'row': 0, 'Review_Date': '14 September 2018', 'Review_Title': ' \"No one gets out and comes back without repercussions.\"\\n', 'Review_Url': '/review/rw4338449/?ref_=tt_urv', 'Author': 'classicsoncall', 'Rating': 7, 'Movie_Title': 'John Wick 2', 'last_accessed_at': '2024-09-29T09:20:20.837287', '_id': '627f9ab4e4b64c2db7d199aa7e56a517', '_collection_name': 'JohnWick'}, page_content=': 0\\nReview: No doubt about it, \"John Wick: Chapter 2\" is a slick action thriller, but man, oh man, how can any one person absorb that kind of punishment? John (Keanu Reeves) gets shot, stabbed and hit by cars multiple times and postures a limp now and then to indicate he might have gotten just a little bit hurt. Besides that, he almost never makes a wrong move when hunted by dozens of assassins all at the same time. Okay, I get it, Reeves is the star of the picture and has to come out on top, but I\\'d like a little more credibility put into these kinds of stories. But I guess that\\'s the whole point, suspend your disbelief for a couple of hours and just go with all of the over the top action the film makers can put together.'), Document(metadata={'source': 'john_wick_2.csv', 'row': 16, 'Review_Date': '9 February 2017', 'Review_Title': ' Kick-ass, entertaining and relentless throughout. This is what every sequel should aspire to be.\\n', 'Review_Url': '/review/rw3636884/?ref_=tt_urv', 'Author': 'trublu215', 'Rating': 5, 'Movie_Title': 'John Wick 2', 'last_accessed_at': '2024-09-29T09:20:20.837299', '_id': 'ef94eefbbe5e47e696fd9228c1e40d48', '_collection_name': 'JohnWick'}, page_content=\": 16\\nReview: John Wick Chapter 2 pits Keanu Reeves' titular character against the mean and nefarious of the criminal underworld. Once again, Reeves proves that he is a force to be reckoned with in this ridiculous, over-the-top sequel that is every bit as fun as the original. These types of films are rarely known for their artistic value but John Wick: Chapter 2 sets the bar pretty high, not only in its action, but in it's set design and camera work. This is pure escapist entertainment and couldn't have come at a better time. Those wanting to take a break from watching the Oscar nominees, this film is exactly what you're looking for.\"), Document(metadata={'source': 'john_wick_1.csv', 'row': 20, 'Review_Date': '22 October 2014', 'Review_Title': ' Smoothest action film to come around in a long time\\n', 'Review_Url': '/review/rw3109271/?ref_=tt_urv', 'Author': 'IceSkateUpHill', 'Rating': 10, 'Movie_Title': 'John Wick 1', 'last_accessed_at': '2024-09-28T09:20:20.837141', '_id': '780d41c4f5364fd6b15651dfd440eba3', '_collection_name': 'JohnWick'}, page_content=\": 20\\nReview: John Wick is something special. It takes as much time setting up elaborate action sequences as it does the world with which it all takes place in. And what a world it is. It reminds me of Millers Crossing and it is cooler than any other recent attempt at noir. We are shown a criminal underworld where, if you are connected, many powerful people know who you are and show you respect. John Wick was connected but he got out. He is the rare killer who has found peace, and he is grateful for that peace. Some young kids steal that from him and he does what he does best, he wages a one man war against the Russian Mafia. It might sound like the film takes quite a leap but it all makes sense. The motives of John and the people who get in the way of his bullets are all very clear, even if it does come across as rather simple. That's the plot at it's most basic. Then there's the action. The film is directed by Reeve's stuntman from The Matrix, so this guy knows action. There are sequences that flow so smoothly it puts other action films and their quick cuts to shame. Keaunu moves so fluidly throughout the film and comes across as such a natural that the only disappointment is that we have not seen him like this before. Along the way are plenty of character actors, fans of The Matrix and The Wire will recognize a few people then there are more obvious ones like Ian McShane and Willem Dafoe. Everyone seems to be having a good time. That is another plus for this movie. It get's dark at times but overall it is quite fun, not very chipper, but fun. I cannot recommend this movie enough. I believe it is a must see for action fans and for anyone looking for something a bit different from the usual fare.\"), Document(metadata={'source': 'john_wick_2.csv', 'row': 9, 'Review_Date': '22 July 2017', 'Review_Title': ' A disappointing sequel for the most part\\n', 'Review_Url': '/review/rw3760991/?ref_=tt_urv', 'Author': 'Horst_In_Translation', 'Rating': 4, 'Movie_Title': 'John Wick 2', 'last_accessed_at': '2024-09-29T09:20:20.837294', '_id': '2a9defa01f3d400586fb3c07f7ae4294', '_collection_name': 'JohnWick'}, page_content=': 9\\nReview: \"John Wick: Chapter 2\" is an American movie from this year (2017). Experienced visual effects artist Stahelski and Kolstad returned from the very first Wick film to work on the script/direction here too, so the premise with regard to people working behind the camera is there. And in front of the camera we see familiar faces again, people that survived the film, like most of all Keanu Reeves playing the central character. This is a really long film at over 2 hours and at this runtime, it is considerably longer than the first. And there is a lot other stuff different compared to the original. Most has to do with the fun component. I think the first film was a great fun watch from start to finish while offering emotion nonetheless and also delivering in the crime and drama genres. And action too, but I don\\'t care too much about that. This genre is also basically the only one where this new movie delivers as the first 30 minutes are truly packed with action. It gets less afterward, but there is no denying that it was still all about the action and nothing else.')]}\n",
            "What event in the movie John Wick Chapter 2 leads to a lot of carnage and sets off a chain of events involving the Assassin's Guild?\n",
            "{'response': AIMessage(content=\"The event in the movie John Wick Chapter 2 that leads to a lot of carnage and sets off a chain of events involving the Assassin's Guild is when Santino D'Antonio blows up John Wick's house after John refuses to help him due to being retired.\", additional_kwargs={'refusal': None}, response_metadata={'token_usage': {'completion_tokens': 55, 'prompt_tokens': 3241, 'total_tokens': 3296, 'completion_tokens_details': {'reasoning_tokens': 0}}, 'model_name': 'gpt-3.5-turbo-0125', 'system_fingerprint': None, 'finish_reason': 'stop', 'logprobs': None}, id='run-67a877c9-f20d-445c-a345-51cbc22054d8-0', usage_metadata={'input_tokens': 3241, 'output_tokens': 55, 'total_tokens': 3296}), 'context': [Document(metadata={'source': 'john_wick_2.csv', 'row': 19, 'Review_Date': '29 November 2020', 'Review_Title': ' John Wick Kills A Lot Of People\\n', 'Review_Url': '/review/rw6320115/?ref_=tt_urv', 'Author': 'boblipton', 'Rating': 5, 'Movie_Title': 'John Wick 2', 'last_accessed_at': '2024-09-29T09:20:20.837301', '_id': 'd88498fdc2774199bd3aed5c20658bd8', '_collection_name': 'JohnWick'}, page_content=\": 19\\nReview: If you've seen the first John Wick movie, you know that Keanu Reeves is John Wick, a retired assassin who comes out of retirement when someone kills his dog. In this one, which begins a week later, matters are still reverberating, and some one has stolen his car, which calls for a lot of carnage. That settled, John is called on to pay off an old debt by helping Ian McShane take over the Assassin's Guild by flying around to Italy, Canada and Manhattan and killing what seems like hundreds of assassins.\"), Document(metadata={'source': 'john_wick_2.csv', 'row': 20, 'Review_Date': '28 May 2017', 'Review_Title': ' A New Franchise is Born\\n', 'Review_Url': '/review/rw3718180/?ref_=tt_urv', 'Author': 'claudio_carvalho', 'Rating': 8, 'Movie_Title': 'John Wick 2', 'last_accessed_at': '2024-09-29T09:20:20.837301', '_id': 'db8935d5944b4980bb1890a827281087', '_collection_name': 'JohnWick'}, page_content=\": 20\\nReview: After resolving his issues with the Russian mafia, John Wick (Keanu Reeves) returns home. But soon the mobster Santino D'Antonio (Riccardo Scamarcio) visits him to show Wick's marker and tells that he needs to help. John Wicks refuses since he is retired and Santino blows-up his house. John Wick meets the owner of the Continental hotel in New York City, Winston (Ian McShane), and he tells that Wick cannot violate the Mafia rules and shall honor the marker. Santino asks John Wick to kill his sister Gianna D'Antonio (Claudia Gerini) in Rome so that he can sit on the High Table of the criminal organizations. When John Wicks accomplishes his assignment, Santino puts a seven-million dollar contract on him attracting professional killers from everywhere. But Wick promises to kill Santino that is not protected by his marker anymore.\"), Document(metadata={'source': 'john_wick_2.csv', 'row': 4, 'Review_Date': '13 February 2017', 'Review_Title': ' The rare sequel that is better than the original movie\\n', 'Review_Url': '/review/rw3639244/?ref_=tt_urv', 'Author': 'paul-allaer', 'Rating': 8, 'Movie_Title': 'John Wick 2', 'last_accessed_at': '2024-09-29T09:20:20.837290', '_id': 'be1cbf9ce1e44f5aa543bc0c8c3850e0', '_collection_name': 'JohnWick'}, page_content=': 4\\nReview: \"John Wick: Chapter 2\" (2017 release; 122 min.) continues the \\'adventures\\' of former (?) hit man John Wick. As the movie opens, we are immediately thrown in the middle of a car vs. bike chase, and next thing we know, we find our man retrieving his beloved Mustang from a chop shop in NYC, but not without cars flying about, and dozens of dead or wounded bodies. And that\\'s all in the pre-opening credits! As the story unfolds, Wick, who wants \"out, is nevertheless forced back \"in\" when an Italian baddie calls in a favor and Wick has no choice but to accept. To tell you more of the plot would spoil your viewing experience, you\\'ll just have to see for yourself how it all plays out.'), Document(metadata={'source': 'john_wick_1.csv', 'row': 18, 'Review_Date': '10 September 2019', 'Review_Title': ' Probably NOT a film to watch with your kids or mother.\\n', 'Review_Url': '/review/rw5112990/?ref_=tt_urv', 'Author': 'planktonrules', 'Rating': 7, 'Movie_Title': 'John Wick 1', 'last_accessed_at': '2024-09-28T09:20:20.837139', '_id': 'aed5e9fdae4c4868a54843e705c4bbf0', '_collection_name': 'JohnWick'}, page_content=\": 18\\nReview: When the story begins, John (Keanu Reeves) has just lost his wife. After her death, he's a bit lost but tries to rebuild his life. One day, he's getting gas and a young Russian-American punk notices Wick's classic car...and tries to buy it off him. But Wick isn't interested and declines. Soon, the punk arrives at Wick's home with some goons where they surprise him--beating him senseless, destroying his stuff, killing his dog and stealing his car! This is when you then learn that Wick is a super-assassin....and the punk chose the wrong guy to attack. The jerk's father is a big-time Russian mobster....and it's a contest to see who will win...the mobster and his gang or Wick on his own. Considering there are (so far) two MORE John Wick films, it pretty much seems certain who will win this battle.\"), Document(metadata={'source': 'john_wick_1.csv', 'row': 5, 'Review_Date': '23 March 2023', 'Review_Title': ' Violent and gripping story with plenty of unstopped action , shootouts and breathtaking fights\\n', 'Review_Url': '/review/rw8945545/?ref_=tt_urv', 'Author': 'ma-cortes', 'Rating': 7, 'Movie_Title': 'John Wick 1', 'last_accessed_at': '2024-09-28T09:20:20.837128', '_id': '61c6fa160e5841d49f5a4584d8a7299d', '_collection_name': 'JohnWick'}, page_content=\": 5\\nReview: Ultra-violent first entry with lots of killings, thrills , noisy action , suspense , and crossfire . In this original John Wick (2014) , an ex-hit-man comes out of retirement to track down the gangsters that killed his dog and took everything from him . With the untimely death of his beloved wife still bitter in his mouth he seeks for vengeance . But when an arrogant Russian mob prince and hoodlums steal his car and kill his dog , they are fully aware of his lethal capacity. The Bogeyman will find himself dragged into an impossible task as every killer in the business dreams of cornering the legendary Wick who now has an enormous price on his head . In this first installment John Wick , blind with revenge, and for his salvation John will immediately unleash a carefully orchestrated maelstrom of destruction against those attempt to chase him and with a price tag on his head, as he is the target of hit men : an army of bounty-hunting killers on his trail and a murderer woman everywhere . The legendary hitman will be forced to unearth his meticulously concealed identity and to carry out a relentless vendetta . Now, only blood can quench the boogeyman's thirst for retribution . Don't Set Him Off! . John Wick isn't the Boogeyman... He's the guy you send to kill the doomed Boogeyman. Revenge is all he has left. You want peace, prepare for war . Don't Hunt What You Can't Kill. Tick Tock, Mr. Wick. Everyone Is Waiting. For John Wick . Every Action Has Consequences. This Friday, Wick is Back . Its the World Vs. Wick. Every Action Has Consequences.\"), Document(metadata={'source': 'john_wick_3.csv', 'row': 24, 'Review_Date': '17 May 2019', 'Review_Title': ' Makes John Wick a superb trilogy\\n', 'Review_Url': '/review/rw4860603/?ref_=tt_urv', 'Author': 'masonsaul', 'Rating': 10, 'Movie_Title': 'John Wick 3', 'last_accessed_at': '2024-09-30T09:20:20.837452', '_id': '8d9efbac2855404caf0e816029f1b149', '_collection_name': 'JohnWick'}, page_content=\": 24\\nReview: John Wick: Chapter 3 - Parabellum is quite literally about consequences, dealing with the fallout of John's actions at the end of the previous film and sending him on an even bigger odyssey of violence that continues to explore this world of assassination and deliver beautifully clean action sequences.\"), Document(metadata={'source': 'john_wick_2.csv', 'row': 17, 'Review_Date': '18 March 2018', 'Review_Title': ' Even worse than the first movie\\n', 'Review_Url': '/review/rw4095490/?ref_=tt_urv', 'Author': 'grantss', 'Rating': 2, 'Movie_Title': 'John Wick 2', 'last_accessed_at': '2024-09-29T09:20:20.837299', '_id': 'ded0316da16040f5927183addb746b7c', '_collection_name': 'JohnWick'}, page_content=': 17\\nReview: Picking up where the first movie left off, John Wick still wants his car back. Also, he now discovers that there is a bounty on his head. Rejoining his former profession, he heads to Rome to complete an assassination assignment.'), Document(metadata={'source': 'john_wick_3.csv', 'row': 0, 'Review_Date': '22 September 2019', 'Review_Title': ' Enjoyably choreographed, but the lack of consequence combined with the global scale robs it of urgency and means it outstays its welcome a bit\\n', 'Review_Url': '/review/rw5136960/?ref_=tt_urv', 'Author': 'bob the moo', 'Rating': 0, 'Movie_Title': 'John Wick 3', 'last_accessed_at': '2024-09-30T09:20:20.837436', '_id': 'd9530c91c8054288a4322e094acc11f0', '_collection_name': 'JohnWick'}, page_content=': 0\\nReview: It is 5 years since the first John Wick film - one that took me by surprise by how silly it was as a narrative, but yet how well it delivered action sequences. The second film was only 2 years ago, and it raised the stakes and went from a man seeking revenge on another group of people, into one where the world was filled with assassins, popping up from everywhere all the time. I remember ending that film feeling like it had gone too far but that the third would probably do more of that. True enough, Parabellum (\"prepare for war\") sees the whole world filled with assassins, and a huge administrative system around them - but yet the whole lot of them can\\'t seem to cause John Wick too much trouble. As with the first film, this expands the world more than it can bear, and although it looks cool at times, the world makes no sense whatsoever and it hurts the film the more it relies on it (which it does as it expands it).'), Document(metadata={'source': 'john_wick_2.csv', 'row': 12, 'Review_Date': '8 February 2017', 'Review_Title': ' Love letter for action genre written by bold bloody hallmark, and a pencil.\\n', 'Review_Url': '/review/rw3635439/?ref_=tt_urv', 'Author': 'quincytheodore', 'Rating': 9, 'Movie_Title': 'John Wick 2', 'last_accessed_at': '2024-09-29T09:20:20.837296', '_id': 'd81b3a40553349a18259e40adede5621', '_collection_name': 'JohnWick'}, page_content=\": 12\\nReview: If there's an equivalent of classical orchestra for untamed unapologetically brutal carnage, there's no doubt it'd be John Wick. Dancing through hail of bullets, horde of assassins straight from video game, oozing noir style from each drop of blood, John Wick: Chapter 2 is nothing short of an artistic spectacle.\"), Document(metadata={'source': 'john_wick_3.csv', 'row': 19, 'Review_Date': '22 September 2019', 'Review_Title': ' Sheer enjoyment\\n', 'Review_Url': '/review/rw5135863/?ref_=tt_urv', 'Author': 'Leofwine_draca', 'Rating': 9, 'Movie_Title': 'John Wick 3', 'last_accessed_at': '2024-09-30T09:20:20.837449', '_id': 'beca4eabb8a1437c857a711d1d762de9', '_collection_name': 'JohnWick'}, page_content=': 19\\nReview: The inevitable third chapter of the JOHN WICK franchise continues on a high with the same quality as the last. In fact, this may just pip that one to the post to be the best JOHN WICK yet. The pacing is spot on and the plotting is measured by a huge amount of action sequences, all of which fizz and crackle with skill and energy. The movie hits the ground running as Keanu faces off with a hulking character in a library and then Triads in a weapon shop, but what really amazes here is the sheer inventiveness of the non-repetitive action. There are horse and motorbike chases, a Moroccan brawl with fighting dogs, alongside the massive action of the climax. There also seems to be a greater emphasis on hand-to-hand combat, featuring the likes of RAID actors and old-timer Mark Dacascos, which is a real pleasure as the choreography is top-notch. In terms of sheer enjoyment, this is a film hard to beat, and to criticise it at all is unnecessary. Bring on the fourth!')]}\n",
            "What role do assassins play in the artistic spectacle of John Wick: Chapter 2?\n",
            "{'response': AIMessage(content='In John Wick: Chapter 2, assassins play a significant role as the antagonists that John Wick must face. They are depicted as a horde of killers straight out of a video game, contributing to the brutal and intense action sequences that make the movie an artistic spectacle.', additional_kwargs={'refusal': None}, response_metadata={'token_usage': {'completion_tokens': 56, 'prompt_tokens': 2980, 'total_tokens': 3036, 'completion_tokens_details': {'reasoning_tokens': 0}}, 'model_name': 'gpt-3.5-turbo-0125', 'system_fingerprint': None, 'finish_reason': 'stop', 'logprobs': None}, id='run-1a63f5c3-0789-409d-a782-8af5677a9c60-0', usage_metadata={'input_tokens': 2980, 'output_tokens': 56, 'total_tokens': 3036}), 'context': [Document(metadata={'source': 'john_wick_2.csv', 'row': 12, 'Review_Date': '8 February 2017', 'Review_Title': ' Love letter for action genre written by bold bloody hallmark, and a pencil.\\n', 'Review_Url': '/review/rw3635439/?ref_=tt_urv', 'Author': 'quincytheodore', 'Rating': 9, 'Movie_Title': 'John Wick 2', 'last_accessed_at': '2024-09-29T09:20:20.837296', '_id': 'd81b3a40553349a18259e40adede5621', '_collection_name': 'JohnWick'}, page_content=\": 12\\nReview: If there's an equivalent of classical orchestra for untamed unapologetically brutal carnage, there's no doubt it'd be John Wick. Dancing through hail of bullets, horde of assassins straight from video game, oozing noir style from each drop of blood, John Wick: Chapter 2 is nothing short of an artistic spectacle.\"), Document(metadata={'source': 'john_wick_2.csv', 'row': 19, 'Review_Date': '29 November 2020', 'Review_Title': ' John Wick Kills A Lot Of People\\n', 'Review_Url': '/review/rw6320115/?ref_=tt_urv', 'Author': 'boblipton', 'Rating': 5, 'Movie_Title': 'John Wick 2', 'last_accessed_at': '2024-09-29T09:20:20.837301', '_id': 'd88498fdc2774199bd3aed5c20658bd8', '_collection_name': 'JohnWick'}, page_content=\": 19\\nReview: If you've seen the first John Wick movie, you know that Keanu Reeves is John Wick, a retired assassin who comes out of retirement when someone kills his dog. In this one, which begins a week later, matters are still reverberating, and some one has stolen his car, which calls for a lot of carnage. That settled, John is called on to pay off an old debt by helping Ian McShane take over the Assassin's Guild by flying around to Italy, Canada and Manhattan and killing what seems like hundreds of assassins.\"), Document(metadata={'source': 'john_wick_2.csv', 'row': 16, 'Review_Date': '9 February 2017', 'Review_Title': ' Kick-ass, entertaining and relentless throughout. This is what every sequel should aspire to be.\\n', 'Review_Url': '/review/rw3636884/?ref_=tt_urv', 'Author': 'trublu215', 'Rating': 5, 'Movie_Title': 'John Wick 2', 'last_accessed_at': '2024-09-29T09:20:20.837299', '_id': 'ef94eefbbe5e47e696fd9228c1e40d48', '_collection_name': 'JohnWick'}, page_content=\": 16\\nReview: John Wick Chapter 2 pits Keanu Reeves' titular character against the mean and nefarious of the criminal underworld. Once again, Reeves proves that he is a force to be reckoned with in this ridiculous, over-the-top sequel that is every bit as fun as the original. These types of films are rarely known for their artistic value but John Wick: Chapter 2 sets the bar pretty high, not only in its action, but in it's set design and camera work. This is pure escapist entertainment and couldn't have come at a better time. Those wanting to take a break from watching the Oscar nominees, this film is exactly what you're looking for.\"), Document(metadata={'source': 'john_wick_2.csv', 'row': 0, 'Review_Date': '14 September 2018', 'Review_Title': ' \"No one gets out and comes back without repercussions.\"\\n', 'Review_Url': '/review/rw4338449/?ref_=tt_urv', 'Author': 'classicsoncall', 'Rating': 7, 'Movie_Title': 'John Wick 2', 'last_accessed_at': '2024-09-29T09:20:20.837287', '_id': '627f9ab4e4b64c2db7d199aa7e56a517', '_collection_name': 'JohnWick'}, page_content=': 0\\nReview: No doubt about it, \"John Wick: Chapter 2\" is a slick action thriller, but man, oh man, how can any one person absorb that kind of punishment? John (Keanu Reeves) gets shot, stabbed and hit by cars multiple times and postures a limp now and then to indicate he might have gotten just a little bit hurt. Besides that, he almost never makes a wrong move when hunted by dozens of assassins all at the same time. Okay, I get it, Reeves is the star of the picture and has to come out on top, but I\\'d like a little more credibility put into these kinds of stories. But I guess that\\'s the whole point, suspend your disbelief for a couple of hours and just go with all of the over the top action the film makers can put together.'), Document(metadata={'source': 'john_wick_2.csv', 'row': 4, 'Review_Date': '13 February 2017', 'Review_Title': ' The rare sequel that is better than the original movie\\n', 'Review_Url': '/review/rw3639244/?ref_=tt_urv', 'Author': 'paul-allaer', 'Rating': 8, 'Movie_Title': 'John Wick 2', 'last_accessed_at': '2024-09-29T09:20:20.837290', '_id': 'be1cbf9ce1e44f5aa543bc0c8c3850e0', '_collection_name': 'JohnWick'}, page_content=': 4\\nReview: \"John Wick: Chapter 2\" (2017 release; 122 min.) continues the \\'adventures\\' of former (?) hit man John Wick. As the movie opens, we are immediately thrown in the middle of a car vs. bike chase, and next thing we know, we find our man retrieving his beloved Mustang from a chop shop in NYC, but not without cars flying about, and dozens of dead or wounded bodies. And that\\'s all in the pre-opening credits! As the story unfolds, Wick, who wants \"out, is nevertheless forced back \"in\" when an Italian baddie calls in a favor and Wick has no choice but to accept. To tell you more of the plot would spoil your viewing experience, you\\'ll just have to see for yourself how it all plays out.'), Document(metadata={'source': 'john_wick_2.csv', 'row': 8, 'Review_Date': '23 February 2020', 'Review_Title': ' Great\\n', 'Review_Url': '/review/rw5503709/?ref_=tt_urv', 'Author': 'MrHeraclius', 'Rating': 0, 'Movie_Title': 'John Wick 2', 'last_accessed_at': '2024-09-29T09:20:20.837293', '_id': '33ff4331e52c4404879577c8b1fa006f', '_collection_name': 'JohnWick'}, page_content=\": 8\\nReview: In this 2nd installment of John Wick, the stylish visual and hard core action returns twice the level of the first film. So prepare for another suspenseful and cliffhanging sequences flow from this action movie when you watch this. The story goes deeper and the action scenes were incredibly entertaining! The revenge theme was still part of the movie's plot but this time the focus is the personal backstab of Wick. Keanu Reeves delivers again a notable performance as a titular character. This film is what a sequel movie should be - justifying the connection to the predecessor movie that made it successful by expanding its story and maintaining the elements that made it a superb film. The ending of this film opened the possibility of many more franchise of this movie.\"), Document(metadata={'source': 'john_wick_2.csv', 'row': 23, 'Review_Date': '4 February 2020', 'Review_Title': ' Keanu kills everyone. Again.\\n', 'Review_Url': '/review/rw5459627/?ref_=tt_urv', 'Author': 'BA_Harrison', 'Rating': 5, 'Movie_Title': 'John Wick 2', 'last_accessed_at': '2024-09-29T09:20:20.837303', '_id': '43773fe34c1245d181388dbd24e3cc6f', '_collection_name': 'JohnWick'}, page_content=\": 23\\nReview: I love me a bit of the old ultra-violence, but I also like a plot of some kind to go with all of the gunfire, blood and broken bones. Failing that, the gory mayhem had better be something special - something that breaks new ground in terms of action cinema. John Wick Chapter 2 is relentlessly violent, Keanu Reeves' eponymous hitman laying waste to almost everyone he crosses paths with, once again finishing most victims with a shot to the head, but the action is simply more of the same, director Chad Stahelski bringing nothing new to the table.\"), Document(metadata={'source': 'john_wick_3.csv', 'row': 0, 'Review_Date': '22 September 2019', 'Review_Title': ' Enjoyably choreographed, but the lack of consequence combined with the global scale robs it of urgency and means it outstays its welcome a bit\\n', 'Review_Url': '/review/rw5136960/?ref_=tt_urv', 'Author': 'bob the moo', 'Rating': 0, 'Movie_Title': 'John Wick 3', 'last_accessed_at': '2024-09-30T09:20:20.837436', '_id': 'd9530c91c8054288a4322e094acc11f0', '_collection_name': 'JohnWick'}, page_content=': 0\\nReview: It is 5 years since the first John Wick film - one that took me by surprise by how silly it was as a narrative, but yet how well it delivered action sequences. The second film was only 2 years ago, and it raised the stakes and went from a man seeking revenge on another group of people, into one where the world was filled with assassins, popping up from everywhere all the time. I remember ending that film feeling like it had gone too far but that the third would probably do more of that. True enough, Parabellum (\"prepare for war\") sees the whole world filled with assassins, and a huge administrative system around them - but yet the whole lot of them can\\'t seem to cause John Wick too much trouble. As with the first film, this expands the world more than it can bear, and although it looks cool at times, the world makes no sense whatsoever and it hurts the film the more it relies on it (which it does as it expands it).'), Document(metadata={'source': 'john_wick_3.csv', 'row': 6, 'Review_Date': '7 February 2020', 'Review_Title': ' More of the same. Yawn!\\n', 'Review_Url': '/review/rw5466367/?ref_=tt_urv', 'Author': 'BA_Harrison', 'Rating': 4, 'Movie_Title': 'John Wick 3', 'last_accessed_at': '2024-09-30T09:20:20.837441', '_id': '6dbc333bf18c4c4c91abeef4934628d2', '_collection_name': 'JohnWick'}, page_content=\": 6\\nReview: Assassin John Wick is referred to as Baba Yaga in this third chapter, suggesting that he is, in fact, a supernatural being; his ability to evade death, appear and disappear like a ninja from a Godfrey Ho film, and move with lightning fast reflexes despite being in his mid-fifties confirms this fact, in my opinion. Unfortunately, Wick's invincibility means that the many action scenes in Parabellum are largely devoid of excitement, the only outcome being that Wick is still alive and all of his enemies are dead.\"), Document(metadata={'source': 'john_wick_1.csv', 'row': 3, 'Review_Date': '28 September 2018', 'Review_Title': ' Keanu gets pissed and shoots people in the face for 101 minutes*\\n', 'Review_Url': '/review/rw4366368/?ref_=tt_urv', 'Author': 'Kitsfi', 'Rating': 8, 'Movie_Title': 'John Wick 1', 'last_accessed_at': '2024-09-28T09:20:20.837127', '_id': '156478ef15ef463cae8b3148a5941991', '_collection_name': 'JohnWick'}, page_content=': 3\\nReview: John wick has a very simple revenge story. It can be summarized as \"Keanu gets angry and shoots bad guys\" but what makes it special? Directed by Chad Stahelski who\\'s a stunt specialist boy does it show because the main selling point in the film are some real virtuoso action sequences, well made choreographies. Unlike today\\'s action movies, it doesn\\'t use quick-cuts or shaky cameras actually see what\\'s going on.')]}\n",
            "How does stunt work affect action in John Wick movies?\n",
            "{'response': AIMessage(content='Stunt work plays a significant role in the John Wick movies, contributing to the real virtuoso action sequences and well-made choreographies that are a main selling point of the films. The use of stunt work, combined with the expertise of the directors and actors, helps create the intense and visually impressive action scenes that have become a defining aspect of the franchise.', additional_kwargs={'refusal': None}, response_metadata={'token_usage': {'completion_tokens': 72, 'prompt_tokens': 3812, 'total_tokens': 3884, 'completion_tokens_details': {'reasoning_tokens': 0}}, 'model_name': 'gpt-3.5-turbo-0125', 'system_fingerprint': None, 'finish_reason': 'stop', 'logprobs': None}, id='run-d80b0540-1dff-4a1d-afa5-c49c3613aa2f-0', usage_metadata={'input_tokens': 3812, 'output_tokens': 72, 'total_tokens': 3884}), 'context': [Document(metadata={'source': 'john_wick_1.csv', 'row': 3, 'Review_Date': '28 September 2018', 'Review_Title': ' Keanu gets pissed and shoots people in the face for 101 minutes*\\n', 'Review_Url': '/review/rw4366368/?ref_=tt_urv', 'Author': 'Kitsfi', 'Rating': 8, 'Movie_Title': 'John Wick 1', 'last_accessed_at': '2024-09-28T09:20:20.837127', '_id': '156478ef15ef463cae8b3148a5941991', '_collection_name': 'JohnWick'}, page_content=': 3\\nReview: John wick has a very simple revenge story. It can be summarized as \"Keanu gets angry and shoots bad guys\" but what makes it special? Directed by Chad Stahelski who\\'s a stunt specialist boy does it show because the main selling point in the film are some real virtuoso action sequences, well made choreographies. Unlike today\\'s action movies, it doesn\\'t use quick-cuts or shaky cameras actually see what\\'s going on.'), Document(metadata={'source': 'john_wick_2.csv', 'row': 0, 'Review_Date': '14 September 2018', 'Review_Title': ' \"No one gets out and comes back without repercussions.\"\\n', 'Review_Url': '/review/rw4338449/?ref_=tt_urv', 'Author': 'classicsoncall', 'Rating': 7, 'Movie_Title': 'John Wick 2', 'last_accessed_at': '2024-09-29T09:20:20.837287', '_id': '627f9ab4e4b64c2db7d199aa7e56a517', '_collection_name': 'JohnWick'}, page_content=': 0\\nReview: No doubt about it, \"John Wick: Chapter 2\" is a slick action thriller, but man, oh man, how can any one person absorb that kind of punishment? John (Keanu Reeves) gets shot, stabbed and hit by cars multiple times and postures a limp now and then to indicate he might have gotten just a little bit hurt. Besides that, he almost never makes a wrong move when hunted by dozens of assassins all at the same time. Okay, I get it, Reeves is the star of the picture and has to come out on top, but I\\'d like a little more credibility put into these kinds of stories. But I guess that\\'s the whole point, suspend your disbelief for a couple of hours and just go with all of the over the top action the film makers can put together.'), Document(metadata={'source': 'john_wick_2.csv', 'row': 9, 'Review_Date': '22 July 2017', 'Review_Title': ' A disappointing sequel for the most part\\n', 'Review_Url': '/review/rw3760991/?ref_=tt_urv', 'Author': 'Horst_In_Translation', 'Rating': 4, 'Movie_Title': 'John Wick 2', 'last_accessed_at': '2024-09-29T09:20:20.837294', '_id': '2a9defa01f3d400586fb3c07f7ae4294', '_collection_name': 'JohnWick'}, page_content=': 9\\nReview: \"John Wick: Chapter 2\" is an American movie from this year (2017). Experienced visual effects artist Stahelski and Kolstad returned from the very first Wick film to work on the script/direction here too, so the premise with regard to people working behind the camera is there. And in front of the camera we see familiar faces again, people that survived the film, like most of all Keanu Reeves playing the central character. This is a really long film at over 2 hours and at this runtime, it is considerably longer than the first. And there is a lot other stuff different compared to the original. Most has to do with the fun component. I think the first film was a great fun watch from start to finish while offering emotion nonetheless and also delivering in the crime and drama genres. And action too, but I don\\'t care too much about that. This genre is also basically the only one where this new movie delivers as the first 30 minutes are truly packed with action. It gets less afterward, but there is no denying that it was still all about the action and nothing else.'), Document(metadata={'source': 'john_wick_4.csv', 'row': 18, 'Review_Date': '17 March 2023', 'Review_Title': ' Not Just The Best John Wick, But Possibly One Of The Best Action Movies Ever\\n', 'Review_Url': '/review/rw8935367/?ref_=tt_urv', 'Author': 'cadillac20', 'Rating': 10, 'Movie_Title': 'John Wick 4', 'last_accessed_at': '2024-10-01T09:20:20.837593', '_id': '9b20976840684c6ab9b54d3c76e7c0d3', '_collection_name': 'JohnWick'}, page_content=\": 18\\nReview: Ever since the original John Wick, the franchise has set a standard of what action in Hollywood should be. Thanks to Chad Stahelski and Keanu Reeve's knowledge of the technical aspects of shooting action, they've been able to deliver expertly choreographed, shot, and edited action films that are now the go to as examples of great action filmmaking. And so, the expectations for the fourth film were fairly high, especially as it became more apparent this was not only the culmination of everything before it, but a whopping 169 minutes long. Rest assured, however, that it delivers in spades. Everything we have come to know and love is here, but with an infusion of creativity like we haven't seen from the franchise yet.\"), Document(metadata={'source': 'john_wick_1.csv', 'row': 9, 'Review_Date': '20 October 2014', 'Review_Title': \" The coolest action film you'll see all year\\n\", 'Review_Url': '/review/rw3107759/?ref_=tt_urv', 'Author': 'trublu215', 'Rating': 9, 'Movie_Title': 'John Wick 1', 'last_accessed_at': '2024-09-28T09:20:20.837133', '_id': '73e00e211a4f42deb8409d12ca16e266', '_collection_name': 'JohnWick'}, page_content=\": 9\\nReview: At first glance, John Wick sounds like a terrible film on paper but with the slickness of Keanu Reeves' performance as the titular character and the sheer brilliance in its action sequences, this marks the best action film of the year and one of the absolute best in the past decade. Following a brutal home invasion that leaves his beloved dog murdered by thugs from his past, John Wick vows revenge on the ones who have taken what he loves most. Like I said, on paper, this seems like a direct-to-DVD slopfest starring John Cena but as a film with Keanu Reeves as the lead, it marks the very welcomed return for Reeves to the genre. John Wick is insanely fun, violently brutal and an overall romp especially for those disappointed by The Expendables 3. John Wick is propelled by Tarantino-esque dialog mixed with the swagger of action stars from the 70s. Reeves literally emulates cool in this film and does it with such confidence, that we don't even doubt the character...even when he kills countless bad guys with extreme force in some utterly ridiculous and implausible situations. We don't doubt it for a minute. This is EXACTLY what you want out of an action film. It is briskly paced, brilliantly shot and meticulously choreographed and keeps you wanting more and more. The supporting cast filled with the likes of John Legiuzamo, Ian McShane, and Willen Dafoe also keeps this film very interesting. These guys don't play good guys, hell, John Wick by traditional standards would be a bad guy in any other film. Every character is more ruthless than the next and pushes John Wick to be more ruthless than they are, creating a very cool dynamic between the character and the plot regarding the idea of how far is too far? However, don't expect some revelation from John Wick regarding the morality of bad and evil. This film wants you entertained and does so with brute force, it never lets up, not even for a second. One scene in particular that will have your blood pumping is a showdown between thugs and Wick in a nightclub. This action sequence remains the best in the film and will have you grasping your theater seat because of the sheer intensity of it. Overall, John Wick is slick, violent fun that turns into a remarkable, surprising film that will catch you off guard. It is THAT good. I highly recommend this film to action buffs especially but I'm sure those who just like a good movie will love it as well.\"), Document(metadata={'source': 'john_wick_1.csv', 'row': 20, 'Review_Date': '22 October 2014', 'Review_Title': ' Smoothest action film to come around in a long time\\n', 'Review_Url': '/review/rw3109271/?ref_=tt_urv', 'Author': 'IceSkateUpHill', 'Rating': 10, 'Movie_Title': 'John Wick 1', 'last_accessed_at': '2024-09-28T09:20:20.837141', '_id': '780d41c4f5364fd6b15651dfd440eba3', '_collection_name': 'JohnWick'}, page_content=\": 20\\nReview: John Wick is something special. It takes as much time setting up elaborate action sequences as it does the world with which it all takes place in. And what a world it is. It reminds me of Millers Crossing and it is cooler than any other recent attempt at noir. We are shown a criminal underworld where, if you are connected, many powerful people know who you are and show you respect. John Wick was connected but he got out. He is the rare killer who has found peace, and he is grateful for that peace. Some young kids steal that from him and he does what he does best, he wages a one man war against the Russian Mafia. It might sound like the film takes quite a leap but it all makes sense. The motives of John and the people who get in the way of his bullets are all very clear, even if it does come across as rather simple. That's the plot at it's most basic. Then there's the action. The film is directed by Reeve's stuntman from The Matrix, so this guy knows action. There are sequences that flow so smoothly it puts other action films and their quick cuts to shame. Keaunu moves so fluidly throughout the film and comes across as such a natural that the only disappointment is that we have not seen him like this before. Along the way are plenty of character actors, fans of The Matrix and The Wire will recognize a few people then there are more obvious ones like Ian McShane and Willem Dafoe. Everyone seems to be having a good time. That is another plus for this movie. It get's dark at times but overall it is quite fun, not very chipper, but fun. I cannot recommend this movie enough. I believe it is a must see for action fans and for anyone looking for something a bit different from the usual fare.\"), Document(metadata={'source': 'john_wick_1.csv', 'row': 17, 'Review_Date': '27 February 2016', 'Review_Title': ' The man who kills the Boogeyman\\n', 'Review_Url': '/review/rw3422991/?ref_=tt_urv', 'Author': 'Horst_In_Translation', 'Rating': 8, 'Movie_Title': 'John Wick 1', 'last_accessed_at': '2024-09-28T09:20:20.837139', '_id': 'e58c5fdd6169478493cdb5840aa6cf65', '_collection_name': 'JohnWick'}, page_content=': 17\\nReview: There are actually quite a handful reasons why \"John Wick\" could have become a failure. The two directors have never made a film before and almost exclusively worked in the stunt department so far. The writer is not exactly experienced either. Lead actor Keanu Reeves usually scores more through boyish charm than through realistic portrayal of gritty badass characters. And the genre of crime action thrillers rarely delivers in terms of real significance. Still it became a very good film. The main reason for that is probably that it does not attempt to be anything of great cinematic value, does not try to teach groundbreaking stories on moral, loyalty or betrayal. Instead, Derek Kolstad\\'s script goes for a gutsy revenge thriller that is not even hurt by its occasional predictability.'), Document(metadata={'source': 'john_wick_2.csv', 'row': 4, 'Review_Date': '13 February 2017', 'Review_Title': ' The rare sequel that is better than the original movie\\n', 'Review_Url': '/review/rw3639244/?ref_=tt_urv', 'Author': 'paul-allaer', 'Rating': 8, 'Movie_Title': 'John Wick 2', 'last_accessed_at': '2024-09-29T09:20:20.837290', '_id': 'be1cbf9ce1e44f5aa543bc0c8c3850e0', '_collection_name': 'JohnWick'}, page_content=': 4\\nReview: \"John Wick: Chapter 2\" (2017 release; 122 min.) continues the \\'adventures\\' of former (?) hit man John Wick. As the movie opens, we are immediately thrown in the middle of a car vs. bike chase, and next thing we know, we find our man retrieving his beloved Mustang from a chop shop in NYC, but not without cars flying about, and dozens of dead or wounded bodies. And that\\'s all in the pre-opening credits! As the story unfolds, Wick, who wants \"out, is nevertheless forced back \"in\" when an Italian baddie calls in a favor and Wick has no choice but to accept. To tell you more of the plot would spoil your viewing experience, you\\'ll just have to see for yourself how it all plays out.'), Document(metadata={'source': 'john_wick_1.csv', 'row': 0, 'Review_Date': '6 May 2015', 'Review_Title': ' Kinetic, concise, and stylish; John Wick kicks ass.\\n', 'Review_Url': '/review/rw3233896/?ref_=tt_urv', 'Author': 'lnvicta', 'Rating': 8, 'Movie_Title': 'John Wick 1', 'last_accessed_at': '2024-09-28T09:20:20.837118', '_id': '1368a0c0b1434949a40d1885b08b2851', '_collection_name': 'JohnWick'}, page_content=\": 0\\nReview: The best way I can describe John Wick is to picture Taken but instead of Liam Neeson it's Keanu Reeves and instead of his daughter it's his dog. That's essentially the plot of the movie. John Wick (Reeves) is out to seek revenge on the people who took something he loved from him. It's a beautifully simple premise for an action movie - when action movies get convoluted, they get bad i.e. A Good Day to Die Hard. John Wick gives the viewers what they want: Awesome action, stylish stunts, kinetic chaos, and a relatable hero to tie it all together. John Wick succeeds in its simplicity.\"), Document(metadata={'source': 'john_wick_1.csv', 'row': 18, 'Review_Date': '10 September 2019', 'Review_Title': ' Probably NOT a film to watch with your kids or mother.\\n', 'Review_Url': '/review/rw5112990/?ref_=tt_urv', 'Author': 'planktonrules', 'Rating': 7, 'Movie_Title': 'John Wick 1', 'last_accessed_at': '2024-09-28T09:20:20.837139', '_id': 'aed5e9fdae4c4868a54843e705c4bbf0', '_collection_name': 'JohnWick'}, page_content=\": 18\\nReview: When the story begins, John (Keanu Reeves) has just lost his wife. After her death, he's a bit lost but tries to rebuild his life. One day, he's getting gas and a young Russian-American punk notices Wick's classic car...and tries to buy it off him. But Wick isn't interested and declines. Soon, the punk arrives at Wick's home with some goons where they surprise him--beating him senseless, destroying his stuff, killing his dog and stealing his car! This is when you then learn that Wick is a super-assassin....and the punk chose the wrong guy to attack. The jerk's father is a big-time Russian mobster....and it's a contest to see who will win...the mobster and his gang or Wick on his own. Considering there are (so far) two MORE John Wick films, it pretty much seems certain who will win this battle.\")]}\n",
            "What makes action movies like John Wick 3 stand out?\n",
            "{'response': AIMessage(content=\"What makes action movies like John Wick 3 stand out is the expertly choreographed and shot action sequences. Unlike many action films today, John Wick 3 doesn't rely on quick-cuts or shaky cameras, allowing viewers to clearly see and appreciate the action unfold. This attention to detail and the high-quality action scenes contribute to what sets movies like John Wick 3 apart in the action genre.\", additional_kwargs={'refusal': None}, response_metadata={'token_usage': {'completion_tokens': 80, 'prompt_tokens': 3450, 'total_tokens': 3530, 'completion_tokens_details': {'reasoning_tokens': 0}}, 'model_name': 'gpt-3.5-turbo-0125', 'system_fingerprint': None, 'finish_reason': 'stop', 'logprobs': None}, id='run-3567c1ed-51c0-4145-a7c0-96ad6c4f212f-0', usage_metadata={'input_tokens': 3450, 'output_tokens': 80, 'total_tokens': 3530}), 'context': [Document(metadata={'source': 'john_wick_1.csv', 'row': 3, 'Review_Date': '28 September 2018', 'Review_Title': ' Keanu gets pissed and shoots people in the face for 101 minutes*\\n', 'Review_Url': '/review/rw4366368/?ref_=tt_urv', 'Author': 'Kitsfi', 'Rating': 8, 'Movie_Title': 'John Wick 1', 'last_accessed_at': '2024-09-28T09:20:20.837127', '_id': '156478ef15ef463cae8b3148a5941991', '_collection_name': 'JohnWick'}, page_content=': 3\\nReview: John wick has a very simple revenge story. It can be summarized as \"Keanu gets angry and shoots bad guys\" but what makes it special? Directed by Chad Stahelski who\\'s a stunt specialist boy does it show because the main selling point in the film are some real virtuoso action sequences, well made choreographies. Unlike today\\'s action movies, it doesn\\'t use quick-cuts or shaky cameras actually see what\\'s going on.'), Document(metadata={'source': 'john_wick_3.csv', 'row': 22, 'Review_Date': '18 May 2019', 'Review_Title': ' Pure brutal action with shallow, uninteresting story dragging it to the mediocrity.\\n', 'Review_Url': '/review/rw4862259/?ref_=tt_urv', 'Author': 'karmazyn', 'Rating': 6, 'Movie_Title': 'John Wick 3', 'last_accessed_at': '2024-09-30T09:20:20.837451', '_id': 'ffea2eae64fb47d086ff64733e2287db', '_collection_name': 'JohnWick'}, page_content=\": 22\\nReview: Lets contemplate about components of perfect action movie for a moment- What makes action movies special. Is it it's characters, is it ability to create fantastic choreography or maybe new, shiny special effects. Is it sound design or perhaps a good story ? What will elevate action movie to a new heights? What you need to do to create an instant classic? John Wick 3 creators might not have found all the answers but they definitely created something special and unique.\"), Document(metadata={'source': 'john_wick_3.csv', 'row': 16, 'Review_Date': '16 May 2019', 'Review_Title': \" Finally an action franchise than doesn't lose its touch!\\n\", 'Review_Url': '/review/rw4858493/?ref_=tt_urv', 'Author': 'Dannyboi94', 'Rating': 8, 'Movie_Title': 'John Wick 3', 'last_accessed_at': '2024-09-30T09:20:20.837447', '_id': '050f17684fe34f48b046f7a2b5a35b24', '_collection_name': 'JohnWick'}, page_content=\": 16\\nReview: John Wick 3 is without a doubt the best action movie to have come out in a few years. And its so surprising and refreshing to see that movies like this still exist. Most action movies you see is filled with ridiculous amounts of shaky-cam, fast edits and way over-the-top fights. This is perfect. You can see all action clear as day, and by god the stuns in this film are extraordinary. Why the Academy Awards don't award talent like this is beyond me. There were times that I wondered if they had used CGI, because someone nuts must be willing to throw themselves from motorbikes and through glass. But whatever case it is, its a dam joy to watch.\"), Document(metadata={'source': 'john_wick_3.csv', 'row': 1, 'Review_Date': '21 October 2021', 'Review_Title': ' Starting to test the friendship\\n', 'Review_Url': '/review/rw7466057/?ref_=tt_urv', 'Author': 'benxrichardson', 'Rating': 6, 'Movie_Title': 'John Wick 3', 'last_accessed_at': '2024-09-30T09:20:20.837437', '_id': '80848f777ed74086851b04df37a2b560', '_collection_name': 'JohnWick'}, page_content=\": 1\\nReview: I'm a fan of the John Wick films. The action sequences are of the highest order and there is quite a bit that feels unique in each action scene. By half way through JW3I started to long for a plot line or a human relationship. There needs to be more to a movie than just fighting.\"), Document(metadata={'source': 'john_wick_1.csv', 'row': 9, 'Review_Date': '20 October 2014', 'Review_Title': \" The coolest action film you'll see all year\\n\", 'Review_Url': '/review/rw3107759/?ref_=tt_urv', 'Author': 'trublu215', 'Rating': 9, 'Movie_Title': 'John Wick 1', 'last_accessed_at': '2024-09-28T09:20:20.837133', '_id': '73e00e211a4f42deb8409d12ca16e266', '_collection_name': 'JohnWick'}, page_content=\": 9\\nReview: At first glance, John Wick sounds like a terrible film on paper but with the slickness of Keanu Reeves' performance as the titular character and the sheer brilliance in its action sequences, this marks the best action film of the year and one of the absolute best in the past decade. Following a brutal home invasion that leaves his beloved dog murdered by thugs from his past, John Wick vows revenge on the ones who have taken what he loves most. Like I said, on paper, this seems like a direct-to-DVD slopfest starring John Cena but as a film with Keanu Reeves as the lead, it marks the very welcomed return for Reeves to the genre. John Wick is insanely fun, violently brutal and an overall romp especially for those disappointed by The Expendables 3. John Wick is propelled by Tarantino-esque dialog mixed with the swagger of action stars from the 70s. Reeves literally emulates cool in this film and does it with such confidence, that we don't even doubt the character...even when he kills countless bad guys with extreme force in some utterly ridiculous and implausible situations. We don't doubt it for a minute. This is EXACTLY what you want out of an action film. It is briskly paced, brilliantly shot and meticulously choreographed and keeps you wanting more and more. The supporting cast filled with the likes of John Legiuzamo, Ian McShane, and Willen Dafoe also keeps this film very interesting. These guys don't play good guys, hell, John Wick by traditional standards would be a bad guy in any other film. Every character is more ruthless than the next and pushes John Wick to be more ruthless than they are, creating a very cool dynamic between the character and the plot regarding the idea of how far is too far? However, don't expect some revelation from John Wick regarding the morality of bad and evil. This film wants you entertained and does so with brute force, it never lets up, not even for a second. One scene in particular that will have your blood pumping is a showdown between thugs and Wick in a nightclub. This action sequence remains the best in the film and will have you grasping your theater seat because of the sheer intensity of it. Overall, John Wick is slick, violent fun that turns into a remarkable, surprising film that will catch you off guard. It is THAT good. I highly recommend this film to action buffs especially but I'm sure those who just like a good movie will love it as well.\"), Document(metadata={'source': 'john_wick_1.csv', 'row': 20, 'Review_Date': '22 October 2014', 'Review_Title': ' Smoothest action film to come around in a long time\\n', 'Review_Url': '/review/rw3109271/?ref_=tt_urv', 'Author': 'IceSkateUpHill', 'Rating': 10, 'Movie_Title': 'John Wick 1', 'last_accessed_at': '2024-09-28T09:20:20.837141', '_id': '780d41c4f5364fd6b15651dfd440eba3', '_collection_name': 'JohnWick'}, page_content=\": 20\\nReview: John Wick is something special. It takes as much time setting up elaborate action sequences as it does the world with which it all takes place in. And what a world it is. It reminds me of Millers Crossing and it is cooler than any other recent attempt at noir. We are shown a criminal underworld where, if you are connected, many powerful people know who you are and show you respect. John Wick was connected but he got out. He is the rare killer who has found peace, and he is grateful for that peace. Some young kids steal that from him and he does what he does best, he wages a one man war against the Russian Mafia. It might sound like the film takes quite a leap but it all makes sense. The motives of John and the people who get in the way of his bullets are all very clear, even if it does come across as rather simple. That's the plot at it's most basic. Then there's the action. The film is directed by Reeve's stuntman from The Matrix, so this guy knows action. There are sequences that flow so smoothly it puts other action films and their quick cuts to shame. Keaunu moves so fluidly throughout the film and comes across as such a natural that the only disappointment is that we have not seen him like this before. Along the way are plenty of character actors, fans of The Matrix and The Wire will recognize a few people then there are more obvious ones like Ian McShane and Willem Dafoe. Everyone seems to be having a good time. That is another plus for this movie. It get's dark at times but overall it is quite fun, not very chipper, but fun. I cannot recommend this movie enough. I believe it is a must see for action fans and for anyone looking for something a bit different from the usual fare.\"), Document(metadata={'source': 'john_wick_3.csv', 'row': 5, 'Review_Date': '17 July 2019', 'Review_Title': ' The magic is gone\\n', 'Review_Url': '/review/rw4999970/?ref_=tt_urv', 'Author': 'soundoflight', 'Rating': 5, 'Movie_Title': 'John Wick 3', 'last_accessed_at': '2024-09-30T09:20:20.837440', '_id': 'd5410bcc8c454b7bb5132655d99d3c63', '_collection_name': 'JohnWick'}, page_content=': 5\\nReview: The first John Wick film was special because it broke a mold of sorts. It went against certain action film conventions - the hero was not a muscle bound hulk like a Schwarzenegger or Stallone, the action was super fast paced, the plot was basic and straighforward, but introduced some unique elements, and there was something a bit unique and stylish about the film. John Wick was cool.'), Document(metadata={'source': 'john_wick_4.csv', 'row': 18, 'Review_Date': '17 March 2023', 'Review_Title': ' Not Just The Best John Wick, But Possibly One Of The Best Action Movies Ever\\n', 'Review_Url': '/review/rw8935367/?ref_=tt_urv', 'Author': 'cadillac20', 'Rating': 10, 'Movie_Title': 'John Wick 4', 'last_accessed_at': '2024-10-01T09:20:20.837593', '_id': '9b20976840684c6ab9b54d3c76e7c0d3', '_collection_name': 'JohnWick'}, page_content=\": 18\\nReview: Ever since the original John Wick, the franchise has set a standard of what action in Hollywood should be. Thanks to Chad Stahelski and Keanu Reeve's knowledge of the technical aspects of shooting action, they've been able to deliver expertly choreographed, shot, and edited action films that are now the go to as examples of great action filmmaking. And so, the expectations for the fourth film were fairly high, especially as it became more apparent this was not only the culmination of everything before it, but a whopping 169 minutes long. Rest assured, however, that it delivers in spades. Everything we have come to know and love is here, but with an infusion of creativity like we haven't seen from the franchise yet.\"), Document(metadata={'source': 'john_wick_4.csv', 'row': 14, 'Review_Date': '23 March 2023', 'Review_Title': ' Yeah\\n', 'Review_Url': '/review/rw8946621/?ref_=tt_urv', 'Author': 'markvanwasbeek', 'Rating': 9, 'Movie_Title': 'John Wick 4', 'last_accessed_at': '2024-10-01T09:20:20.837590', '_id': '1d4976cc623844d2bed5e69e71485154', '_collection_name': 'JohnWick'}, page_content=\": 14\\nReview: By now you know what to expect from a John Wick movie. I thought the franchise was losing a little momentum in chapter 3 so I was worried this could be disappointing. It's not. It's even more on steroids than any Wick before! Even close to 3 hours it doesn't feel to long which is very special for a action movie. This franchise has set new standards. If anybody says a movie is good like John Wick, it better f'n be! The set pieces as everyone mentioned before are really insane this time. The Tokyo sceney with illuminated cherry blossoms was beautiful. The only super illogical thing that bothered me was that nobody flinched at the nightclub, eventually they did but after a whole 10 minute beatdown through the whole club, but then again it's a shady nightclub for high table people. If you liked the first three movies, get your ass to the cinema. Yeah.\"), Document(metadata={'source': 'john_wick_1.csv', 'row': 0, 'Review_Date': '6 May 2015', 'Review_Title': ' Kinetic, concise, and stylish; John Wick kicks ass.\\n', 'Review_Url': '/review/rw3233896/?ref_=tt_urv', 'Author': 'lnvicta', 'Rating': 8, 'Movie_Title': 'John Wick 1', 'last_accessed_at': '2024-09-28T09:20:20.837118', '_id': '1368a0c0b1434949a40d1885b08b2851', '_collection_name': 'JohnWick'}, page_content=\": 0\\nReview: The best way I can describe John Wick is to picture Taken but instead of Liam Neeson it's Keanu Reeves and instead of his daughter it's his dog. That's essentially the plot of the movie. John Wick (Reeves) is out to seek revenge on the people who took something he loved from him. It's a beautifully simple premise for an action movie - when action movies get convoluted, they get bad i.e. A Good Day to Die Hard. John Wick gives the viewers what they want: Awesome action, stylish stunts, kinetic chaos, and a relatable hero to tie it all together. John Wick succeeds in its simplicity.\")]}\n",
            "How do cutting-edge visual effects affect action film creation?\n",
            "{'response': AIMessage(content='Cutting-edge visual effects play a significant role in enhancing action film creation by providing filmmakers with the ability to create more realistic and visually stunning sequences. These effects can elevate the overall quality of action scenes, making them more engaging and immersive for the audience. In the case of the John Wick franchise, the use of practical effects combined with well-executed visual effects has contributed to the success and acclaim of the films. The seamless integration of these effects has allowed for the creation of expertly choreographed and visually striking action sequences that set a high standard for action filmmaking.', additional_kwargs={'refusal': None}, response_metadata={'token_usage': {'completion_tokens': 113, 'prompt_tokens': 3334, 'total_tokens': 3447, 'completion_tokens_details': {'reasoning_tokens': 0}}, 'model_name': 'gpt-3.5-turbo-0125', 'system_fingerprint': None, 'finish_reason': 'stop', 'logprobs': None}, id='run-3e6643b5-1e1d-42a5-ac18-69863e84fcf8-0', usage_metadata={'input_tokens': 3334, 'output_tokens': 113, 'total_tokens': 3447}), 'context': [Document(metadata={'source': 'john_wick_4.csv', 'row': 10, 'Review_Date': '22 March 2023', 'Review_Title': ' How Can Anyone Choose to Watch Marvel Over This?\\n', 'Review_Url': '/review/rw8944843/?ref_=tt_urv', 'Author': 'lovemichaeljordan', 'Rating': 8, 'Movie_Title': 'John Wick 4', 'last_accessed_at': '2024-10-01T09:20:20.837588', '_id': '08ca004e273a4165a9ebeef729f88fde', '_collection_name': 'JohnWick'}, page_content=\": 10\\nReview: Most American action flicks released these days have poor screenplays and overuse computer-generated imagery. The John Wick franchise is one of the few exceptions, along with Mission Impossible. These franchises keep getting better with every entry. Hollywood can make action masterpieces, but Marvel has greater demand, so that's what we get most of. It's a shame.\"), Document(metadata={'source': 'john_wick_3.csv', 'row': 22, 'Review_Date': '18 May 2019', 'Review_Title': ' Pure brutal action with shallow, uninteresting story dragging it to the mediocrity.\\n', 'Review_Url': '/review/rw4862259/?ref_=tt_urv', 'Author': 'karmazyn', 'Rating': 6, 'Movie_Title': 'John Wick 3', 'last_accessed_at': '2024-09-30T09:20:20.837451', '_id': 'ffea2eae64fb47d086ff64733e2287db', '_collection_name': 'JohnWick'}, page_content=\": 22\\nReview: Lets contemplate about components of perfect action movie for a moment- What makes action movies special. Is it it's characters, is it ability to create fantastic choreography or maybe new, shiny special effects. Is it sound design or perhaps a good story ? What will elevate action movie to a new heights? What you need to do to create an instant classic? John Wick 3 creators might not have found all the answers but they definitely created something special and unique.\"), Document(metadata={'source': 'john_wick_3.csv', 'row': 16, 'Review_Date': '16 May 2019', 'Review_Title': \" Finally an action franchise than doesn't lose its touch!\\n\", 'Review_Url': '/review/rw4858493/?ref_=tt_urv', 'Author': 'Dannyboi94', 'Rating': 8, 'Movie_Title': 'John Wick 3', 'last_accessed_at': '2024-09-30T09:20:20.837447', '_id': '050f17684fe34f48b046f7a2b5a35b24', '_collection_name': 'JohnWick'}, page_content=\": 16\\nReview: John Wick 3 is without a doubt the best action movie to have come out in a few years. And its so surprising and refreshing to see that movies like this still exist. Most action movies you see is filled with ridiculous amounts of shaky-cam, fast edits and way over-the-top fights. This is perfect. You can see all action clear as day, and by god the stuns in this film are extraordinary. Why the Academy Awards don't award talent like this is beyond me. There were times that I wondered if they had used CGI, because someone nuts must be willing to throw themselves from motorbikes and through glass. But whatever case it is, its a dam joy to watch.\"), Document(metadata={'source': 'john_wick_1.csv', 'row': 1, 'Review_Date': '17 January 2015', 'Review_Title': ' Story: 3 minutes; Entertainment: 101 minutes.\\n', 'Review_Url': '/review/rw3164002/?ref_=tt_urv', 'Author': 'CountJonnie', 'Rating': 7, 'Movie_Title': 'John Wick 1', 'last_accessed_at': '2024-09-28T09:20:20.837125', '_id': 'd1f46beb83dd428f86f3e443ae15bb7e', '_collection_name': 'JohnWick'}, page_content=\": 1\\nReview: It looks as if the filmmakers realized that the public was sick of certain movies. Most movies nowadays are full of wire work, sci-fi, etc. often topped with icing made of needless or predictable background stories that add nothing. For example the beautiful girlfriend who gives the moral speeches or the troubled teenage daughter, who aren't present here.\"), Document(metadata={'source': 'john_wick_1.csv', 'row': 3, 'Review_Date': '28 September 2018', 'Review_Title': ' Keanu gets pissed and shoots people in the face for 101 minutes*\\n', 'Review_Url': '/review/rw4366368/?ref_=tt_urv', 'Author': 'Kitsfi', 'Rating': 8, 'Movie_Title': 'John Wick 1', 'last_accessed_at': '2024-09-28T09:20:20.837127', '_id': '156478ef15ef463cae8b3148a5941991', '_collection_name': 'JohnWick'}, page_content=': 3\\nReview: John wick has a very simple revenge story. It can be summarized as \"Keanu gets angry and shoots bad guys\" but what makes it special? Directed by Chad Stahelski who\\'s a stunt specialist boy does it show because the main selling point in the film are some real virtuoso action sequences, well made choreographies. Unlike today\\'s action movies, it doesn\\'t use quick-cuts or shaky cameras actually see what\\'s going on.'), Document(metadata={'source': 'john_wick_4.csv', 'row': 18, 'Review_Date': '17 March 2023', 'Review_Title': ' Not Just The Best John Wick, But Possibly One Of The Best Action Movies Ever\\n', 'Review_Url': '/review/rw8935367/?ref_=tt_urv', 'Author': 'cadillac20', 'Rating': 10, 'Movie_Title': 'John Wick 4', 'last_accessed_at': '2024-10-01T09:20:20.837593', '_id': '9b20976840684c6ab9b54d3c76e7c0d3', '_collection_name': 'JohnWick'}, page_content=\": 18\\nReview: Ever since the original John Wick, the franchise has set a standard of what action in Hollywood should be. Thanks to Chad Stahelski and Keanu Reeve's knowledge of the technical aspects of shooting action, they've been able to deliver expertly choreographed, shot, and edited action films that are now the go to as examples of great action filmmaking. And so, the expectations for the fourth film were fairly high, especially as it became more apparent this was not only the culmination of everything before it, but a whopping 169 minutes long. Rest assured, however, that it delivers in spades. Everything we have come to know and love is here, but with an infusion of creativity like we haven't seen from the franchise yet.\"), Document(metadata={'source': 'john_wick_2.csv', 'row': 9, 'Review_Date': '22 July 2017', 'Review_Title': ' A disappointing sequel for the most part\\n', 'Review_Url': '/review/rw3760991/?ref_=tt_urv', 'Author': 'Horst_In_Translation', 'Rating': 4, 'Movie_Title': 'John Wick 2', 'last_accessed_at': '2024-09-29T09:20:20.837294', '_id': '2a9defa01f3d400586fb3c07f7ae4294', '_collection_name': 'JohnWick'}, page_content=': 9\\nReview: \"John Wick: Chapter 2\" is an American movie from this year (2017). Experienced visual effects artist Stahelski and Kolstad returned from the very first Wick film to work on the script/direction here too, so the premise with regard to people working behind the camera is there. And in front of the camera we see familiar faces again, people that survived the film, like most of all Keanu Reeves playing the central character. This is a really long film at over 2 hours and at this runtime, it is considerably longer than the first. And there is a lot other stuff different compared to the original. Most has to do with the fun component. I think the first film was a great fun watch from start to finish while offering emotion nonetheless and also delivering in the crime and drama genres. And action too, but I don\\'t care too much about that. This genre is also basically the only one where this new movie delivers as the first 30 minutes are truly packed with action. It gets less afterward, but there is no denying that it was still all about the action and nothing else.'), Document(metadata={'source': 'john_wick_3.csv', 'row': 8, 'Review_Date': '15 May 2019', 'Review_Title': ' A brutal non-stop ride\\n', 'Review_Url': '/review/rw4854687/?ref_=tt_urv', 'Author': 'jtindahouse', 'Rating': 8, 'Movie_Title': 'John Wick 3', 'last_accessed_at': '2024-09-30T09:20:20.837442', '_id': 'cac72455a64c4946a6e847a110107289', '_collection_name': 'JohnWick'}, page_content=\": 8\\nReview: About 6 months ago I saw a picture of the set of 'John Wick: Chapter 3 - Parabellum' featuring Keanu Reeves on horseback shooting at motorcyclists. It was such a great looking shot that I have been waiting eagerly to see how it looked in the actual film ever since. It did not let me down. The style this film possesses is insane. It is one of the best looking action films I have ever seen.\"), Document(metadata={'source': 'john_wick_1.csv', 'row': 22, 'Review_Date': '12 February 2015', 'Review_Title': ' Storytelling is Good Copying\\n', 'Review_Url': '/review/rw3182143/?ref_=tt_urv', 'Author': 'westsideschl', 'Rating': 2, 'Movie_Title': 'John Wick 1', 'last_accessed_at': '2024-09-28T09:20:20.837142', '_id': '5979aa5534244443ae439e7692286ae8', '_collection_name': 'JohnWick'}, page_content=': 22\\nReview: All the below are non-creative copying of past movies (done many times before): 1. Opening scene - alarm clock going off. 2. Coffee brewing. 3. Casket being lowered; raining for effect; long shot of cemetery showing stranger watching. 4. Afterwards, solemn wake party. 5. Mystery package at door. From? Of course. 6. Bad guys are (Guess what nationality?) $1000 if you have no idea. And, of course, are as stereotypic as cut-out doll figures. 7. Older hot cars and lots of squealing tires, burning rubber (or synthetic equivalent). You would think Reeves character would be past that 17 year old\\'s infatuation. 8. Master killer still has an arsenal hidden away, why? Anticipated this precise series of events unfolding many years earlier. Or, nostalgia. 9. Reeves is covered in tats, of course, to show us toughness. Russian iconic tats no less - oops! 10. Dozen (cheaper that way) bad guys need some skill training because they\\'re slow, dumb and can\\'t seem to shoot at a target a few feet away and always walk around corners without looking first. 11. Been done before \"cleaning crew\" just a call away to dispose of waste animal tissue (human of course). They always look the same in these movies. 12. Usual cheap scene filler, and getting really tedious, helicopter shot of city and car traveling on road below (even did a several times). 13. Background music the usual rock/blues/alter/jazz sound. 14. Barely clothed chicks tossed in for the male viewer and one to be bad. 15. Same old club scenes with strobes. 16. Usual wharf/dock driving and shooting scenes. 17. Now for the fun part and a new record surpassing the past record of 65 kills by one individual in a movie (can\\'t remember the movie from a couple of years ago but it had that Detroit blighted semi-deserted projects, public housing/towers backdrop with this guy going through the floors shooting all the druggies). The new record for a movie is (drum roll) 73 by Reeves and 8 by others = 81 (maybe more, hard to keep track at times).'), Document(metadata={'source': 'john_wick_4.csv', 'row': 4, 'Review_Date': '24 March 2023', 'Review_Title': ' John Wick became the parody of himself. The true identity of this franchise is completely lost.\\n', 'Review_Url': '/review/rw8948738/?ref_=tt_urv', 'Author': 'fciocca', 'Rating': 4, 'Movie_Title': 'John Wick 4', 'last_accessed_at': '2024-10-01T09:20:20.837584', '_id': 'e8ebd9b425f54037920761c63379c528', '_collection_name': 'JohnWick'}, page_content=': 4\\nReview: I went to the cinema with great expectations. I have to admit that the photography is gorgeous, the locations are wonderful and the action sequences are well coordinated. However I feel that the true identity of this franchise was completely lost with this fourth chapter. The first two movies for me are the best because the stunts look more credible. \"Parabellum\" started to drop in quality, but it was still a solid flick. Here John suddenly became a superhero that can take any hit and can fall from every height and he can just keep going like nothing happened. When Chad Stahelski directed the first movie he was not expecting all this success and when the production company ordered sequels, he did not really know how to develop this saga. Now it is one of the biggest action franchises with a TV show that will be aired in the future and maybe with a 5th entry that was already approved. This got definitely out of hand and Wick basically became the parody of himself, with scenes that have forced comedic moments that do not quite deliver. In my perspective they really do not know what to invent anymore. I really hope that in the future screenwriters and the director will come up with better ideas, because it is a series with potential and it showed it in the previous chapters, but in this case it just felt pointless and purposeless.')]}\n",
            "What task does John Wick do for the Italian mobster in John Wick: Chapter 2, resulting in a contract on his life?\n",
            "{'response': AIMessage(content=\"John Wick is tasked with killing Santino D'Antonio's sister, Gianna D'Antonio, in Rome, in order for Santino to take her place on the High Table of criminal organizations. This task results in a contract being put on John Wick's life.\", additional_kwargs={'refusal': None}, response_metadata={'token_usage': {'completion_tokens': 56, 'prompt_tokens': 3395, 'total_tokens': 3451, 'completion_tokens_details': {'reasoning_tokens': 0}}, 'model_name': 'gpt-3.5-turbo-0125', 'system_fingerprint': None, 'finish_reason': 'stop', 'logprobs': None}, id='run-4e10c9bd-1ac4-4b39-ae2f-3a2ac6416821-0', usage_metadata={'input_tokens': 3395, 'output_tokens': 56, 'total_tokens': 3451}), 'context': [Document(metadata={'source': 'john_wick_2.csv', 'row': 20, 'Review_Date': '28 May 2017', 'Review_Title': ' A New Franchise is Born\\n', 'Review_Url': '/review/rw3718180/?ref_=tt_urv', 'Author': 'claudio_carvalho', 'Rating': 8, 'Movie_Title': 'John Wick 2', 'last_accessed_at': '2024-09-29T09:20:20.837301', '_id': 'db8935d5944b4980bb1890a827281087', '_collection_name': 'JohnWick'}, page_content=\": 20\\nReview: After resolving his issues with the Russian mafia, John Wick (Keanu Reeves) returns home. But soon the mobster Santino D'Antonio (Riccardo Scamarcio) visits him to show Wick's marker and tells that he needs to help. John Wicks refuses since he is retired and Santino blows-up his house. John Wick meets the owner of the Continental hotel in New York City, Winston (Ian McShane), and he tells that Wick cannot violate the Mafia rules and shall honor the marker. Santino asks John Wick to kill his sister Gianna D'Antonio (Claudia Gerini) in Rome so that he can sit on the High Table of the criminal organizations. When John Wicks accomplishes his assignment, Santino puts a seven-million dollar contract on him attracting professional killers from everywhere. But Wick promises to kill Santino that is not protected by his marker anymore.\"), Document(metadata={'source': 'john_wick_2.csv', 'row': 19, 'Review_Date': '29 November 2020', 'Review_Title': ' John Wick Kills A Lot Of People\\n', 'Review_Url': '/review/rw6320115/?ref_=tt_urv', 'Author': 'boblipton', 'Rating': 5, 'Movie_Title': 'John Wick 2', 'last_accessed_at': '2024-09-29T09:20:20.837301', '_id': 'd88498fdc2774199bd3aed5c20658bd8', '_collection_name': 'JohnWick'}, page_content=\": 19\\nReview: If you've seen the first John Wick movie, you know that Keanu Reeves is John Wick, a retired assassin who comes out of retirement when someone kills his dog. In this one, which begins a week later, matters are still reverberating, and some one has stolen his car, which calls for a lot of carnage. That settled, John is called on to pay off an old debt by helping Ian McShane take over the Assassin's Guild by flying around to Italy, Canada and Manhattan and killing what seems like hundreds of assassins.\"), Document(metadata={'source': 'john_wick_2.csv', 'row': 5, 'Review_Date': '7 October 2017', 'Review_Title': ' more Gun Fu\\n', 'Review_Url': '/review/rw3825224/?ref_=tt_urv', 'Author': 'SnoopyStyle', 'Rating': 6, 'Movie_Title': 'John Wick 2', 'last_accessed_at': '2024-09-29T09:20:20.837291', '_id': '4306858d7dac4528af14d88bad62b920', '_collection_name': 'JohnWick'}, page_content=\": 5\\nReview: Iosef's uncle still has John Wick's car. Wick comes after it and the uncle accepts his offer of peace. He hopes to return to his peaceful retirement but crime lord Santino D'Antonio calls in his Marker. He faces deadly assassins, numerous killers, and countless thugs as Santino uses him to gain power even offering a $7 million contract.\"), Document(metadata={'source': 'john_wick_1.csv', 'row': 18, 'Review_Date': '10 September 2019', 'Review_Title': ' Probably NOT a film to watch with your kids or mother.\\n', 'Review_Url': '/review/rw5112990/?ref_=tt_urv', 'Author': 'planktonrules', 'Rating': 7, 'Movie_Title': 'John Wick 1', 'last_accessed_at': '2024-09-28T09:20:20.837139', '_id': 'aed5e9fdae4c4868a54843e705c4bbf0', '_collection_name': 'JohnWick'}, page_content=\": 18\\nReview: When the story begins, John (Keanu Reeves) has just lost his wife. After her death, he's a bit lost but tries to rebuild his life. One day, he's getting gas and a young Russian-American punk notices Wick's classic car...and tries to buy it off him. But Wick isn't interested and declines. Soon, the punk arrives at Wick's home with some goons where they surprise him--beating him senseless, destroying his stuff, killing his dog and stealing his car! This is when you then learn that Wick is a super-assassin....and the punk chose the wrong guy to attack. The jerk's father is a big-time Russian mobster....and it's a contest to see who will win...the mobster and his gang or Wick on his own. Considering there are (so far) two MORE John Wick films, it pretty much seems certain who will win this battle.\"), Document(metadata={'source': 'john_wick_2.csv', 'row': 4, 'Review_Date': '13 February 2017', 'Review_Title': ' The rare sequel that is better than the original movie\\n', 'Review_Url': '/review/rw3639244/?ref_=tt_urv', 'Author': 'paul-allaer', 'Rating': 8, 'Movie_Title': 'John Wick 2', 'last_accessed_at': '2024-09-29T09:20:20.837290', '_id': 'be1cbf9ce1e44f5aa543bc0c8c3850e0', '_collection_name': 'JohnWick'}, page_content=': 4\\nReview: \"John Wick: Chapter 2\" (2017 release; 122 min.) continues the \\'adventures\\' of former (?) hit man John Wick. As the movie opens, we are immediately thrown in the middle of a car vs. bike chase, and next thing we know, we find our man retrieving his beloved Mustang from a chop shop in NYC, but not without cars flying about, and dozens of dead or wounded bodies. And that\\'s all in the pre-opening credits! As the story unfolds, Wick, who wants \"out, is nevertheless forced back \"in\" when an Italian baddie calls in a favor and Wick has no choice but to accept. To tell you more of the plot would spoil your viewing experience, you\\'ll just have to see for yourself how it all plays out.'), Document(metadata={'source': 'john_wick_2.csv', 'row': 17, 'Review_Date': '18 March 2018', 'Review_Title': ' Even worse than the first movie\\n', 'Review_Url': '/review/rw4095490/?ref_=tt_urv', 'Author': 'grantss', 'Rating': 2, 'Movie_Title': 'John Wick 2', 'last_accessed_at': '2024-09-29T09:20:20.837299', '_id': 'ded0316da16040f5927183addb746b7c', '_collection_name': 'JohnWick'}, page_content=': 17\\nReview: Picking up where the first movie left off, John Wick still wants his car back. Also, he now discovers that there is a bounty on his head. Rejoining his former profession, he heads to Rome to complete an assassination assignment.'), Document(metadata={'source': 'john_wick_1.csv', 'row': 5, 'Review_Date': '23 March 2023', 'Review_Title': ' Violent and gripping story with plenty of unstopped action , shootouts and breathtaking fights\\n', 'Review_Url': '/review/rw8945545/?ref_=tt_urv', 'Author': 'ma-cortes', 'Rating': 7, 'Movie_Title': 'John Wick 1', 'last_accessed_at': '2024-09-28T09:20:20.837128', '_id': '61c6fa160e5841d49f5a4584d8a7299d', '_collection_name': 'JohnWick'}, page_content=\": 5\\nReview: Ultra-violent first entry with lots of killings, thrills , noisy action , suspense , and crossfire . In this original John Wick (2014) , an ex-hit-man comes out of retirement to track down the gangsters that killed his dog and took everything from him . With the untimely death of his beloved wife still bitter in his mouth he seeks for vengeance . But when an arrogant Russian mob prince and hoodlums steal his car and kill his dog , they are fully aware of his lethal capacity. The Bogeyman will find himself dragged into an impossible task as every killer in the business dreams of cornering the legendary Wick who now has an enormous price on his head . In this first installment John Wick , blind with revenge, and for his salvation John will immediately unleash a carefully orchestrated maelstrom of destruction against those attempt to chase him and with a price tag on his head, as he is the target of hit men : an army of bounty-hunting killers on his trail and a murderer woman everywhere . The legendary hitman will be forced to unearth his meticulously concealed identity and to carry out a relentless vendetta . Now, only blood can quench the boogeyman's thirst for retribution . Don't Set Him Off! . John Wick isn't the Boogeyman... He's the guy you send to kill the doomed Boogeyman. Revenge is all he has left. You want peace, prepare for war . Don't Hunt What You Can't Kill. Tick Tock, Mr. Wick. Everyone Is Waiting. For John Wick . Every Action Has Consequences. This Friday, Wick is Back . Its the World Vs. Wick. Every Action Has Consequences.\"), Document(metadata={'source': 'john_wick_3.csv', 'row': 6, 'Review_Date': '7 February 2020', 'Review_Title': ' More of the same. Yawn!\\n', 'Review_Url': '/review/rw5466367/?ref_=tt_urv', 'Author': 'BA_Harrison', 'Rating': 4, 'Movie_Title': 'John Wick 3', 'last_accessed_at': '2024-09-30T09:20:20.837441', '_id': '6dbc333bf18c4c4c91abeef4934628d2', '_collection_name': 'JohnWick'}, page_content=\": 6\\nReview: Assassin John Wick is referred to as Baba Yaga in this third chapter, suggesting that he is, in fact, a supernatural being; his ability to evade death, appear and disappear like a ninja from a Godfrey Ho film, and move with lightning fast reflexes despite being in his mid-fifties confirms this fact, in my opinion. Unfortunately, Wick's invincibility means that the many action scenes in Parabellum are largely devoid of excitement, the only outcome being that Wick is still alive and all of his enemies are dead.\"), Document(metadata={'source': 'john_wick_1.csv', 'row': 20, 'Review_Date': '22 October 2014', 'Review_Title': ' Smoothest action film to come around in a long time\\n', 'Review_Url': '/review/rw3109271/?ref_=tt_urv', 'Author': 'IceSkateUpHill', 'Rating': 10, 'Movie_Title': 'John Wick 1', 'last_accessed_at': '2024-09-28T09:20:20.837141', '_id': '780d41c4f5364fd6b15651dfd440eba3', '_collection_name': 'JohnWick'}, page_content=\": 20\\nReview: John Wick is something special. It takes as much time setting up elaborate action sequences as it does the world with which it all takes place in. And what a world it is. It reminds me of Millers Crossing and it is cooler than any other recent attempt at noir. We are shown a criminal underworld where, if you are connected, many powerful people know who you are and show you respect. John Wick was connected but he got out. He is the rare killer who has found peace, and he is grateful for that peace. Some young kids steal that from him and he does what he does best, he wages a one man war against the Russian Mafia. It might sound like the film takes quite a leap but it all makes sense. The motives of John and the people who get in the way of his bullets are all very clear, even if it does come across as rather simple. That's the plot at it's most basic. Then there's the action. The film is directed by Reeve's stuntman from The Matrix, so this guy knows action. There are sequences that flow so smoothly it puts other action films and their quick cuts to shame. Keaunu moves so fluidly throughout the film and comes across as such a natural that the only disappointment is that we have not seen him like this before. Along the way are plenty of character actors, fans of The Matrix and The Wire will recognize a few people then there are more obvious ones like Ian McShane and Willem Dafoe. Everyone seems to be having a good time. That is another plus for this movie. It get's dark at times but overall it is quite fun, not very chipper, but fun. I cannot recommend this movie enough. I believe it is a must see for action fans and for anyone looking for something a bit different from the usual fare.\"), Document(metadata={'source': 'john_wick_2.csv', 'row': 0, 'Review_Date': '14 September 2018', 'Review_Title': ' \"No one gets out and comes back without repercussions.\"\\n', 'Review_Url': '/review/rw4338449/?ref_=tt_urv', 'Author': 'classicsoncall', 'Rating': 7, 'Movie_Title': 'John Wick 2', 'last_accessed_at': '2024-09-29T09:20:20.837287', '_id': '627f9ab4e4b64c2db7d199aa7e56a517', '_collection_name': 'JohnWick'}, page_content=': 0\\nReview: No doubt about it, \"John Wick: Chapter 2\" is a slick action thriller, but man, oh man, how can any one person absorb that kind of punishment? John (Keanu Reeves) gets shot, stabbed and hit by cars multiple times and postures a limp now and then to indicate he might have gotten just a little bit hurt. Besides that, he almost never makes a wrong move when hunted by dozens of assassins all at the same time. Okay, I get it, Reeves is the star of the picture and has to come out on top, but I\\'d like a little more credibility put into these kinds of stories. But I guess that\\'s the whole point, suspend your disbelief for a couple of hours and just go with all of the over the top action the film makers can put together.')]}\n",
            "What complicates John Wick's world in 'Parabellum'?\n",
            "{'response': AIMessage(content=\"What complicates John Wick's world in 'Parabellum'?\\nJohn Wick's world in 'Parabellum' is complicated by the fact that it is filled with assassins and a huge administrative system around them, yet despite this, they can't seem to cause John Wick too much trouble. This expansion of the world beyond what it can bear makes the film lack sense and hurts it as it relies more on this aspect.\", additional_kwargs={'refusal': None}, response_metadata={'token_usage': {'completion_tokens': 88, 'prompt_tokens': 3449, 'total_tokens': 3537, 'completion_tokens_details': {'reasoning_tokens': 0}}, 'model_name': 'gpt-3.5-turbo-0125', 'system_fingerprint': None, 'finish_reason': 'stop', 'logprobs': None}, id='run-99653f5a-aefe-4ee9-b30c-335ca9675ad4-0', usage_metadata={'input_tokens': 3449, 'output_tokens': 88, 'total_tokens': 3537}), 'context': [Document(metadata={'source': 'john_wick_3.csv', 'row': 0, 'Review_Date': '22 September 2019', 'Review_Title': ' Enjoyably choreographed, but the lack of consequence combined with the global scale robs it of urgency and means it outstays its welcome a bit\\n', 'Review_Url': '/review/rw5136960/?ref_=tt_urv', 'Author': 'bob the moo', 'Rating': 0, 'Movie_Title': 'John Wick 3', 'last_accessed_at': '2024-09-30T09:20:20.837436', '_id': 'd9530c91c8054288a4322e094acc11f0', '_collection_name': 'JohnWick'}, page_content=': 0\\nReview: It is 5 years since the first John Wick film - one that took me by surprise by how silly it was as a narrative, but yet how well it delivered action sequences. The second film was only 2 years ago, and it raised the stakes and went from a man seeking revenge on another group of people, into one where the world was filled with assassins, popping up from everywhere all the time. I remember ending that film feeling like it had gone too far but that the third would probably do more of that. True enough, Parabellum (\"prepare for war\") sees the whole world filled with assassins, and a huge administrative system around them - but yet the whole lot of them can\\'t seem to cause John Wick too much trouble. As with the first film, this expands the world more than it can bear, and although it looks cool at times, the world makes no sense whatsoever and it hurts the film the more it relies on it (which it does as it expands it).'), Document(metadata={'source': 'john_wick_3.csv', 'row': 24, 'Review_Date': '17 May 2019', 'Review_Title': ' Makes John Wick a superb trilogy\\n', 'Review_Url': '/review/rw4860603/?ref_=tt_urv', 'Author': 'masonsaul', 'Rating': 10, 'Movie_Title': 'John Wick 3', 'last_accessed_at': '2024-09-30T09:20:20.837452', '_id': '8d9efbac2855404caf0e816029f1b149', '_collection_name': 'JohnWick'}, page_content=\": 24\\nReview: John Wick: Chapter 3 - Parabellum is quite literally about consequences, dealing with the fallout of John's actions at the end of the previous film and sending him on an even bigger odyssey of violence that continues to explore this world of assassination and deliver beautifully clean action sequences.\"), Document(metadata={'source': 'john_wick_2.csv', 'row': 20, 'Review_Date': '28 May 2017', 'Review_Title': ' A New Franchise is Born\\n', 'Review_Url': '/review/rw3718180/?ref_=tt_urv', 'Author': 'claudio_carvalho', 'Rating': 8, 'Movie_Title': 'John Wick 2', 'last_accessed_at': '2024-09-29T09:20:20.837301', '_id': 'db8935d5944b4980bb1890a827281087', '_collection_name': 'JohnWick'}, page_content=\": 20\\nReview: After resolving his issues with the Russian mafia, John Wick (Keanu Reeves) returns home. But soon the mobster Santino D'Antonio (Riccardo Scamarcio) visits him to show Wick's marker and tells that he needs to help. John Wicks refuses since he is retired and Santino blows-up his house. John Wick meets the owner of the Continental hotel in New York City, Winston (Ian McShane), and he tells that Wick cannot violate the Mafia rules and shall honor the marker. Santino asks John Wick to kill his sister Gianna D'Antonio (Claudia Gerini) in Rome so that he can sit on the High Table of the criminal organizations. When John Wicks accomplishes his assignment, Santino puts a seven-million dollar contract on him attracting professional killers from everywhere. But Wick promises to kill Santino that is not protected by his marker anymore.\"), Document(metadata={'source': 'john_wick_3.csv', 'row': 6, 'Review_Date': '7 February 2020', 'Review_Title': ' More of the same. Yawn!\\n', 'Review_Url': '/review/rw5466367/?ref_=tt_urv', 'Author': 'BA_Harrison', 'Rating': 4, 'Movie_Title': 'John Wick 3', 'last_accessed_at': '2024-09-30T09:20:20.837441', '_id': '6dbc333bf18c4c4c91abeef4934628d2', '_collection_name': 'JohnWick'}, page_content=\": 6\\nReview: Assassin John Wick is referred to as Baba Yaga in this third chapter, suggesting that he is, in fact, a supernatural being; his ability to evade death, appear and disappear like a ninja from a Godfrey Ho film, and move with lightning fast reflexes despite being in his mid-fifties confirms this fact, in my opinion. Unfortunately, Wick's invincibility means that the many action scenes in Parabellum are largely devoid of excitement, the only outcome being that Wick is still alive and all of his enemies are dead.\"), Document(metadata={'source': 'john_wick_1.csv', 'row': 18, 'Review_Date': '10 September 2019', 'Review_Title': ' Probably NOT a film to watch with your kids or mother.\\n', 'Review_Url': '/review/rw5112990/?ref_=tt_urv', 'Author': 'planktonrules', 'Rating': 7, 'Movie_Title': 'John Wick 1', 'last_accessed_at': '2024-09-28T09:20:20.837139', '_id': 'aed5e9fdae4c4868a54843e705c4bbf0', '_collection_name': 'JohnWick'}, page_content=\": 18\\nReview: When the story begins, John (Keanu Reeves) has just lost his wife. After her death, he's a bit lost but tries to rebuild his life. One day, he's getting gas and a young Russian-American punk notices Wick's classic car...and tries to buy it off him. But Wick isn't interested and declines. Soon, the punk arrives at Wick's home with some goons where they surprise him--beating him senseless, destroying his stuff, killing his dog and stealing his car! This is when you then learn that Wick is a super-assassin....and the punk chose the wrong guy to attack. The jerk's father is a big-time Russian mobster....and it's a contest to see who will win...the mobster and his gang or Wick on his own. Considering there are (so far) two MORE John Wick films, it pretty much seems certain who will win this battle.\"), Document(metadata={'source': 'john_wick_4.csv', 'row': 2, 'Review_Date': '25 March 2023', 'Review_Title': ' It got on my wick.\\n', 'Review_Url': '/review/rw8950606/?ref_=tt_urv', 'Author': 'BA_Harrison', 'Rating': 4, 'Movie_Title': 'John Wick 4', 'last_accessed_at': '2024-10-01T09:20:20.837583', '_id': '941d820b68874776bf1b761a2cabc314', '_collection_name': 'JohnWick'}, page_content=': 2\\nReview: The first three John Wick films came in fairly quick succession, with only five years between the first and third chapters, each film trying to top the one before in terms of wild set pieces. For me, it all became a bit too much, the action rapidly becoming too frenetic and over-the-top. By Parabellum (part three), I had had enough.'), Document(metadata={'source': 'john_wick_2.csv', 'row': 4, 'Review_Date': '13 February 2017', 'Review_Title': ' The rare sequel that is better than the original movie\\n', 'Review_Url': '/review/rw3639244/?ref_=tt_urv', 'Author': 'paul-allaer', 'Rating': 8, 'Movie_Title': 'John Wick 2', 'last_accessed_at': '2024-09-29T09:20:20.837290', '_id': 'be1cbf9ce1e44f5aa543bc0c8c3850e0', '_collection_name': 'JohnWick'}, page_content=': 4\\nReview: \"John Wick: Chapter 2\" (2017 release; 122 min.) continues the \\'adventures\\' of former (?) hit man John Wick. As the movie opens, we are immediately thrown in the middle of a car vs. bike chase, and next thing we know, we find our man retrieving his beloved Mustang from a chop shop in NYC, but not without cars flying about, and dozens of dead or wounded bodies. And that\\'s all in the pre-opening credits! As the story unfolds, Wick, who wants \"out, is nevertheless forced back \"in\" when an Italian baddie calls in a favor and Wick has no choice but to accept. To tell you more of the plot would spoil your viewing experience, you\\'ll just have to see for yourself how it all plays out.'), Document(metadata={'source': 'john_wick_2.csv', 'row': 19, 'Review_Date': '29 November 2020', 'Review_Title': ' John Wick Kills A Lot Of People\\n', 'Review_Url': '/review/rw6320115/?ref_=tt_urv', 'Author': 'boblipton', 'Rating': 5, 'Movie_Title': 'John Wick 2', 'last_accessed_at': '2024-09-29T09:20:20.837301', '_id': 'd88498fdc2774199bd3aed5c20658bd8', '_collection_name': 'JohnWick'}, page_content=\": 19\\nReview: If you've seen the first John Wick movie, you know that Keanu Reeves is John Wick, a retired assassin who comes out of retirement when someone kills his dog. In this one, which begins a week later, matters are still reverberating, and some one has stolen his car, which calls for a lot of carnage. That settled, John is called on to pay off an old debt by helping Ian McShane take over the Assassin's Guild by flying around to Italy, Canada and Manhattan and killing what seems like hundreds of assassins.\"), Document(metadata={'source': 'john_wick_1.csv', 'row': 5, 'Review_Date': '23 March 2023', 'Review_Title': ' Violent and gripping story with plenty of unstopped action , shootouts and breathtaking fights\\n', 'Review_Url': '/review/rw8945545/?ref_=tt_urv', 'Author': 'ma-cortes', 'Rating': 7, 'Movie_Title': 'John Wick 1', 'last_accessed_at': '2024-09-28T09:20:20.837128', '_id': '61c6fa160e5841d49f5a4584d8a7299d', '_collection_name': 'JohnWick'}, page_content=\": 5\\nReview: Ultra-violent first entry with lots of killings, thrills , noisy action , suspense , and crossfire . In this original John Wick (2014) , an ex-hit-man comes out of retirement to track down the gangsters that killed his dog and took everything from him . With the untimely death of his beloved wife still bitter in his mouth he seeks for vengeance . But when an arrogant Russian mob prince and hoodlums steal his car and kill his dog , they are fully aware of his lethal capacity. The Bogeyman will find himself dragged into an impossible task as every killer in the business dreams of cornering the legendary Wick who now has an enormous price on his head . In this first installment John Wick , blind with revenge, and for his salvation John will immediately unleash a carefully orchestrated maelstrom of destruction against those attempt to chase him and with a price tag on his head, as he is the target of hit men : an army of bounty-hunting killers on his trail and a murderer woman everywhere . The legendary hitman will be forced to unearth his meticulously concealed identity and to carry out a relentless vendetta . Now, only blood can quench the boogeyman's thirst for retribution . Don't Set Him Off! . John Wick isn't the Boogeyman... He's the guy you send to kill the doomed Boogeyman. Revenge is all he has left. You want peace, prepare for war . Don't Hunt What You Can't Kill. Tick Tock, Mr. Wick. Everyone Is Waiting. For John Wick . Every Action Has Consequences. This Friday, Wick is Back . Its the World Vs. Wick. Every Action Has Consequences.\"), Document(metadata={'source': 'john_wick_1.csv', 'row': 20, 'Review_Date': '22 October 2014', 'Review_Title': ' Smoothest action film to come around in a long time\\n', 'Review_Url': '/review/rw3109271/?ref_=tt_urv', 'Author': 'IceSkateUpHill', 'Rating': 10, 'Movie_Title': 'John Wick 1', 'last_accessed_at': '2024-09-28T09:20:20.837141', '_id': '780d41c4f5364fd6b15651dfd440eba3', '_collection_name': 'JohnWick'}, page_content=\": 20\\nReview: John Wick is something special. It takes as much time setting up elaborate action sequences as it does the world with which it all takes place in. And what a world it is. It reminds me of Millers Crossing and it is cooler than any other recent attempt at noir. We are shown a criminal underworld where, if you are connected, many powerful people know who you are and show you respect. John Wick was connected but he got out. He is the rare killer who has found peace, and he is grateful for that peace. Some young kids steal that from him and he does what he does best, he wages a one man war against the Russian Mafia. It might sound like the film takes quite a leap but it all makes sense. The motives of John and the people who get in the way of his bullets are all very clear, even if it does come across as rather simple. That's the plot at it's most basic. Then there's the action. The film is directed by Reeve's stuntman from The Matrix, so this guy knows action. There are sequences that flow so smoothly it puts other action films and their quick cuts to shame. Keaunu moves so fluidly throughout the film and comes across as such a natural that the only disappointment is that we have not seen him like this before. Along the way are plenty of character actors, fans of The Matrix and The Wire will recognize a few people then there are more obvious ones like Ian McShane and Willem Dafoe. Everyone seems to be having a good time. That is another plus for this movie. It get's dark at times but overall it is quite fun, not very chipper, but fun. I cannot recommend this movie enough. I believe it is a must see for action fans and for anyone looking for something a bit different from the usual fare.\")]}\n",
            "What does Keanu Reeves add to John Wick?\n",
            "{'response': AIMessage(content='Keanu Reeves adds a sense of coolness, natural fluidity, and a relatable hero factor to John Wick. His performance as John Wick in the action sequences, along with his physicality and agility, make the character engaging and entertaining for the audience.', additional_kwargs={'refusal': None}, response_metadata={'token_usage': {'completion_tokens': 53, 'prompt_tokens': 3642, 'total_tokens': 3695, 'completion_tokens_details': {'reasoning_tokens': 0}}, 'model_name': 'gpt-3.5-turbo-0125', 'system_fingerprint': None, 'finish_reason': 'stop', 'logprobs': None}, id='run-c7c0de63-635d-421e-ad82-7803b85b36e8-0', usage_metadata={'input_tokens': 3642, 'output_tokens': 53, 'total_tokens': 3695}), 'context': [Document(metadata={'source': 'john_wick_1.csv', 'row': 14, 'Review_Date': '25 October 2014', 'Review_Title': \" Yeah I'm Thinking He's Back\\n\", 'Review_Url': '/review/rw3111220/?ref_=tt_urv', 'Author': 'Palidan400', 'Rating': 8, 'Movie_Title': 'John Wick 1', 'last_accessed_at': '2024-09-28T09:20:20.837137', '_id': '28fe5e0a20f14b76b29d2b2da6726b19', '_collection_name': 'JohnWick'}, page_content=': 14\\nReview: Keanu Reeve is John Wick. He\\'s a deadly and unstoppable hit-man, and it shows. \"John Wick\" is short and to the point, but so much fun. At 1 hour and 36 minutes running time, there is never a dull moment in what may be one of the best action films of the year.'), Document(metadata={'source': 'john_wick_2.csv', 'row': 19, 'Review_Date': '29 November 2020', 'Review_Title': ' John Wick Kills A Lot Of People\\n', 'Review_Url': '/review/rw6320115/?ref_=tt_urv', 'Author': 'boblipton', 'Rating': 5, 'Movie_Title': 'John Wick 2', 'last_accessed_at': '2024-09-29T09:20:20.837301', '_id': 'd88498fdc2774199bd3aed5c20658bd8', '_collection_name': 'JohnWick'}, page_content=\": 19\\nReview: If you've seen the first John Wick movie, you know that Keanu Reeves is John Wick, a retired assassin who comes out of retirement when someone kills his dog. In this one, which begins a week later, matters are still reverberating, and some one has stolen his car, which calls for a lot of carnage. That settled, John is called on to pay off an old debt by helping Ian McShane take over the Assassin's Guild by flying around to Italy, Canada and Manhattan and killing what seems like hundreds of assassins.\"), Document(metadata={'source': 'john_wick_1.csv', 'row': 0, 'Review_Date': '6 May 2015', 'Review_Title': ' Kinetic, concise, and stylish; John Wick kicks ass.\\n', 'Review_Url': '/review/rw3233896/?ref_=tt_urv', 'Author': 'lnvicta', 'Rating': 8, 'Movie_Title': 'John Wick 1', 'last_accessed_at': '2024-09-28T09:20:20.837118', '_id': '1368a0c0b1434949a40d1885b08b2851', '_collection_name': 'JohnWick'}, page_content=\": 0\\nReview: The best way I can describe John Wick is to picture Taken but instead of Liam Neeson it's Keanu Reeves and instead of his daughter it's his dog. That's essentially the plot of the movie. John Wick (Reeves) is out to seek revenge on the people who took something he loved from him. It's a beautifully simple premise for an action movie - when action movies get convoluted, they get bad i.e. A Good Day to Die Hard. John Wick gives the viewers what they want: Awesome action, stylish stunts, kinetic chaos, and a relatable hero to tie it all together. John Wick succeeds in its simplicity.\"), Document(metadata={'source': 'john_wick_1.csv', 'row': 20, 'Review_Date': '22 October 2014', 'Review_Title': ' Smoothest action film to come around in a long time\\n', 'Review_Url': '/review/rw3109271/?ref_=tt_urv', 'Author': 'IceSkateUpHill', 'Rating': 10, 'Movie_Title': 'John Wick 1', 'last_accessed_at': '2024-09-28T09:20:20.837141', '_id': '780d41c4f5364fd6b15651dfd440eba3', '_collection_name': 'JohnWick'}, page_content=\": 20\\nReview: John Wick is something special. It takes as much time setting up elaborate action sequences as it does the world with which it all takes place in. And what a world it is. It reminds me of Millers Crossing and it is cooler than any other recent attempt at noir. We are shown a criminal underworld where, if you are connected, many powerful people know who you are and show you respect. John Wick was connected but he got out. He is the rare killer who has found peace, and he is grateful for that peace. Some young kids steal that from him and he does what he does best, he wages a one man war against the Russian Mafia. It might sound like the film takes quite a leap but it all makes sense. The motives of John and the people who get in the way of his bullets are all very clear, even if it does come across as rather simple. That's the plot at it's most basic. Then there's the action. The film is directed by Reeve's stuntman from The Matrix, so this guy knows action. There are sequences that flow so smoothly it puts other action films and their quick cuts to shame. Keaunu moves so fluidly throughout the film and comes across as such a natural that the only disappointment is that we have not seen him like this before. Along the way are plenty of character actors, fans of The Matrix and The Wire will recognize a few people then there are more obvious ones like Ian McShane and Willem Dafoe. Everyone seems to be having a good time. That is another plus for this movie. It get's dark at times but overall it is quite fun, not very chipper, but fun. I cannot recommend this movie enough. I believe it is a must see for action fans and for anyone looking for something a bit different from the usual fare.\"), Document(metadata={'source': 'john_wick_1.csv', 'row': 9, 'Review_Date': '20 October 2014', 'Review_Title': \" The coolest action film you'll see all year\\n\", 'Review_Url': '/review/rw3107759/?ref_=tt_urv', 'Author': 'trublu215', 'Rating': 9, 'Movie_Title': 'John Wick 1', 'last_accessed_at': '2024-09-28T09:20:20.837133', '_id': '73e00e211a4f42deb8409d12ca16e266', '_collection_name': 'JohnWick'}, page_content=\": 9\\nReview: At first glance, John Wick sounds like a terrible film on paper but with the slickness of Keanu Reeves' performance as the titular character and the sheer brilliance in its action sequences, this marks the best action film of the year and one of the absolute best in the past decade. Following a brutal home invasion that leaves his beloved dog murdered by thugs from his past, John Wick vows revenge on the ones who have taken what he loves most. Like I said, on paper, this seems like a direct-to-DVD slopfest starring John Cena but as a film with Keanu Reeves as the lead, it marks the very welcomed return for Reeves to the genre. John Wick is insanely fun, violently brutal and an overall romp especially for those disappointed by The Expendables 3. John Wick is propelled by Tarantino-esque dialog mixed with the swagger of action stars from the 70s. Reeves literally emulates cool in this film and does it with such confidence, that we don't even doubt the character...even when he kills countless bad guys with extreme force in some utterly ridiculous and implausible situations. We don't doubt it for a minute. This is EXACTLY what you want out of an action film. It is briskly paced, brilliantly shot and meticulously choreographed and keeps you wanting more and more. The supporting cast filled with the likes of John Legiuzamo, Ian McShane, and Willen Dafoe also keeps this film very interesting. These guys don't play good guys, hell, John Wick by traditional standards would be a bad guy in any other film. Every character is more ruthless than the next and pushes John Wick to be more ruthless than they are, creating a very cool dynamic between the character and the plot regarding the idea of how far is too far? However, don't expect some revelation from John Wick regarding the morality of bad and evil. This film wants you entertained and does so with brute force, it never lets up, not even for a second. One scene in particular that will have your blood pumping is a showdown between thugs and Wick in a nightclub. This action sequence remains the best in the film and will have you grasping your theater seat because of the sheer intensity of it. Overall, John Wick is slick, violent fun that turns into a remarkable, surprising film that will catch you off guard. It is THAT good. I highly recommend this film to action buffs especially but I'm sure those who just like a good movie will love it as well.\"), Document(metadata={'source': 'john_wick_2.csv', 'row': 16, 'Review_Date': '9 February 2017', 'Review_Title': ' Kick-ass, entertaining and relentless throughout. This is what every sequel should aspire to be.\\n', 'Review_Url': '/review/rw3636884/?ref_=tt_urv', 'Author': 'trublu215', 'Rating': 5, 'Movie_Title': 'John Wick 2', 'last_accessed_at': '2024-09-29T09:20:20.837299', '_id': 'ef94eefbbe5e47e696fd9228c1e40d48', '_collection_name': 'JohnWick'}, page_content=\": 16\\nReview: John Wick Chapter 2 pits Keanu Reeves' titular character against the mean and nefarious of the criminal underworld. Once again, Reeves proves that he is a force to be reckoned with in this ridiculous, over-the-top sequel that is every bit as fun as the original. These types of films are rarely known for their artistic value but John Wick: Chapter 2 sets the bar pretty high, not only in its action, but in it's set design and camera work. This is pure escapist entertainment and couldn't have come at a better time. Those wanting to take a break from watching the Oscar nominees, this film is exactly what you're looking for.\"), Document(metadata={'source': 'john_wick_1.csv', 'row': 7, 'Review_Date': '19 November 2015', 'Review_Title': ' The best action revenge film of all time from 2014 so far!\\n', 'Review_Url': '/review/rw3357633/?ref_=tt_urv', 'Author': 'ivo-cobra8', 'Rating': 10, 'Movie_Title': 'John Wick 1', 'last_accessed_at': '2024-09-28T09:20:20.837131', '_id': 'a1f0719f8fb64ddfb2c2f317829aa8ad', '_collection_name': 'JohnWick'}, page_content=\": 7\\nReview: John Wick (2014) is the best revenge flick from Keanu Reeves of 2014 from The Matrix (1999) to John Wick (2014) another action fast paced, Entertaining slick action packed film, which kind I have never seen before. It is a very fun, straightforward action movie with an 80's sensibility. It's nice to see Keanu doing these types of roles again. It is one of my personal favorite Keanu Reeves movies. Keanu Reeves is a bad ass what a great action packed blood packed film. Movies should really learn from this on how to make a decent action film, especially with the crap we are getting today like escape plan bullet to the head and such. This film to me is the greatest action film to come out in this century. Keanu was phenomenal the action was so fast paced and exciting my jaw literally dropped as Keanu took out all the bad guys! I personally think this film is better then all Taken films combined. It was simply brilliant, it was made for 20 million dollars and I am glad it made 40 million in the US. I think this film deserved to make 100 million!\"), Document(metadata={'source': 'john_wick_1.csv', 'row': 3, 'Review_Date': '28 September 2018', 'Review_Title': ' Keanu gets pissed and shoots people in the face for 101 minutes*\\n', 'Review_Url': '/review/rw4366368/?ref_=tt_urv', 'Author': 'Kitsfi', 'Rating': 8, 'Movie_Title': 'John Wick 1', 'last_accessed_at': '2024-09-28T09:20:20.837127', '_id': '156478ef15ef463cae8b3148a5941991', '_collection_name': 'JohnWick'}, page_content=': 3\\nReview: John wick has a very simple revenge story. It can be summarized as \"Keanu gets angry and shoots bad guys\" but what makes it special? Directed by Chad Stahelski who\\'s a stunt specialist boy does it show because the main selling point in the film are some real virtuoso action sequences, well made choreographies. Unlike today\\'s action movies, it doesn\\'t use quick-cuts or shaky cameras actually see what\\'s going on.'), Document(metadata={'source': 'john_wick_1.csv', 'row': 18, 'Review_Date': '10 September 2019', 'Review_Title': ' Probably NOT a film to watch with your kids or mother.\\n', 'Review_Url': '/review/rw5112990/?ref_=tt_urv', 'Author': 'planktonrules', 'Rating': 7, 'Movie_Title': 'John Wick 1', 'last_accessed_at': '2024-09-28T09:20:20.837139', '_id': 'aed5e9fdae4c4868a54843e705c4bbf0', '_collection_name': 'JohnWick'}, page_content=\": 18\\nReview: When the story begins, John (Keanu Reeves) has just lost his wife. After her death, he's a bit lost but tries to rebuild his life. One day, he's getting gas and a young Russian-American punk notices Wick's classic car...and tries to buy it off him. But Wick isn't interested and declines. Soon, the punk arrives at Wick's home with some goons where they surprise him--beating him senseless, destroying his stuff, killing his dog and stealing his car! This is when you then learn that Wick is a super-assassin....and the punk chose the wrong guy to attack. The jerk's father is a big-time Russian mobster....and it's a contest to see who will win...the mobster and his gang or Wick on his own. Considering there are (so far) two MORE John Wick films, it pretty much seems certain who will win this battle.\"), Document(metadata={'source': 'john_wick_2.csv', 'row': 8, 'Review_Date': '23 February 2020', 'Review_Title': ' Great\\n', 'Review_Url': '/review/rw5503709/?ref_=tt_urv', 'Author': 'MrHeraclius', 'Rating': 0, 'Movie_Title': 'John Wick 2', 'last_accessed_at': '2024-09-29T09:20:20.837293', '_id': '33ff4331e52c4404879577c8b1fa006f', '_collection_name': 'JohnWick'}, page_content=\": 8\\nReview: In this 2nd installment of John Wick, the stylish visual and hard core action returns twice the level of the first film. So prepare for another suspenseful and cliffhanging sequences flow from this action movie when you watch this. The story goes deeper and the action scenes were incredibly entertaining! The revenge theme was still part of the movie's plot but this time the focus is the personal backstab of Wick. Keanu Reeves delivers again a notable performance as a titular character. This film is what a sequel movie should be - justifying the connection to the predecessor movie that made it successful by expanding its story and maintaining the elements that made it a superb film. The ending of this film opened the possibility of many more franchise of this movie.\")]}\n",
            "What motivates John Wick's vengeance and its impact on his reputation in the movies?\n",
            "{'response': AIMessage(content='John Wick\\'s motivation for vengeance in the movies stems from the loss of his beloved wife and the killing of his dog, which led to a desire for revenge against the gangsters who took everything from him. This intense motivation for vengeance has a significant impact on his reputation as the legendary hitman known as \"The Boogeyman.\" His relentless pursuit of those who wronged him and the extreme measures he takes to seek retribution solidify his reputation as a formidable force to be reckoned with in the criminal underworld.', additional_kwargs={'refusal': None}, response_metadata={'token_usage': {'completion_tokens': 104, 'prompt_tokens': 3927, 'total_tokens': 4031, 'completion_tokens_details': {'reasoning_tokens': 0}}, 'model_name': 'gpt-3.5-turbo-0125', 'system_fingerprint': None, 'finish_reason': 'stop', 'logprobs': None}, id='run-749d58ef-d242-4750-8904-c3df974b2dd6-0', usage_metadata={'input_tokens': 3927, 'output_tokens': 104, 'total_tokens': 4031}), 'context': [Document(metadata={'source': 'john_wick_1.csv', 'row': 5, 'Review_Date': '23 March 2023', 'Review_Title': ' Violent and gripping story with plenty of unstopped action , shootouts and breathtaking fights\\n', 'Review_Url': '/review/rw8945545/?ref_=tt_urv', 'Author': 'ma-cortes', 'Rating': 7, 'Movie_Title': 'John Wick 1', 'last_accessed_at': '2024-09-28T09:20:20.837128', '_id': '61c6fa160e5841d49f5a4584d8a7299d', '_collection_name': 'JohnWick'}, page_content=\": 5\\nReview: Ultra-violent first entry with lots of killings, thrills , noisy action , suspense , and crossfire . In this original John Wick (2014) , an ex-hit-man comes out of retirement to track down the gangsters that killed his dog and took everything from him . With the untimely death of his beloved wife still bitter in his mouth he seeks for vengeance . But when an arrogant Russian mob prince and hoodlums steal his car and kill his dog , they are fully aware of his lethal capacity. The Bogeyman will find himself dragged into an impossible task as every killer in the business dreams of cornering the legendary Wick who now has an enormous price on his head . In this first installment John Wick , blind with revenge, and for his salvation John will immediately unleash a carefully orchestrated maelstrom of destruction against those attempt to chase him and with a price tag on his head, as he is the target of hit men : an army of bounty-hunting killers on his trail and a murderer woman everywhere . The legendary hitman will be forced to unearth his meticulously concealed identity and to carry out a relentless vendetta . Now, only blood can quench the boogeyman's thirst for retribution . Don't Set Him Off! . John Wick isn't the Boogeyman... He's the guy you send to kill the doomed Boogeyman. Revenge is all he has left. You want peace, prepare for war . Don't Hunt What You Can't Kill. Tick Tock, Mr. Wick. Everyone Is Waiting. For John Wick . Every Action Has Consequences. This Friday, Wick is Back . Its the World Vs. Wick. Every Action Has Consequences.\"), Document(metadata={'source': 'john_wick_1.csv', 'row': 0, 'Review_Date': '6 May 2015', 'Review_Title': ' Kinetic, concise, and stylish; John Wick kicks ass.\\n', 'Review_Url': '/review/rw3233896/?ref_=tt_urv', 'Author': 'lnvicta', 'Rating': 8, 'Movie_Title': 'John Wick 1', 'last_accessed_at': '2024-09-28T09:20:20.837118', '_id': '1368a0c0b1434949a40d1885b08b2851', '_collection_name': 'JohnWick'}, page_content=\": 0\\nReview: The best way I can describe John Wick is to picture Taken but instead of Liam Neeson it's Keanu Reeves and instead of his daughter it's his dog. That's essentially the plot of the movie. John Wick (Reeves) is out to seek revenge on the people who took something he loved from him. It's a beautifully simple premise for an action movie - when action movies get convoluted, they get bad i.e. A Good Day to Die Hard. John Wick gives the viewers what they want: Awesome action, stylish stunts, kinetic chaos, and a relatable hero to tie it all together. John Wick succeeds in its simplicity.\"), Document(metadata={'source': 'john_wick_1.csv', 'row': 18, 'Review_Date': '10 September 2019', 'Review_Title': ' Probably NOT a film to watch with your kids or mother.\\n', 'Review_Url': '/review/rw5112990/?ref_=tt_urv', 'Author': 'planktonrules', 'Rating': 7, 'Movie_Title': 'John Wick 1', 'last_accessed_at': '2024-09-28T09:20:20.837139', '_id': 'aed5e9fdae4c4868a54843e705c4bbf0', '_collection_name': 'JohnWick'}, page_content=\": 18\\nReview: When the story begins, John (Keanu Reeves) has just lost his wife. After her death, he's a bit lost but tries to rebuild his life. One day, he's getting gas and a young Russian-American punk notices Wick's classic car...and tries to buy it off him. But Wick isn't interested and declines. Soon, the punk arrives at Wick's home with some goons where they surprise him--beating him senseless, destroying his stuff, killing his dog and stealing his car! This is when you then learn that Wick is a super-assassin....and the punk chose the wrong guy to attack. The jerk's father is a big-time Russian mobster....and it's a contest to see who will win...the mobster and his gang or Wick on his own. Considering there are (so far) two MORE John Wick films, it pretty much seems certain who will win this battle.\"), Document(metadata={'source': 'john_wick_1.csv', 'row': 9, 'Review_Date': '20 October 2014', 'Review_Title': \" The coolest action film you'll see all year\\n\", 'Review_Url': '/review/rw3107759/?ref_=tt_urv', 'Author': 'trublu215', 'Rating': 9, 'Movie_Title': 'John Wick 1', 'last_accessed_at': '2024-09-28T09:20:20.837133', '_id': '73e00e211a4f42deb8409d12ca16e266', '_collection_name': 'JohnWick'}, page_content=\": 9\\nReview: At first glance, John Wick sounds like a terrible film on paper but with the slickness of Keanu Reeves' performance as the titular character and the sheer brilliance in its action sequences, this marks the best action film of the year and one of the absolute best in the past decade. Following a brutal home invasion that leaves his beloved dog murdered by thugs from his past, John Wick vows revenge on the ones who have taken what he loves most. Like I said, on paper, this seems like a direct-to-DVD slopfest starring John Cena but as a film with Keanu Reeves as the lead, it marks the very welcomed return for Reeves to the genre. John Wick is insanely fun, violently brutal and an overall romp especially for those disappointed by The Expendables 3. John Wick is propelled by Tarantino-esque dialog mixed with the swagger of action stars from the 70s. Reeves literally emulates cool in this film and does it with such confidence, that we don't even doubt the character...even when he kills countless bad guys with extreme force in some utterly ridiculous and implausible situations. We don't doubt it for a minute. This is EXACTLY what you want out of an action film. It is briskly paced, brilliantly shot and meticulously choreographed and keeps you wanting more and more. The supporting cast filled with the likes of John Legiuzamo, Ian McShane, and Willen Dafoe also keeps this film very interesting. These guys don't play good guys, hell, John Wick by traditional standards would be a bad guy in any other film. Every character is more ruthless than the next and pushes John Wick to be more ruthless than they are, creating a very cool dynamic between the character and the plot regarding the idea of how far is too far? However, don't expect some revelation from John Wick regarding the morality of bad and evil. This film wants you entertained and does so with brute force, it never lets up, not even for a second. One scene in particular that will have your blood pumping is a showdown between thugs and Wick in a nightclub. This action sequence remains the best in the film and will have you grasping your theater seat because of the sheer intensity of it. Overall, John Wick is slick, violent fun that turns into a remarkable, surprising film that will catch you off guard. It is THAT good. I highly recommend this film to action buffs especially but I'm sure those who just like a good movie will love it as well.\"), Document(metadata={'source': 'john_wick_2.csv', 'row': 6, 'Review_Date': '14 February 2017', 'Review_Title': \" John Wick: Chapter 2 continues it's faced paced, neo-noir story of our assassin\\n\", 'Review_Url': '/review/rw3639868/?ref_=tt_urv', 'Author': 'RforFilm', 'Rating': 8, 'Movie_Title': 'John Wick 2', 'last_accessed_at': '2024-09-29T09:20:20.837292', '_id': '4d1aa285ce1f44b18e64382a4ebd0ef8', '_collection_name': 'JohnWick'}, page_content=\": 6\\nReview: In 2014, a Keanu Reeves revenge thriller John Wick became a surprise hit. I originally skipped out on the film as I felt that the trailers only showed an assassin story that I felt I've seen before. As far as I'm concerned, I made a big mistake. Before seeing the sequel, I felt it was important to watch the first one. I rented it on Amazon Prime and I was shock by what I saw; a dark, stylish, and fun action movie that is doing it's own thing. Though I've seen plenty stories about revenge (The Count of Monte Cristo and Moby Dick being the prime examples), I can't recall one over someone's pet being murdered.\"), Document(metadata={'source': 'john_wick_1.csv', 'row': 4, 'Review_Date': '30 July 2020', 'Review_Title': ' delivers if taken for what it is\\n', 'Review_Url': '/review/rw5952152/?ref_=tt_urv', 'Author': 'Special-K88', 'Rating': 0, 'Movie_Title': 'John Wick 1', 'last_accessed_at': '2024-09-28T09:20:20.837127', '_id': 'f45d6582377245b3a6faf2b52cdda796', '_collection_name': 'JohnWick'}, page_content=': 4\\nReview: Though he no longer has a taste for wet work, retired assassin and \"Boogeyman\" John Wick has suffered a personal tragedy that\\'s left a huge void in his life. When he and his dog (really the last meaningful thing he has left) fall victim to a scummy group of Russian mobsters, he emerges from his shell with vengeance on his mind. Slow and ambiguous at first, but reveals more as it goes along, and once it kicks into gear it rarely lets up with plenty of stylized, visceral action scenes, an impressive arsenal of weaponry, plus sly direction and editing that give it the feel of a violent music video at times. Preposterously fun to watch, it just doesn\\'t have much of a story at its disposal, not to mention all the over-the-top bloodletting and mayhem eventually becomes redundant. Savvy, indestructible Reeves looks right at home, and delivers many of his lines with a sardonic wit. **½'), Document(metadata={'source': 'john_wick_2.csv', 'row': 20, 'Review_Date': '28 May 2017', 'Review_Title': ' A New Franchise is Born\\n', 'Review_Url': '/review/rw3718180/?ref_=tt_urv', 'Author': 'claudio_carvalho', 'Rating': 8, 'Movie_Title': 'John Wick 2', 'last_accessed_at': '2024-09-29T09:20:20.837301', '_id': 'db8935d5944b4980bb1890a827281087', '_collection_name': 'JohnWick'}, page_content=\": 20\\nReview: After resolving his issues with the Russian mafia, John Wick (Keanu Reeves) returns home. But soon the mobster Santino D'Antonio (Riccardo Scamarcio) visits him to show Wick's marker and tells that he needs to help. John Wicks refuses since he is retired and Santino blows-up his house. John Wick meets the owner of the Continental hotel in New York City, Winston (Ian McShane), and he tells that Wick cannot violate the Mafia rules and shall honor the marker. Santino asks John Wick to kill his sister Gianna D'Antonio (Claudia Gerini) in Rome so that he can sit on the High Table of the criminal organizations. When John Wicks accomplishes his assignment, Santino puts a seven-million dollar contract on him attracting professional killers from everywhere. But Wick promises to kill Santino that is not protected by his marker anymore.\"), Document(metadata={'source': 'john_wick_2.csv', 'row': 19, 'Review_Date': '29 November 2020', 'Review_Title': ' John Wick Kills A Lot Of People\\n', 'Review_Url': '/review/rw6320115/?ref_=tt_urv', 'Author': 'boblipton', 'Rating': 5, 'Movie_Title': 'John Wick 2', 'last_accessed_at': '2024-09-29T09:20:20.837301', '_id': 'd88498fdc2774199bd3aed5c20658bd8', '_collection_name': 'JohnWick'}, page_content=\": 19\\nReview: If you've seen the first John Wick movie, you know that Keanu Reeves is John Wick, a retired assassin who comes out of retirement when someone kills his dog. In this one, which begins a week later, matters are still reverberating, and some one has stolen his car, which calls for a lot of carnage. That settled, John is called on to pay off an old debt by helping Ian McShane take over the Assassin's Guild by flying around to Italy, Canada and Manhattan and killing what seems like hundreds of assassins.\"), Document(metadata={'source': 'john_wick_1.csv', 'row': 20, 'Review_Date': '22 October 2014', 'Review_Title': ' Smoothest action film to come around in a long time\\n', 'Review_Url': '/review/rw3109271/?ref_=tt_urv', 'Author': 'IceSkateUpHill', 'Rating': 10, 'Movie_Title': 'John Wick 1', 'last_accessed_at': '2024-09-28T09:20:20.837141', '_id': '780d41c4f5364fd6b15651dfd440eba3', '_collection_name': 'JohnWick'}, page_content=\": 20\\nReview: John Wick is something special. It takes as much time setting up elaborate action sequences as it does the world with which it all takes place in. And what a world it is. It reminds me of Millers Crossing and it is cooler than any other recent attempt at noir. We are shown a criminal underworld where, if you are connected, many powerful people know who you are and show you respect. John Wick was connected but he got out. He is the rare killer who has found peace, and he is grateful for that peace. Some young kids steal that from him and he does what he does best, he wages a one man war against the Russian Mafia. It might sound like the film takes quite a leap but it all makes sense. The motives of John and the people who get in the way of his bullets are all very clear, even if it does come across as rather simple. That's the plot at it's most basic. Then there's the action. The film is directed by Reeve's stuntman from The Matrix, so this guy knows action. There are sequences that flow so smoothly it puts other action films and their quick cuts to shame. Keaunu moves so fluidly throughout the film and comes across as such a natural that the only disappointment is that we have not seen him like this before. Along the way are plenty of character actors, fans of The Matrix and The Wire will recognize a few people then there are more obvious ones like Ian McShane and Willem Dafoe. Everyone seems to be having a good time. That is another plus for this movie. It get's dark at times but overall it is quite fun, not very chipper, but fun. I cannot recommend this movie enough. I believe it is a must see for action fans and for anyone looking for something a bit different from the usual fare.\"), Document(metadata={'source': 'john_wick_1.csv', 'row': 3, 'Review_Date': '28 September 2018', 'Review_Title': ' Keanu gets pissed and shoots people in the face for 101 minutes*\\n', 'Review_Url': '/review/rw4366368/?ref_=tt_urv', 'Author': 'Kitsfi', 'Rating': 8, 'Movie_Title': 'John Wick 1', 'last_accessed_at': '2024-09-28T09:20:20.837127', '_id': '156478ef15ef463cae8b3148a5941991', '_collection_name': 'JohnWick'}, page_content=': 3\\nReview: John wick has a very simple revenge story. It can be summarized as \"Keanu gets angry and shoots bad guys\" but what makes it special? Directed by Chad Stahelski who\\'s a stunt specialist boy does it show because the main selling point in the film are some real virtuoso action sequences, well made choreographies. Unlike today\\'s action movies, it doesn\\'t use quick-cuts or shaky cameras actually see what\\'s going on.')]}\n",
            "How does the Moroccan brawl scene in JOHN WICK 3 improve the movie?\n",
            "{'response': AIMessage(content=\"The Moroccan brawl scene in John Wick 3 improves the movie by adding a unique and inventive action sequence that stands out from the rest. It showcases fighting dogs and brings a different dynamic to the film's action. Additionally, the hand-to-hand combat emphasized in this scene, featuring actors from RAID and Mark Dacascos, adds to the overall enjoyment and quality of the choreography.\", additional_kwargs={'refusal': None}, response_metadata={'token_usage': {'completion_tokens': 77, 'prompt_tokens': 3527, 'total_tokens': 3604, 'completion_tokens_details': {'reasoning_tokens': 0}}, 'model_name': 'gpt-3.5-turbo-0125', 'system_fingerprint': None, 'finish_reason': 'stop', 'logprobs': None}, id='run-3624c7bd-aded-41a1-9303-6ead4f428590-0', usage_metadata={'input_tokens': 3527, 'output_tokens': 77, 'total_tokens': 3604}), 'context': [Document(metadata={'source': 'john_wick_3.csv', 'row': 19, 'Review_Date': '22 September 2019', 'Review_Title': ' Sheer enjoyment\\n', 'Review_Url': '/review/rw5135863/?ref_=tt_urv', 'Author': 'Leofwine_draca', 'Rating': 9, 'Movie_Title': 'John Wick 3', 'last_accessed_at': '2024-09-30T09:20:20.837449', '_id': 'beca4eabb8a1437c857a711d1d762de9', '_collection_name': 'JohnWick'}, page_content=': 19\\nReview: The inevitable third chapter of the JOHN WICK franchise continues on a high with the same quality as the last. In fact, this may just pip that one to the post to be the best JOHN WICK yet. The pacing is spot on and the plotting is measured by a huge amount of action sequences, all of which fizz and crackle with skill and energy. The movie hits the ground running as Keanu faces off with a hulking character in a library and then Triads in a weapon shop, but what really amazes here is the sheer inventiveness of the non-repetitive action. There are horse and motorbike chases, a Moroccan brawl with fighting dogs, alongside the massive action of the climax. There also seems to be a greater emphasis on hand-to-hand combat, featuring the likes of RAID actors and old-timer Mark Dacascos, which is a real pleasure as the choreography is top-notch. In terms of sheer enjoyment, this is a film hard to beat, and to criticise it at all is unnecessary. Bring on the fourth!'), Document(metadata={'source': 'john_wick_1.csv', 'row': 3, 'Review_Date': '28 September 2018', 'Review_Title': ' Keanu gets pissed and shoots people in the face for 101 minutes*\\n', 'Review_Url': '/review/rw4366368/?ref_=tt_urv', 'Author': 'Kitsfi', 'Rating': 8, 'Movie_Title': 'John Wick 1', 'last_accessed_at': '2024-09-28T09:20:20.837127', '_id': '156478ef15ef463cae8b3148a5941991', '_collection_name': 'JohnWick'}, page_content=': 3\\nReview: John wick has a very simple revenge story. It can be summarized as \"Keanu gets angry and shoots bad guys\" but what makes it special? Directed by Chad Stahelski who\\'s a stunt specialist boy does it show because the main selling point in the film are some real virtuoso action sequences, well made choreographies. Unlike today\\'s action movies, it doesn\\'t use quick-cuts or shaky cameras actually see what\\'s going on.'), Document(metadata={'source': 'john_wick_1.csv', 'row': 20, 'Review_Date': '22 October 2014', 'Review_Title': ' Smoothest action film to come around in a long time\\n', 'Review_Url': '/review/rw3109271/?ref_=tt_urv', 'Author': 'IceSkateUpHill', 'Rating': 10, 'Movie_Title': 'John Wick 1', 'last_accessed_at': '2024-09-28T09:20:20.837141', '_id': '780d41c4f5364fd6b15651dfd440eba3', '_collection_name': 'JohnWick'}, page_content=\": 20\\nReview: John Wick is something special. It takes as much time setting up elaborate action sequences as it does the world with which it all takes place in. And what a world it is. It reminds me of Millers Crossing and it is cooler than any other recent attempt at noir. We are shown a criminal underworld where, if you are connected, many powerful people know who you are and show you respect. John Wick was connected but he got out. He is the rare killer who has found peace, and he is grateful for that peace. Some young kids steal that from him and he does what he does best, he wages a one man war against the Russian Mafia. It might sound like the film takes quite a leap but it all makes sense. The motives of John and the people who get in the way of his bullets are all very clear, even if it does come across as rather simple. That's the plot at it's most basic. Then there's the action. The film is directed by Reeve's stuntman from The Matrix, so this guy knows action. There are sequences that flow so smoothly it puts other action films and their quick cuts to shame. Keaunu moves so fluidly throughout the film and comes across as such a natural that the only disappointment is that we have not seen him like this before. Along the way are plenty of character actors, fans of The Matrix and The Wire will recognize a few people then there are more obvious ones like Ian McShane and Willem Dafoe. Everyone seems to be having a good time. That is another plus for this movie. It get's dark at times but overall it is quite fun, not very chipper, but fun. I cannot recommend this movie enough. I believe it is a must see for action fans and for anyone looking for something a bit different from the usual fare.\"), Document(metadata={'source': 'john_wick_3.csv', 'row': 1, 'Review_Date': '21 October 2021', 'Review_Title': ' Starting to test the friendship\\n', 'Review_Url': '/review/rw7466057/?ref_=tt_urv', 'Author': 'benxrichardson', 'Rating': 6, 'Movie_Title': 'John Wick 3', 'last_accessed_at': '2024-09-30T09:20:20.837437', '_id': '80848f777ed74086851b04df37a2b560', '_collection_name': 'JohnWick'}, page_content=\": 1\\nReview: I'm a fan of the John Wick films. The action sequences are of the highest order and there is quite a bit that feels unique in each action scene. By half way through JW3I started to long for a plot line or a human relationship. There needs to be more to a movie than just fighting.\"), Document(metadata={'source': 'john_wick_4.csv', 'row': 14, 'Review_Date': '23 March 2023', 'Review_Title': ' Yeah\\n', 'Review_Url': '/review/rw8946621/?ref_=tt_urv', 'Author': 'markvanwasbeek', 'Rating': 9, 'Movie_Title': 'John Wick 4', 'last_accessed_at': '2024-10-01T09:20:20.837590', '_id': '1d4976cc623844d2bed5e69e71485154', '_collection_name': 'JohnWick'}, page_content=\": 14\\nReview: By now you know what to expect from a John Wick movie. I thought the franchise was losing a little momentum in chapter 3 so I was worried this could be disappointing. It's not. It's even more on steroids than any Wick before! Even close to 3 hours it doesn't feel to long which is very special for a action movie. This franchise has set new standards. If anybody says a movie is good like John Wick, it better f'n be! The set pieces as everyone mentioned before are really insane this time. The Tokyo sceney with illuminated cherry blossoms was beautiful. The only super illogical thing that bothered me was that nobody flinched at the nightclub, eventually they did but after a whole 10 minute beatdown through the whole club, but then again it's a shady nightclub for high table people. If you liked the first three movies, get your ass to the cinema. Yeah.\"), Document(metadata={'source': 'john_wick_3.csv', 'row': 0, 'Review_Date': '22 September 2019', 'Review_Title': ' Enjoyably choreographed, but the lack of consequence combined with the global scale robs it of urgency and means it outstays its welcome a bit\\n', 'Review_Url': '/review/rw5136960/?ref_=tt_urv', 'Author': 'bob the moo', 'Rating': 0, 'Movie_Title': 'John Wick 3', 'last_accessed_at': '2024-09-30T09:20:20.837436', '_id': 'd9530c91c8054288a4322e094acc11f0', '_collection_name': 'JohnWick'}, page_content=': 0\\nReview: It is 5 years since the first John Wick film - one that took me by surprise by how silly it was as a narrative, but yet how well it delivered action sequences. The second film was only 2 years ago, and it raised the stakes and went from a man seeking revenge on another group of people, into one where the world was filled with assassins, popping up from everywhere all the time. I remember ending that film feeling like it had gone too far but that the third would probably do more of that. True enough, Parabellum (\"prepare for war\") sees the whole world filled with assassins, and a huge administrative system around them - but yet the whole lot of them can\\'t seem to cause John Wick too much trouble. As with the first film, this expands the world more than it can bear, and although it looks cool at times, the world makes no sense whatsoever and it hurts the film the more it relies on it (which it does as it expands it).'), Document(metadata={'source': 'john_wick_1.csv', 'row': 9, 'Review_Date': '20 October 2014', 'Review_Title': \" The coolest action film you'll see all year\\n\", 'Review_Url': '/review/rw3107759/?ref_=tt_urv', 'Author': 'trublu215', 'Rating': 9, 'Movie_Title': 'John Wick 1', 'last_accessed_at': '2024-09-28T09:20:20.837133', '_id': '73e00e211a4f42deb8409d12ca16e266', '_collection_name': 'JohnWick'}, page_content=\": 9\\nReview: At first glance, John Wick sounds like a terrible film on paper but with the slickness of Keanu Reeves' performance as the titular character and the sheer brilliance in its action sequences, this marks the best action film of the year and one of the absolute best in the past decade. Following a brutal home invasion that leaves his beloved dog murdered by thugs from his past, John Wick vows revenge on the ones who have taken what he loves most. Like I said, on paper, this seems like a direct-to-DVD slopfest starring John Cena but as a film with Keanu Reeves as the lead, it marks the very welcomed return for Reeves to the genre. John Wick is insanely fun, violently brutal and an overall romp especially for those disappointed by The Expendables 3. John Wick is propelled by Tarantino-esque dialog mixed with the swagger of action stars from the 70s. Reeves literally emulates cool in this film and does it with such confidence, that we don't even doubt the character...even when he kills countless bad guys with extreme force in some utterly ridiculous and implausible situations. We don't doubt it for a minute. This is EXACTLY what you want out of an action film. It is briskly paced, brilliantly shot and meticulously choreographed and keeps you wanting more and more. The supporting cast filled with the likes of John Legiuzamo, Ian McShane, and Willen Dafoe also keeps this film very interesting. These guys don't play good guys, hell, John Wick by traditional standards would be a bad guy in any other film. Every character is more ruthless than the next and pushes John Wick to be more ruthless than they are, creating a very cool dynamic between the character and the plot regarding the idea of how far is too far? However, don't expect some revelation from John Wick regarding the morality of bad and evil. This film wants you entertained and does so with brute force, it never lets up, not even for a second. One scene in particular that will have your blood pumping is a showdown between thugs and Wick in a nightclub. This action sequence remains the best in the film and will have you grasping your theater seat because of the sheer intensity of it. Overall, John Wick is slick, violent fun that turns into a remarkable, surprising film that will catch you off guard. It is THAT good. I highly recommend this film to action buffs especially but I'm sure those who just like a good movie will love it as well.\"), Document(metadata={'source': 'john_wick_4.csv', 'row': 19, 'Review_Date': '17 March 2023', 'Review_Title': ' The Best John Wick Sequel\\n', 'Review_Url': '/review/rw8935117/?ref_=tt_urv', 'Author': 'tkdlifemagazine', 'Rating': 9, 'Movie_Title': 'John Wick 4', 'last_accessed_at': '2024-10-01T09:20:20.837593', '_id': '4b280d54cfa845d0b57b2ed89f66cb7e', '_collection_name': 'JohnWick'}, page_content=\": 19\\nReview: John Wick: Chapter 4 picks up where Chapter 3: Parabellum left off. As has been the tradition in the sequels to this beloved martial arts action franchise the action starts from the very inception of the film's opening, and lasts until the curtain falls. JW4 is no exception to that rule. What it does do is improve on the prior installment, and solidify Keanu Reeves as the greatest martial arts action star of all time. If you don't accept that notion, then you must accept the fact that it solidifies Reeves and Director, Chad Stahelski, as the greatest martial arts action pairing of modern times.\"), Document(metadata={'source': 'john_wick_3.csv', 'row': 24, 'Review_Date': '17 May 2019', 'Review_Title': ' Makes John Wick a superb trilogy\\n', 'Review_Url': '/review/rw4860603/?ref_=tt_urv', 'Author': 'masonsaul', 'Rating': 10, 'Movie_Title': 'John Wick 3', 'last_accessed_at': '2024-09-30T09:20:20.837452', '_id': '8d9efbac2855404caf0e816029f1b149', '_collection_name': 'JohnWick'}, page_content=\": 24\\nReview: John Wick: Chapter 3 - Parabellum is quite literally about consequences, dealing with the fallout of John's actions at the end of the previous film and sending him on an even bigger odyssey of violence that continues to explore this world of assassination and deliver beautifully clean action sequences.\"), Document(metadata={'source': 'john_wick_4.csv', 'row': 2, 'Review_Date': '25 March 2023', 'Review_Title': ' It got on my wick.\\n', 'Review_Url': '/review/rw8950606/?ref_=tt_urv', 'Author': 'BA_Harrison', 'Rating': 4, 'Movie_Title': 'John Wick 4', 'last_accessed_at': '2024-10-01T09:20:20.837583', '_id': '941d820b68874776bf1b761a2cabc314', '_collection_name': 'JohnWick'}, page_content=': 2\\nReview: The first three John Wick films came in fairly quick succession, with only five years between the first and third chapters, each film trying to top the one before in terms of wild set pieces. For me, it all became a bit too much, the action rapidly becoming too frenetic and over-the-top. By Parabellum (part three), I had had enough.')]}\n",
            "What makes John Wick praised for its coordination and emotional depth?\n",
            "{'response': AIMessage(content='John Wick is praised for its coordination and emotional depth due to the well-crafted action sequences that flow smoothly and are meticulously choreographed. The emotional depth comes from the simple yet relatable premise of seeking revenge for a personal tragedy, which adds a layer of depth to the character of John Wick and the overall story. Additionally, the film features a talented cast that brings life to the characters, contributing to the emotional resonance of the film.', additional_kwargs={'refusal': None}, response_metadata={'token_usage': {'completion_tokens': 87, 'prompt_tokens': 3543, 'total_tokens': 3630, 'completion_tokens_details': {'reasoning_tokens': 0}}, 'model_name': 'gpt-3.5-turbo-0125', 'system_fingerprint': None, 'finish_reason': 'stop', 'logprobs': None}, id='run-9fb68027-aa0d-4b97-96b9-d45b2cd800aa-0', usage_metadata={'input_tokens': 3543, 'output_tokens': 87, 'total_tokens': 3630}), 'context': [Document(metadata={'source': 'john_wick_1.csv', 'row': 20, 'Review_Date': '22 October 2014', 'Review_Title': ' Smoothest action film to come around in a long time\\n', 'Review_Url': '/review/rw3109271/?ref_=tt_urv', 'Author': 'IceSkateUpHill', 'Rating': 10, 'Movie_Title': 'John Wick 1', 'last_accessed_at': '2024-09-28T09:20:20.837141', '_id': '780d41c4f5364fd6b15651dfd440eba3', '_collection_name': 'JohnWick'}, page_content=\": 20\\nReview: John Wick is something special. It takes as much time setting up elaborate action sequences as it does the world with which it all takes place in. And what a world it is. It reminds me of Millers Crossing and it is cooler than any other recent attempt at noir. We are shown a criminal underworld where, if you are connected, many powerful people know who you are and show you respect. John Wick was connected but he got out. He is the rare killer who has found peace, and he is grateful for that peace. Some young kids steal that from him and he does what he does best, he wages a one man war against the Russian Mafia. It might sound like the film takes quite a leap but it all makes sense. The motives of John and the people who get in the way of his bullets are all very clear, even if it does come across as rather simple. That's the plot at it's most basic. Then there's the action. The film is directed by Reeve's stuntman from The Matrix, so this guy knows action. There are sequences that flow so smoothly it puts other action films and their quick cuts to shame. Keaunu moves so fluidly throughout the film and comes across as such a natural that the only disappointment is that we have not seen him like this before. Along the way are plenty of character actors, fans of The Matrix and The Wire will recognize a few people then there are more obvious ones like Ian McShane and Willem Dafoe. Everyone seems to be having a good time. That is another plus for this movie. It get's dark at times but overall it is quite fun, not very chipper, but fun. I cannot recommend this movie enough. I believe it is a must see for action fans and for anyone looking for something a bit different from the usual fare.\"), Document(metadata={'source': 'john_wick_1.csv', 'row': 9, 'Review_Date': '20 October 2014', 'Review_Title': \" The coolest action film you'll see all year\\n\", 'Review_Url': '/review/rw3107759/?ref_=tt_urv', 'Author': 'trublu215', 'Rating': 9, 'Movie_Title': 'John Wick 1', 'last_accessed_at': '2024-09-28T09:20:20.837133', '_id': '73e00e211a4f42deb8409d12ca16e266', '_collection_name': 'JohnWick'}, page_content=\": 9\\nReview: At first glance, John Wick sounds like a terrible film on paper but with the slickness of Keanu Reeves' performance as the titular character and the sheer brilliance in its action sequences, this marks the best action film of the year and one of the absolute best in the past decade. Following a brutal home invasion that leaves his beloved dog murdered by thugs from his past, John Wick vows revenge on the ones who have taken what he loves most. Like I said, on paper, this seems like a direct-to-DVD slopfest starring John Cena but as a film with Keanu Reeves as the lead, it marks the very welcomed return for Reeves to the genre. John Wick is insanely fun, violently brutal and an overall romp especially for those disappointed by The Expendables 3. John Wick is propelled by Tarantino-esque dialog mixed with the swagger of action stars from the 70s. Reeves literally emulates cool in this film and does it with such confidence, that we don't even doubt the character...even when he kills countless bad guys with extreme force in some utterly ridiculous and implausible situations. We don't doubt it for a minute. This is EXACTLY what you want out of an action film. It is briskly paced, brilliantly shot and meticulously choreographed and keeps you wanting more and more. The supporting cast filled with the likes of John Legiuzamo, Ian McShane, and Willen Dafoe also keeps this film very interesting. These guys don't play good guys, hell, John Wick by traditional standards would be a bad guy in any other film. Every character is more ruthless than the next and pushes John Wick to be more ruthless than they are, creating a very cool dynamic between the character and the plot regarding the idea of how far is too far? However, don't expect some revelation from John Wick regarding the morality of bad and evil. This film wants you entertained and does so with brute force, it never lets up, not even for a second. One scene in particular that will have your blood pumping is a showdown between thugs and Wick in a nightclub. This action sequence remains the best in the film and will have you grasping your theater seat because of the sheer intensity of it. Overall, John Wick is slick, violent fun that turns into a remarkable, surprising film that will catch you off guard. It is THAT good. I highly recommend this film to action buffs especially but I'm sure those who just like a good movie will love it as well.\"), Document(metadata={'source': 'john_wick_1.csv', 'row': 3, 'Review_Date': '28 September 2018', 'Review_Title': ' Keanu gets pissed and shoots people in the face for 101 minutes*\\n', 'Review_Url': '/review/rw4366368/?ref_=tt_urv', 'Author': 'Kitsfi', 'Rating': 8, 'Movie_Title': 'John Wick 1', 'last_accessed_at': '2024-09-28T09:20:20.837127', '_id': '156478ef15ef463cae8b3148a5941991', '_collection_name': 'JohnWick'}, page_content=': 3\\nReview: John wick has a very simple revenge story. It can be summarized as \"Keanu gets angry and shoots bad guys\" but what makes it special? Directed by Chad Stahelski who\\'s a stunt specialist boy does it show because the main selling point in the film are some real virtuoso action sequences, well made choreographies. Unlike today\\'s action movies, it doesn\\'t use quick-cuts or shaky cameras actually see what\\'s going on.'), Document(metadata={'source': 'john_wick_1.csv', 'row': 0, 'Review_Date': '6 May 2015', 'Review_Title': ' Kinetic, concise, and stylish; John Wick kicks ass.\\n', 'Review_Url': '/review/rw3233896/?ref_=tt_urv', 'Author': 'lnvicta', 'Rating': 8, 'Movie_Title': 'John Wick 1', 'last_accessed_at': '2024-09-28T09:20:20.837118', '_id': '1368a0c0b1434949a40d1885b08b2851', '_collection_name': 'JohnWick'}, page_content=\": 0\\nReview: The best way I can describe John Wick is to picture Taken but instead of Liam Neeson it's Keanu Reeves and instead of his daughter it's his dog. That's essentially the plot of the movie. John Wick (Reeves) is out to seek revenge on the people who took something he loved from him. It's a beautifully simple premise for an action movie - when action movies get convoluted, they get bad i.e. A Good Day to Die Hard. John Wick gives the viewers what they want: Awesome action, stylish stunts, kinetic chaos, and a relatable hero to tie it all together. John Wick succeeds in its simplicity.\"), Document(metadata={'source': 'john_wick_1.csv', 'row': 17, 'Review_Date': '27 February 2016', 'Review_Title': ' The man who kills the Boogeyman\\n', 'Review_Url': '/review/rw3422991/?ref_=tt_urv', 'Author': 'Horst_In_Translation', 'Rating': 8, 'Movie_Title': 'John Wick 1', 'last_accessed_at': '2024-09-28T09:20:20.837139', '_id': 'e58c5fdd6169478493cdb5840aa6cf65', '_collection_name': 'JohnWick'}, page_content=': 17\\nReview: There are actually quite a handful reasons why \"John Wick\" could have become a failure. The two directors have never made a film before and almost exclusively worked in the stunt department so far. The writer is not exactly experienced either. Lead actor Keanu Reeves usually scores more through boyish charm than through realistic portrayal of gritty badass characters. And the genre of crime action thrillers rarely delivers in terms of real significance. Still it became a very good film. The main reason for that is probably that it does not attempt to be anything of great cinematic value, does not try to teach groundbreaking stories on moral, loyalty or betrayal. Instead, Derek Kolstad\\'s script goes for a gutsy revenge thriller that is not even hurt by its occasional predictability.'), Document(metadata={'source': 'john_wick_1.csv', 'row': 11, 'Review_Date': '25 September 2015', 'Review_Title': ' Action as it should be\\n', 'Review_Url': '/review/rw3323198/?ref_=tt_urv', 'Author': 'Leofwine_draca', 'Rating': 8, 'Movie_Title': 'John Wick 1', 'last_accessed_at': '2024-09-28T09:20:20.837134', '_id': '9876f6fb513745a0946996e808b19161', '_collection_name': 'JohnWick'}, page_content=\": 11\\nReview: JOHN WICK is a rare example of Hollywood getting things spot-on when it comes to creating the near-perfect action film. JOHN WICK is a relentless, pulse-pounding thriller that has plenty of similarity to the Liam Neeson classic TAKEN, albeit with a more simplistic (and also more emotionally intense) plot line. This is the kind of lean, pared-down film-making that's all about intensity and momentum. It sits well with classic international fare like POINT BLANK, SLEEPLESS NIGHT, MEA CULPA, THE MAN FROM NOWHERE, and THE RAID films.\"), Document(metadata={'source': 'john_wick_1.csv', 'row': 8, 'Review_Date': '23 February 2020', 'Review_Title': ' love this movie highly recommend\\n', 'Review_Url': '/review/rw5503708/?ref_=tt_urv', 'Author': 'MrHeraclius', 'Rating': 0, 'Movie_Title': 'John Wick 1', 'last_accessed_at': '2024-09-28T09:20:20.837132', '_id': '144e4b0c59fe48ae9aac082dfb2f8863', '_collection_name': 'JohnWick'}, page_content=\": 8\\nReview: It's hard to find anything bad to say about John Wick. The action is beautifully choreographed, the setup is surprisingly emotional for an action flick, and Keanu.... What more is there to say? If you love action or even just like it you will be in for the ride of your life.\"), Document(metadata={'source': 'john_wick_3.csv', 'row': 1, 'Review_Date': '21 October 2021', 'Review_Title': ' Starting to test the friendship\\n', 'Review_Url': '/review/rw7466057/?ref_=tt_urv', 'Author': 'benxrichardson', 'Rating': 6, 'Movie_Title': 'John Wick 3', 'last_accessed_at': '2024-09-30T09:20:20.837437', '_id': '80848f777ed74086851b04df37a2b560', '_collection_name': 'JohnWick'}, page_content=\": 1\\nReview: I'm a fan of the John Wick films. The action sequences are of the highest order and there is quite a bit that feels unique in each action scene. By half way through JW3I started to long for a plot line or a human relationship. There needs to be more to a movie than just fighting.\"), Document(metadata={'source': 'john_wick_1.csv', 'row': 4, 'Review_Date': '30 July 2020', 'Review_Title': ' delivers if taken for what it is\\n', 'Review_Url': '/review/rw5952152/?ref_=tt_urv', 'Author': 'Special-K88', 'Rating': 0, 'Movie_Title': 'John Wick 1', 'last_accessed_at': '2024-09-28T09:20:20.837127', '_id': 'f45d6582377245b3a6faf2b52cdda796', '_collection_name': 'JohnWick'}, page_content=': 4\\nReview: Though he no longer has a taste for wet work, retired assassin and \"Boogeyman\" John Wick has suffered a personal tragedy that\\'s left a huge void in his life. When he and his dog (really the last meaningful thing he has left) fall victim to a scummy group of Russian mobsters, he emerges from his shell with vengeance on his mind. Slow and ambiguous at first, but reveals more as it goes along, and once it kicks into gear it rarely lets up with plenty of stylized, visceral action scenes, an impressive arsenal of weaponry, plus sly direction and editing that give it the feel of a violent music video at times. Preposterously fun to watch, it just doesn\\'t have much of a story at its disposal, not to mention all the over-the-top bloodletting and mayhem eventually becomes redundant. Savvy, indestructible Reeves looks right at home, and delivers many of his lines with a sardonic wit. **½'), Document(metadata={'source': 'john_wick_2.csv', 'row': 9, 'Review_Date': '22 July 2017', 'Review_Title': ' A disappointing sequel for the most part\\n', 'Review_Url': '/review/rw3760991/?ref_=tt_urv', 'Author': 'Horst_In_Translation', 'Rating': 4, 'Movie_Title': 'John Wick 2', 'last_accessed_at': '2024-09-29T09:20:20.837294', '_id': '2a9defa01f3d400586fb3c07f7ae4294', '_collection_name': 'JohnWick'}, page_content=': 9\\nReview: \"John Wick: Chapter 2\" is an American movie from this year (2017). Experienced visual effects artist Stahelski and Kolstad returned from the very first Wick film to work on the script/direction here too, so the premise with regard to people working behind the camera is there. And in front of the camera we see familiar faces again, people that survived the film, like most of all Keanu Reeves playing the central character. This is a really long film at over 2 hours and at this runtime, it is considerably longer than the first. And there is a lot other stuff different compared to the original. Most has to do with the fun component. I think the first film was a great fun watch from start to finish while offering emotion nonetheless and also delivering in the crime and drama genres. And action too, but I don\\'t care too much about that. This genre is also basically the only one where this new movie delivers as the first 30 minutes are truly packed with action. It gets less afterward, but there is no denying that it was still all about the action and nothing else.')]}\n"
          ]
        },
        {
          "data": {
            "application/vnd.jupyter.widget-view+json": {
              "model_id": "0201a0e5c1064ef8ab72261e58016e3b",
              "version_major": 2,
              "version_minor": 0
            },
            "text/plain": [
              "Creating CSV from Arrow format:   0%|          | 0/1 [00:00<?, ?ba/s]"
            ]
          },
          "metadata": {},
          "output_type": "display_data"
        }
      ],
      "source": [
        "naive_chain_ds = test_chain(\"synthetic_testset.csv\", naive_retrieval_chain)\n",
        "naive_chain_ds.to_csv(\"datasets/naive_chain_ds.csv\")\n",
        "naive_chain_ds.info.description = \"naive_chain_ds\""
      ]
    },
    {
      "cell_type": "code",
      "execution_count": null,
      "metadata": {},
      "outputs": [],
      "source": [
        "bm25_chain_ds = test_chain(\"synthetic_testset.csv\", bm25_retrieval_chain)\n",
        "bm25_chain_ds.to_csv(\"datasets/bm25_chain_ds.csv\")\n",
        "bm25_chain_ds.info.description = \"bm25_chain_ds\""
      ]
    },
    {
      "cell_type": "code",
      "execution_count": null,
      "metadata": {},
      "outputs": [],
      "source": [
        "contextual_compression_chain_ds = test_chain(\"synthetic_testset.csv\", contextual_compression_retrieval_chain)\n",
        "contextual_compression_chain_ds.to_csv(\"datasets/contextual_compression_chain_ds.csv\")\n",
        "contextual_compression_chain_ds.info.description = \"contextual_compression_chain_ds\""
      ]
    },
    {
      "cell_type": "code",
      "execution_count": null,
      "metadata": {},
      "outputs": [],
      "source": [
        "multi_query_chain_ds = test_chain(\"synthetic_testset.csv\", multi_query_retrieval_chain)\n",
        "multi_query_chain_ds.to_csv(\"datasets/multi_query_chain_ds.csv\")\n",
        "multi_query_chain_ds.info.description = \"multi_query_chain_ds\""
      ]
    },
    {
      "cell_type": "code",
      "execution_count": null,
      "metadata": {},
      "outputs": [],
      "source": [
        "parent_document_chain_ds = test_chain(\"synthetic_testset.csv\", parent_document_retrieval_chain)\n",
        "parent_document_chain_ds.to_csv(\"datasets/parent_document_chain_ds.csv\")\n",
        "parent_document_chain_ds.info.description = \"parent_document_chain_ds\""
      ]
    },
    {
      "cell_type": "code",
      "execution_count": null,
      "metadata": {},
      "outputs": [],
      "source": [
        "ensemble_chain_ds = test_chain(\"synthetic_testset.csv\", ensemble_retrieval_chain)\n",
        "ensemble_chain_ds.to_csv(\"datasets/ensemble_chain_ds.csv\")\n",
        "ensemble_chain_ds.info.description = \"ensemble_chain_ds\""
      ]
    },
    {
      "cell_type": "code",
      "execution_count": null,
      "metadata": {},
      "outputs": [],
      "source": [
        "semantic_chain_ds = test_chain(\"synthetic_testset.csv\", semantic_retrieval_chain)\n",
        "semantic_chain_ds.to_csv(\"datasets/semantic_chain_ds.csv\")\n",
        "semantic_chain_ds.info.description = \"semantic_chain_ds\""
      ]
    },
    {
      "cell_type": "markdown",
      "metadata": {},
      "source": [
        "#### Run Ragas evaluations on the retrieval chain datasets using metrics focused on retrieval"
      ]
    },
    {
      "cell_type": "code",
      "execution_count": null,
      "metadata": {},
      "outputs": [],
      "source": [
        "from ragas import evaluate\n",
        "from ragas.metrics import (\n",
        "    context_recall,             # Context recall measures if all the relevant information required to answer the question was retrieved. This metric is computed based on the ground_truth \n",
        "    context_precision,          # Context precision measures the signal-to-noise ratio of the retrieved context. This metric is computed using the question and the contexts.\n",
        ")\n",
        "\n",
        "metrics = [\n",
        "    context_recall,\n",
        "    context_precision,\n",
        "]"
      ]
    },
    {
      "cell_type": "code",
      "execution_count": 69,
      "metadata": {},
      "outputs": [],
      "source": [
        "datasets = [naive_chain_ds,\n",
        "         bm25_chain_ds,\n",
        "         contextual_compression_chain_ds,\n",
        "         multi_query_chain_ds,\n",
        "         parent_document_chain_ds,\n",
        "         ensemble_chain_ds,\n",
        "         semantic_chain_ds,\n",
        "         ]"
      ]
    },
    {
      "cell_type": "code",
      "execution_count": null,
      "metadata": {},
      "outputs": [],
      "source": [
        "ragas_results = []\n",
        "\n",
        "for dataset in datasets:\n",
        "    dataset_name = dataset.info.description\n",
        "    print(dataset_name)\n",
        "    \n",
        "    ragas_result = evaluate(dataset, metrics)\n",
        "\n",
        "    ragas_results_df = ragas_result.to_pandas() \n",
        "    \n",
        "    ragas_results_df.to_csv(f\"ragas/{dataset_name}_ragas_results.csv\")\n",
        "    \n",
        "    ragas_results.append(ragas_result)\n",
        "\n"
      ]
    },
    {
      "cell_type": "code",
      "execution_count": null,
      "metadata": {},
      "outputs": [],
      "source": [
        "for ragas_result in ragas_results:\n",
        "    print(ragas_result)"
      ]
    }
  ],
  "metadata": {
    "colab": {
      "provenance": [],
      "toc_visible": true
    },
    "kernelspec": {
      "display_name": "Python 3",
      "name": "python3"
    },
    "language_info": {
      "codemirror_mode": {
        "name": "ipython",
        "version": 3
      },
      "file_extension": ".py",
      "mimetype": "text/x-python",
      "name": "python",
      "nbconvert_exporter": "python",
      "pygments_lexer": "ipython3",
      "version": "3.11.9"
    }
  },
  "nbformat": 4,
  "nbformat_minor": 0
}
